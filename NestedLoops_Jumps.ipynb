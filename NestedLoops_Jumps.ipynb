{
  "nbformat": 4,
  "nbformat_minor": 0,
  "metadata": {
    "colab": {
      "provenance": []
    },
    "kernelspec": {
      "name": "python3",
      "display_name": "Python 3"
    },
    "language_info": {
      "name": "python"
    }
  },
  "cells": [
    {
      "cell_type": "markdown",
      "source": [
        "## **Question 1**: Write a loop to print the following numbers : 1,4,7,10,13,16\n",
        "Use both for loop and while Loop to do this."
      ],
      "metadata": {
        "id": "aCKup0EayF-h"
      }
    },
    {
      "cell_type": "markdown",
      "source": [
        "## **Question 2**: Take a number N as input and Write a loop to take N subsequent numbers from user and print the Largest of N Numbers."
      ],
      "metadata": {
        "id": "hcvDQWzVyUTs"
      }
    },
    {
      "cell_type": "markdown",
      "source": [
        "## **Homework Question:** Write Loop to print the following series: 0, 1, 1, 2, 3, 5, 8, 13, 21, 34, 55\n",
        "\n",
        "HINT: 3rd term is always sum of first two terms"
      ],
      "metadata": {
        "id": "sbnC4NHDy7Dd"
      }
    },
    {
      "cell_type": "code",
      "source": [
        "for i in range(1,17,3):\n",
        "    print(i, end=' ')"
      ],
      "metadata": {
        "colab": {
          "base_uri": "https://localhost:8080/"
        },
        "id": "1aicMQe_yTge",
        "outputId": "620fb58f-f49f-4a90-9cd5-0912709af5f8"
      },
      "execution_count": 3,
      "outputs": [
        {
          "output_type": "stream",
          "name": "stdout",
          "text": [
            "1 4 7 10 13 16 "
          ]
        }
      ]
    },
    {
      "cell_type": "code",
      "execution_count": 5,
      "metadata": {
        "colab": {
          "base_uri": "https://localhost:8080/"
        },
        "id": "Oth1fJ-hxbub",
        "outputId": "377d8174-56d1-48da-e853-02aa08c4f753"
      },
      "outputs": [
        {
          "output_type": "stream",
          "name": "stdout",
          "text": [
            "17\n",
            "1\n",
            "4\n",
            "7\n",
            "10\n",
            "13\n",
            "16\n"
          ]
        }
      ],
      "source": [
        "a=int(input())\n",
        "for i in range(1,a,3):\n",
        "    print(i)"
      ]
    },
    {
      "cell_type": "code",
      "source": [
        "N = int(input())"
      ],
      "metadata": {
        "colab": {
          "base_uri": "https://localhost:8080/"
        },
        "id": "AXve33ov0UZZ",
        "outputId": "afef872d-8168-4641-d34d-1c98b0761d3a"
      },
      "execution_count": 7,
      "outputs": [
        {
          "name": "stdout",
          "output_type": "stream",
          "text": [
            "5\n"
          ]
        }
      ]
    },
    {
      "cell_type": "code",
      "source": [
        "max = -9999999#float('-inf')\n",
        "for i in range(5):\n",
        "    n = int(input())"
      ],
      "metadata": {
        "colab": {
          "base_uri": "https://localhost:8080/"
        },
        "id": "2TN6L_q30mww",
        "outputId": "1329eb32-a126-4bfb-b49a-e55f832e5172"
      },
      "execution_count": 8,
      "outputs": [
        {
          "name": "stdout",
          "output_type": "stream",
          "text": [
            "1\n",
            "2\n",
            "543\n",
            "6\n",
            "6\n"
          ]
        }
      ]
    },
    {
      "cell_type": "code",
      "source": [
        "1>2\n",
        "2>3\n",
        "3<0\n",
        "3"
      ],
      "metadata": {
        "id": "EdMKa9Uk1RrD"
      },
      "execution_count": null,
      "outputs": []
    },
    {
      "cell_type": "code",
      "source": [
        "if True:\n",
        "    pass\n",
        "print(\"Do Something\")"
      ],
      "metadata": {
        "colab": {
          "base_uri": "https://localhost:8080/"
        },
        "id": "kmxDaOw72cjl",
        "outputId": "7584adbd-fd63-4076-d5ec-5f1ce669836c"
      },
      "execution_count": 11,
      "outputs": [
        {
          "output_type": "stream",
          "name": "stdout",
          "text": [
            "Do Something\n"
          ]
        }
      ]
    },
    {
      "cell_type": "code",
      "source": [
        "for i in range(5):\n",
        "    if i==3:\n",
        "        pass\n",
        "    print(i)"
      ],
      "metadata": {
        "colab": {
          "base_uri": "https://localhost:8080/"
        },
        "id": "id7Y3OOv38uO",
        "outputId": "6a96aa14-864f-48e6-afc1-80eb3c39a311"
      },
      "execution_count": 15,
      "outputs": [
        {
          "output_type": "stream",
          "name": "stdout",
          "text": [
            "0\n",
            "1\n",
            "2\n",
            "Here\n",
            "3\n",
            "4\n"
          ]
        }
      ]
    },
    {
      "cell_type": "code",
      "source": [
        "for i in range(5):\n",
        "    if i==3:\n",
        "        print(\"Here\")\n",
        "    print(i)"
      ],
      "metadata": {
        "colab": {
          "base_uri": "https://localhost:8080/"
        },
        "id": "-JCqEtfB6EiD",
        "outputId": "6e1a0eb0-5b67-4c8f-ffb0-6c67c07579a0"
      },
      "execution_count": 16,
      "outputs": [
        {
          "output_type": "stream",
          "name": "stdout",
          "text": [
            "0\n",
            "1\n",
            "2\n",
            "Here\n",
            "3\n",
            "4\n"
          ]
        }
      ]
    },
    {
      "cell_type": "markdown",
      "source": [
        "- A) 01234\n",
        "- B) 0124\n",
        "- C) 3\n",
        "- D) 012"
      ],
      "metadata": {
        "id": "VXYcAraJ4i51"
      }
    },
    {
      "cell_type": "code",
      "source": [
        "for i in range(5):\n",
        "    if i==3:\n",
        "        continue\n",
        "    print(i)"
      ],
      "metadata": {
        "colab": {
          "base_uri": "https://localhost:8080/"
        },
        "id": "PgG0w0pU4ePa",
        "outputId": "6ba72557-1d31-49ab-a1a5-9ce991047ee5"
      },
      "execution_count": 17,
      "outputs": [
        {
          "output_type": "stream",
          "name": "stdout",
          "text": [
            "0\n",
            "1\n",
            "2\n",
            "4\n"
          ]
        }
      ]
    },
    {
      "cell_type": "code",
      "source": [
        "for i in range(5):\n",
        "    print(\"Before\")"
      ],
      "metadata": {
        "colab": {
          "base_uri": "https://localhost:8080/"
        },
        "id": "o-55Aoqp7gGX",
        "outputId": "e5fd582c-f5b1-4993-8f99-2079c8c59c83"
      },
      "execution_count": 19,
      "outputs": [
        {
          "output_type": "stream",
          "name": "stdout",
          "text": [
            "Before\n",
            "Before\n",
            "Before\n",
            "Before\n",
            "Before\n"
          ]
        }
      ]
    },
    {
      "cell_type": "code",
      "source": [
        "for i in range(5):\n",
        "    if i<3:\n",
        "        continue\n",
        "    print(i)\n",
        "    print(\"HKJDFSh\")\n",
        "    print(i*5)"
      ],
      "metadata": {
        "colab": {
          "base_uri": "https://localhost:8080/"
        },
        "id": "XlIZ0SmN8D7I",
        "outputId": "d576c193-0fab-4f0d-cef8-8dfc33fe58de"
      },
      "execution_count": 21,
      "outputs": [
        {
          "output_type": "stream",
          "name": "stdout",
          "text": [
            "3\n",
            "HKJDFSh\n",
            "15\n",
            "4\n",
            "HKJDFSh\n",
            "20\n"
          ]
        }
      ]
    },
    {
      "cell_type": "markdown",
      "source": [
        "continue: For skipping code blocks after continue statement"
      ],
      "metadata": {
        "id": "lJtgpU1g8mak"
      }
    },
    {
      "cell_type": "code",
      "source": [
        "i=0\n",
        "while i<10:\n",
        "    i+=1\n",
        "    if i>5 and i<8:\n",
        "        continue\n",
        "    print(\"HELLO\", i-1)\n",
        "    "
      ],
      "metadata": {
        "colab": {
          "base_uri": "https://localhost:8080/"
        },
        "id": "_5D13hEi8aVa",
        "outputId": "15683513-89ce-4c85-c100-0b1038dd9473"
      },
      "execution_count": 26,
      "outputs": [
        {
          "output_type": "stream",
          "name": "stdout",
          "text": [
            "HELLO 0\n",
            "HELLO 1\n",
            "HELLO 2\n",
            "HELLO 3\n",
            "HELLO 4\n",
            "HELLO 7\n",
            "HELLO 8\n",
            "HELLO 9\n"
          ]
        }
      ]
    },
    {
      "cell_type": "code",
      "source": [
        "for i in range(5):\n",
        "    if i==3:\n",
        "        break\n",
        "    print(i)"
      ],
      "metadata": {
        "colab": {
          "base_uri": "https://localhost:8080/"
        },
        "id": "9qQnqAfr80la",
        "outputId": "9bf0cec6-6be0-45a0-9a21-6c2c4f5f75ef"
      },
      "execution_count": 28,
      "outputs": [
        {
          "output_type": "stream",
          "name": "stdout",
          "text": [
            "0\n",
            "1\n",
            "2\n"
          ]
        }
      ]
    },
    {
      "cell_type": "code",
      "source": [
        "for i in range(5):\n",
        "    if i ==1:\n",
        "        pass\n",
        "    if i==2:\n",
        "        continue\n",
        "    if i==3:\n",
        "        break\n",
        "    print(i)"
      ],
      "metadata": {
        "colab": {
          "base_uri": "https://localhost:8080/",
          "height": 132
        },
        "id": "GSZtgxFs-npD",
        "outputId": "6ba6752c-3c35-467b-8abf-4a4b5eb37642"
      },
      "execution_count": 30,
      "outputs": [
        {
          "output_type": "error",
          "ename": "SyntaxError",
          "evalue": "ignored",
          "traceback": [
            "\u001b[0;36m  File \u001b[0;32m\"<ipython-input-30-26fbb70b4325>\"\u001b[0;36m, line \u001b[0;32m2\u001b[0m\n\u001b[0;31m    return 0\u001b[0m\n\u001b[0m    ^\u001b[0m\n\u001b[0;31mSyntaxError\u001b[0m\u001b[0;31m:\u001b[0m 'return' outside function\n"
          ]
        }
      ]
    },
    {
      "cell_type": "markdown",
      "source": [
        "https://bit.ly/3OYYazD"
      ],
      "metadata": {
        "id": "W_Xj71qqD1Vq"
      }
    },
    {
      "cell_type": "code",
      "source": [
        "for i in range(4):\n",
        "    for j in range(3):\n",
        "        print(i,j)"
      ],
      "metadata": {
        "colab": {
          "base_uri": "https://localhost:8080/"
        },
        "id": "aooRqy0u_Sx0",
        "outputId": "5ff172f6-e284-407f-8758-aaaefa0fd62a"
      },
      "execution_count": 32,
      "outputs": [
        {
          "output_type": "stream",
          "name": "stdout",
          "text": [
            "0 0\n",
            "0 1\n",
            "0 2\n",
            "1 0\n",
            "1 1\n",
            "1 2\n",
            "2 0\n",
            "2 1\n",
            "2 2\n",
            "3 0\n",
            "3 1\n",
            "3 2\n"
          ]
        }
      ]
    },
    {
      "cell_type": "code",
      "source": [
        "for i in range(4):\n",
        "    for j in range(3):\n",
        "        print(i,j)\n",
        "        print(\"Inside Child Loop\")"
      ],
      "metadata": {
        "colab": {
          "base_uri": "https://localhost:8080/"
        },
        "id": "42zJstLhF_-l",
        "outputId": "47742924-317a-4629-b951-8ef684ad37b1"
      },
      "execution_count": 33,
      "outputs": [
        {
          "output_type": "stream",
          "name": "stdout",
          "text": [
            "0 0\n",
            "Inside Child Loop\n",
            "0 1\n",
            "Inside Child Loop\n",
            "0 2\n",
            "Inside Child Loop\n",
            "1 0\n",
            "Inside Child Loop\n",
            "1 1\n",
            "Inside Child Loop\n",
            "1 2\n",
            "Inside Child Loop\n",
            "2 0\n",
            "Inside Child Loop\n",
            "2 1\n",
            "Inside Child Loop\n",
            "2 2\n",
            "Inside Child Loop\n",
            "3 0\n",
            "Inside Child Loop\n",
            "3 1\n",
            "Inside Child Loop\n",
            "3 2\n",
            "Inside Child Loop\n"
          ]
        }
      ]
    },
    {
      "cell_type": "code",
      "source": [
        "for i in range(4):\n",
        "    print(\"Before Child: Here\")\n",
        "    for j in range(3):\n",
        "        print(i,j)\n",
        "    print(\"After Child: Here\")"
      ],
      "metadata": {
        "colab": {
          "base_uri": "https://localhost:8080/"
        },
        "id": "UdAVAZ6oGOkM",
        "outputId": "5debc407-1792-43f1-a177-2c4350d4ad56"
      },
      "execution_count": 36,
      "outputs": [
        {
          "output_type": "stream",
          "name": "stdout",
          "text": [
            "Before Child: Here\n",
            "0 0\n",
            "0 1\n",
            "0 2\n",
            "After Child: Here\n",
            "Before Child: Here\n",
            "1 0\n",
            "1 1\n",
            "1 2\n",
            "After Child: Here\n",
            "Before Child: Here\n",
            "2 0\n",
            "2 1\n",
            "2 2\n",
            "After Child: Here\n",
            "Before Child: Here\n",
            "3 0\n",
            "3 1\n",
            "3 2\n",
            "After Child: Here\n"
          ]
        }
      ]
    },
    {
      "cell_type": "code",
      "source": [
        "for i in range(4):\n",
        "    print(\"*\"*100)\n",
        "    for j in range(3):\n",
        "        print(i,j)"
      ],
      "metadata": {
        "colab": {
          "base_uri": "https://localhost:8080/"
        },
        "id": "vfBn-dNXGY0l",
        "outputId": "536e3f84-1825-4574-eaa1-ecf42877f98e"
      },
      "execution_count": 37,
      "outputs": [
        {
          "output_type": "stream",
          "name": "stdout",
          "text": [
            "****************************************************************************************************\n",
            "0 0\n",
            "0 1\n",
            "0 2\n",
            "****************************************************************************************************\n",
            "1 0\n",
            "1 1\n",
            "1 2\n",
            "****************************************************************************************************\n",
            "2 0\n",
            "2 1\n",
            "2 2\n",
            "****************************************************************************************************\n",
            "3 0\n",
            "3 1\n",
            "3 2\n"
          ]
        }
      ]
    },
    {
      "cell_type": "code",
      "source": [
        "i=0\n",
        "while i<4:\n",
        "    j = 0\n",
        "    print('*'*100)\n",
        "    while j<3:\n",
        "        print(i,j)\n",
        "        j+=1\n",
        "    i+=1"
      ],
      "metadata": {
        "colab": {
          "base_uri": "https://localhost:8080/"
        },
        "id": "6YwOGYtLHIah",
        "outputId": "8cd76b98-3424-4927-fb2e-49f1b9ad9d2a"
      },
      "execution_count": 42,
      "outputs": [
        {
          "output_type": "stream",
          "name": "stdout",
          "text": [
            "****************************************************************************************************\n",
            "0 0\n",
            "0 1\n",
            "0 2\n",
            "****************************************************************************************************\n",
            "1 0\n",
            "1 1\n",
            "1 2\n",
            "****************************************************************************************************\n",
            "2 0\n",
            "2 1\n",
            "2 2\n",
            "****************************************************************************************************\n",
            "3 0\n",
            "3 1\n",
            "3 2\n"
          ]
        }
      ]
    },
    {
      "cell_type": "markdown",
      "source": [
        "Which of the options is NOT correct for the range: range(5, 1)?\n",
        "```\n",
        "S->5\n",
        "E->1\n",
        "I->1\n",
        "```"
      ],
      "metadata": {
        "id": "9Qq09kyRIfVY"
      }
    },
    {
      "cell_type": "code",
      "source": [
        "x = 0\n",
        "while x < 5:\n",
        "    x += 1\n",
        "    if x == 3:\n",
        "        continue\n",
        "    print(x)"
      ],
      "metadata": {
        "colab": {
          "base_uri": "https://localhost:8080/"
        },
        "id": "iZ3UJu2qHdo2",
        "outputId": "6e9aecd4-e566-4e66-9824-14e44696ae43"
      },
      "execution_count": 43,
      "outputs": [
        {
          "output_type": "stream",
          "name": "stdout",
          "text": [
            "1\n",
            "2\n",
            "4\n",
            "5\n"
          ]
        }
      ]
    },
    {
      "cell_type": "code",
      "source": [
        "x = 0\n",
        "while x < 5:\n",
        "    x += 1\n",
        "    if x == 3:\n",
        "        break\n",
        "    print(x)\n",
        "else: \n",
        "    print(\"Loop finished\")"
      ],
      "metadata": {
        "colab": {
          "base_uri": "https://localhost:8080/"
        },
        "id": "X027v1jCJR3S",
        "outputId": "2dfb8de9-235d-4159-c7f0-6e9fd1e771dc"
      },
      "execution_count": 45,
      "outputs": [
        {
          "output_type": "stream",
          "name": "stdout",
          "text": [
            "1\n",
            "2\n"
          ]
        }
      ]
    },
    {
      "cell_type": "code",
      "source": [
        "x = 0\n",
        "while x <= 5:\n",
        "    x += 1\n",
        "    if x == 8:\n",
        "        break\n",
        "    print(x)\n",
        "else: \n",
        "    print(\"Loop finished\")"
      ],
      "metadata": {
        "colab": {
          "base_uri": "https://localhost:8080/"
        },
        "id": "ZnMFAyyyJlAi",
        "outputId": "e61cf49b-d469-4e48-e2ae-76118e640ef2"
      },
      "execution_count": 47,
      "outputs": [
        {
          "output_type": "stream",
          "name": "stdout",
          "text": [
            "1\n",
            "2\n",
            "3\n",
            "4\n",
            "5\n",
            "6\n",
            "Loop finished\n"
          ]
        }
      ]
    },
    {
      "cell_type": "code",
      "source": [
        "for i in range(3):\n",
        "    print(i)\n",
        "    if i==2:\n",
        "        break\n",
        "else:\n",
        "    print(\"Else block\")"
      ],
      "metadata": {
        "colab": {
          "base_uri": "https://localhost:8080/"
        },
        "id": "mHI9_lebKT_f",
        "outputId": "7305a256-c17c-4f34-944e-d29bb2747803"
      },
      "execution_count": 50,
      "outputs": [
        {
          "output_type": "stream",
          "name": "stdout",
          "text": [
            "0\n",
            "1\n",
            "2\n"
          ]
        }
      ]
    },
    {
      "cell_type": "markdown",
      "source": [
        "## Question: Take input N and Write a program to print NxN matrix of *\n",
        "```\n",
        "Example Input:\n",
        "3\n",
        "\n",
        "Example Output: \n",
        "***\n",
        "***\n",
        "***\n",
        "```"
      ],
      "metadata": {
        "id": "GBoKWix6LEnf"
      }
    },
    {
      "cell_type": "code",
      "source": [
        "N = int(input())\n",
        "for i in range(N):\n",
        "    print(\"\")\n",
        "    for j in range(N):\n",
        "        print(\"*\", end=\"\")\n",
        "    "
      ],
      "metadata": {
        "colab": {
          "base_uri": "https://localhost:8080/"
        },
        "id": "ow8b5racMhgV",
        "outputId": "aa1966f2-7299-47ed-b9f9-a90748911db6"
      },
      "execution_count": 53,
      "outputs": [
        {
          "output_type": "stream",
          "name": "stdout",
          "text": [
            "3\n",
            "\n",
            "***\n",
            "***\n",
            "***"
          ]
        }
      ]
    },
    {
      "cell_type": "markdown",
      "source": [
        "##**Question**: Write a program to print a multiplication table till an input **N**.\n",
        "\n",
        "```\n",
        "Example Input:\n",
        "3\n",
        "\n",
        "Example Output: \n",
        "1 2 3 4 5 6 7 8 9 10\n",
        "2 4 6 8 10 12 14 16 18 20\n",
        "3 6 9 12 15 18 21 24 27 30\n",
        "\n",
        "```"
      ],
      "metadata": {
        "id": "wEj-Ao8_LgvI"
      }
    },
    {
      "cell_type": "markdown",
      "source": [
        "###**Question**: Given two integer inputs, write a program to calculate the GCD of these two numbers\n",
        "```\n",
        "Example Input:\n",
        "16 24\n",
        "\n",
        "Example Output:\n",
        "8\n",
        "```"
      ],
      "metadata": {
        "id": "wirTKBF9Lvs6"
      }
    },
    {
      "cell_type": "markdown",
      "source": [
        "###**Question**: Given two integer inputs, write a program to calculate the LCM of these two numbers.\n",
        "```\n",
        "Example Input:\n",
        "6 8\n",
        "\n",
        "Example Output: \n",
        "24\n",
        "```"
      ],
      "metadata": {
        "id": "Kpts9peiL03Y"
      }
    },
    {
      "cell_type": "markdown",
      "source": [
        "###**Question**: Take Input number from user and check whether its prime or not\n",
        "HINT: BREAK AND Loop's ELSE "
      ],
      "metadata": {
        "id": "lHk2li5gL8a1"
      }
    },
    {
      "cell_type": "markdown",
      "source": [
        "###**Question**: Take Input number N from user, if it's a Prime Number, print Factorial of Number N else print Nth Fibonaci Term"
      ],
      "metadata": {
        "id": "BbakRJgaMEGX"
      }
    },
    {
      "cell_type": "code",
      "source": [
        "A = int(input())\n",
        "B = int(input())\n",
        "X = min(A,B)\n",
        "ans = None\n",
        "for i in range(1,X+1):\n",
        "    if A%i==0 and B%i==0:\n",
        "        ans = (i)\n",
        "print(ans)"
      ],
      "metadata": {
        "colab": {
          "base_uri": "https://localhost:8080/"
        },
        "id": "15GzyCBZKvZh",
        "outputId": "2b9d043c-d016-4fea-bd39-7dc153da8f91"
      },
      "execution_count": 56,
      "outputs": [
        {
          "output_type": "stream",
          "name": "stdout",
          "text": [
            "16\n",
            "24\n",
            "8\n"
          ]
        }
      ]
    },
    {
      "cell_type": "code",
      "source": [
        "A = int(input())\n",
        "B = int(input())\n",
        "X = min(A,B)\n",
        "ans = None\n",
        "for i in range(X,0,-1):\n",
        "    if A%i==0 and B%i==0:\n",
        "        ans = (i)\n",
        "        break\n",
        "print(ans)"
      ],
      "metadata": {
        "colab": {
          "base_uri": "https://localhost:8080/"
        },
        "id": "viQIWM4HOeJ5",
        "outputId": "6e5a7e3f-bede-4860-be28-f2b48f41b3d7"
      },
      "execution_count": 57,
      "outputs": [
        {
          "output_type": "stream",
          "name": "stdout",
          "text": [
            "16\n",
            "24\n",
            "8\n"
          ]
        }
      ]
    },
    {
      "cell_type": "markdown",
      "source": [
        "We want to find the Quotient(q), and Remainder(r) of the division of 2 numbers, i.e. x is divided by y. Which of the following code blocks can be used for this? Assume that the code before blocks is common for all the blocks. \n",
        "```\n",
        "x = int(input())\n",
        "y = int(input()) \n",
        "q = 0\n",
        "r = 0\n",
        "```\n",
        "Block A\n",
        "```\n",
        "    while x > y:\n",
        "        x -= y\n",
        "        q += 1\n",
        "    print(q, r)\n",
        "Block B\n",
        "```\n",
        "    while x >= y:\n",
        "        x -= y\n",
        "        q += 1\n",
        "    print(q, y)\n",
        "```\n",
        "Block C\n",
        "```\n",
        "    while x >= y:\n",
        "        x -= y\n",
        "        q += 1\n",
        "    print(q, x)\n",
        "``` \n",
        "    \n",
        "in this question there are 4 options option 1 is block A\n",
        "option 2 is block B\n",
        "option 3 is block C\n",
        "option 4 is None of the above as there are no constraints to the input value of x and y shouldn't the answer be none of the above as the options do no cater for the instance when x<y or when y = 0 or when x =0"
      ],
      "metadata": {
        "id": "zmlHVkKSQsU4"
      }
    },
    {
      "cell_type": "code",
      "source": [
        "\n",
        "while x > y:\n",
        "    x -= y\n",
        "    q += 1\n",
        "print(q, r)"
      ],
      "metadata": {
        "id": "nJ2mHjYiPTWd"
      },
      "execution_count": null,
      "outputs": []
    },
    {
      "cell_type": "code",
      "source": [
        "Num1 = 9\n",
        "Num2 = 2"
      ],
      "metadata": {
        "id": "OSKpFnw5RN_u"
      },
      "execution_count": null,
      "outputs": []
    },
    {
      "cell_type": "code",
      "source": [
        "9-2\n",
        "7-2\n",
        "5-2\n",
        "3-2\n",
        "1-2\n",
        "Q = 4\n",
        "R=0\n",
        "0-2"
      ],
      "metadata": {
        "colab": {
          "base_uri": "https://localhost:8080/"
        },
        "id": "Va7UK8AfRUiA",
        "outputId": "9f8ce157-d18e-48d3-8c4a-dadc603bd3c2"
      },
      "execution_count": 58,
      "outputs": [
        {
          "output_type": "execute_result",
          "data": {
            "text/plain": [
              "-2"
            ]
          },
          "metadata": {},
          "execution_count": 58
        }
      ]
    },
    {
      "cell_type": "code",
      "source": [
        "x=3\n",
        "y = 10\n",
        "Q=0\n",
        "\n"
      ],
      "metadata": {
        "id": "zKGVr3vASRWu"
      },
      "execution_count": null,
      "outputs": []
    },
    {
      "cell_type": "code",
      "source": [
        "N=int(input())\n",
        "fact=1\n",
        "for i in range (2,N):\n",
        "fact=fact*i\n",
        "if N%i==0:\n",
        "print('not prime')\n",
        "i=0\n",
        "j=1\n",
        "print(i,j, end=' ')\n",
        "c=1\n",
        "while c<N:\n",
        "num=i+j\n",
        "i=j\n",
        "j=num\n",
        "c+=1\n",
        "print(num, end=' ')\n",
        "break\n",
        "else:\n",
        "fact=factN\n",
        "print('prime')\n",
        "print(fact)"
      ],
      "metadata": {
        "id": "NmlFCaQsTAa7"
      },
      "execution_count": null,
      "outputs": []
    }
  ]
}