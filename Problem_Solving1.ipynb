{
  "nbformat": 4,
  "nbformat_minor": 0,
  "metadata": {
    "colab": {
      "provenance": [],
      "authorship_tag": "ABX9TyM1Sk+IiNMxEJEVT0kq/X+x",
      "include_colab_link": true
    },
    "kernelspec": {
      "name": "python3",
      "display_name": "Python 3"
    },
    "language_info": {
      "name": "python"
    }
  },
  "cells": [
    {
      "cell_type": "markdown",
      "metadata": {
        "id": "view-in-github",
        "colab_type": "text"
      },
      "source": [
        "<a href=\"https://colab.research.google.com/github/SachinScaler/DSMLBeginnerPythonMay23/blob/main/Problem_Solving1.ipynb\" target=\"_parent\"><img src=\"https://colab.research.google.com/assets/colab-badge.svg\" alt=\"Open In Colab\"/></a>"
      ]
    },
    {
      "cell_type": "code",
      "execution_count": 4,
      "metadata": {
        "colab": {
          "base_uri": "https://localhost:8080/"
        },
        "id": "CTvpQCrCuLQr",
        "outputId": "6770f761-9e16-42f8-cee0-88749d3bec17"
      },
      "outputs": [
        {
          "output_type": "stream",
          "name": "stdout",
          "text": [
            "True\n"
          ]
        }
      ],
      "source": []
    },
    {
      "cell_type": "code",
      "source": [
        "username = input()\n",
        "if username==\"sachin\":\n",
        "    print(\"Logged in Successful\")\n",
        "    print(\"Instructor Login\")\n",
        "elif username==\"naveen\":\n",
        "    print(\"Logged in Successful\")\n",
        "    print(\"learner Login\")\n",
        "else:\n",
        "    print(\"UserName Incorrect\")"
      ],
      "metadata": {
        "colab": {
          "base_uri": "https://localhost:8080/"
        },
        "id": "TUC1mZesukGK",
        "outputId": "dd05e0aa-f633-4fe4-bc4f-c785369def0b"
      },
      "execution_count": 12,
      "outputs": [
        {
          "output_type": "stream",
          "name": "stdout",
          "text": [
            "naveen\n",
            "Logged in Successful\n",
            "learner Login\n"
          ]
        }
      ]
    },
    {
      "cell_type": "code",
      "source": [
        "username = input()\n",
        "if username==\"sachin\" or \"naveen\":\n",
        "    print(\"Logged in Successful\")\n",
        "else:\n",
        "    print(\"UserName Incorrect\")"
      ],
      "metadata": {
        "colab": {
          "base_uri": "https://localhost:8080/"
        },
        "id": "a7B-6IUBwgnv",
        "outputId": "98f8b164-9ae9-45e5-b66b-ff44cc4ccfb5"
      },
      "execution_count": 13,
      "outputs": [
        {
          "output_type": "stream",
          "name": "stdout",
          "text": [
            "Hell\n",
            "Logged in Successful\n"
          ]
        }
      ]
    },
    {
      "cell_type": "markdown",
      "source": [],
      "metadata": {
        "id": "R-KTYlBgyQc8"
      }
    },
    {
      "cell_type": "code",
      "source": [
        "username = input()\n",
        "pwd = input()\n",
        "if username=='sachin' and pwd==\"sherlock\":\n",
        "    print(username, \"Logged In Successfully\")\n",
        "else:\n",
        "    print(\"Incorret Username or PWd\")"
      ],
      "metadata": {
        "colab": {
          "base_uri": "https://localhost:8080/"
        },
        "id": "PGlKirXUx-y5",
        "outputId": "6098150c-b809-4d81-de67-40e00528d2c6"
      },
      "execution_count": 18,
      "outputs": [
        {
          "output_type": "stream",
          "name": "stdout",
          "text": [
            "sherlocl\n",
            "sherlock\n",
            "Incorret Username or PWd\n"
          ]
        }
      ]
    },
    {
      "cell_type": "code",
      "source": [
        "username = input()\n",
        "pwd = input()\n",
        "if username=='sachin':\n",
        "    if pwd==\"sherlock\":\n",
        "        print(username, \"Logged In Successfully\")\n",
        "    else:\n",
        "        print(\"Incorret Username or PWd\")\n",
        "else:\n",
        "    print(\"Incorret Username or PWd\")"
      ],
      "metadata": {
        "id": "vvWe26xJzSOB"
      },
      "execution_count": null,
      "outputs": []
    },
    {
      "cell_type": "code",
      "source": [
        "username = input()\n",
        "pwd = input()\n",
        "if username=='sachin':\n",
        "    if pwd==\"sherlock123\":\n",
        "        print(username, \"Logged In Successfully\")\n",
        "    else:\n",
        "        print(\"PWD is InCorrct \")\n",
        "else:\n",
        "    print(\"Incorret Username\")"
      ],
      "metadata": {
        "colab": {
          "base_uri": "https://localhost:8080/"
        },
        "id": "asUUBsVJ012u",
        "outputId": "c3030071-9c12-4750-f267-e80422f2d6c8"
      },
      "execution_count": 19,
      "outputs": [
        {
          "output_type": "stream",
          "name": "stdout",
          "text": [
            "sachin\n",
            "sherlock123\n",
            "sachin Logged In Successfully\n"
          ]
        }
      ]
    },
    {
      "cell_type": "markdown",
      "source": [
        "Suppose there are three users Sarthak, Sachin and Sanath. Password of Sarthak is 231, password of Sachin is 123 and password of Sanath is 321. If anybody other than Sachin logs in says username not in data base. If Sachin and Sanath log in then it should say enter password. If correct password is entered by the user the output should be “Sarthak/Sachin/ Sanath has logged in correctly” else incorrect password"
      ],
      "metadata": {
        "id": "gGzC6m8I10rX"
      }
    },
    {
      "cell_type": "code",
      "source": [
        "username = input()\n",
        "pwd = input()\n",
        "if username=='sachin' and pwd==\"sherlock\":\n",
        "    print(username, \"Logged In Successfully\")\n",
        "\n",
        "elif username=='sanath' and pwd==\"12345H\":\n",
        "    print(username, \"Logged In Successfully\")\n",
        "elif username=='sarthak' and pwd==\"9990\":\n",
        "    print(username, \"Logged In Successfully\") \n",
        "else:\n",
        "    print(\"Username not in DB\")"
      ],
      "metadata": {
        "colab": {
          "base_uri": "https://localhost:8080/"
        },
        "id": "PCiuSatv1Nqk",
        "outputId": "effbef6c-b1a5-4028-e2d2-e8736f88967f"
      },
      "execution_count": 21,
      "outputs": [
        {
          "output_type": "stream",
          "name": "stdout",
          "text": [
            "ljksdfja\n",
            "123 \n",
            "Username not in DB\n"
          ]
        }
      ]
    },
    {
      "cell_type": "code",
      "source": [
        "username = input(\"Enter userName:\").lower()\n",
        "password = int(input(\"Enter Password:\"))\n",
        "print(username)\n",
        "if username == \"sachin\" or username == \"sanath\" or username== \"sarthak\":\n",
        "    if username == \"sachin\":\n",
        "        if password == 123:\n",
        "            print(username, \"logged in succesfully\")\n",
        "        else:\n",
        "            print(\"wrong Password: \")\n",
        "    elif username == \"sathak\":\n",
        "        if password == 231:\n",
        "            print (username,\"logged in succesfully\")\n",
        "    elif username==\"sanath\":\n",
        "        if password == 321:\n",
        "            print(username, \"logged in succesfully\")\n",
        "else:\n",
        "    print(\"User not in database\")\n"
      ],
      "metadata": {
        "colab": {
          "base_uri": "https://localhost:8080/"
        },
        "id": "v8xjkh2p1oN-",
        "outputId": "fb867ad9-e972-46a9-fe2c-19a368bb8c56"
      },
      "execution_count": 31,
      "outputs": [
        {
          "output_type": "stream",
          "name": "stdout",
          "text": [
            "Enter userName:sanath\n",
            "Enter Password:2390842093\n",
            "sanath\n"
          ]
        }
      ]
    },
    {
      "cell_type": "code",
      "source": [
        "username=\"Sachin\"\n",
        "if username != \"Sachin\" or username != \"Sanath\" or username!= \"Sarthak\":\n",
        "    print(\"inside if\")\n",
        "else:\n",
        "    print(\"Inisde Else\")"
      ],
      "metadata": {
        "colab": {
          "base_uri": "https://localhost:8080/"
        },
        "id": "R03rfr1v21lk",
        "outputId": "5219f450-41ca-4251-c42c-781886a0cba4"
      },
      "execution_count": 26,
      "outputs": [
        {
          "output_type": "stream",
          "name": "stdout",
          "text": [
            "inside if\n"
          ]
        }
      ]
    },
    {
      "cell_type": "code",
      "source": [
        "\"HELLO\".lower()"
      ],
      "metadata": {
        "colab": {
          "base_uri": "https://localhost:8080/",
          "height": 36
        },
        "id": "ZnKnPWb43SUP",
        "outputId": "0ba1ffa4-a173-4622-d6e1-c83d6786575f"
      },
      "execution_count": 30,
      "outputs": [
        {
          "output_type": "execute_result",
          "data": {
            "text/plain": [
              "'hello'"
            ],
            "application/vnd.google.colaboratory.intrinsic+json": {
              "type": "string"
            }
          },
          "metadata": {},
          "execution_count": 30
        }
      ]
    },
    {
      "cell_type": "code",
      "source": [
        "name = 'sav'\n",
        "if name=='Sachin':\n",
        "    print(\"Hey\")"
      ],
      "metadata": {
        "id": "suBF4uL94V8i"
      },
      "execution_count": 33,
      "outputs": []
    },
    {
      "cell_type": "markdown",
      "source": [
        "But in reality there may be millions of users and passwords and we can't code for every username and pwd generated and here how we need to code??\n"
      ],
      "metadata": {
        "id": "dbru2zq_5Dg6"
      }
    },
    {
      "cell_type": "code",
      "source": [
        "list1 = [\"sachin\", \"naveen\", \"Jatin\"] # this will come from Database\n",
        "username = input()\n",
        "if username in list1:\n",
        "    print(\"Valid Username\")\n",
        "else:\n",
        "    print(\"Not IN DB\")"
      ],
      "metadata": {
        "colab": {
          "base_uri": "https://localhost:8080/"
        },
        "id": "S2r0ZCY14s9t",
        "outputId": "4ae683e3-56ab-49cb-c505-11ef65ae11f5"
      },
      "execution_count": 37,
      "outputs": [
        {
          "output_type": "stream",
          "name": "stdout",
          "text": [
            "naveen\n",
            "Valid Username\n"
          ]
        }
      ]
    },
    {
      "cell_type": "code",
      "source": [
        "a=\"sachin\"\n",
        "if a==\"navin\":\n",
        "    print(True)\n",
        "else:\n",
        "    print(False)"
      ],
      "metadata": {
        "colab": {
          "base_uri": "https://localhost:8080/"
        },
        "id": "hcwJPXRV5xYL",
        "outputId": "970a7d03-ec31-41e1-e650-abe29688b836"
      },
      "execution_count": 39,
      "outputs": [
        {
          "output_type": "stream",
          "name": "stdout",
          "text": [
            "False\n"
          ]
        }
      ]
    },
    {
      "cell_type": "code",
      "source": [
        "a=\"sachin\"\n",
        "if a==\"naveen\":\n",
        "    print(True)\n",
        "print(\"Hello\")\n",
        "else:\n",
        "    print(False)"
      ],
      "metadata": {
        "colab": {
          "base_uri": "https://localhost:8080/"
        },
        "id": "FhAORq_b6n2O",
        "outputId": "bbaeee16-0e5d-49bb-9993-3e0a16be0fa8"
      },
      "execution_count": 42,
      "outputs": [
        {
          "output_type": "error",
          "ename": "SyntaxError",
          "evalue": "ignored",
          "traceback": [
            "\u001b[0;36m  File \u001b[0;32m\"<ipython-input-42-9c0154e718db>\"\u001b[0;36m, line \u001b[0;32m5\u001b[0m\n\u001b[0;31m    else:\u001b[0m\n\u001b[0m    ^\u001b[0m\n\u001b[0;31mSyntaxError\u001b[0m\u001b[0;31m:\u001b[0m invalid syntax\n"
          ]
        }
      ]
    },
    {
      "cell_type": "code",
      "source": [
        "a=\"sachin\"\n",
        "if a==\"naveen\":\n",
        "    print(True)\n",
        "else:\n",
        "    print(False)\n",
        "    \n",
        "print(\"Hello\")"
      ],
      "metadata": {
        "colab": {
          "base_uri": "https://localhost:8080/"
        },
        "id": "NUispRwP7VwP",
        "outputId": "dfbdcd8f-4580-4d01-ebc1-3b8d17a1142a"
      },
      "execution_count": 48,
      "outputs": [
        {
          "output_type": "stream",
          "name": "stdout",
          "text": [
            "False\n",
            "Hello\n"
          ]
        }
      ]
    },
    {
      "cell_type": "code",
      "source": [
        "a=\"sachini\"\n",
        "if a==\"sachin\":\n",
        "    print(True)\n",
        "else:\n",
        "    print(False)\n",
        "print(\"Hello\")"
      ],
      "metadata": {
        "colab": {
          "base_uri": "https://localhost:8080/"
        },
        "id": "t77PcBFk78mz",
        "outputId": "d822702e-04fd-4560-bdd3-b7af2102e300"
      },
      "execution_count": 51,
      "outputs": [
        {
          "output_type": "stream",
          "name": "stdout",
          "text": [
            "False\n",
            "Hello\n"
          ]
        }
      ]
    },
    {
      "cell_type": "markdown",
      "source": [
        "\n",
        "Not related to quizz : when it is true, if block is executed and if there is a error in else block, it will throw error or it executes if??\n"
      ],
      "metadata": {
        "id": "3kPGd8in9AEh"
      }
    },
    {
      "cell_type": "markdown",
      "source": [],
      "metadata": {
        "id": "8fAct2b08_8s"
      }
    },
    {
      "cell_type": "code",
      "source": [
        "a=\"sachin\"\n",
        "if a==\"sachin\":\n",
        "    print(True)\n",
        "else:\n",
        "    print(False)\n",
        "    prit(\"Hell\") # compiltime error and Runtime Error\n",
        "print(\"Hello\")"
      ],
      "metadata": {
        "colab": {
          "base_uri": "https://localhost:8080/"
        },
        "id": "ztmqxjVn8Pqj",
        "outputId": "06111e1f-41cf-4a72-ff98-398e8c2e534f"
      },
      "execution_count": 53,
      "outputs": [
        {
          "output_type": "stream",
          "name": "stdout",
          "text": [
            "True\n",
            "Hello\n"
          ]
        }
      ]
    },
    {
      "cell_type": "code",
      "source": [
        "a=\"sachini\"\n",
        "if a==\"sachin\":\n",
        "    print(True)\n",
        "else:\n",
        "    print(False)\n",
        "    print(1 +\"HEllo\")\n",
        "print(\"Hello\")"
      ],
      "metadata": {
        "colab": {
          "base_uri": "https://localhost:8080/",
          "height": 236
        },
        "id": "j-CHktzv9IBK",
        "outputId": "8c39f65b-4afe-4c59-88f3-e95f89aa9173"
      },
      "execution_count": 56,
      "outputs": [
        {
          "output_type": "stream",
          "name": "stdout",
          "text": [
            "False\n"
          ]
        },
        {
          "output_type": "error",
          "ename": "TypeError",
          "evalue": "ignored",
          "traceback": [
            "\u001b[0;31m---------------------------------------------------------------------------\u001b[0m",
            "\u001b[0;31mTypeError\u001b[0m                                 Traceback (most recent call last)",
            "\u001b[0;32m<ipython-input-56-39db5d3a6837>\u001b[0m in \u001b[0;36m<cell line: 2>\u001b[0;34m()\u001b[0m\n\u001b[1;32m      4\u001b[0m \u001b[0;32melse\u001b[0m\u001b[0;34m:\u001b[0m\u001b[0;34m\u001b[0m\u001b[0;34m\u001b[0m\u001b[0m\n\u001b[1;32m      5\u001b[0m     \u001b[0mprint\u001b[0m\u001b[0;34m(\u001b[0m\u001b[0;32mFalse\u001b[0m\u001b[0;34m)\u001b[0m\u001b[0;34m\u001b[0m\u001b[0;34m\u001b[0m\u001b[0m\n\u001b[0;32m----> 6\u001b[0;31m     \u001b[0mprint\u001b[0m\u001b[0;34m(\u001b[0m\u001b[0;36m1\u001b[0m \u001b[0;34m+\u001b[0m\u001b[0;34m\"HEllo\"\u001b[0m\u001b[0;34m)\u001b[0m\u001b[0;34m\u001b[0m\u001b[0;34m\u001b[0m\u001b[0m\n\u001b[0m\u001b[1;32m      7\u001b[0m \u001b[0mprint\u001b[0m\u001b[0;34m(\u001b[0m\u001b[0;34m\"Hello\"\u001b[0m\u001b[0;34m)\u001b[0m\u001b[0;34m\u001b[0m\u001b[0;34m\u001b[0m\u001b[0m\n",
            "\u001b[0;31mTypeError\u001b[0m: unsupported operand type(s) for +: 'int' and 'str'"
          ]
        }
      ]
    },
    {
      "cell_type": "markdown",
      "source": [
        "\"\",0,None --->False \n"
      ],
      "metadata": {
        "id": "fAK7WMJgABJ-"
      }
    },
    {
      "cell_type": "code",
      "source": [
        "a=\"\"\n",
        "if a:\n",
        "    print(True)\n",
        "else:\n",
        "    print(False)"
      ],
      "metadata": {
        "colab": {
          "base_uri": "https://localhost:8080/"
        },
        "id": "Cu0n12br9gh2",
        "outputId": "47297324-495d-4d1e-db91-8b95b894f1e3"
      },
      "execution_count": 60,
      "outputs": [
        {
          "output_type": "stream",
          "name": "stdout",
          "text": [
            "False\n"
          ]
        }
      ]
    },
    {
      "cell_type": "code",
      "source": [
        "a=\"\"\n",
        "if b:\n",
        "    print(True)\n",
        "else:\n",
        "    print(False)"
      ],
      "metadata": {
        "colab": {
          "base_uri": "https://localhost:8080/",
          "height": 236
        },
        "id": "aVwpgg1sANUO",
        "outputId": "28a06e95-d81b-465f-d2e5-39c33af0fe4b"
      },
      "execution_count": 61,
      "outputs": [
        {
          "output_type": "error",
          "ename": "NameError",
          "evalue": "ignored",
          "traceback": [
            "\u001b[0;31m---------------------------------------------------------------------------\u001b[0m",
            "\u001b[0;31mNameError\u001b[0m                                 Traceback (most recent call last)",
            "\u001b[0;32m<ipython-input-61-185446128792>\u001b[0m in \u001b[0;36m<cell line: 2>\u001b[0;34m()\u001b[0m\n\u001b[1;32m      1\u001b[0m \u001b[0ma\u001b[0m\u001b[0;34m=\u001b[0m\u001b[0;34m\"\"\u001b[0m\u001b[0;34m\u001b[0m\u001b[0;34m\u001b[0m\u001b[0m\n\u001b[0;32m----> 2\u001b[0;31m \u001b[0;32mif\u001b[0m \u001b[0mb\u001b[0m\u001b[0;34m:\u001b[0m\u001b[0;34m\u001b[0m\u001b[0;34m\u001b[0m\u001b[0m\n\u001b[0m\u001b[1;32m      3\u001b[0m     \u001b[0mprint\u001b[0m\u001b[0;34m(\u001b[0m\u001b[0;32mTrue\u001b[0m\u001b[0;34m)\u001b[0m\u001b[0;34m\u001b[0m\u001b[0;34m\u001b[0m\u001b[0m\n\u001b[1;32m      4\u001b[0m \u001b[0;32melse\u001b[0m\u001b[0;34m:\u001b[0m\u001b[0;34m\u001b[0m\u001b[0;34m\u001b[0m\u001b[0m\n\u001b[1;32m      5\u001b[0m     \u001b[0mprint\u001b[0m\u001b[0;34m(\u001b[0m\u001b[0;32mFalse\u001b[0m\u001b[0;34m)\u001b[0m\u001b[0;34m\u001b[0m\u001b[0;34m\u001b[0m\u001b[0m\n",
            "\u001b[0;31mNameError\u001b[0m: name 'b' is not defined"
          ]
        }
      ]
    },
    {
      "cell_type": "code",
      "source": [
        "a=\"\"\n",
        "if \"b\":\n",
        "    print(True)\n",
        "else:\n",
        "    print(False)"
      ],
      "metadata": {
        "colab": {
          "base_uri": "https://localhost:8080/"
        },
        "id": "dX10jxCrAjPE",
        "outputId": "9d20e78a-cc97-4855-e1ce-3f9be5de372a"
      },
      "execution_count": 62,
      "outputs": [
        {
          "output_type": "stream",
          "name": "stdout",
          "text": [
            "True\n"
          ]
        }
      ]
    },
    {
      "cell_type": "code",
      "source": [
        "name = \"navin\"\n",
        "if name==\"sachin\" and \"Naveen\":\n",
        "    print(True)\n",
        "else:\n",
        "    print(\"False\")"
      ],
      "metadata": {
        "colab": {
          "base_uri": "https://localhost:8080/"
        },
        "id": "ZYluVJHKAm9T",
        "outputId": "78de7fd6-39be-458c-853f-35aefdbae97d"
      },
      "execution_count": 65,
      "outputs": [
        {
          "output_type": "stream",
          "name": "stdout",
          "text": [
            "False\n"
          ]
        }
      ]
    },
    {
      "cell_type": "code",
      "source": [
        "a,b,c,d=10,100,1,-1\n",
        "print(min(a,b,c,d))"
      ],
      "metadata": {
        "colab": {
          "base_uri": "https://localhost:8080/"
        },
        "id": "JkzWLJtCDQNy",
        "outputId": "b215cfbb-639e-40c3-947f-0b7a3191ea79"
      },
      "execution_count": 68,
      "outputs": [
        {
          "output_type": "stream",
          "name": "stdout",
          "text": [
            "-1\n"
          ]
        }
      ]
    },
    {
      "cell_type": "markdown",
      "source": [
        "### Homework Question:\n",
        "Take 3 number from user and print Maximum as well as minimum."
      ],
      "metadata": {
        "id": "YHVJDSyiDtMJ"
      }
    },
    {
      "cell_type": "code",
      "source": [
        "a,b,c,d=10,100,1,-1\n",
        "print(max(a,b,c,d))"
      ],
      "metadata": {
        "colab": {
          "base_uri": "https://localhost:8080/"
        },
        "id": "PU8WHY_3Dc1P",
        "outputId": "8cbd32d3-5e1a-40e4-9e03-f57333fb5127"
      },
      "execution_count": 69,
      "outputs": [
        {
          "output_type": "stream",
          "name": "stdout",
          "text": [
            "100\n"
          ]
        }
      ]
    },
    {
      "cell_type": "code",
      "source": [
        "a,b,c,d=10,100,1,-1\n",
        "print(sum([a,b,c,d]))"
      ],
      "metadata": {
        "colab": {
          "base_uri": "https://localhost:8080/"
        },
        "id": "YwF6owNYDejB",
        "outputId": "1f8731dc-ea20-4976-cde1-2780ccf8bd39"
      },
      "execution_count": 72,
      "outputs": [
        {
          "output_type": "stream",
          "name": "stdout",
          "text": [
            "110\n"
          ]
        }
      ]
    },
    {
      "cell_type": "code",
      "source": [
        "class A:\n",
        "    def (self,A):\n",
        "        p##"
      ],
      "metadata": {
        "id": "ojeHR_dOBn5M"
      },
      "execution_count": null,
      "outputs": []
    },
    {
      "cell_type": "markdown",
      "source": [
        "Given the nested if-else structure below, what will be the value of \"a\" after code execution completes \n",
        "```\n",
        "a = 4\n",
        "b = -5\n",
        "if a > 0:\n",
        "    if b < 0:\n",
        "        a = a - 2\n",
        "    elif a > 5:\n",
        "        a = a - 4\n",
        "    else:\n",
        "        a = a + 3\n",
        "else:\n",
        "    b = b + 2\n",
        "```"
      ],
      "metadata": {
        "id": "ICVvr9plEGqx"
      }
    },
    {
      "cell_type": "code",
      "source": [
        "a = 10\n",
        "b = -5\n",
        "if a > 0:\n",
        "    if b < 0:\n",
        "        a = a - 2 # 8\n",
        "    if a > 5:\n",
        "        a = a - 4 # 4\n",
        "    else:\n",
        "        a = a + 3\n",
        "else:\n",
        "    b = b + 2\n",
        "\n",
        "print(a)"
      ],
      "metadata": {
        "colab": {
          "base_uri": "https://localhost:8080/"
        },
        "id": "4V7ewZB2ENYc",
        "outputId": "9caf9163-58be-4114-d88e-9e92fde0caee"
      },
      "execution_count": 74,
      "outputs": [
        {
          "output_type": "stream",
          "name": "stdout",
          "text": [
            "4\n"
          ]
        }
      ]
    },
    {
      "cell_type": "code",
      "source": [
        "a = 6\n",
        "b = -5\n",
        "if a > 0:\n",
        "    if b < 0:\n",
        "        a = a - 2 # 4\n",
        "    if a > 5:\n",
        "        a = a - 4\n",
        "    else:\n",
        "        a = a + 3 # 7\n",
        "else:\n",
        "    b = b + 2\n",
        "\n",
        "print(a,b)"
      ],
      "metadata": {
        "colab": {
          "base_uri": "https://localhost:8080/"
        },
        "id": "Gr8HnBLRFCTk",
        "outputId": "83b4265b-2425-407e-af59-3e016ee34573"
      },
      "execution_count": 78,
      "outputs": [
        {
          "output_type": "stream",
          "name": "stdout",
          "text": [
            "7 -5\n"
          ]
        }
      ]
    },
    {
      "cell_type": "code",
      "source": [
        "a = 6\n",
        "b = -5\n",
        "\n",
        "if b < 0:\n",
        "    a = a - 2 # 4\n",
        "if a > 5:\n",
        "    a = a - 4\n",
        "else:\n",
        "    a = a + 3 # 7\n",
        "\n",
        "\n",
        "print(a)"
      ],
      "metadata": {
        "id": "sBKrBdB-FeTt"
      },
      "execution_count": null,
      "outputs": []
    },
    {
      "cell_type": "markdown",
      "source": [
        "Problem Description You are given the Cost Price C and Selling Price S of a Product. You have to tell whether there is a Profit or Loss. Also, calculate total profit or loss. NOTE: It is guaranteed that Cost Price and Selling Price are not equal."
      ],
      "metadata": {
        "id": "TnXFohdiGfsJ"
      }
    },
    {
      "cell_type": "code",
      "source": [
        "c=int(input())\n",
        "s= int(input()) \n",
        "\n",
        "if s>c:\n",
        "    print(1)\n",
        "    print(s-c)\n",
        "\n",
        "else:\n",
        "    print(-1)\n",
        "    print(c-s)\n"
      ],
      "metadata": {
        "colab": {
          "base_uri": "https://localhost:8080/"
        },
        "id": "xe5-qlvWGgb4",
        "outputId": "b782ea8f-919d-426a-91ba-8da89a7ed418"
      },
      "execution_count": 80,
      "outputs": [
        {
          "output_type": "stream",
          "name": "stdout",
          "text": [
            "2\n",
            "4\n",
            "1\n",
            "2\n"
          ]
        }
      ]
    },
    {
      "cell_type": "code",
      "source": [
        "c=int(input())\n",
        "s= int(input()) \n",
        "\n",
        "print(\"Cost Price = \",c)\n",
        "print(\"Selling Price =\", s)\n",
        "\n",
        "if s>c:\n",
        "    print(\"As Cost Price < Selling Price, there is a profit.\")\n",
        "    print(\"Total Profit = Selling Price - Cost Price =\", s-c)\n",
        "\n",
        "else:\n",
        "    print(-1)\n",
        "    print(c-s)"
      ],
      "metadata": {
        "colab": {
          "base_uri": "https://localhost:8080/"
        },
        "id": "zKZMd46dG8rn",
        "outputId": "426528df-7547-4e2e-f3a9-e928aa8e10de"
      },
      "execution_count": 81,
      "outputs": [
        {
          "output_type": "stream",
          "name": "stdout",
          "text": [
            "2\n",
            "4\n",
            "Cost Price =  2\n",
            "Selling Price = 4\n",
            "As Cost Price < Selling Price, there is a profit.\n",
            "Total Profit = Selling Price - Cost Price = 2\n"
          ]
        }
      ]
    },
    {
      "cell_type": "code",
      "source": [
        "def main():\n",
        "    # YOUR CODE GOES HERE\n",
        "    # Please take input and print output to standard input/output (stdin/stdout)\n",
        "    # E.g. 'input()/raw_input()' for input & 'print' for output\n",
        "    c=int(input())\n",
        "    s= int(input()) \n",
        "    \n",
        "    if s>c:\n",
        "        print(1)\n",
        "        print(s-c)\n",
        "    \n",
        "    else:\n",
        "        print(-1)\n",
        "        print(abs(s-c))\n",
        "\n",
        "    return 0\n",
        "\n",
        "if __name__ == '__main__':\n",
        "    main()"
      ],
      "metadata": {
        "id": "oqjPlbLNI3jQ"
      },
      "execution_count": null,
      "outputs": []
    },
    {
      "cell_type": "code",
      "source": [
        "abs(-19)"
      ],
      "metadata": {
        "colab": {
          "base_uri": "https://localhost:8080/"
        },
        "id": "fGqbBVCEI676",
        "outputId": "2a227a84-1087-489e-e556-1a8d045b9767"
      },
      "execution_count": 82,
      "outputs": [
        {
          "output_type": "execute_result",
          "data": {
            "text/plain": [
              "19"
            ]
          },
          "metadata": {},
          "execution_count": 82
        }
      ]
    },
    {
      "cell_type": "markdown",
      "source": [],
      "metadata": {
        "id": "8zg9XtFfIRti"
      }
    },
    {
      "cell_type": "code",
      "source": [
        "s = int(input()) # dollars\n",
        "e = int(input()) # inr\n",
        "\n",
        "# dollars : 1 Dollar=80 rs\n",
        "print(s-e) # final saving in Doolar"
      ],
      "metadata": {
        "colab": {
          "base_uri": "https://localhost:8080/"
        },
        "id": "nTKJAF1EJvx0",
        "outputId": "97f36e50-854c-423a-9e03-2387a88c56b1"
      },
      "execution_count": 83,
      "outputs": [
        {
          "output_type": "stream",
          "name": "stdout",
          "text": [
            "114\n",
            "12\n",
            "102\n"
          ]
        }
      ]
    },
    {
      "cell_type": "markdown",
      "source": [
        "suppose if we have to give the no of days in a year where the year is not leap year instead of declaring an if condition like if a==1 or a==3 or a ==5 and so onn can we use anything like IN clause of sql"
      ],
      "metadata": {
        "id": "LFjUDX_0KBRX"
      }
    },
    {
      "cell_type": "code",
      "source": [
        "a = 5\n",
        "print(a in [\"June\",5,\"july\"])"
      ],
      "metadata": {
        "colab": {
          "base_uri": "https://localhost:8080/"
        },
        "id": "dpOOvVz9J2gn",
        "outputId": "3ae1b1bd-9960-4e59-cdc9-9c2e756e24ca"
      },
      "execution_count": 86,
      "outputs": [
        {
          "output_type": "stream",
          "name": "stdout",
          "text": [
            "True\n"
          ]
        }
      ]
    },
    {
      "cell_type": "code",
      "source": [
        "\n",
        "mon = input()\n",
        "if mon in [\"Jan\", \"March\"]:\n",
        "    print(\"31 Days\")\n",
        "elif  mon in [\"Apr\", \"Jun\"]:\n",
        "    print(\"30 days\")"
      ],
      "metadata": {
        "colab": {
          "base_uri": "https://localhost:8080/"
        },
        "id": "ee4NxBonKdVz",
        "outputId": "6f8ead8b-6d72-4b52-ea0d-dd6b7df33362"
      },
      "execution_count": 89,
      "outputs": [
        {
          "output_type": "stream",
          "name": "stdout",
          "text": [
            "Jan\n",
            "31 Days\n"
          ]
        }
      ]
    },
    {
      "cell_type": "code",
      "source": [
        "a= str(input())\n",
        "if a in [\"Python\" ,\"Java\"]:\n",
        "    print(\"Nice choice!\")\n",
        "elif a==\"Golang\":\n",
        "    print(\"You're a cool person I see...\")\n",
        "elif a==\"JavaScript\":\n",
        "    print(\"Okay so you are our web developer!\")\n",
        "elif a== \"C++\":\n",
        "    print(\"Too old school...\")\n",
        "else:\n",
        "    print(\"I don't know that language.\")"
      ],
      "metadata": {
        "colab": {
          "base_uri": "https://localhost:8080/"
        },
        "id": "0bzrMcmJLBek",
        "outputId": "dabee17b-0fa2-4b16-fdfa-ebe08b1f1497"
      },
      "execution_count": 95,
      "outputs": [
        {
          "output_type": "stream",
          "name": "stdout",
          "text": [
            "Pythion\n",
            "I don't know that language.\n"
          ]
        }
      ]
    },
    {
      "cell_type": "code",
      "source": [
        "\n",
        "Months are denoted as follows:\n",
        "January : 1\n",
        "February : 2\n",
        "March : 3\n",
        "April : 4\n",
        "May : 5\n",
        "June : 6\n",
        "July : 7\n",
        "August : 8\n",
        "September : 9\n",
        "October : 10\n",
        "November : 11\n",
        "December : 12\n"
      ],
      "metadata": {
        "id": "Q4nXzAVELfma"
      },
      "execution_count": null,
      "outputs": []
    },
    {
      "cell_type": "code",
      "source": [
        "if month==1:\n",
        "    print(31)\n",
        "elif month==2:\n",
        "    print(28)\n",
        "elif month==3:\n",
        "    print(31)\n",
        "elif month==4:\n",
        "    print(30)"
      ],
      "metadata": {
        "id": "geSniD-7MRPy"
      },
      "execution_count": null,
      "outputs": []
    },
    {
      "cell_type": "code",
      "source": [
        "A = int(input())\n",
        "# Use if, else if to find the month\n",
        "if A == 1 or A == 12 or A == 10 or A == 8 or A == 7 or A == 5 or A == 3:\n",
        "    print(31)\n",
        "elif A == 2:\n",
        "    print(28)\n",
        "elif A == 4 or A == 6 or A == 9 or A == 11:\n",
        "    print(30)\n",
        "else:\n",
        "    print(\"Invalid Month\")"
      ],
      "metadata": {
        "colab": {
          "base_uri": "https://localhost:8080/"
        },
        "id": "3LN2EEx_Mg9F",
        "outputId": "e8f8dadb-9a9b-40aa-fefa-1b215bc6cd4f"
      },
      "execution_count": 96,
      "outputs": [
        {
          "output_type": "stream",
          "name": "stdout",
          "text": [
            "4\n",
            "30\n"
          ]
        }
      ]
    },
    {
      "cell_type": "code",
      "source": [
        "pp = int(input())\n",
        "gt = int(input())\n",
        "if pp==0 and gt==1:\n",
        "    print(1)\n",
        "else:\n",
        "    print(0)"
      ],
      "metadata": {
        "colab": {
          "base_uri": "https://localhost:8080/"
        },
        "id": "OgKkGOYpMwcQ",
        "outputId": "1f1959f3-7fbe-46a3-99cc-c87fcbd6813e"
      },
      "execution_count": 97,
      "outputs": [
        {
          "name": "stdout",
          "output_type": "stream",
          "text": [
            "0\n",
            "`\n"
          ]
        },
        {
          "output_type": "error",
          "ename": "ValueError",
          "evalue": "ignored",
          "traceback": [
            "\u001b[0;31m---------------------------------------------------------------------------\u001b[0m",
            "\u001b[0;31mValueError\u001b[0m                                Traceback (most recent call last)",
            "\u001b[0;32m<ipython-input-97-68e73a4ccc99>\u001b[0m in \u001b[0;36m<cell line: 2>\u001b[0;34m()\u001b[0m\n\u001b[1;32m      1\u001b[0m \u001b[0mpp\u001b[0m \u001b[0;34m=\u001b[0m \u001b[0mint\u001b[0m\u001b[0;34m(\u001b[0m\u001b[0minput\u001b[0m\u001b[0;34m(\u001b[0m\u001b[0;34m)\u001b[0m\u001b[0;34m)\u001b[0m\u001b[0;34m\u001b[0m\u001b[0;34m\u001b[0m\u001b[0m\n\u001b[0;32m----> 2\u001b[0;31m \u001b[0mgt\u001b[0m \u001b[0;34m=\u001b[0m \u001b[0mint\u001b[0m\u001b[0;34m(\u001b[0m\u001b[0minput\u001b[0m\u001b[0;34m(\u001b[0m\u001b[0;34m)\u001b[0m\u001b[0;34m)\u001b[0m\u001b[0;34m\u001b[0m\u001b[0;34m\u001b[0m\u001b[0m\n\u001b[0m\u001b[1;32m      3\u001b[0m \u001b[0;32mif\u001b[0m \u001b[0mpp\u001b[0m\u001b[0;34m==\u001b[0m\u001b[0;36m0\u001b[0m \u001b[0;32mand\u001b[0m \u001b[0mgt\u001b[0m\u001b[0;34m==\u001b[0m\u001b[0;36m1\u001b[0m\u001b[0;34m:\u001b[0m\u001b[0;34m\u001b[0m\u001b[0;34m\u001b[0m\u001b[0m\n\u001b[1;32m      4\u001b[0m     \u001b[0mprint\u001b[0m\u001b[0;34m(\u001b[0m\u001b[0;36m1\u001b[0m\u001b[0;34m)\u001b[0m\u001b[0;34m\u001b[0m\u001b[0;34m\u001b[0m\u001b[0m\n\u001b[1;32m      5\u001b[0m \u001b[0;32melse\u001b[0m\u001b[0;34m:\u001b[0m\u001b[0;34m\u001b[0m\u001b[0;34m\u001b[0m\u001b[0m\n",
            "\u001b[0;31mValueError\u001b[0m: invalid literal for int() with base 10: '`'"
          ]
        }
      ]
    },
    {
      "cell_type": "code",
      "source": [],
      "metadata": {
        "id": "37ERs_spNdDP"
      },
      "execution_count": null,
      "outputs": []
    }
  ]
}