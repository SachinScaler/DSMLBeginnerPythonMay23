{
  "nbformat": 4,
  "nbformat_minor": 0,
  "metadata": {
    "colab": {
      "provenance": [],
      "authorship_tag": "ABX9TyPuQtbH2yw0zMtTie8ZnBnB",
      "include_colab_link": true
    },
    "kernelspec": {
      "name": "python3",
      "display_name": "Python 3"
    },
    "language_info": {
      "name": "python"
    }
  },
  "cells": [
    {
      "cell_type": "markdown",
      "metadata": {
        "id": "view-in-github",
        "colab_type": "text"
      },
      "source": [
        "<a href=\"https://colab.research.google.com/github/SachinScaler/DSMLBeginnerPythonMay23/blob/main/Control_Statements_2.ipynb\" target=\"_parent\"><img src=\"https://colab.research.google.com/assets/colab-badge.svg\" alt=\"Open In Colab\"/></a>"
      ]
    },
    {
      "cell_type": "code",
      "execution_count": 6,
      "metadata": {
        "colab": {
          "base_uri": "https://localhost:8080/"
        },
        "id": "JevYA9dyZP6d",
        "outputId": "4b0c3cdc-0854-4755-9395-616483d03105"
      },
      "outputs": [
        {
          "output_type": "stream",
          "name": "stdout",
          "text": [
            "False\n"
          ]
        }
      ],
      "source": [
        "print(1 <= -20)"
      ]
    },
    {
      "cell_type": "code",
      "source": [
        "11 % 2 == 0 # % with 2 if output is 0 then it;s an even number"
      ],
      "metadata": {
        "colab": {
          "base_uri": "https://localhost:8080/"
        },
        "id": "JEJNSGwlatGE",
        "outputId": "be647129-2b9d-4291-a6b8-8dd6757cf2c9"
      },
      "execution_count": 9,
      "outputs": [
        {
          "output_type": "execute_result",
          "data": {
            "text/plain": [
              "False"
            ]
          },
          "metadata": {},
          "execution_count": 9
        }
      ]
    },
    {
      "cell_type": "markdown",
      "source": [
        "Take a number as input from user and extract the digit at last place"
      ],
      "metadata": {
        "id": "c4XtW60edZeT"
      }
    },
    {
      "cell_type": "code",
      "source": [
        "a = int(input())\n",
        "digit = a%10\n",
        "print(digit)"
      ],
      "metadata": {
        "colab": {
          "base_uri": "https://localhost:8080/"
        },
        "id": "ChohjNZ5awwd",
        "outputId": "3902d000-3cd7-4448-9507-edf6f3fc6976"
      },
      "execution_count": 15,
      "outputs": [
        {
          "output_type": "stream",
          "name": "stdout",
          "text": [
            "10221\n",
            "1\n"
          ]
        }
      ]
    },
    {
      "cell_type": "code",
      "source": [
        "10221 %10"
      ],
      "metadata": {
        "colab": {
          "base_uri": "https://localhost:8080/"
        },
        "id": "-lHfBFv_a1dF",
        "outputId": "b9181998-34a2-47a0-d7c0-36b1a257851f"
      },
      "execution_count": 10,
      "outputs": [
        {
          "output_type": "execute_result",
          "data": {
            "text/plain": [
              "1"
            ]
          },
          "metadata": {},
          "execution_count": 10
        }
      ]
    },
    {
      "cell_type": "code",
      "source": [
        "1032%10"
      ],
      "metadata": {
        "colab": {
          "base_uri": "https://localhost:8080/"
        },
        "id": "wAKlBmM3a6kQ",
        "outputId": "69f1cc67-d4f2-447d-e147-462caf1564ce"
      },
      "execution_count": 12,
      "outputs": [
        {
          "output_type": "execute_result",
          "data": {
            "text/plain": [
              "2"
            ]
          },
          "metadata": {},
          "execution_count": 12
        }
      ]
    },
    {
      "cell_type": "code",
      "source": [
        "(1032//10)%10"
      ],
      "metadata": {
        "colab": {
          "base_uri": "https://localhost:8080/"
        },
        "id": "cwlRO4NKa9Rw",
        "outputId": "49c24f2e-a185-4fcb-af5d-77d8ca2e2efc"
      },
      "execution_count": 17,
      "outputs": [
        {
          "output_type": "execute_result",
          "data": {
            "text/plain": [
              "3"
            ]
          },
          "metadata": {},
          "execution_count": 17
        }
      ]
    },
    {
      "cell_type": "code",
      "source": [
        "1032//100 "
      ],
      "metadata": {
        "colab": {
          "base_uri": "https://localhost:8080/"
        },
        "id": "Zx8FAh2mepwS",
        "outputId": "fbe33aed-a588-4633-df79-f85b92b75fe9"
      },
      "execution_count": 19,
      "outputs": [
        {
          "output_type": "execute_result",
          "data": {
            "text/plain": [
              "10"
            ]
          },
          "metadata": {},
          "execution_count": 19
        }
      ]
    },
    {
      "cell_type": "code",
      "source": [
        "# Second approach: Slicing\n",
        "a = (input())\n",
        "print(a)"
      ],
      "metadata": {
        "colab": {
          "base_uri": "https://localhost:8080/"
        },
        "id": "R2FtdL2ve0Vz",
        "outputId": "ac20ef43-9670-4d75-880f-06962b4537dd"
      },
      "execution_count": 20,
      "outputs": [
        {
          "output_type": "stream",
          "name": "stdout",
          "text": [
            "1023421\n",
            "1023421\n"
          ]
        }
      ]
    },
    {
      "cell_type": "code",
      "source": [
        "a[-1]"
      ],
      "metadata": {
        "colab": {
          "base_uri": "https://localhost:8080/",
          "height": 36
        },
        "id": "AmryCzm3fbb4",
        "outputId": "ae38a37a-3d43-4ecb-cde3-924641260260"
      },
      "execution_count": 22,
      "outputs": [
        {
          "output_type": "execute_result",
          "data": {
            "text/plain": [
              "'1'"
            ],
            "application/vnd.google.colaboratory.intrinsic+json": {
              "type": "string"
            }
          },
          "metadata": {},
          "execution_count": 22
        }
      ]
    },
    {
      "cell_type": "code",
      "source": [
        "a[-2]"
      ],
      "metadata": {
        "colab": {
          "base_uri": "https://localhost:8080/",
          "height": 36
        },
        "id": "oaTo_2bQfeY6",
        "outputId": "3b2ad07c-346b-40c9-afab-76bf49e5e29e"
      },
      "execution_count": 23,
      "outputs": [
        {
          "output_type": "execute_result",
          "data": {
            "text/plain": [
              "'2'"
            ],
            "application/vnd.google.colaboratory.intrinsic+json": {
              "type": "string"
            }
          },
          "metadata": {},
          "execution_count": 23
        }
      ]
    },
    {
      "cell_type": "code",
      "source": [
        "a[-3]"
      ],
      "metadata": {
        "colab": {
          "base_uri": "https://localhost:8080/",
          "height": 36
        },
        "id": "IyRKc9L2fiyJ",
        "outputId": "d1bca9e8-fd10-4637-f3f5-2b542901a298"
      },
      "execution_count": 24,
      "outputs": [
        {
          "output_type": "execute_result",
          "data": {
            "text/plain": [
              "'4'"
            ],
            "application/vnd.google.colaboratory.intrinsic+json": {
              "type": "string"
            }
          },
          "metadata": {},
          "execution_count": 24
        }
      ]
    },
    {
      "cell_type": "code",
      "source": [
        "a[-3]"
      ],
      "metadata": {
        "id": "sNenNX4jfksf"
      },
      "execution_count": null,
      "outputs": []
    },
    {
      "cell_type": "code",
      "source": [
        "print(a)"
      ],
      "metadata": {
        "colab": {
          "base_uri": "https://localhost:8080/"
        },
        "id": "dzLE2fWff2yw",
        "outputId": "e3d0cf22-ab17-44b5-cbae-2ee3c6e2ce69"
      },
      "execution_count": 25,
      "outputs": [
        {
          "output_type": "stream",
          "name": "stdout",
          "text": [
            "1023421\n"
          ]
        }
      ]
    },
    {
      "cell_type": "code",
      "source": [
        "a[-4]+a[-3]"
      ],
      "metadata": {
        "colab": {
          "base_uri": "https://localhost:8080/",
          "height": 36
        },
        "id": "u7jsU8Cif3Yn",
        "outputId": "9b5a5c27-aab2-4b90-8590-c3204f0b4e7e"
      },
      "execution_count": 33,
      "outputs": [
        {
          "output_type": "execute_result",
          "data": {
            "text/plain": [
              "'34'"
            ],
            "application/vnd.google.colaboratory.intrinsic+json": {
              "type": "string"
            }
          },
          "metadata": {},
          "execution_count": 33
        }
      ]
    },
    {
      "cell_type": "code",
      "source": [
        "print(a)"
      ],
      "metadata": {
        "colab": {
          "base_uri": "https://localhost:8080/"
        },
        "id": "rNalExidf4ul",
        "outputId": "0f024b63-1837-4c7a-c368-63704e611340"
      },
      "execution_count": 29,
      "outputs": [
        {
          "output_type": "stream",
          "name": "stdout",
          "text": [
            "1023421\n"
          ]
        }
      ]
    },
    {
      "cell_type": "code",
      "source": [
        "a[2]"
      ],
      "metadata": {
        "colab": {
          "base_uri": "https://localhost:8080/",
          "height": 36
        },
        "id": "F6MueAMuhWh3",
        "outputId": "fbde5bf6-7204-4e09-a3b4-b567487d5c25"
      },
      "execution_count": 32,
      "outputs": [
        {
          "output_type": "execute_result",
          "data": {
            "text/plain": [
              "'2'"
            ],
            "application/vnd.google.colaboratory.intrinsic+json": {
              "type": "string"
            }
          },
          "metadata": {},
          "execution_count": 32
        }
      ]
    },
    {
      "cell_type": "code",
      "source": [
        "a[3]+a[4]"
      ],
      "metadata": {
        "colab": {
          "base_uri": "https://localhost:8080/",
          "height": 36
        },
        "id": "6JT5cf8KhX0k",
        "outputId": "b3b6752a-aa24-466a-c891-096a1f4b2b1e"
      },
      "execution_count": 35,
      "outputs": [
        {
          "output_type": "execute_result",
          "data": {
            "text/plain": [
              "'34'"
            ],
            "application/vnd.google.colaboratory.intrinsic+json": {
              "type": "string"
            }
          },
          "metadata": {},
          "execution_count": 35
        }
      ]
    },
    {
      "cell_type": "code",
      "source": [
        "9\n",
        "9//2"
      ],
      "metadata": {
        "colab": {
          "base_uri": "https://localhost:8080/"
        },
        "id": "HBlUl1rWhiWU",
        "outputId": "121abe71-6cc0-4bb9-f7cb-1ca284e4540d"
      },
      "execution_count": 36,
      "outputs": [
        {
          "output_type": "execute_result",
          "data": {
            "text/plain": [
              "4"
            ]
          },
          "metadata": {},
          "execution_count": 36
        }
      ]
    },
    {
      "cell_type": "code",
      "source": [
        "name = \"SACHINI\"\n",
        "mid = len(name)//2\n",
        "print(mid)"
      ],
      "metadata": {
        "colab": {
          "base_uri": "https://localhost:8080/"
        },
        "id": "M6YGV-9ZiZT-",
        "outputId": "7ac5d0a2-605b-47fc-8206-6c6fe8da8694"
      },
      "execution_count": 45,
      "outputs": [
        {
          "output_type": "stream",
          "name": "stdout",
          "text": [
            "3\n"
          ]
        }
      ]
    },
    {
      "cell_type": "code",
      "source": [
        "# extract mid two digits of anything\n",
        "name = input()\n",
        "mid = len(name)//2\n",
        "\n",
        "if len(name)%2==0:\n",
        "    name[mid-1] +name[mid ]\n",
        "else:\n",
        "    name[mid] +name[mid +1]"
      ],
      "metadata": {
        "id": "31cxo5Qmiftv"
      },
      "execution_count": 51,
      "outputs": []
    },
    {
      "cell_type": "code",
      "source": [
        "\"SACHIN\"[3]"
      ],
      "metadata": {
        "colab": {
          "base_uri": "https://localhost:8080/",
          "height": 36
        },
        "id": "f5grAr4qil_p",
        "outputId": "ff625459-baaf-4d4f-f55d-d63e1e90a7f9"
      },
      "execution_count": 48,
      "outputs": [
        {
          "output_type": "execute_result",
          "data": {
            "text/plain": [
              "'H'"
            ],
            "application/vnd.google.colaboratory.intrinsic+json": {
              "type": "string"
            }
          },
          "metadata": {},
          "execution_count": 48
        }
      ]
    },
    {
      "cell_type": "code",
      "source": [
        "if 4=='4':\n",
        "    print(\"inside if block\")\n",
        "else:\n",
        "    print(\"inside else block\")"
      ],
      "metadata": {
        "colab": {
          "base_uri": "https://localhost:8080/"
        },
        "id": "-esUUuLejRZi",
        "outputId": "ab6d2e4f-7ad0-49c1-c1cf-0abc81144697"
      },
      "execution_count": 57,
      "outputs": [
        {
          "output_type": "stream",
          "name": "stdout",
          "text": [
            "inside else block\n"
          ]
        }
      ]
    },
    {
      "cell_type": "code",
      "source": [
        "print(4=='4')"
      ],
      "metadata": {
        "colab": {
          "base_uri": "https://localhost:8080/"
        },
        "id": "aQnxcuIsk6vD",
        "outputId": "275132c2-083d-4677-eb41-d1e5483cfc8c"
      },
      "execution_count": 53,
      "outputs": [
        {
          "output_type": "stream",
          "name": "stdout",
          "text": [
            "False\n"
          ]
        }
      ]
    },
    {
      "cell_type": "code",
      "source": [
        "if str(4)=='4':\n",
        "    print(\"inside if block\")\n",
        "else:\n",
        "    print(\"inside else block\")"
      ],
      "metadata": {
        "colab": {
          "base_uri": "https://localhost:8080/"
        },
        "id": "bHqCSnEok96G",
        "outputId": "0a5526b3-6f0d-41bc-d29e-89ca2abc4b11"
      },
      "execution_count": 58,
      "outputs": [
        {
          "output_type": "stream",
          "name": "stdout",
          "text": [
            "inside if block\n"
          ]
        }
      ]
    },
    {
      "cell_type": "code",
      "source": [
        "if False:\n",
        "    print(\"inside if block\")\n",
        "else:\n",
        "    print(\"inside else block\")"
      ],
      "metadata": {
        "colab": {
          "base_uri": "https://localhost:8080/"
        },
        "id": "P-MEKWi-lHka",
        "outputId": "fdfe53b5-97d9-4b4e-f6f8-9d55b2d0d596"
      },
      "execution_count": 61,
      "outputs": [
        {
          "output_type": "stream",
          "name": "stdout",
          "text": [
            "inside else block\n"
          ]
        }
      ]
    },
    {
      "cell_type": "code",
      "source": [
        "'1'<=1"
      ],
      "metadata": {
        "colab": {
          "base_uri": "https://localhost:8080/",
          "height": 167
        },
        "id": "f-YptA2hllCN",
        "outputId": "51770f5f-b1e2-419a-93ac-5d309d8be9be"
      },
      "execution_count": 65,
      "outputs": [
        {
          "output_type": "error",
          "ename": "TypeError",
          "evalue": "ignored",
          "traceback": [
            "\u001b[0;31m---------------------------------------------------------------------------\u001b[0m",
            "\u001b[0;31mTypeError\u001b[0m                                 Traceback (most recent call last)",
            "\u001b[0;32m<ipython-input-65-4d7f358657d9>\u001b[0m in \u001b[0;36m<cell line: 1>\u001b[0;34m()\u001b[0m\n\u001b[0;32m----> 1\u001b[0;31m \u001b[0;34m'1'\u001b[0m\u001b[0;34m<=\u001b[0m\u001b[0;36m1\u001b[0m\u001b[0;34m\u001b[0m\u001b[0;34m\u001b[0m\u001b[0m\n\u001b[0m",
            "\u001b[0;31mTypeError\u001b[0m: '<=' not supported between instances of 'str' and 'int'"
          ]
        }
      ]
    },
    {
      "cell_type": "code",
      "source": [
        "ord('a') # ascii value\n"
      ],
      "metadata": {
        "colab": {
          "base_uri": "https://localhost:8080/"
        },
        "id": "4IjFrRIHl-oK",
        "outputId": "f8701307-537a-4619-c239-bb9d001271ff"
      },
      "execution_count": 67,
      "outputs": [
        {
          "output_type": "execute_result",
          "data": {
            "text/plain": [
              "97"
            ]
          },
          "metadata": {},
          "execution_count": 67
        }
      ]
    },
    {
      "cell_type": "code",
      "source": [
        "ord('b')"
      ],
      "metadata": {
        "colab": {
          "base_uri": "https://localhost:8080/"
        },
        "id": "E4cXg419mj3s",
        "outputId": "5173b231-6eaa-49c1-97e4-5e04df99e453"
      },
      "execution_count": 68,
      "outputs": [
        {
          "output_type": "execute_result",
          "data": {
            "text/plain": [
              "98"
            ]
          },
          "metadata": {},
          "execution_count": 68
        }
      ]
    },
    {
      "cell_type": "code",
      "source": [
        "'b'>'a'"
      ],
      "metadata": {
        "colab": {
          "base_uri": "https://localhost:8080/"
        },
        "id": "-dFbKwPwmKiD",
        "outputId": "11cda0c2-3680-4cc2-f9ff-75097efb77d0"
      },
      "execution_count": 70,
      "outputs": [
        {
          "output_type": "execute_result",
          "data": {
            "text/plain": [
              "True"
            ]
          },
          "metadata": {},
          "execution_count": 70
        }
      ]
    },
    {
      "cell_type": "code",
      "source": [
        "ord('A')"
      ],
      "metadata": {
        "colab": {
          "base_uri": "https://localhost:8080/"
        },
        "id": "Q_ES2W2hmnXv",
        "outputId": "86f42f3d-b546-4d3e-ed4d-943b1889ec62"
      },
      "execution_count": 71,
      "outputs": [
        {
          "output_type": "execute_result",
          "data": {
            "text/plain": [
              "65"
            ]
          },
          "metadata": {},
          "execution_count": 71
        }
      ]
    },
    {
      "cell_type": "code",
      "source": [
        "'A'<'a'"
      ],
      "metadata": {
        "colab": {
          "base_uri": "https://localhost:8080/"
        },
        "id": "J1Kbzs3umzzW",
        "outputId": "0ad8a3bc-b4ba-4561-9c9b-da709c798dc5"
      },
      "execution_count": 72,
      "outputs": [
        {
          "output_type": "execute_result",
          "data": {
            "text/plain": [
              "True"
            ]
          },
          "metadata": {},
          "execution_count": 72
        }
      ]
    },
    {
      "cell_type": "code",
      "source": [
        "a=5\n",
        "\n",
        "if a<2:\n",
        "    print(\"Less than 2\") # 1\n",
        "elif a>=2 and a<=5:\n",
        "    print(\"Between 2 and 5\") # 2\n",
        "\n",
        "elif a>=5 and a<=8:\n",
        "    print(\"between 6 and 8\") # 3\n",
        "else:\n",
        "    print(\"more than 8\") # 4"
      ],
      "metadata": {
        "colab": {
          "base_uri": "https://localhost:8080/"
        },
        "id": "2CNE5qHnm3lU",
        "outputId": "6404b00a-74a0-4d5f-933d-37c4775a2f13"
      },
      "execution_count": 87,
      "outputs": [
        {
          "output_type": "stream",
          "name": "stdout",
          "text": [
            "Between 2 and 5\n"
          ]
        }
      ]
    },
    {
      "cell_type": "code",
      "source": [
        "1>ord('a')"
      ],
      "metadata": {
        "colab": {
          "base_uri": "https://localhost:8080/"
        },
        "id": "ZOcqou7WnTlx",
        "outputId": "b7712a97-05d3-4789-cd87-4debf40e2fbb"
      },
      "execution_count": 77,
      "outputs": [
        {
          "output_type": "execute_result",
          "data": {
            "text/plain": [
              "False"
            ]
          },
          "metadata": {},
          "execution_count": 77
        }
      ]
    },
    {
      "cell_type": "code",
      "source": [
        "# there are no limits to elif\n",
        "\n",
        "if True:\n",
        "    print(\"hello\")\n",
        "if True:\n",
        "    print(\"Hi\")\n",
        "\n",
        "if False:\n",
        "       print(\"ehhlo\")\n",
        "else:\n",
        "    print(\"hi\")\n",
        "    print(\"ehllo\")"
      ],
      "metadata": {
        "colab": {
          "base_uri": "https://localhost:8080/"
        },
        "id": "K1jiHQcyndm9",
        "outputId": "c2e684a6-9987-431a-ddf3-3e6aaadc9c76"
      },
      "execution_count": 95,
      "outputs": [
        {
          "output_type": "stream",
          "name": "stdout",
          "text": [
            "hello\n",
            "Hi\n",
            "hi\n",
            "ehllo\n"
          ]
        }
      ]
    },
    {
      "cell_type": "code",
      "source": [
        "if True:\n",
        "    print(\"hello\")\n",
        "    if True:\n",
        "        print(\"Hi\")\n",
        "    else:\n",
        "        print(\"Hi\")\n",
        "else:\n",
        "    print(\"Hi\")"
      ],
      "metadata": {
        "colab": {
          "base_uri": "https://localhost:8080/"
        },
        "id": "QgAFxrL1pure",
        "outputId": "68b548a6-5543-4c33-c490-a7a508d385bc"
      },
      "execution_count": 97,
      "outputs": [
        {
          "output_type": "stream",
          "name": "stdout",
          "text": [
            "hello\n",
            "Hi\n"
          ]
        }
      ]
    },
    {
      "cell_type": "markdown",
      "source": [
        "## **Question** - Evaluate String\n",
        "* Take a string input and if the entered language is \"python\" `print(\"great choice!\")` else `print(\"Think again?\")`\n",
        "- perform case insensitive check"
      ],
      "metadata": {
        "id": "h7UtDpxetCFZ"
      }
    },
    {
      "cell_type": "code",
      "source": [
        "choice = input()\n",
        "\n",
        "if choice=='python' or choice=='PYTHON' or choice=='Python':\n",
        "    print(\"Great Choice\")\n",
        "else:\n",
        "    print(\"Think Againnnn\")"
      ],
      "metadata": {
        "colab": {
          "base_uri": "https://localhost:8080/"
        },
        "id": "PeSoDtezqc8F",
        "outputId": "a21c4570-3b4d-4080-9e90-eda7e21ab86b"
      },
      "execution_count": 104,
      "outputs": [
        {
          "output_type": "stream",
          "name": "stdout",
          "text": [
            "pYTHON\n",
            "Think Againnnn\n"
          ]
        }
      ]
    },
    {
      "cell_type": "code",
      "source": [
        "choice.lower()"
      ],
      "metadata": {
        "colab": {
          "base_uri": "https://localhost:8080/",
          "height": 36
        },
        "id": "gjTKx2SOtU5A",
        "outputId": "87384fd1-7908-40b0-a34a-c9f7d60c4361"
      },
      "execution_count": 105,
      "outputs": [
        {
          "output_type": "execute_result",
          "data": {
            "text/plain": [
              "'python'"
            ],
            "application/vnd.google.colaboratory.intrinsic+json": {
              "type": "string"
            }
          },
          "metadata": {},
          "execution_count": 105
        }
      ]
    },
    {
      "cell_type": "code",
      "source": [
        "'pYTHON'.lower()"
      ],
      "metadata": {
        "colab": {
          "base_uri": "https://localhost:8080/",
          "height": 36
        },
        "id": "gyH9i8ZcuCFp",
        "outputId": "420ef98c-b928-4ef5-a70a-210121c9bc9b"
      },
      "execution_count": 106,
      "outputs": [
        {
          "output_type": "execute_result",
          "data": {
            "text/plain": [
              "'python'"
            ],
            "application/vnd.google.colaboratory.intrinsic+json": {
              "type": "string"
            }
          },
          "metadata": {},
          "execution_count": 106
        }
      ]
    },
    {
      "cell_type": "code",
      "source": [
        "choice = input().lower()\n",
        "print(choice)\n",
        "if choice=='python':\n",
        "    print(\"Great Choice\")\n",
        "else:\n",
        "    print(\"Think Againnnn\")"
      ],
      "metadata": {
        "colab": {
          "base_uri": "https://localhost:8080/"
        },
        "id": "sZcZRBHguGvy",
        "outputId": "8ff72c53-c5cb-4cc1-9975-bd7b36746e49"
      },
      "execution_count": 114,
      "outputs": [
        {
          "output_type": "stream",
          "name": "stdout",
          "text": [
            "PythoN\n",
            "python\n",
            "Great Choice\n"
          ]
        }
      ]
    },
    {
      "cell_type": "code",
      "source": [
        "choice = input().upper()\n",
        "\n",
        "if choice=='PYTHON':\n",
        "    print(\"Great Choice\")\n",
        "else:\n",
        "    print(\"Think Againnnn\")"
      ],
      "metadata": {
        "colab": {
          "base_uri": "https://localhost:8080/"
        },
        "id": "WmvWeTeKuPbC",
        "outputId": "17c37a93-a27a-4bf7-836b-62f6afd634f0"
      },
      "execution_count": 111,
      "outputs": [
        {
          "output_type": "stream",
          "name": "stdout",
          "text": [
            "python\n",
            "Great Choice\n"
          ]
        }
      ]
    },
    {
      "cell_type": "code",
      "source": [
        "choice = input().upper()\n",
        "\n",
        "if choice=='python':\n",
        "    print(\"Great Choice\")\n",
        "else:\n",
        "    print(\"Think Againnnn\")"
      ],
      "metadata": {
        "colab": {
          "base_uri": "https://localhost:8080/"
        },
        "id": "Nj_sjvh-upRP",
        "outputId": "4ca05848-d43c-47d7-d9d7-d3151eb51dd6"
      },
      "execution_count": 113,
      "outputs": [
        {
          "output_type": "stream",
          "name": "stdout",
          "text": [
            "python\n",
            "Think Againnnn\n"
          ]
        }
      ]
    },
    {
      "cell_type": "code",
      "source": [
        "name = input().lower()"
      ],
      "metadata": {
        "colab": {
          "base_uri": "https://localhost:8080/"
        },
        "id": "XcnhgbvBu0Hq",
        "outputId": "90ac887f-6742-4bd9-9913-503aeb5dab98"
      },
      "execution_count": 117,
      "outputs": [
        {
          "name": "stdout",
          "output_type": "stream",
          "text": [
            "HELLO\n"
          ]
        }
      ]
    },
    {
      "cell_type": "code",
      "source": [
        "name"
      ],
      "metadata": {
        "colab": {
          "base_uri": "https://localhost:8080/",
          "height": 36
        },
        "id": "poox-3DfvjgM",
        "outputId": "10b4737f-6555-40a4-e3d3-eb1ce895ebcc"
      },
      "execution_count": 118,
      "outputs": [
        {
          "output_type": "execute_result",
          "data": {
            "text/plain": [
              "'hello'"
            ],
            "application/vnd.google.colaboratory.intrinsic+json": {
              "type": "string"
            }
          },
          "metadata": {},
          "execution_count": 118
        }
      ]
    },
    {
      "cell_type": "code",
      "source": [
        "\"Python\".lower()"
      ],
      "metadata": {
        "colab": {
          "base_uri": "https://localhost:8080/",
          "height": 36
        },
        "id": "UHfV_0D9vl_N",
        "outputId": "5394ad32-d75e-4421-db89-b0bc0210394b"
      },
      "execution_count": 119,
      "outputs": [
        {
          "output_type": "execute_result",
          "data": {
            "text/plain": [
              "'python'"
            ],
            "application/vnd.google.colaboratory.intrinsic+json": {
              "type": "string"
            }
          },
          "metadata": {},
          "execution_count": 119
        }
      ]
    },
    {
      "cell_type": "code",
      "source": [
        "lower(\"Hello\")"
      ],
      "metadata": {
        "colab": {
          "base_uri": "https://localhost:8080/",
          "height": 167
        },
        "id": "IWdi8Z5rvz8r",
        "outputId": "1bb7eaea-4e70-465d-ddc8-fd937b0cc775"
      },
      "execution_count": 120,
      "outputs": [
        {
          "output_type": "error",
          "ename": "NameError",
          "evalue": "ignored",
          "traceback": [
            "\u001b[0;31m---------------------------------------------------------------------------\u001b[0m",
            "\u001b[0;31mNameError\u001b[0m                                 Traceback (most recent call last)",
            "\u001b[0;32m<ipython-input-120-2736e71eee4f>\u001b[0m in \u001b[0;36m<cell line: 1>\u001b[0;34m()\u001b[0m\n\u001b[0;32m----> 1\u001b[0;31m \u001b[0mlower\u001b[0m\u001b[0;34m(\u001b[0m\u001b[0;34m\"Hello\"\u001b[0m\u001b[0;34m)\u001b[0m\u001b[0;34m\u001b[0m\u001b[0;34m\u001b[0m\u001b[0m\n\u001b[0m",
            "\u001b[0;31mNameError\u001b[0m: name 'lower' is not defined"
          ]
        }
      ]
    },
    {
      "cell_type": "code",
      "source": [
        "\"Hello\".lower()"
      ],
      "metadata": {
        "colab": {
          "base_uri": "https://localhost:8080/",
          "height": 36
        },
        "id": "ok9Wp0wZv_Lj",
        "outputId": "dba14f07-876b-436d-edb5-f85a75d37146"
      },
      "execution_count": 121,
      "outputs": [
        {
          "output_type": "execute_result",
          "data": {
            "text/plain": [
              "'hello'"
            ],
            "application/vnd.google.colaboratory.intrinsic+json": {
              "type": "string"
            }
          },
          "metadata": {},
          "execution_count": 121
        }
      ]
    },
    {
      "cell_type": "code",
      "source": [],
      "metadata": {
        "id": "clTW3dY3wBFD"
      },
      "execution_count": 122,
      "outputs": []
    },
    {
      "cell_type": "code",
      "source": [
        "name=\"naveeEN\"\n",
        "name[0].upper() + name[1:].lower()"
      ],
      "metadata": {
        "colab": {
          "base_uri": "https://localhost:8080/",
          "height": 36
        },
        "id": "HeOGmnAUwI1O",
        "outputId": "df7f3792-ff21-4182-bdc6-ccb69cbbb8f7"
      },
      "execution_count": 127,
      "outputs": [
        {
          "output_type": "execute_result",
          "data": {
            "text/plain": [
              "'Naveeen'"
            ],
            "application/vnd.google.colaboratory.intrinsic+json": {
              "type": "string"
            }
          },
          "metadata": {},
          "execution_count": 127
        }
      ]
    },
    {
      "cell_type": "code",
      "source": [
        "name = \"sachin\"\n",
        "name.capitalize()"
      ],
      "metadata": {
        "colab": {
          "base_uri": "https://localhost:8080/",
          "height": 36
        },
        "id": "YuZ1VMlywMas",
        "outputId": "1c44aeb3-9513-45c9-d849-efee5a1d5a32"
      },
      "execution_count": 125,
      "outputs": [
        {
          "output_type": "execute_result",
          "data": {
            "text/plain": [
              "'Sachin'"
            ],
            "application/vnd.google.colaboratory.intrinsic+json": {
              "type": "string"
            }
          },
          "metadata": {},
          "execution_count": 125
        }
      ]
    },
    {
      "cell_type": "markdown",
      "source": [
        "## **Question** - FIZZ BUZZ\n",
        "* Take an input N. If N is a multiple of 3, print `FIZZ`, else if N is a multiple of 5 print `BUZZ` else if N is a multiple of both 3 and 5, print `FIZZBUZZ`."
      ],
      "metadata": {
        "id": "fAj3XFU4wn3e"
      }
    },
    {
      "cell_type": "code",
      "source": [
        "n = int(input())\n",
        "\n",
        "if n%3==0 and n%5==0:\n",
        "    print(\"Fizzbuz\")\n",
        "elif n%3==0:\n",
        "    print(\"Fizz\")\n",
        "elif n%5==0:\n",
        "    print(\"Buzz\")\n"
      ],
      "metadata": {
        "colab": {
          "base_uri": "https://localhost:8080/"
        },
        "id": "DyusSyw9wT_f",
        "outputId": "bb7c81e5-db68-43e4-9d20-af4d24356da2"
      },
      "execution_count": 135,
      "outputs": [
        {
          "output_type": "stream",
          "name": "stdout",
          "text": [
            "15\n",
            "Fizzbuz\n"
          ]
        }
      ]
    },
    {
      "cell_type": "markdown",
      "source": [
        "HW:"
      ],
      "metadata": {
        "id": "wKo9wNr_zlZX"
      }
    },
    {
      "cell_type": "code",
      "source": [
        "N=int(input())\n",
        "if N%3==0:\n",
        "    print('FIZZ',end='')\n",
        "if N%5==0:\n",
        "    print('BUZZ')"
      ],
      "metadata": {
        "id": "KWMFpAlPytM1"
      },
      "execution_count": null,
      "outputs": []
    },
    {
      "cell_type": "code",
      "source": [
        "print(\"Hello\", end=\" \")\n",
        "print(\"World\")"
      ],
      "metadata": {
        "colab": {
          "base_uri": "https://localhost:8080/"
        },
        "id": "oqYdX2-dzyMU",
        "outputId": "e4bdd6d5-d1f3-44ad-88a8-b712f023d7c3"
      },
      "execution_count": 137,
      "outputs": [
        {
          "output_type": "stream",
          "name": "stdout",
          "text": [
            "Hello World\n"
          ]
        }
      ]
    },
    {
      "cell_type": "markdown",
      "source": [
        "###**Electricity meter**\n",
        "* Generate electricity bill using the following rate card. Take units consumed as input -\n",
        "    * If `units < 100`  -> **Free**\n",
        "    * If `units >= 100` and `units < 200` -> Rs 2 per **unit**.\n",
        "    * If `units >= 200` -> Rs 5 per **unit**.\n"
      ],
      "metadata": {
        "id": "FeMi6iet0SlV"
      }
    },
    {
      "cell_type": "code",
      "source": [
        "# meets solution\n",
        "n = int(input())\n",
        "if n < 100:\n",
        "    print(0)\n",
        "elif n >=100 and n < 200:\n",
        "    print(n*2)\n",
        "else:\n",
        "    print(n*5)"
      ],
      "metadata": {
        "id": "cj0qf52cz1pV"
      },
      "execution_count": null,
      "outputs": []
    },
    {
      "cell_type": "code",
      "source": [
        "units=int(input())\n",
        "if units<100:\n",
        "    print('FREE')\n",
        "elif units>= 100 and units<200:\n",
        "    print(units * 2)\n",
        "elif units>=200:\n",
        "    print(units * 5)"
      ],
      "metadata": {
        "id": "syI7CNcO2IQ6"
      },
      "execution_count": null,
      "outputs": []
    },
    {
      "cell_type": "code",
      "source": [
        "units=int(input())\n",
        "if units<=100:\n",
        "    print('FREE')\n",
        "elif units> 100 and units<=200:\n",
        "    print((units-100) * 2)\n",
        "elif units>200:\n",
        "    print(((units-200) * 5) + 200)"
      ],
      "metadata": {
        "colab": {
          "base_uri": "https://localhost:8080/"
        },
        "id": "3-oa1dqI2jf_",
        "outputId": "e9db058f-5657-48f9-eaa5-e01aa93d2880"
      },
      "execution_count": 143,
      "outputs": [
        {
          "output_type": "stream",
          "name": "stdout",
          "text": [
            "100\n",
            "FREE\n"
          ]
        }
      ]
    },
    {
      "cell_type": "code",
      "source": [
        "150--> 100*0 +50*2"
      ],
      "metadata": {
        "id": "0x0ctvsq2XyI"
      },
      "execution_count": null,
      "outputs": []
    },
    {
      "cell_type": "code",
      "source": [
        "250\n",
        "\n",
        "100-->150 ==>0 +100*2 + 50*5\n"
      ],
      "metadata": {
        "id": "yExL9cff3cmK"
      },
      "execution_count": null,
      "outputs": []
    },
    {
      "cell_type": "markdown",
      "source": [
        "###**Meter for auto**\n",
        "\n",
        "* Build a meter system for an auto. \n",
        "Take into two inputs. \n",
        "\n",
        "Kilometers Travelled and Stall Time (in minutes). Rate List -\n",
        "* First 10 kms - Rs 10 per Km\n",
        "* Next 40 kms - Rs 9 per Km\n",
        "* Next 100 kms - Rs 8 per Km\n",
        "* Any leftover km count - Rs. 6 per Km\n",
        "\n",
        "* Rs 5 extra for every minute of Stall Time\n"
      ],
      "metadata": {
        "id": "BtGtjAiY0VtZ"
      }
    },
    {
      "cell_type": "code",
      "source": [
        "300-> First hundred free, next hundred at 2rs per unit and remaining at 5rs\n",
        "200-100=> 100*2=200\n",
        "100 *5 = 500 rs\n",
        "--> total 700"
      ],
      "metadata": {
        "id": "HCn_gyz50WCj"
      },
      "execution_count": null,
      "outputs": []
    },
    {
      "cell_type": "code",
      "source": [],
      "metadata": {
        "id": "Z_PoXjHD49no"
      },
      "execution_count": null,
      "outputs": []
    },
    {
      "cell_type": "markdown",
      "source": [
        "Discuss LOOPS in part2:"
      ],
      "metadata": {
        "id": "tTCXLMPD5HEp"
      }
    },
    {
      "cell_type": "code",
      "source": [
        "str1 = 'python'\n",
        "for j in str1: \n",
        "    print(j)"
      ],
      "metadata": {
        "colab": {
          "base_uri": "https://localhost:8080/"
        },
        "id": "4J8tZqwo4-LD",
        "outputId": "d43a5553-7d54-430a-cd3a-7764208bba64"
      },
      "execution_count": 146,
      "outputs": [
        {
          "output_type": "stream",
          "name": "stdout",
          "text": [
            "p\n",
            "y\n",
            "t\n",
            "h\n",
            "o\n",
            "n\n"
          ]
        }
      ]
    },
    {
      "cell_type": "code",
      "source": [
        "a=input() \n",
        "for char in a:\n",
        "    print(char)"
      ],
      "metadata": {
        "id": "nLaNfMFp5E0_"
      },
      "execution_count": null,
      "outputs": []
    },
    {
      "cell_type": "code",
      "source": [
        "A=int(input())\n",
        "B=int(input())\n",
        "C=int(input())\n",
        "if A+B+C==180:\n",
        "    print(1)\n",
        "else:\n",
        "    print(0)"
      ],
      "metadata": {
        "colab": {
          "base_uri": "https://localhost:8080/"
        },
        "id": "dfe3tjeV55RZ",
        "outputId": "1c5fad59-4a1c-43c9-c930-c4a167d7cc0d"
      },
      "execution_count": 149,
      "outputs": [
        {
          "output_type": "stream",
          "name": "stdout",
          "text": [
            "90\n",
            "90\n",
            "0\n",
            "1\n"
          ]
        }
      ]
    },
    {
      "cell_type": "markdown",
      "source": [
        "if the traingle is scalene isoscles equilateral \n"
      ],
      "metadata": {
        "id": "o6mFaUH46QMt"
      }
    },
    {
      "cell_type": "code",
      "source": [
        "Given"
      ],
      "metadata": {
        "id": "VSsHznt66g4C"
      },
      "execution_count": null,
      "outputs": []
    },
    {
      "cell_type": "code",
      "source": [
        "A=10"
      ],
      "metadata": {
        "id": "XDjuasUm5_-T"
      },
      "execution_count": 147,
      "outputs": []
    },
    {
      "cell_type": "code",
      "source": [
        "A==10"
      ],
      "metadata": {
        "colab": {
          "base_uri": "https://localhost:8080/"
        },
        "id": "kmNMpSS-6ArS",
        "outputId": "67b3ac39-6642-4def-8dd9-feea7df673b4"
      },
      "execution_count": 148,
      "outputs": [
        {
          "output_type": "execute_result",
          "data": {
            "text/plain": [
              "True"
            ]
          },
          "metadata": {},
          "execution_count": 148
        }
      ]
    },
    {
      "cell_type": "code",
      "source": [
        "x=3\n",
        "if x > 2:\n",
        "    x = x*2 # here value changed\n",
        "print(x)\n",
        "if x > 4:\n",
        "    x = 0\n",
        "print(x)"
      ],
      "metadata": {
        "colab": {
          "base_uri": "https://localhost:8080/"
        },
        "id": "Z59vlu6r6Bsf",
        "outputId": "b2fbf2de-6cf2-40be-d6a7-377f95b84d7e"
      },
      "execution_count": 152,
      "outputs": [
        {
          "output_type": "stream",
          "name": "stdout",
          "text": [
            "6\n",
            "0\n"
          ]
        }
      ]
    },
    {
      "cell_type": "markdown",
      "source": [
        "List, Tuple, Dictioary, Set"
      ],
      "metadata": {
        "id": "1TLugffM75Va"
      }
    },
    {
      "cell_type": "code",
      "source": [],
      "metadata": {
        "id": "TRw2khmB7OU4"
      },
      "execution_count": null,
      "outputs": []
    }
  ]
}