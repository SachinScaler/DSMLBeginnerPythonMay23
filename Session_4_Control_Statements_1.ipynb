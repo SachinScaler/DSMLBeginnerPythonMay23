{
  "nbformat": 4,
  "nbformat_minor": 0,
  "metadata": {
    "colab": {
      "provenance": [],
      "authorship_tag": "ABX9TyOHesuvFrMcxYSt2vXfUWY+",
      "include_colab_link": true
    },
    "kernelspec": {
      "name": "python3",
      "display_name": "Python 3"
    },
    "language_info": {
      "name": "python"
    }
  },
  "cells": [
    {
      "cell_type": "markdown",
      "metadata": {
        "id": "view-in-github",
        "colab_type": "text"
      },
      "source": [
        "<a href=\"https://colab.research.google.com/github/SachinScaler/DSMLBeginnerPythonMay23/blob/main/Session_4_Control_Statements_1.ipynb\" target=\"_parent\"><img src=\"https://colab.research.google.com/assets/colab-badge.svg\" alt=\"Open In Colab\"/></a>"
      ]
    },
    {
      "cell_type": "markdown",
      "source": [
        "Today's session is dependent on Comparative Operators and Logical Operators\n",
        "- Comparative Ops compare two things\n",
        "- Combine multiple comparisons and evaluate\n",
        "\n",
        "- and\n",
        "- or\n",
        "- not"
      ],
      "metadata": {
        "id": "9Lwr2tS6I3Fo"
      }
    },
    {
      "cell_type": "code",
      "execution_count": null,
      "metadata": {
        "colab": {
          "base_uri": "https://localhost:8080/"
        },
        "id": "_efvH-saHhCZ",
        "outputId": "88a5d214-ee10-4077-eee4-4a09fe4de8c8"
      },
      "outputs": [
        {
          "output_type": "stream",
          "name": "stdout",
          "text": [
            "False\n"
          ]
        }
      ],
      "source": [
        "print(True and True and True and True and False)"
      ]
    },
    {
      "cell_type": "code",
      "source": [
        "print(True or True or True or True or False)"
      ],
      "metadata": {
        "colab": {
          "base_uri": "https://localhost:8080/"
        },
        "id": "_UEci6PeKml5",
        "outputId": "398e23ae-f802-4497-938c-ac3fb7bc8459"
      },
      "execution_count": null,
      "outputs": [
        {
          "output_type": "stream",
          "name": "stdout",
          "text": [
            "True\n"
          ]
        }
      ]
    },
    {
      "cell_type": "markdown",
      "source": [
        "When and and or are combine in a single statement preference of would be given to AND Operators"
      ],
      "metadata": {
        "id": "aOl1HwFUK1Gg"
      }
    },
    {
      "cell_type": "code",
      "source": [
        "print(True and False or False)"
      ],
      "metadata": {
        "colab": {
          "base_uri": "https://localhost:8080/"
        },
        "id": "xxCOECpaKwIq",
        "outputId": "cd55bff0-8f67-4ecf-eae8-298171c472c0"
      },
      "execution_count": null,
      "outputs": [
        {
          "output_type": "stream",
          "name": "stdout",
          "text": [
            "False\n"
          ]
        }
      ]
    },
    {
      "cell_type": "code",
      "source": [
        "print(True or True and False)"
      ],
      "metadata": {
        "colab": {
          "base_uri": "https://localhost:8080/"
        },
        "id": "z7N6bPcVLHli",
        "outputId": "5d5e303d-6ea0-4be5-cf21-078781abca84"
      },
      "execution_count": null,
      "outputs": [
        {
          "output_type": "stream",
          "name": "stdout",
          "text": [
            "True\n"
          ]
        }
      ]
    },
    {
      "cell_type": "code",
      "source": [
        "print((True or True) and False)"
      ],
      "metadata": {
        "colab": {
          "base_uri": "https://localhost:8080/"
        },
        "id": "3LfZePVCLUrf",
        "outputId": "52b913bb-d96c-4bcd-bb54-a8178fe8295b"
      },
      "execution_count": null,
      "outputs": [
        {
          "output_type": "stream",
          "name": "stdout",
          "text": [
            "False\n"
          ]
        }
      ]
    },
    {
      "cell_type": "code",
      "source": [
        "print(True or (True and False))"
      ],
      "metadata": {
        "colab": {
          "base_uri": "https://localhost:8080/"
        },
        "id": "FSD31iPeLbsI",
        "outputId": "ae7e2082-c362-4000-fc0b-b7426e227a67"
      },
      "execution_count": null,
      "outputs": [
        {
          "output_type": "stream",
          "name": "stdout",
          "text": [
            "True\n"
          ]
        }
      ]
    },
    {
      "cell_type": "code",
      "source": [
        "temp = int(input(\"Enter Temperature: \"))\n",
        "print(temp)"
      ],
      "metadata": {
        "colab": {
          "base_uri": "https://localhost:8080/"
        },
        "id": "IYW9Zrz_LfZu",
        "outputId": "99f2bcb9-649f-4d9d-95cf-b2201b6df804"
      },
      "execution_count": null,
      "outputs": [
        {
          "output_type": "stream",
          "name": "stdout",
          "text": [
            "Enter Temperature: 45\n",
            "45\n"
          ]
        }
      ]
    },
    {
      "cell_type": "code",
      "source": [
        "temp<32"
      ],
      "metadata": {
        "colab": {
          "base_uri": "https://localhost:8080/"
        },
        "id": "66apin2zQd49",
        "outputId": "efeb3c84-c903-45fb-ae2a-c4a3213c31ef"
      },
      "execution_count": null,
      "outputs": [
        {
          "output_type": "execute_result",
          "data": {
            "text/plain": [
              "False"
            ]
          },
          "metadata": {},
          "execution_count": 12
        }
      ]
    },
    {
      "cell_type": "markdown",
      "source": [
        "if block and \n",
        "else block"
      ],
      "metadata": {
        "id": "hNVuJLJbQ6Rb"
      }
    },
    {
      "cell_type": "code",
      "source": [
        "temp = int(input(\"Enter Temperature: \"))\n",
        "print(temp)\n",
        "if temp<32:\n",
        "    print(\"Wear Tshirt\") # line 1\n",
        "else:\n",
        "    print(\"Wear Shirt\") # line 2"
      ],
      "metadata": {
        "colab": {
          "base_uri": "https://localhost:8080/"
        },
        "id": "SYHi_e3qQoLy",
        "outputId": "db1fe4d0-8037-4363-c291-3807eeb7480e"
      },
      "execution_count": null,
      "outputs": [
        {
          "output_type": "stream",
          "name": "stdout",
          "text": [
            "Enter Temperature: 32\n",
            "32\n",
            "Wear Shirt\n"
          ]
        }
      ]
    },
    {
      "cell_type": "markdown",
      "source": [
        " shorts and pants"
      ],
      "metadata": {
        "id": "igeH9VzqV1We"
      }
    },
    {
      "cell_type": "markdown",
      "source": [
        "if (condition):\n",
        "    # statement1\n",
        "    # statement 2\n",
        "else:\n",
        "    # statement 3\n",
        "    # statement"
      ],
      "metadata": {
        "id": "brfBzNlMR8mH"
      }
    },
    {
      "cell_type": "code",
      "source": [
        "if True:\n",
        "    print(\"Inside If\") # line 1\n",
        "    print(\"HELLO\") # line 2\n",
        "else:\n",
        "    print(\"Inside Else\") # line 3"
      ],
      "metadata": {
        "colab": {
          "base_uri": "https://localhost:8080/"
        },
        "id": "V54JWF20RIZK",
        "outputId": "d00887c6-89ec-47c9-e6fb-230308edc734"
      },
      "execution_count": null,
      "outputs": [
        {
          "output_type": "stream",
          "name": "stdout",
          "text": [
            "Inside If\n",
            "HELLO\n"
          ]
        }
      ]
    },
    {
      "cell_type": "code",
      "source": [
        "if False:\n",
        "    print(\"Inside If\") # line 1\n",
        "    print(\"HELLO\") # line 2\n",
        "else:\n",
        "    print(\"Inside Else\") # line 3\n",
        "    print(\"Line 4\")\n",
        "    print(\"line 5\")\n",
        "    print(\"Line 6\")"
      ],
      "metadata": {
        "colab": {
          "base_uri": "https://localhost:8080/"
        },
        "id": "sKvTmWZXSUVG",
        "outputId": "c4fd8029-794a-41ce-ca6d-1043f7571c0e"
      },
      "execution_count": null,
      "outputs": [
        {
          "output_type": "stream",
          "name": "stdout",
          "text": [
            "Inside Else\n",
            "Line 4\n",
            "line 5\n",
            "Line 6\n"
          ]
        }
      ]
    },
    {
      "cell_type": "markdown",
      "source": [
        "- TAB to shift by 4 spaces in forward direction\n",
        "- SHIFT+TAB to shift by 4 spaces in backward direction"
      ],
      "metadata": {
        "id": "xBBqx2P6UXRr"
      }
    },
    {
      "cell_type": "markdown",
      "source": [
        "is else block mandotory?"
      ],
      "metadata": {
        "id": "dKesQxjaV80e"
      }
    },
    {
      "cell_type": "code",
      "source": [
        "weather = input()\n",
        "if weather==\"rainy\":\n",
        "    print(\"Take Umbrella\")"
      ],
      "metadata": {
        "colab": {
          "base_uri": "https://localhost:8080/"
        },
        "id": "HV4cD3ivUfPC",
        "outputId": "1ff9db9a-497a-4d5a-cb69-2bfe1c23ac3b"
      },
      "execution_count": null,
      "outputs": [
        {
          "name": "stdout",
          "output_type": "stream",
          "text": [
            "not rainy\n"
          ]
        }
      ]
    },
    {
      "cell_type": "code",
      "source": [
        "weather = input()\n",
        "else:\n",
        "    print(\"Take Umbrella\")"
      ],
      "metadata": {
        "colab": {
          "base_uri": "https://localhost:8080/",
          "height": 132
        },
        "id": "uV882vuJWNji",
        "outputId": "2e1ff9f6-4eba-4614-d399-4d72dab09c37"
      },
      "execution_count": null,
      "outputs": [
        {
          "output_type": "error",
          "ename": "SyntaxError",
          "evalue": "ignored",
          "traceback": [
            "\u001b[0;36m  File \u001b[0;32m\"<ipython-input-34-5132a1a33ae6>\"\u001b[0;36m, line \u001b[0;32m2\u001b[0m\n\u001b[0;31m    else:\u001b[0m\n\u001b[0m    ^\u001b[0m\n\u001b[0;31mSyntaxError\u001b[0m\u001b[0;31m:\u001b[0m invalid syntax\n"
          ]
        }
      ]
    },
    {
      "cell_type": "markdown",
      "source": [
        "Break Work:\n",
        "    "
      ],
      "metadata": {
        "id": "_FvGBqS3WoHN"
      }
    },
    {
      "cell_type": "code",
      "source": [
        "weather= input()\n",
        "temp = int(input())"
      ],
      "metadata": {
        "colab": {
          "base_uri": "https://localhost:8080/"
        },
        "id": "QCiNTnbPWdut",
        "outputId": "f335ed2d-d476-4fae-c73c-adfae1a66d72"
      },
      "execution_count": null,
      "outputs": [
        {
          "name": "stdout",
          "output_type": "stream",
          "text": [
            "summer\n",
            "32\n"
          ]
        }
      ]
    },
    {
      "cell_type": "code",
      "source": [
        "weather= input(\"Enter Weather: \")\n",
        "temp = int(input(\"Enter Temp: \"))\n",
        "\n",
        "if weather=='rainy' and temp<32:\n",
        "    print(\"Wear Tshirt\")\n",
        "    print(\"Take Umbrella\")\n",
        "else:\n",
        "    print(\"Wear Shirt\")"
      ],
      "metadata": {
        "colab": {
          "base_uri": "https://localhost:8080/"
        },
        "id": "-XpDcCv3ZNKw",
        "outputId": "89c3cbbd-dd3c-4c99-aad8-4529fa4c93c9"
      },
      "execution_count": null,
      "outputs": [
        {
          "output_type": "stream",
          "name": "stdout",
          "text": [
            "Enter Weather: rainy\n",
            "Enter Temp: 10\n",
            "Wear Tshirt\n",
            "Take Umbrella\n"
          ]
        }
      ]
    },
    {
      "cell_type": "markdown",
      "source": [
        "Nested Condition:"
      ],
      "metadata": {
        "id": "NmNl3TiSaVbL"
      }
    },
    {
      "cell_type": "code",
      "source": [
        "weather= input(\"Enter Weather: \")\n",
        "temp = int(input(\"Enter Temp: \"))\n",
        "\n",
        "if temp<32:\n",
        "    print(\"Wear Tshirt\") # 1\n",
        "    if weather=='rainy':\n",
        "        print(\"Take Umbrella\") # 2\n",
        "else:\n",
        "    print(\"Wear Shirt\")# 3\n",
        "    if weather=='rainy': \n",
        "        print(\"Take Umbrella\") #4\n"
      ],
      "metadata": {
        "colab": {
          "base_uri": "https://localhost:8080/"
        },
        "id": "zBREx9ipZtqD",
        "outputId": "03468238-66e1-4ed9-fc29-850a129660de"
      },
      "execution_count": null,
      "outputs": [
        {
          "output_type": "stream",
          "name": "stdout",
          "text": [
            "Enter Weather: rainy\n",
            "Enter Temp: 50\n",
            "Wear Shirt\n",
            "Take Umbrella\n"
          ]
        }
      ]
    },
    {
      "cell_type": "code",
      "source": [
        "weather= input(\"Enter Weather: \")\n",
        "temp = int(input(\"Enter Temp: \"))\n",
        "if temp<32 and weather=='rainy':\n",
        "    print(\"Wear Tshirt\") # 1\n",
        "    print(\"Take Umbrella\") # 2\n",
        "elif temp<32 and weather!='rainy': # if previos if is not true then only check this\n",
        "    print(\"Wear Tshirt\") # 1\n",
        "elif temp>=32 and weather!='rainy':# if previos elif is not true then only check this\n",
        "    print(\"Wear shirt\") # 1\n",
        "elif temp>=32 and weather=='rainy':\n",
        "    print(\"Wear shirt\") # 1\n",
        "    print(\"Take Umbrella\") # 2"
      ],
      "metadata": {
        "colab": {
          "base_uri": "https://localhost:8080/"
        },
        "id": "eZHlq1pKafkI",
        "outputId": "cf6d6318-f0ee-462a-ea4c-2dd4466eeb7f"
      },
      "execution_count": null,
      "outputs": [
        {
          "output_type": "stream",
          "name": "stdout",
          "text": [
            "Enter Weather: rainy\n",
            "Enter Temp: 28\n",
            "Wear Tshirt\n",
            "Take Umbrella\n"
          ]
        }
      ]
    },
    {
      "cell_type": "code",
      "source": [
        "num = 5\n",
        "\n",
        "if num>15:\n",
        "    print(\"Num is greater than 15\") # 1\n",
        "elif num>10:\n",
        "    print(\"Num is greater than 10\") # 2"
      ],
      "metadata": {
        "id": "VDhcGw4XbqyE"
      },
      "execution_count": null,
      "outputs": []
    },
    {
      "cell_type": "code",
      "source": [
        "num = 10\n",
        "\n",
        "# if num is div by 2\n",
        "# if num is div by 5 \n",
        "# if num is div by 5 and 2"
      ],
      "metadata": {
        "id": "l6RKE35XcRE5"
      },
      "execution_count": null,
      "outputs": []
    },
    {
      "cell_type": "code",
      "source": [
        "num = 10\n",
        "if num%2==0 and num%5==0:\n",
        "    print(\"Num div by both 2 and 5\") # 3\n",
        "elif num%2==0:\n",
        "    print(\"Num div by 2\") # 1\n",
        "elif num%5==0:\n",
        "    print(\"Num div by 5\") # 2\n",
        "else:\n",
        "    print(\"Invalid Num\")"
      ],
      "metadata": {
        "colab": {
          "base_uri": "https://localhost:8080/"
        },
        "id": "cHHpmDLbeZrK",
        "outputId": "19af0705-e36d-4afd-ec9d-1ee05b49c434"
      },
      "execution_count": null,
      "outputs": [
        {
          "output_type": "stream",
          "name": "stdout",
          "text": [
            "Num div by both 2 and 5\n"
          ]
        }
      ]
    },
    {
      "cell_type": "code",
      "source": [
        "name = \"Jatin\"\n",
        "if name==\"sachin\":\n",
        "    print(\"Correct Username\")\n",
        "\n",
        "print(\"Enter Password\")"
      ],
      "metadata": {
        "colab": {
          "base_uri": "https://localhost:8080/"
        },
        "id": "Vw9z6PI5eu6u",
        "outputId": "35972e17-f4f5-4878-cdde-94026060aa97"
      },
      "execution_count": null,
      "outputs": [
        {
          "output_type": "stream",
          "name": "stdout",
          "text": [
            "Enter Password\n"
          ]
        }
      ]
    },
    {
      "cell_type": "code",
      "source": [
        "name = \"Jatin\"\n",
        "if name==\"sachin\":\n",
        "    print(\"Correct Username\")\n",
        "else:\n",
        "    print(\"Incorrect Username\")\n",
        "\n",
        "print(\"Enter Password\")"
      ],
      "metadata": {
        "colab": {
          "base_uri": "https://localhost:8080/"
        },
        "id": "MZ9LTMkTgKGn",
        "outputId": "105845b7-99ed-4e95-c4ad-76b9800e7503"
      },
      "execution_count": null,
      "outputs": [
        {
          "output_type": "stream",
          "name": "stdout",
          "text": [
            "Incorrect Username\n",
            "Enter Password\n"
          ]
        }
      ]
    },
    {
      "cell_type": "code",
      "source": [
        "name = \"Jatin\"\n",
        "if name==\"sachin\":\n",
        "    print(\"Correct Username\")\n",
        "\n",
        "else:\n",
        "    print(\"Incorrect Username\")\n"
      ],
      "metadata": {
        "colab": {
          "base_uri": "https://localhost:8080/"
        },
        "id": "f7hiw2PTgyup",
        "outputId": "d5dcb297-c8d4-44d8-8826-9f1adc27b725"
      },
      "execution_count": null,
      "outputs": [
        {
          "output_type": "stream",
          "name": "stdout",
          "text": [
            "Incorrect Username\n"
          ]
        }
      ]
    },
    {
      "cell_type": "markdown",
      "source": [],
      "metadata": {
        "id": "L7dankhHhgl4"
      }
    },
    {
      "cell_type": "code",
      "source": [
        "name = (\"Sachin\", \"Jatin\")\n",
        "pwd = (\"1234\", \"9990\")\n",
        "\n",
        "# take input from user and validate username and password\n",
        "# Approach1: nested if block\n",
        "# Approach2: if elif\n",
        "# if all condtions print(\"{USERNAME} logged in Succesfully\") \n",
        "# else print(\"Incorrect Username or PWD\")"
      ],
      "metadata": {
        "id": "yDp_1jD6hPSa"
      },
      "execution_count": null,
      "outputs": []
    },
    {
      "cell_type": "code",
      "source": [
        "# 8586836627"
      ],
      "metadata": {
        "id": "tH9zyBvyh9vA"
      },
      "execution_count": null,
      "outputs": []
    },
    {
      "cell_type": "code",
      "source": [
        "weather = input()"
      ],
      "metadata": {
        "colab": {
          "base_uri": "https://localhost:8080/"
        },
        "id": "8EybcGKkjDSd",
        "outputId": "9a84e207-7087-41fa-c1dd-8c51df87d0f4"
      },
      "execution_count": null,
      "outputs": [
        {
          "name": "stdout",
          "output_type": "stream",
          "text": [
            "rainy\n"
          ]
        }
      ]
    },
    {
      "cell_type": "code",
      "source": [
        "print(weather)"
      ],
      "metadata": {
        "colab": {
          "base_uri": "https://localhost:8080/"
        },
        "id": "On-yBelEjFol",
        "outputId": "8ddbff4e-35b1-47a7-f258-5b460bad6fee"
      },
      "execution_count": null,
      "outputs": [
        {
          "output_type": "stream",
          "name": "stdout",
          "text": [
            "rainy\n"
          ]
        }
      ]
    },
    {
      "cell_type": "code",
      "source": [
        "weather=\"summer\" # assignment operator: used for creating or updating value in variable"
      ],
      "metadata": {
        "id": "Zybm68VvjK_I"
      },
      "execution_count": null,
      "outputs": []
    },
    {
      "cell_type": "code",
      "source": [
        "print(weather)"
      ],
      "metadata": {
        "colab": {
          "base_uri": "https://localhost:8080/"
        },
        "id": "bIGQ8GIRjOc0",
        "outputId": "e886215a-5f73-4861-d9c9-5d0b6c2abca3"
      },
      "execution_count": null,
      "outputs": [
        {
          "output_type": "stream",
          "name": "stdout",
          "text": [
            "summer\n"
          ]
        }
      ]
    },
    {
      "cell_type": "code",
      "source": [
        "print(weather==\"rainy\")"
      ],
      "metadata": {
        "colab": {
          "base_uri": "https://localhost:8080/"
        },
        "id": "iTkHeiojjQYc",
        "outputId": "b5f9d13e-bb18-4068-c680-7ad428e1e309"
      },
      "execution_count": null,
      "outputs": [
        {
          "output_type": "stream",
          "name": "stdout",
          "text": [
            "False\n"
          ]
        }
      ]
    },
    {
      "cell_type": "code",
      "source": [
        "print(weather==\"summer\")"
      ],
      "metadata": {
        "colab": {
          "base_uri": "https://localhost:8080/"
        },
        "id": "I4pS6BTijhEG",
        "outputId": "2d30b912-1d30-4909-c918-e4cac0e71092"
      },
      "execution_count": null,
      "outputs": [
        {
          "output_type": "stream",
          "name": "stdout",
          "text": [
            "True\n"
          ]
        }
      ]
    },
    {
      "cell_type": "code",
      "source": [
        "a,b = 10,20"
      ],
      "metadata": {
        "id": "g0AVMiVtjl10"
      },
      "execution_count": null,
      "outputs": []
    },
    {
      "cell_type": "code",
      "source": [
        "print(a)\n",
        "print(b)"
      ],
      "metadata": {
        "colab": {
          "base_uri": "https://localhost:8080/"
        },
        "id": "IMnsyOOTkCma",
        "outputId": "cebd1904-450b-421e-885f-63720ed2d848"
      },
      "execution_count": null,
      "outputs": [
        {
          "output_type": "stream",
          "name": "stdout",
          "text": [
            "10\n",
            "20\n"
          ]
        }
      ]
    },
    {
      "cell_type": "code",
      "source": [
        "input().split(\" \")"
      ],
      "metadata": {
        "colab": {
          "base_uri": "https://localhost:8080/"
        },
        "id": "RaI3MomXkfop",
        "outputId": "cbf0b7af-5765-46f4-85b5-1519770e711a"
      },
      "execution_count": null,
      "outputs": [
        {
          "name": "stdout",
          "output_type": "stream",
          "text": [
            "R 20\n"
          ]
        },
        {
          "output_type": "execute_result",
          "data": {
            "text/plain": [
              "['R', '20']"
            ]
          },
          "metadata": {},
          "execution_count": 103
        }
      ]
    },
    {
      "cell_type": "code",
      "source": [
        "weather, temp = input().split(\" \")"
      ],
      "metadata": {
        "colab": {
          "base_uri": "https://localhost:8080/"
        },
        "id": "ecmrGTfokFAG",
        "outputId": "1ce05dc8-d27a-4db7-b348-c2d3fb33ce9c"
      },
      "execution_count": null,
      "outputs": [
        {
          "name": "stdout",
          "output_type": "stream",
          "text": [
            "rainy 10\n"
          ]
        }
      ]
    },
    {
      "cell_type": "code",
      "source": [
        "print(weather)\n",
        "print(temp)"
      ],
      "metadata": {
        "colab": {
          "base_uri": "https://localhost:8080/"
        },
        "id": "gMM_hiWlkJl3",
        "outputId": "28d037be-fb49-4406-aef4-10e1d2a8a32e"
      },
      "execution_count": null,
      "outputs": [
        {
          "output_type": "stream",
          "name": "stdout",
          "text": [
            "rainy\n",
            "10\n"
          ]
        }
      ]
    },
    {
      "cell_type": "code",
      "source": [
        "input().split(\",\")"
      ],
      "metadata": {
        "colab": {
          "base_uri": "https://localhost:8080/"
        },
        "id": "4paPicdgkZ1d",
        "outputId": "289be390-ca26-44fa-c1a6-0a0547f8b518"
      },
      "execution_count": null,
      "outputs": [
        {
          "name": "stdout",
          "output_type": "stream",
          "text": [
            "A, 20\n"
          ]
        },
        {
          "output_type": "execute_result",
          "data": {
            "text/plain": [
              "['A', ' 20']"
            ]
          },
          "metadata": {},
          "execution_count": 104
        }
      ]
    },
    {
      "cell_type": "markdown",
      "source": [],
      "metadata": {
        "id": "vDVAoubtkwLW"
      }
    },
    {
      "cell_type": "code",
      "source": [
        "WEATHER = input()\n",
        "TEMPERATURE=int(input())\n",
        "\n",
        "if TEMPERATURE<32:\n",
        "    print(\"WEAR SHIRT\") \n",
        "else: \n",
        "    print(\"T SHIRT\") \n",
        "if WEATHER==\"RAINY\": \n",
        "    print(\"TAKE UMBERALLA\")"
      ],
      "metadata": {
        "colab": {
          "base_uri": "https://localhost:8080/"
        },
        "id": "fkYFP0bLklk9",
        "outputId": "5e971404-fcaf-491b-f8bd-18aff8751fea"
      },
      "execution_count": null,
      "outputs": [
        {
          "output_type": "stream",
          "name": "stdout",
          "text": [
            "RAINY\n",
            "10\n",
            "WEAR SHIRT\n",
            "TAKE UMBERALLA\n"
          ]
        }
      ]
    },
    {
      "cell_type": "code",
      "source": [
        "amount = 1200\n",
        "\n",
        "# 1200-500 --> 700\n",
        "# 1200-500 -->200\n",
        "# 200>500-> 200-200=0\n",
        "# 0,  2*500 , 1*200"
      ],
      "metadata": {
        "id": "LIdu8q0llVl8"
      },
      "execution_count": null,
      "outputs": []
    },
    {
      "cell_type": "markdown",
      "source": [
        "LOOPS: For Loops While LOOPS"
      ],
      "metadata": {
        "id": "QQIBbkylmMjg"
      }
    },
    {
      "cell_type": "code",
      "source": [
        "name= input('enter username')\n",
        "pwd= int(input())\n",
        "if name=='sachin' and pwd==1234:\n",
        "    print('Sachin logged in successfully')\n",
        "elif name=='jatin'and pwd==9990:\n",
        "    print('jatin logged in successfully')\n",
        "else:\n",
        "    print('blocked username or password incorrect')"
      ],
      "metadata": {
        "colab": {
          "base_uri": "https://localhost:8080/"
        },
        "id": "-ayYHdKwmQET",
        "outputId": "c205d504-4950-489f-dede-3ea8cd117d2e"
      },
      "execution_count": null,
      "outputs": [
        {
          "output_type": "stream",
          "name": "stdout",
          "text": [
            "enter usernamejatin\n",
            "82304\n",
            "blocked username or password incorrect\n"
          ]
        }
      ]
    },
    {
      "cell_type": "markdown",
      "source": [
        "### Separate username and pwd validation and print(\"Username is Incorrect\") \n",
        "and \"Pwd for username is incorrect\""
      ],
      "metadata": {
        "id": "2caT6XpynG59"
      }
    },
    {
      "cell_type": "code",
      "source": [
        "name, pwd= input('enter username and pwd seperated by Comma').split(\",\")\n",
        "\n",
        "if name=='sachin' and pwd==\"1234\":\n",
        "    print('Sachin logged in successfully')\n",
        "elif name=='jatin'and pwd==\"9990\":\n",
        "    print('jatin logged in successfully')\n",
        "else:\n",
        "    print('blocked username or password incorrect')"
      ],
      "metadata": {
        "colab": {
          "base_uri": "https://localhost:8080/"
        },
        "id": "7xvvuxlSmmFm",
        "outputId": "8bca8538-9106-4bd2-9cd1-deb38b79dd11"
      },
      "execution_count": null,
      "outputs": [
        {
          "output_type": "stream",
          "name": "stdout",
          "text": [
            "enter username and pwd seperated by Commajatin,9990\n",
            "jatin logged in successfully\n"
          ]
        }
      ]
    },
    {
      "cell_type": "code",
      "source": [
        "print(name)"
      ],
      "metadata": {
        "colab": {
          "base_uri": "https://localhost:8080/"
        },
        "id": "xN3yzKTonmXo",
        "outputId": "d3b3b1b3-c8ba-49e2-ce7c-be2b4354a52d"
      },
      "execution_count": null,
      "outputs": [
        {
          "output_type": "stream",
          "name": "stdout",
          "text": [
            "jatin\n"
          ]
        }
      ]
    },
    {
      "cell_type": "code",
      "source": [
        "print(pwd)"
      ],
      "metadata": {
        "colab": {
          "base_uri": "https://localhost:8080/"
        },
        "id": "nxeRMOtgnsXf",
        "outputId": "c1fe2cc3-fb59-41e3-8511-3ea5de240945"
      },
      "execution_count": null,
      "outputs": [
        {
          "output_type": "stream",
          "name": "stdout",
          "text": [
            "9990\n"
          ]
        }
      ]
    },
    {
      "cell_type": "code",
      "source": [
        "-10%3"
      ],
      "metadata": {
        "colab": {
          "base_uri": "https://localhost:8080/"
        },
        "id": "C0WGM-I_nt4o",
        "outputId": "84cab632-bbb7-481e-c368-ce0ce8df35f2"
      },
      "execution_count": null,
      "outputs": [
        {
          "output_type": "execute_result",
          "data": {
            "text/plain": [
              "2"
            ]
          },
          "metadata": {},
          "execution_count": 120
        }
      ]
    },
    {
      "cell_type": "code",
      "source": [],
      "metadata": {
        "id": "4_YoXmOwoOxV"
      },
      "execution_count": null,
      "outputs": []
    }
  ]
}