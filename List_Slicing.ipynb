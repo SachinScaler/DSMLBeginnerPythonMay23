{
  "nbformat": 4,
  "nbformat_minor": 0,
  "metadata": {
    "colab": {
      "provenance": [],
      "authorship_tag": "ABX9TyN/paeqeLBVld42LxX1rr1s",
      "include_colab_link": true
    },
    "kernelspec": {
      "name": "python3",
      "display_name": "Python 3"
    },
    "language_info": {
      "name": "python"
    }
  },
  "cells": [
    {
      "cell_type": "markdown",
      "metadata": {
        "id": "view-in-github",
        "colab_type": "text"
      },
      "source": [
        "<a href=\"https://colab.research.google.com/github/SachinScaler/DSMLBeginnerPythonMay23/blob/main/List_Slicing.ipynb\" target=\"_parent\"><img src=\"https://colab.research.google.com/assets/colab-badge.svg\" alt=\"Open In Colab\"/></a>"
      ]
    },
    {
      "cell_type": "code",
      "execution_count": 1,
      "metadata": {
        "colab": {
          "base_uri": "https://localhost:8080/"
        },
        "id": "Mn9LQ9XCUUzg",
        "outputId": "f3df1c6b-121e-437b-98e9-a856abe9edd7"
      },
      "outputs": [
        {
          "output_type": "stream",
          "name": "stdout",
          "text": [
            "[1, 'H', True]\n"
          ]
        }
      ],
      "source": [
        "list1 = [1,\"H\"]\n",
        "list1.append(True)\n",
        "print(list1)"
      ]
    },
    {
      "cell_type": "code",
      "source": [
        "# string is immutable\n",
        "str1 =  \"Sachin\"\n",
        "str1 = str1+ \" Kaushik\" # here we are creating a new string by using old value of str1 and adding kaushik\n",
        "print(str1)"
      ],
      "metadata": {
        "colab": {
          "base_uri": "https://localhost:8080/"
        },
        "id": "8WJ_AmsNXjF2",
        "outputId": "91187c45-7868-42a0-e579-fcbf641a2b8d"
      },
      "execution_count": 2,
      "outputs": [
        {
          "output_type": "stream",
          "name": "stdout",
          "text": [
            "Sachin Kaushik\n"
          ]
        }
      ]
    },
    {
      "cell_type": "markdown",
      "source": [
        "id: Gives the id/memory-location of any variable"
      ],
      "metadata": {
        "id": "0JXK9d0OYQgI"
      }
    },
    {
      "cell_type": "code",
      "source": [
        "a=10\n",
        "print(id(a))"
      ],
      "metadata": {
        "colab": {
          "base_uri": "https://localhost:8080/"
        },
        "id": "U05m_x_lX5Ac",
        "outputId": "a331334d-29e3-4aa1-bb9a-0d4ab4983a05"
      },
      "execution_count": 3,
      "outputs": [
        {
          "output_type": "stream",
          "name": "stdout",
          "text": [
            "140653108363792\n"
          ]
        }
      ]
    },
    {
      "cell_type": "code",
      "source": [
        "b=11\n",
        "print(id(b))"
      ],
      "metadata": {
        "colab": {
          "base_uri": "https://localhost:8080/"
        },
        "id": "dhDysaGrYYwi",
        "outputId": "40cfbc00-6249-4116-c0fd-daa964743dd5"
      },
      "execution_count": 5,
      "outputs": [
        {
          "output_type": "stream",
          "name": "stdout",
          "text": [
            "140653108363824\n"
          ]
        }
      ]
    },
    {
      "cell_type": "code",
      "source": [
        "list1 = [1,\"H\"]\n",
        "print(id(list1))"
      ],
      "metadata": {
        "colab": {
          "base_uri": "https://localhost:8080/"
        },
        "id": "B3UEzwuyYaz2",
        "outputId": "9d64d883-aedb-474f-a4d2-1f76bb8a893f"
      },
      "execution_count": 6,
      "outputs": [
        {
          "output_type": "stream",
          "name": "stdout",
          "text": [
            "140651857733824\n"
          ]
        }
      ]
    },
    {
      "cell_type": "code",
      "source": [
        "list1.append(True)\n",
        "print(list1)\n",
        "print(id(list1))"
      ],
      "metadata": {
        "colab": {
          "base_uri": "https://localhost:8080/"
        },
        "id": "ufOvmilcYq4D",
        "outputId": "6952c8f5-eb06-4b18-88c6-397cf33f0d85"
      },
      "execution_count": 7,
      "outputs": [
        {
          "output_type": "stream",
          "name": "stdout",
          "text": [
            "[1, 'H', True]\n",
            "140651857733824\n"
          ]
        }
      ]
    },
    {
      "cell_type": "code",
      "source": [
        "# string is immutable\n",
        "str1 =  \"Sachin\"\n",
        "print(id(str1))\n",
        "str1 = str1+ \" Kaushik\" # here we are creating a new string by using old value of str1 and adding kaushik\n",
        "print(str1)\n",
        "print(id(str1))"
      ],
      "metadata": {
        "colab": {
          "base_uri": "https://localhost:8080/"
        },
        "id": "eh0RaloSYwYB",
        "outputId": "eee4ae1b-e4d6-44a3-8766-bcef88cd63a4"
      },
      "execution_count": 8,
      "outputs": [
        {
          "output_type": "stream",
          "name": "stdout",
          "text": [
            "140651857698992\n",
            "Sachin Kaushik\n",
            "140651857706608\n"
          ]
        }
      ]
    },
    {
      "cell_type": "markdown",
      "source": [
        "Mutables: List, Set and Dictionary"
      ],
      "metadata": {
        "id": "CZNVde_qZQSh"
      }
    },
    {
      "cell_type": "code",
      "source": [
        "# extend and + operation: joins two lists."
      ],
      "metadata": {
        "id": "5uZWMFzMY6rc"
      },
      "execution_count": null,
      "outputs": []
    },
    {
      "cell_type": "markdown",
      "source": [
        "##**Question-1**\n",
        "Given list of all runs by Virat, print runs made in odd matches (Even Indexes).\n",
        "\n",
        "```runs = [62, 85, 74, 10, 12, 101, 122, 99, 81, 55]```"
      ],
      "metadata": {
        "id": "AXLu_lotb-AW"
      }
    },
    {
      "cell_type": "code",
      "source": [
        "runs = [62, 85, 74, 10, 12, 101, 122, 99, 81, 55]\n",
        "for i in runs:\n",
        "    print(i)"
      ],
      "metadata": {
        "colab": {
          "base_uri": "https://localhost:8080/"
        },
        "id": "UsoB4yVnbycO",
        "outputId": "91b19bcb-217d-4f37-952e-5205957ecd92"
      },
      "execution_count": 10,
      "outputs": [
        {
          "output_type": "stream",
          "name": "stdout",
          "text": [
            "62\n",
            "85\n",
            "74\n",
            "10\n",
            "12\n",
            "101\n",
            "122\n",
            "99\n",
            "81\n",
            "55\n"
          ]
        }
      ]
    },
    {
      "cell_type": "code",
      "source": [
        "for i in range(0,len(runs)):\n",
        "    if i%2==0:\n",
        "        print(runs[i])"
      ],
      "metadata": {
        "colab": {
          "base_uri": "https://localhost:8080/"
        },
        "id": "zubWfp5ece63",
        "outputId": "86dd2117-2e72-41a1-efff-2871ffd86a9b"
      },
      "execution_count": 14,
      "outputs": [
        {
          "output_type": "stream",
          "name": "stdout",
          "text": [
            "62\n",
            "74\n",
            "12\n",
            "122\n",
            "81\n"
          ]
        }
      ]
    },
    {
      "cell_type": "code",
      "source": [
        "for i in range(0,len(runs),2):\n",
        "    print(runs[i])"
      ],
      "metadata": {
        "colab": {
          "base_uri": "https://localhost:8080/"
        },
        "id": "ikwfYuIUcnAZ",
        "outputId": "c53d75c2-850f-49a5-dd66-39f18cd2a4cd"
      },
      "execution_count": 15,
      "outputs": [
        {
          "output_type": "stream",
          "name": "stdout",
          "text": [
            "62\n",
            "74\n",
            "12\n",
            "122\n",
            "81\n"
          ]
        }
      ]
    },
    {
      "cell_type": "code",
      "source": [
        "# take input as string and split that to create list of strings\n",
        "runs= input().split(\" \")\n",
        "print(runs)"
      ],
      "metadata": {
        "colab": {
          "base_uri": "https://localhost:8080/"
        },
        "id": "XG7hC-oXdOjd",
        "outputId": "dcc03b80-5775-4252-a75c-aeb2b6e60eab"
      },
      "execution_count": 18,
      "outputs": [
        {
          "output_type": "stream",
          "name": "stdout",
          "text": [
            "10 12 14\n",
            "['10', '12', '14']\n"
          ]
        }
      ]
    },
    {
      "cell_type": "code",
      "source": [
        "# to convert each element of list into string\n",
        "runs = list(map(int,runs))\n",
        "print(runs)"
      ],
      "metadata": {
        "colab": {
          "base_uri": "https://localhost:8080/"
        },
        "id": "qNz1qTvAdWQN",
        "outputId": "d6ec7e0c-d715-46cf-c6cc-9a2a7703735d"
      },
      "execution_count": 20,
      "outputs": [
        {
          "output_type": "stream",
          "name": "stdout",
          "text": [
            "[10, 12, 14]\n"
          ]
        }
      ]
    },
    {
      "cell_type": "code",
      "source": [
        "# to convert each element of list into string\n",
        "for i in range(runs):  # list(map(int,runs))\n",
        "    runs[i]=int(runs[i])\n",
        "print(runs)"
      ],
      "metadata": {
        "id": "5nkDrTfgdhYX"
      },
      "execution_count": null,
      "outputs": []
    },
    {
      "cell_type": "code",
      "source": [
        "# single line of code to take input string and convert into list of ints\n",
        "runs = list(map(int,input().split(\" \")))"
      ],
      "metadata": {
        "colab": {
          "base_uri": "https://localhost:8080/"
        },
        "id": "NueB0wrZdy_U",
        "outputId": "8e8cb8a1-6fda-4c3c-999e-dd1c588df9d3"
      },
      "execution_count": 23,
      "outputs": [
        {
          "name": "stdout",
          "output_type": "stream",
          "text": [
            "10 15 15 17\n"
          ]
        }
      ]
    },
    {
      "cell_type": "code",
      "source": [
        "print(runs)"
      ],
      "metadata": {
        "colab": {
          "base_uri": "https://localhost:8080/"
        },
        "id": "P2NHkiQhe9Yj",
        "outputId": "a8515349-7fb0-4c61-8f98-4f6bb790c899"
      },
      "execution_count": 24,
      "outputs": [
        {
          "output_type": "stream",
          "name": "stdout",
          "text": [
            "[10, 15, 15, 17]\n"
          ]
        }
      ]
    },
    {
      "cell_type": "code",
      "source": [
        "\"A,B,C\".split(\",\")"
      ],
      "metadata": {
        "colab": {
          "base_uri": "https://localhost:8080/"
        },
        "id": "_PnzOK4oeOYL",
        "outputId": "56ba9aa3-9b7c-4bd4-ce37-5f6c6fa5f479"
      },
      "execution_count": 22,
      "outputs": [
        {
          "output_type": "execute_result",
          "data": {
            "text/plain": [
              "['A', 'B', 'C']"
            ]
          },
          "metadata": {},
          "execution_count": 22
        }
      ]
    },
    {
      "cell_type": "code",
      "source": [
        "runs = input().split(\" \")\n",
        "runs = (map(int,runs))\n",
        "print(runs)"
      ],
      "metadata": {
        "colab": {
          "base_uri": "https://localhost:8080/"
        },
        "id": "TkQ-AaiFeRLc",
        "outputId": "e2a565fc-8112-4548-9cd5-b0be17be3043"
      },
      "execution_count": 25,
      "outputs": [
        {
          "output_type": "stream",
          "name": "stdout",
          "text": [
            "10 12 15\n",
            "<map object at 0x7fec41848ac0>\n"
          ]
        }
      ]
    },
    {
      "cell_type": "code",
      "source": [
        "print(list(runs))"
      ],
      "metadata": {
        "colab": {
          "base_uri": "https://localhost:8080/"
        },
        "id": "MYn2IkT6fOvo",
        "outputId": "c746d3ec-57ec-4ab0-8336-c12ba47be8d1"
      },
      "execution_count": 26,
      "outputs": [
        {
          "output_type": "stream",
          "name": "stdout",
          "text": [
            "[10, 12, 15]\n"
          ]
        }
      ]
    },
    {
      "cell_type": "markdown",
      "source": [
        "##**Question-2**\n",
        "Given list of all runs by Virat, create a new list of runs made in odd matches (Even Indexes).\n",
        "\n",
        "```runs = [62, 85, 74, 10, 12, 101, 122, 99, 81, 55]```"
      ],
      "metadata": {
        "id": "7lQuVpL0fli2"
      }
    },
    {
      "cell_type": "code",
      "source": [
        "def get_odd_runs(runs):\n",
        "    odd_runs = []\n",
        "    for i in range(0,len(runs),2):\n",
        "        odd_runs.append(runs[i])\n",
        "    return odd_runs\n",
        "\n",
        "runs = [62, 85, 74, 10, 12, 101, 122, 99, 81, 55]\n",
        "out = (get_odd_runs(runs))"
      ],
      "metadata": {
        "id": "xHKWuawqfSm5"
      },
      "execution_count": 31,
      "outputs": []
    },
    {
      "cell_type": "code",
      "source": [
        "runs[::2]"
      ],
      "metadata": {
        "colab": {
          "base_uri": "https://localhost:8080/"
        },
        "id": "VjKntA_wsUmq",
        "outputId": "2393651a-ca35-422a-c250-8379c350b8ac"
      },
      "execution_count": 70,
      "outputs": [
        {
          "output_type": "execute_result",
          "data": {
            "text/plain": [
              "[62, 74, 12, 122, 81]"
            ]
          },
          "metadata": {},
          "execution_count": 70
        }
      ]
    },
    {
      "cell_type": "code",
      "source": [
        "print(out)"
      ],
      "metadata": {
        "colab": {
          "base_uri": "https://localhost:8080/"
        },
        "id": "duCCblqLgJsa",
        "outputId": "0ea0d59b-4d62-48dc-c5b0-36e74272fd12"
      },
      "execution_count": 32,
      "outputs": [
        {
          "output_type": "stream",
          "name": "stdout",
          "text": [
            "[62, 74, 12, 122, 81]\n"
          ]
        }
      ]
    },
    {
      "cell_type": "code",
      "source": [
        "odd_runs=[]\n",
        "for i in range(1,len(list1),2):\n",
        "    odd_runs.append(list1[i])\n",
        "print(odd_runs)"
      ],
      "metadata": {
        "colab": {
          "base_uri": "https://localhost:8080/"
        },
        "id": "Yd1xKyXMhPJK",
        "outputId": "b5d43859-cd29-47f1-9bff-96cc65735a57"
      },
      "execution_count": 36,
      "outputs": [
        {
          "output_type": "stream",
          "name": "stdout",
          "text": [
            "['H']\n"
          ]
        }
      ]
    },
    {
      "cell_type": "markdown",
      "source": [
        "##**Question-3**\n",
        "Given list of all runs by Virat, create a new list of runs made in last 5 matches.\n",
        "\n",
        "```runs = [62, 85, 74, 10, 12, 101, 122, 99, 81, 55]```"
      ],
      "metadata": {
        "id": "TIXyp6HYhFmX"
      }
    },
    {
      "cell_type": "code",
      "source": [
        "def get_odd_runs(runs):\n",
        "    odd_runs = []\n",
        "    for i in range(-5,0):\n",
        "        odd_runs.append(runs[i])\n",
        "    return odd_runs\n",
        "\n",
        "runs = [62, 85, 74, 10, 12, 101, 122, 99, 81, 55]\n",
        "print(get_odd_runs(runs))"
      ],
      "metadata": {
        "colab": {
          "base_uri": "https://localhost:8080/"
        },
        "id": "E4CgPf5ogtnn",
        "outputId": "8410e346-e09d-41f4-af25-41d94b51ff00"
      },
      "execution_count": 38,
      "outputs": [
        {
          "output_type": "stream",
          "name": "stdout",
          "text": [
            "[101, 122, 99, 81, 55]\n"
          ]
        }
      ]
    },
    {
      "cell_type": "code",
      "source": [
        "runs[len(runs)-5:]"
      ],
      "metadata": {
        "colab": {
          "base_uri": "https://localhost:8080/"
        },
        "id": "xQGEAn7_scql",
        "outputId": "fe272ffd-f20a-487d-e04d-b8c46e0c022a"
      },
      "execution_count": 72,
      "outputs": [
        {
          "output_type": "execute_result",
          "data": {
            "text/plain": [
              "[101, 122, 99, 81, 55]"
            ]
          },
          "metadata": {},
          "execution_count": 72
        }
      ]
    },
    {
      "cell_type": "code",
      "source": [
        "runs[-5:]"
      ],
      "metadata": {
        "colab": {
          "base_uri": "https://localhost:8080/"
        },
        "id": "maU9r9gQsjrN",
        "outputId": "aacd94df-e450-4a9d-adac-df7eae3cdb14"
      },
      "execution_count": 73,
      "outputs": [
        {
          "output_type": "execute_result",
          "data": {
            "text/plain": [
              "[101, 122, 99, 81, 55]"
            ]
          },
          "metadata": {},
          "execution_count": 73
        }
      ]
    },
    {
      "cell_type": "code",
      "source": [
        "def get_odd_runs(runs):\n",
        "    odd_runs = []\n",
        "    for i in range(len(runs)-5,len(runs)):\n",
        "        odd_runs.append(runs[i])\n",
        "    return odd_runs\n",
        "\n",
        "runs = [62, 85, 74, 10, 12, 101, 122, 99, 81, 55]\n",
        "print(get_odd_runs(runs))"
      ],
      "metadata": {
        "colab": {
          "base_uri": "https://localhost:8080/"
        },
        "id": "eTGifAg6iKhB",
        "outputId": "e7d15b3d-5753-4ccb-b879-6403196ad79a"
      },
      "execution_count": 41,
      "outputs": [
        {
          "output_type": "stream",
          "name": "stdout",
          "text": [
            "[101, 122, 99, 81, 55]\n"
          ]
        }
      ]
    },
    {
      "cell_type": "code",
      "source": [],
      "metadata": {
        "id": "0EhVon1vsPos"
      },
      "execution_count": null,
      "outputs": []
    },
    {
      "cell_type": "markdown",
      "source": [
        "##**Question-4**\n",
        "Given list of all runs by Virat, create a new list of runs made in first 3 matches.\n",
        "\n",
        "```runs = [62, 85, 74, 10, 12, 101, 122, 99, 81, 55]```"
      ],
      "metadata": {
        "id": "zcBpRZqZih6p"
      }
    },
    {
      "cell_type": "code",
      "source": [
        "def get_first3(runs):\n",
        "    list3 = []\n",
        "    for i in range(3):\n",
        "        list3.append(runs[i])\n",
        "    return list3\n",
        "\n",
        "A = [62, 85, 74, 10, 12, 101, 122, 99, 81, 55]\n",
        "print(get_first3(A))"
      ],
      "metadata": {
        "colab": {
          "base_uri": "https://localhost:8080/"
        },
        "id": "DqK2dJvSi-Rf",
        "outputId": "83eb04e9-9ebb-462e-cd56-3a98a4bc5eff"
      },
      "execution_count": 42,
      "outputs": [
        {
          "output_type": "stream",
          "name": "stdout",
          "text": [
            "[62, 85, 74]\n"
          ]
        }
      ]
    },
    {
      "cell_type": "code",
      "source": [
        "A[:3]"
      ],
      "metadata": {
        "colab": {
          "base_uri": "https://localhost:8080/"
        },
        "id": "ejheCTJwsIum",
        "outputId": "28ff7eca-cff0-4873-f242-1414b2211f4e"
      },
      "execution_count": 69,
      "outputs": [
        {
          "output_type": "execute_result",
          "data": {
            "text/plain": [
              "[62, 85, 74]"
            ]
          },
          "metadata": {},
          "execution_count": 69
        }
      ]
    },
    {
      "cell_type": "markdown",
      "source": [
        "##**Question-5**\n",
        "Given list of all runs by Virat, create a new list of runs made from the 3rd match to the 7th match.\n",
        "```runs = [62, 85, 74, 10, 12, 101, 122, 99, 81, 55]```"
      ],
      "metadata": {
        "id": "tcfS33x6iqHA"
      }
    },
    {
      "cell_type": "code",
      "source": [
        "def get_first3_7(runs):\n",
        "    list3_7 = []\n",
        "    for i in range(2,7):\n",
        "        list3_7.append(runs[i])\n",
        "    return list3_7\n",
        "\n",
        "\n",
        "print(get_first3_7(runs))"
      ],
      "metadata": {
        "colab": {
          "base_uri": "https://localhost:8080/"
        },
        "id": "brmIpYU9jgC8",
        "outputId": "e0c1255e-1d31-4f38-cf1b-fc66cc030dd9"
      },
      "execution_count": 46,
      "outputs": [
        {
          "output_type": "stream",
          "name": "stdout",
          "text": [
            "[74, 10, 12, 101, 122]\n"
          ]
        }
      ]
    },
    {
      "cell_type": "code",
      "source": [
        "new_runs = runs[2:7]\n",
        "print(new_runs)"
      ],
      "metadata": {
        "colab": {
          "base_uri": "https://localhost:8080/"
        },
        "id": "OWQ4qvzSrlba",
        "outputId": "7e0e943c-cb17-43c7-be6f-eb9e51415a44"
      },
      "execution_count": 66,
      "outputs": [
        {
          "output_type": "stream",
          "name": "stdout",
          "text": [
            "[74, 10, 12, 101, 122]\n"
          ]
        }
      ]
    },
    {
      "cell_type": "markdown",
      "source": [
        "##**Question-6**\n",
        "Given list of all runs by Virat, write a function to reverse the list\n",
        "```runs = [62, 85, 74, 10, 12, 101, 122, 99, 81, 55]```"
      ],
      "metadata": {
        "id": "rmXWN-yGisST"
      }
    },
    {
      "cell_type": "code",
      "source": [
        "runs = [62, 85, 74, 10, 12, 101, 122, 99, 81, 55]\n",
        "list1 = []\n",
        "for i in range(len(runs)-1,-1,-1):\n",
        "    list1.append((runs[i]))\n",
        "print(list1)"
      ],
      "metadata": {
        "colab": {
          "base_uri": "https://localhost:8080/"
        },
        "id": "yTHMjQs7irt6",
        "outputId": "0e4db664-dab7-426d-d744-f0c1a219c535"
      },
      "execution_count": 55,
      "outputs": [
        {
          "output_type": "stream",
          "name": "stdout",
          "text": [
            "[55, 81, 99, 122, 101, 12, 10, 74, 85, 62]\n"
          ]
        }
      ]
    },
    {
      "cell_type": "markdown",
      "source": [
        "### Slicing:"
      ],
      "metadata": {
        "id": "R8L7YDUElcc4"
      }
    },
    {
      "cell_type": "code",
      "source": [
        "runs = [62, 85, 74, 10, 12, 101, 122, 99, 81, 55]\n",
        "print(runs[len(runs)-1::-1])"
      ],
      "metadata": {
        "colab": {
          "base_uri": "https://localhost:8080/"
        },
        "id": "xvTarVePiOi0",
        "outputId": "b02f78cf-2f69-4883-d045-8746d2828be2"
      },
      "execution_count": 64,
      "outputs": [
        {
          "output_type": "stream",
          "name": "stdout",
          "text": [
            "[55, 81, 99, 122, 101, 12, 10, 74, 85, 62]\n"
          ]
        }
      ]
    },
    {
      "cell_type": "code",
      "source": [
        "runs[::-1]"
      ],
      "metadata": {
        "colab": {
          "base_uri": "https://localhost:8080/"
        },
        "id": "TethuXPQk-G2",
        "outputId": "7a830f47-3e83-48a8-e92d-942e2561659f"
      },
      "execution_count": 65,
      "outputs": [
        {
          "output_type": "execute_result",
          "data": {
            "text/plain": [
              "[55, 81, 99, 122, 101, 12, 10, 74, 85, 62]"
            ]
          },
          "metadata": {},
          "execution_count": 65
        }
      ]
    },
    {
      "cell_type": "code",
      "source": [
        "a = [10,20]\n",
        "a[100]"
      ],
      "metadata": {
        "colab": {
          "base_uri": "https://localhost:8080/",
          "height": 184
        },
        "id": "FNnbiIPprgLL",
        "outputId": "b55e844e-af82-4556-ffb2-92fb539c1c16"
      },
      "execution_count": 67,
      "outputs": [
        {
          "output_type": "error",
          "ename": "IndexError",
          "evalue": "ignored",
          "traceback": [
            "\u001b[0;31m---------------------------------------------------------------------------\u001b[0m",
            "\u001b[0;31mIndexError\u001b[0m                                Traceback (most recent call last)",
            "\u001b[0;32m<ipython-input-67-25867cb7ab6c>\u001b[0m in \u001b[0;36m<cell line: 2>\u001b[0;34m()\u001b[0m\n\u001b[1;32m      1\u001b[0m \u001b[0ma\u001b[0m \u001b[0;34m=\u001b[0m \u001b[0;34m[\u001b[0m\u001b[0;36m10\u001b[0m\u001b[0;34m,\u001b[0m\u001b[0;36m20\u001b[0m\u001b[0;34m]\u001b[0m\u001b[0;34m\u001b[0m\u001b[0;34m\u001b[0m\u001b[0m\n\u001b[0;32m----> 2\u001b[0;31m \u001b[0ma\u001b[0m\u001b[0;34m[\u001b[0m\u001b[0;36m100\u001b[0m\u001b[0;34m]\u001b[0m\u001b[0;34m\u001b[0m\u001b[0;34m\u001b[0m\u001b[0m\n\u001b[0m",
            "\u001b[0;31mIndexError\u001b[0m: list index out of range"
          ]
        }
      ]
    },
    {
      "cell_type": "code",
      "source": [
        "a[:100]"
      ],
      "metadata": {
        "colab": {
          "base_uri": "https://localhost:8080/"
        },
        "id": "bY_B-Buwr5BV",
        "outputId": "116c9a86-3d20-478f-ed2d-d3cad171986d"
      },
      "execution_count": 68,
      "outputs": [
        {
          "output_type": "execute_result",
          "data": {
            "text/plain": [
              "[10, 20]"
            ]
          },
          "metadata": {},
          "execution_count": 68
        }
      ]
    },
    {
      "cell_type": "markdown",
      "source": [
        "a = [10, 20, 30, 440, 50, 60, 70, 80, 90, 100]\n",
        "##Homework Question:\n",
        "1. ```a[3:5]```\n",
        "1. ```a[:8]```\n",
        "1. ```a[:]```\n",
        "1. ```a[7:]```\n",
        "1. ```a[-2:-5:-1]```\n",
        "1. ```a[-2:-7]```\n",
        "1. ```a[:-5]```\n",
        "1. ```a[-2:]```\n",
        "1. ```a[-8:5]```\n",
        "1. ```a[-8:5:-1]```"
      ],
      "metadata": {
        "id": "6oaa7iu8suh9"
      }
    },
    {
      "cell_type": "code",
      "source": [
        "a[-8:5:-1]"
      ],
      "metadata": {
        "colab": {
          "base_uri": "https://localhost:8080/"
        },
        "id": "4af7Gc3or7Pi",
        "outputId": "5869cd4f-943b-4652-da6d-b668fb921cc2"
      },
      "execution_count": 74,
      "outputs": [
        {
          "output_type": "execute_result",
          "data": {
            "text/plain": [
              "[]"
            ]
          },
          "metadata": {},
          "execution_count": 74
        }
      ]
    },
    {
      "cell_type": "code",
      "source": [
        "a = [10, 20, 30, 440, 50, 60, 70, 80, 90, 100]\n",
        "a[-8]"
      ],
      "metadata": {
        "colab": {
          "base_uri": "https://localhost:8080/"
        },
        "id": "9iNFE3IYtFTI",
        "outputId": "4d51591a-4d0b-4ad9-eb49-5adf66c29dcc"
      },
      "execution_count": 76,
      "outputs": [
        {
          "output_type": "execute_result",
          "data": {
            "text/plain": [
              "30"
            ]
          },
          "metadata": {},
          "execution_count": 76
        }
      ]
    },
    {
      "cell_type": "code",
      "source": [
        "a[5]"
      ],
      "metadata": {
        "colab": {
          "base_uri": "https://localhost:8080/"
        },
        "id": "nmryw-VGtL0o",
        "outputId": "9402201b-6f97-4f66-a310-e5c22dc14049"
      },
      "execution_count": 77,
      "outputs": [
        {
          "output_type": "execute_result",
          "data": {
            "text/plain": [
              "60"
            ]
          },
          "metadata": {},
          "execution_count": 77
        }
      ]
    },
    {
      "cell_type": "code",
      "source": [
        "a[2:2]"
      ],
      "metadata": {
        "colab": {
          "base_uri": "https://localhost:8080/"
        },
        "id": "rN8erSg0tRZa",
        "outputId": "6d41b155-6501-4301-dc64-5d820a532b97"
      },
      "execution_count": 78,
      "outputs": [
        {
          "output_type": "execute_result",
          "data": {
            "text/plain": [
              "[]"
            ]
          },
          "metadata": {},
          "execution_count": 78
        }
      ]
    },
    {
      "cell_type": "code",
      "source": [
        "l = [2, 4, 5, 7, 8]\n",
        "print(l[5:0])"
      ],
      "metadata": {
        "colab": {
          "base_uri": "https://localhost:8080/"
        },
        "id": "JvAXO0O_tb_4",
        "outputId": "346fab6b-a29f-4f36-aa26-e5ec089eb41c"
      },
      "execution_count": 79,
      "outputs": [
        {
          "output_type": "stream",
          "name": "stdout",
          "text": [
            "[]\n"
          ]
        }
      ]
    },
    {
      "cell_type": "code",
      "source": [
        "print(l[5:0:-1])"
      ],
      "metadata": {
        "colab": {
          "base_uri": "https://localhost:8080/"
        },
        "id": "bPFWTjCit8lc",
        "outputId": "c5b75278-2666-41c3-83d5-a1d506bb78f8"
      },
      "execution_count": 80,
      "outputs": [
        {
          "output_type": "stream",
          "name": "stdout",
          "text": [
            "[8, 7, 5, 4]\n"
          ]
        }
      ]
    },
    {
      "cell_type": "markdown",
      "source": [
        "### All Immutables"
      ],
      "metadata": {
        "id": "1OL5DsIvuuaQ"
      }
    },
    {
      "cell_type": "code",
      "source": [
        "var = 10 # GLOBAL VAR:\n",
        "def funct():\n",
        "    var = 11 # we create a new local var here\n",
        "\n",
        "funct()\n",
        "print(var)"
      ],
      "metadata": {
        "colab": {
          "base_uri": "https://localhost:8080/"
        },
        "id": "lT_-k2qnuIYN",
        "outputId": "78ebb377-6e67-4965-cba4-4a275ab9ad40"
      },
      "execution_count": 81,
      "outputs": [
        {
          "output_type": "stream",
          "name": "stdout",
          "text": [
            "10\n"
          ]
        }
      ]
    },
    {
      "cell_type": "markdown",
      "source": [
        "In Mutables: we can change inside function and results will be reflected everywhere"
      ],
      "metadata": {
        "id": "7Q19WrEbu5Xh"
      }
    },
    {
      "cell_type": "code",
      "source": [
        "var = [10]\n",
        "def funct():\n",
        "    var.append(11)\n",
        "\n",
        "funct()\n",
        "print(var)"
      ],
      "metadata": {
        "colab": {
          "base_uri": "https://localhost:8080/"
        },
        "id": "OpBnPCZyuqqc",
        "outputId": "6650133f-17e1-4f16-8afb-7884ad95dfd9"
      },
      "execution_count": 82,
      "outputs": [
        {
          "output_type": "stream",
          "name": "stdout",
          "text": [
            "[10, 11]\n"
          ]
        }
      ]
    },
    {
      "cell_type": "markdown",
      "source": [
        "Map: can be used to replace any for loop"
      ],
      "metadata": {
        "id": "taMj1sL8vi6K"
      }
    },
    {
      "cell_type": "code",
      "source": [
        "list1 = [\"1\", \"2\", True]\n",
        "print(list(map(int, list1)))"
      ],
      "metadata": {
        "colab": {
          "base_uri": "https://localhost:8080/"
        },
        "id": "z1-2NKU7vBVg",
        "outputId": "84a37f28-4ddf-45bd-8568-3dd6738ac2f9"
      },
      "execution_count": 83,
      "outputs": [
        {
          "output_type": "stream",
          "name": "stdout",
          "text": [
            "[1, 2, 1]\n"
          ]
        }
      ]
    },
    {
      "cell_type": "code",
      "source": [
        "list1 = [2,3,4]\n",
        "list1_sq = []\n",
        "for i in list1:\n",
        "    list1_sq.append(i*i)\n",
        "list1_sq"
      ],
      "metadata": {
        "colab": {
          "base_uri": "https://localhost:8080/"
        },
        "id": "xQoxr0tcvu9R",
        "outputId": "37f4d44e-8140-49d5-9daf-a0b756c085de"
      },
      "execution_count": 87,
      "outputs": [
        {
          "output_type": "execute_result",
          "data": {
            "text/plain": [
              "[4, 9, 16]"
            ]
          },
          "metadata": {},
          "execution_count": 87
        }
      ]
    },
    {
      "cell_type": "code",
      "source": [
        "def sq(i):\n",
        "    return i+1\n",
        "print(sq(10))"
      ],
      "metadata": {
        "colab": {
          "base_uri": "https://localhost:8080/"
        },
        "id": "8MmOr1Mav-KU",
        "outputId": "35b7efd5-a5c6-4ed6-da27-10fb3c5463ec"
      },
      "execution_count": 95,
      "outputs": [
        {
          "output_type": "stream",
          "name": "stdout",
          "text": [
            "11\n"
          ]
        }
      ]
    },
    {
      "cell_type": "code",
      "source": [
        "list1 = [2,3,4]\n",
        "list(map(sq,list1 ))"
      ],
      "metadata": {
        "colab": {
          "base_uri": "https://localhost:8080/"
        },
        "id": "zJP6jw-SwGfM",
        "outputId": "565f1642-3925-41a7-a778-d6aeda75a60c"
      },
      "execution_count": 96,
      "outputs": [
        {
          "output_type": "execute_result",
          "data": {
            "text/plain": [
              "[3, 4, 5]"
            ]
          },
          "metadata": {},
          "execution_count": 96
        }
      ]
    },
    {
      "cell_type": "code",
      "source": [
        "str1 = \"Shubham\"\n",
        "def my_func():\n",
        "    str1 = \"Shubham Shukla\" # local var str1\n",
        "    print(str1)\n",
        "my_func()"
      ],
      "metadata": {
        "colab": {
          "base_uri": "https://localhost:8080/"
        },
        "id": "SsuCjJ45wOXm",
        "outputId": "ed581330-8c86-4d2f-a15b-be5c99a3deae"
      },
      "execution_count": 91,
      "outputs": [
        {
          "output_type": "stream",
          "name": "stdout",
          "text": [
            "Shubham Shukla\n"
          ]
        }
      ]
    },
    {
      "cell_type": "code",
      "source": [
        "print(str1)"
      ],
      "metadata": {
        "colab": {
          "base_uri": "https://localhost:8080/"
        },
        "id": "mlP5aWmHw121",
        "outputId": "e41e51dc-f3b3-4d5f-c18e-c3ae699ab612"
      },
      "execution_count": 92,
      "outputs": [
        {
          "output_type": "stream",
          "name": "stdout",
          "text": [
            "Shubham\n"
          ]
        }
      ]
    },
    {
      "cell_type": "code",
      "source": [
        "str1 = [\"Shubham\"] # Mutables\n",
        "def my_func():\n",
        "    str1.append(\"Shukla\") # local var str1\n",
        "    print(str1)\n",
        "my_func()"
      ],
      "metadata": {
        "colab": {
          "base_uri": "https://localhost:8080/"
        },
        "id": "ZYau8vNNw8uP",
        "outputId": "40a47914-ba0d-4317-a57c-b79a12f68395"
      },
      "execution_count": 93,
      "outputs": [
        {
          "output_type": "stream",
          "name": "stdout",
          "text": [
            "['Shubham', 'Shukla']\n"
          ]
        }
      ]
    },
    {
      "cell_type": "code",
      "source": [
        "print(str1)"
      ],
      "metadata": {
        "colab": {
          "base_uri": "https://localhost:8080/"
        },
        "id": "93b0HhM0xOMT",
        "outputId": "b2608ef6-13bf-469c-e4f3-e720dd177ca9"
      },
      "execution_count": 94,
      "outputs": [
        {
          "output_type": "stream",
          "name": "stdout",
          "text": [
            "['Shubham', 'Shukla']\n"
          ]
        }
      ]
    },
    {
      "cell_type": "code",
      "source": [
        "a= [10,20,30]# len(a)=3\n",
        "a[::]"
      ],
      "metadata": {
        "colab": {
          "base_uri": "https://localhost:8080/"
        },
        "id": "esb83H1qxP0x",
        "outputId": "d83ab6ac-1823-4ac5-f03b-5dab8a6eb1c8"
      },
      "execution_count": 97,
      "outputs": [
        {
          "output_type": "execute_result",
          "data": {
            "text/plain": [
              "[10, 20, 30]"
            ]
          },
          "metadata": {},
          "execution_count": 97
        }
      ]
    },
    {
      "cell_type": "code",
      "source": [
        "a[0:3:1]"
      ],
      "metadata": {
        "colab": {
          "base_uri": "https://localhost:8080/"
        },
        "id": "x0uSi-wLyP4L",
        "outputId": "0345cdbc-1e4d-4209-9b92-9853b744de6e"
      },
      "execution_count": 98,
      "outputs": [
        {
          "output_type": "execute_result",
          "data": {
            "text/plain": [
              "[10, 20, 30]"
            ]
          },
          "metadata": {},
          "execution_count": 98
        }
      ]
    },
    {
      "cell_type": "code",
      "source": [],
      "metadata": {
        "id": "5UCHGLSYyRpL"
      },
      "execution_count": null,
      "outputs": []
    }
  ]
}