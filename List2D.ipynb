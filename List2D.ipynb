{
  "nbformat": 4,
  "nbformat_minor": 0,
  "metadata": {
    "colab": {
      "provenance": [],
      "authorship_tag": "ABX9TyM3H+eNGrfnSRHnspHWrdnJ",
      "include_colab_link": true
    },
    "kernelspec": {
      "name": "python3",
      "display_name": "Python 3"
    },
    "language_info": {
      "name": "python"
    }
  },
  "cells": [
    {
      "cell_type": "markdown",
      "metadata": {
        "id": "view-in-github",
        "colab_type": "text"
      },
      "source": [
        "<a href=\"https://colab.research.google.com/github/SachinScaler/DSMLBeginnerPythonMay23/blob/main/List2D.ipynb\" target=\"_parent\"><img src=\"https://colab.research.google.com/assets/colab-badge.svg\" alt=\"Open In Colab\"/></a>"
      ]
    },
    {
      "cell_type": "code",
      "execution_count": 8,
      "metadata": {
        "colab": {
          "base_uri": "https://localhost:8080/"
        },
        "id": "LPgKzni77Dv2",
        "outputId": "1856c6b4-c33d-4b35-d2a1-930a272fa2c4"
      },
      "outputs": [
        {
          "output_type": "stream",
          "name": "stdout",
          "text": [
            "[6, 2, 3, 4, 5]\n"
          ]
        }
      ],
      "source": [
        "# Quiz\n",
        "arr = [2,3,4,5,6]\n",
        "print([arr[-1]] + arr[:-1])"
      ]
    },
    {
      "cell_type": "code",
      "source": [
        "[arr[-1]]"
      ],
      "metadata": {
        "colab": {
          "base_uri": "https://localhost:8080/"
        },
        "id": "CsQHPJOY-7Q4",
        "outputId": "d2b1dba6-4b97-4fae-c2e1-7284e6677267"
      },
      "execution_count": 9,
      "outputs": [
        {
          "output_type": "execute_result",
          "data": {
            "text/plain": [
              "[6]"
            ]
          },
          "metadata": {},
          "execution_count": 9
        }
      ]
    },
    {
      "cell_type": "code",
      "source": [
        "arr[:-1]"
      ],
      "metadata": {
        "colab": {
          "base_uri": "https://localhost:8080/"
        },
        "id": "rb_wgg9W_BZM",
        "outputId": "3950a698-c2e8-430b-8fca-0be4ef4035b5"
      },
      "execution_count": 3,
      "outputs": [
        {
          "output_type": "execute_result",
          "data": {
            "text/plain": [
              "[2, 3, 4, 5]"
            ]
          },
          "metadata": {},
          "execution_count": 3
        }
      ]
    },
    {
      "cell_type": "code",
      "source": [
        "[6]+[1,2]"
      ],
      "metadata": {
        "colab": {
          "base_uri": "https://localhost:8080/"
        },
        "id": "GvvenwBN_Csw",
        "outputId": "9a13a2ce-8c16-4372-b170-5eaa0a5fd621"
      },
      "execution_count": 10,
      "outputs": [
        {
          "output_type": "execute_result",
          "data": {
            "text/plain": [
              "[6, 1, 2]"
            ]
          },
          "metadata": {},
          "execution_count": 10
        }
      ]
    },
    {
      "cell_type": "code",
      "source": [
        "[6]"
      ],
      "metadata": {
        "colab": {
          "base_uri": "https://localhost:8080/"
        },
        "id": "IfHb9nio_N6i",
        "outputId": "d48289be-1aca-4aae-be06-9f57c2a0356c"
      },
      "execution_count": 12,
      "outputs": [
        {
          "output_type": "execute_result",
          "data": {
            "text/plain": [
              "[6]"
            ]
          },
          "metadata": {},
          "execution_count": 12
        }
      ]
    },
    {
      "cell_type": "code",
      "source": [
        "arr = [2,3,4,5,6]\n",
        "print(arr[:-1] + [arr[-2]])"
      ],
      "metadata": {
        "colab": {
          "base_uri": "https://localhost:8080/"
        },
        "id": "eRGgI94i_zDu",
        "outputId": "258cbfcf-6836-4a18-f74a-033635c42814"
      },
      "execution_count": 13,
      "outputs": [
        {
          "output_type": "stream",
          "name": "stdout",
          "text": [
            "[2, 3, 4, 5, 5]\n"
          ]
        }
      ]
    },
    {
      "cell_type": "markdown",
      "source": [
        "## Some More Functions"
      ],
      "metadata": {
        "id": "dWuYFd49Aux7"
      }
    },
    {
      "cell_type": "code",
      "source": [
        "a = [1,2,3,4,5]"
      ],
      "metadata": {
        "id": "h7P0dU1wAD4k"
      },
      "execution_count": null,
      "outputs": []
    },
    {
      "cell_type": "markdown",
      "source": [
        "Pop and Remove"
      ],
      "metadata": {
        "id": "n4vSxTOOAz7_"
      }
    },
    {
      "cell_type": "code",
      "source": [
        "a = [1,2,3,4,5]\n",
        "a.pop()\n",
        "print(a)"
      ],
      "metadata": {
        "colab": {
          "base_uri": "https://localhost:8080/"
        },
        "id": "de4MkNmpA59E",
        "outputId": "ac46d0a5-1ad3-4374-ea75-1537de070055"
      },
      "execution_count": 14,
      "outputs": [
        {
          "output_type": "stream",
          "name": "stdout",
          "text": [
            "[1, 2, 3, 4]\n"
          ]
        }
      ]
    },
    {
      "cell_type": "code",
      "source": [
        "a.pop()\n",
        "print(a)"
      ],
      "metadata": {
        "colab": {
          "base_uri": "https://localhost:8080/"
        },
        "id": "7NGqTC65BGJG",
        "outputId": "46b10bc7-36eb-46fd-fb97-90b439eb99b3"
      },
      "execution_count": 15,
      "outputs": [
        {
          "output_type": "stream",
          "name": "stdout",
          "text": [
            "[1, 2, 3]\n"
          ]
        }
      ]
    },
    {
      "cell_type": "markdown",
      "source": [
        "#### POP REMOVES ELEMENT AT A PARTICULAR INDEX"
      ],
      "metadata": {
        "id": "Y4e2Fxq4BN6T"
      }
    },
    {
      "cell_type": "code",
      "source": [
        "a = [1,2,3,4,5]\n",
        "a.pop(2)\n",
        "print(a)"
      ],
      "metadata": {
        "colab": {
          "base_uri": "https://localhost:8080/"
        },
        "id": "5j3Oa7WaBHt6",
        "outputId": "88cdd424-367f-4079-eb22-6ae13ae857d1"
      },
      "execution_count": 16,
      "outputs": [
        {
          "output_type": "stream",
          "name": "stdout",
          "text": [
            "[1, 2, 4, 5]\n"
          ]
        }
      ]
    },
    {
      "cell_type": "code",
      "source": [
        "a = [1,2,3,4,5]\n",
        "element = a.pop(3)\n",
        "print(element)"
      ],
      "metadata": {
        "colab": {
          "base_uri": "https://localhost:8080/"
        },
        "id": "Vi_G5d6HBVbh",
        "outputId": "459c4df8-a21d-442d-b912-5ded28df731f"
      },
      "execution_count": 17,
      "outputs": [
        {
          "output_type": "stream",
          "name": "stdout",
          "text": [
            "4\n"
          ]
        }
      ]
    },
    {
      "cell_type": "code",
      "source": [
        "a = ['a','b','c','d','e']\n",
        "element = a.pop(4)\n",
        "print(element)"
      ],
      "metadata": {
        "colab": {
          "base_uri": "https://localhost:8080/"
        },
        "id": "x3esps4uBmKF",
        "outputId": "d7c5020d-5f32-45de-cf6d-fccb73d9526d"
      },
      "execution_count": 18,
      "outputs": [
        {
          "output_type": "stream",
          "name": "stdout",
          "text": [
            "e\n"
          ]
        }
      ]
    },
    {
      "cell_type": "markdown",
      "source": [],
      "metadata": {
        "id": "NbYZgs8JBzJm"
      }
    },
    {
      "cell_type": "code",
      "source": [
        "a = ['a','b','c','d','e']\n",
        "element = a.pop(4,4)"
      ],
      "metadata": {
        "colab": {
          "base_uri": "https://localhost:8080/",
          "height": 184
        },
        "id": "b1zsHDw6BsMI",
        "outputId": "95639896-c628-4f36-d164-e53a532e439c"
      },
      "execution_count": 20,
      "outputs": [
        {
          "output_type": "error",
          "ename": "TypeError",
          "evalue": "ignored",
          "traceback": [
            "\u001b[0;31m---------------------------------------------------------------------------\u001b[0m",
            "\u001b[0;31mTypeError\u001b[0m                                 Traceback (most recent call last)",
            "\u001b[0;32m<ipython-input-20-7bac28b20a65>\u001b[0m in \u001b[0;36m<cell line: 2>\u001b[0;34m()\u001b[0m\n\u001b[1;32m      1\u001b[0m \u001b[0ma\u001b[0m \u001b[0;34m=\u001b[0m \u001b[0;34m[\u001b[0m\u001b[0;34m'a'\u001b[0m\u001b[0;34m,\u001b[0m\u001b[0;34m'b'\u001b[0m\u001b[0;34m,\u001b[0m\u001b[0;34m'c'\u001b[0m\u001b[0;34m,\u001b[0m\u001b[0;34m'd'\u001b[0m\u001b[0;34m,\u001b[0m\u001b[0;34m'e'\u001b[0m\u001b[0;34m]\u001b[0m\u001b[0;34m\u001b[0m\u001b[0;34m\u001b[0m\u001b[0m\n\u001b[0;32m----> 2\u001b[0;31m \u001b[0melement\u001b[0m \u001b[0;34m=\u001b[0m \u001b[0ma\u001b[0m\u001b[0;34m.\u001b[0m\u001b[0mpop\u001b[0m\u001b[0;34m(\u001b[0m\u001b[0;36m4\u001b[0m\u001b[0;34m,\u001b[0m\u001b[0;36m4\u001b[0m\u001b[0;34m)\u001b[0m\u001b[0;34m\u001b[0m\u001b[0;34m\u001b[0m\u001b[0m\n\u001b[0m",
            "\u001b[0;31mTypeError\u001b[0m: pop expected at most 1 argument, got 2"
          ]
        }
      ]
    },
    {
      "cell_type": "code",
      "source": [
        "a = ['a','b',['c','d'],'e']\n",
        "element = a.pop(2)\n",
        "print(element)"
      ],
      "metadata": {
        "colab": {
          "base_uri": "https://localhost:8080/"
        },
        "id": "sw-skesXB6E5",
        "outputId": "49a58dcf-2f73-4799-ce34-6e0fbab5e89a"
      },
      "execution_count": 21,
      "outputs": [
        {
          "output_type": "stream",
          "name": "stdout",
          "text": [
            "['c', 'd']\n"
          ]
        }
      ]
    },
    {
      "cell_type": "code",
      "source": [
        "a = ['a','b',['c','d'],'e']\n",
        "element = a.pop('a')\n",
        "print(element)"
      ],
      "metadata": {
        "colab": {
          "base_uri": "https://localhost:8080/",
          "height": 202
        },
        "id": "lYvab848CoVf",
        "outputId": "70fcdba0-6266-4f67-ef81-e501c1f14425"
      },
      "execution_count": 27,
      "outputs": [
        {
          "output_type": "error",
          "ename": "TypeError",
          "evalue": "ignored",
          "traceback": [
            "\u001b[0;31m---------------------------------------------------------------------------\u001b[0m",
            "\u001b[0;31mTypeError\u001b[0m                                 Traceback (most recent call last)",
            "\u001b[0;32m<ipython-input-27-af5dd3b4ef14>\u001b[0m in \u001b[0;36m<cell line: 2>\u001b[0;34m()\u001b[0m\n\u001b[1;32m      1\u001b[0m \u001b[0ma\u001b[0m \u001b[0;34m=\u001b[0m \u001b[0;34m[\u001b[0m\u001b[0;34m'a'\u001b[0m\u001b[0;34m,\u001b[0m\u001b[0;34m'b'\u001b[0m\u001b[0;34m,\u001b[0m\u001b[0;34m[\u001b[0m\u001b[0;34m'c'\u001b[0m\u001b[0;34m,\u001b[0m\u001b[0;34m'd'\u001b[0m\u001b[0;34m]\u001b[0m\u001b[0;34m,\u001b[0m\u001b[0;34m'e'\u001b[0m\u001b[0;34m]\u001b[0m\u001b[0;34m\u001b[0m\u001b[0;34m\u001b[0m\u001b[0m\n\u001b[0;32m----> 2\u001b[0;31m \u001b[0melement\u001b[0m \u001b[0;34m=\u001b[0m \u001b[0ma\u001b[0m\u001b[0;34m.\u001b[0m\u001b[0mpop\u001b[0m\u001b[0;34m(\u001b[0m\u001b[0;34m'a'\u001b[0m\u001b[0;34m)\u001b[0m\u001b[0;34m\u001b[0m\u001b[0;34m\u001b[0m\u001b[0m\n\u001b[0m\u001b[1;32m      3\u001b[0m \u001b[0mprint\u001b[0m\u001b[0;34m(\u001b[0m\u001b[0melement\u001b[0m\u001b[0;34m)\u001b[0m\u001b[0;34m\u001b[0m\u001b[0;34m\u001b[0m\u001b[0m\n",
            "\u001b[0;31mTypeError\u001b[0m: 'str' object cannot be interpreted as an integer"
          ]
        }
      ]
    },
    {
      "cell_type": "code",
      "source": [
        "a = ['a','b','c','d','e']\n",
        "element = a.pop(10)\n",
        "print(element)"
      ],
      "metadata": {
        "colab": {
          "base_uri": "https://localhost:8080/",
          "height": 202
        },
        "id": "FVyEyJ9cCsNY",
        "outputId": "79d171fd-d291-46ad-d4fe-db2dc4cec062"
      },
      "execution_count": 28,
      "outputs": [
        {
          "output_type": "error",
          "ename": "IndexError",
          "evalue": "ignored",
          "traceback": [
            "\u001b[0;31m---------------------------------------------------------------------------\u001b[0m",
            "\u001b[0;31mIndexError\u001b[0m                                Traceback (most recent call last)",
            "\u001b[0;32m<ipython-input-28-7c451771dfa3>\u001b[0m in \u001b[0;36m<cell line: 2>\u001b[0;34m()\u001b[0m\n\u001b[1;32m      1\u001b[0m \u001b[0ma\u001b[0m \u001b[0;34m=\u001b[0m \u001b[0;34m[\u001b[0m\u001b[0;34m'a'\u001b[0m\u001b[0;34m,\u001b[0m\u001b[0;34m'b'\u001b[0m\u001b[0;34m,\u001b[0m\u001b[0;34m'c'\u001b[0m\u001b[0;34m,\u001b[0m\u001b[0;34m'd'\u001b[0m\u001b[0;34m,\u001b[0m\u001b[0;34m'e'\u001b[0m\u001b[0;34m]\u001b[0m\u001b[0;34m\u001b[0m\u001b[0;34m\u001b[0m\u001b[0m\n\u001b[0;32m----> 2\u001b[0;31m \u001b[0melement\u001b[0m \u001b[0;34m=\u001b[0m \u001b[0ma\u001b[0m\u001b[0;34m.\u001b[0m\u001b[0mpop\u001b[0m\u001b[0;34m(\u001b[0m\u001b[0;36m10\u001b[0m\u001b[0;34m)\u001b[0m\u001b[0;34m\u001b[0m\u001b[0;34m\u001b[0m\u001b[0m\n\u001b[0m\u001b[1;32m      3\u001b[0m \u001b[0mprint\u001b[0m\u001b[0;34m(\u001b[0m\u001b[0melement\u001b[0m\u001b[0;34m)\u001b[0m\u001b[0;34m\u001b[0m\u001b[0;34m\u001b[0m\u001b[0m\n",
            "\u001b[0;31mIndexError\u001b[0m: pop index out of range"
          ]
        }
      ]
    },
    {
      "cell_type": "markdown",
      "source": [
        "Remove: Removes first occurence of element"
      ],
      "metadata": {
        "id": "s8f4FfqjCJm8"
      }
    },
    {
      "cell_type": "code",
      "source": [
        "a = ['a','b','c','d','e']\n",
        "a.remove('c')\n",
        "print(a)"
      ],
      "metadata": {
        "colab": {
          "base_uri": "https://localhost:8080/"
        },
        "id": "4EBu_qACCBHy",
        "outputId": "ee29f169-55cf-4493-e7cf-16754b8b4e49"
      },
      "execution_count": 24,
      "outputs": [
        {
          "output_type": "stream",
          "name": "stdout",
          "text": [
            "['a', 'b', 'd', 'e']\n"
          ]
        }
      ]
    },
    {
      "cell_type": "code",
      "source": [
        "a = ['a','b','c','d','e']\n",
        "a.remove(4)\n",
        "print(a)"
      ],
      "metadata": {
        "colab": {
          "base_uri": "https://localhost:8080/",
          "height": 202
        },
        "id": "gGFJy4MqCaRU",
        "outputId": "3f629986-6a00-499a-d817-e788494765f6"
      },
      "execution_count": 26,
      "outputs": [
        {
          "output_type": "error",
          "ename": "ValueError",
          "evalue": "ignored",
          "traceback": [
            "\u001b[0;31m---------------------------------------------------------------------------\u001b[0m",
            "\u001b[0;31mValueError\u001b[0m                                Traceback (most recent call last)",
            "\u001b[0;32m<ipython-input-26-6f3eaa3e4718>\u001b[0m in \u001b[0;36m<cell line: 2>\u001b[0;34m()\u001b[0m\n\u001b[1;32m      1\u001b[0m \u001b[0ma\u001b[0m \u001b[0;34m=\u001b[0m \u001b[0;34m[\u001b[0m\u001b[0;34m'a'\u001b[0m\u001b[0;34m,\u001b[0m\u001b[0;34m'b'\u001b[0m\u001b[0;34m,\u001b[0m\u001b[0;34m'c'\u001b[0m\u001b[0;34m,\u001b[0m\u001b[0;34m'd'\u001b[0m\u001b[0;34m,\u001b[0m\u001b[0;34m'e'\u001b[0m\u001b[0;34m]\u001b[0m\u001b[0;34m\u001b[0m\u001b[0;34m\u001b[0m\u001b[0m\n\u001b[0;32m----> 2\u001b[0;31m \u001b[0ma\u001b[0m\u001b[0;34m.\u001b[0m\u001b[0mremove\u001b[0m\u001b[0;34m(\u001b[0m\u001b[0;36m4\u001b[0m\u001b[0;34m)\u001b[0m\u001b[0;34m\u001b[0m\u001b[0;34m\u001b[0m\u001b[0m\n\u001b[0m\u001b[1;32m      3\u001b[0m \u001b[0mprint\u001b[0m\u001b[0;34m(\u001b[0m\u001b[0ma\u001b[0m\u001b[0;34m)\u001b[0m\u001b[0;34m\u001b[0m\u001b[0;34m\u001b[0m\u001b[0m\n",
            "\u001b[0;31mValueError\u001b[0m: list.remove(x): x not in list"
          ]
        }
      ]
    },
    {
      "cell_type": "code",
      "source": [
        "a = ['a','b','c','d','e','c']\n",
        "a.remove('c')\n",
        "print(a)"
      ],
      "metadata": {
        "colab": {
          "base_uri": "https://localhost:8080/"
        },
        "id": "YkvVtsZfCbH6",
        "outputId": "218b9849-87f3-4ff6-d9bd-79223745e1d8"
      },
      "execution_count": 29,
      "outputs": [
        {
          "output_type": "stream",
          "name": "stdout",
          "text": [
            "['a', 'b', 'd', 'e', 'c']\n"
          ]
        }
      ]
    },
    {
      "cell_type": "code",
      "source": [
        "a.remove('c')\n",
        "print(a)"
      ],
      "metadata": {
        "colab": {
          "base_uri": "https://localhost:8080/"
        },
        "id": "rnwXPGuIDBn_",
        "outputId": "ab6fc613-4949-4be3-fa2e-4f9a95146f7d"
      },
      "execution_count": 30,
      "outputs": [
        {
          "output_type": "stream",
          "name": "stdout",
          "text": [
            "['a', 'b', 'd', 'e']\n"
          ]
        }
      ]
    },
    {
      "cell_type": "code",
      "source": [
        "a.remove('c')\n",
        "print(a)"
      ],
      "metadata": {
        "colab": {
          "base_uri": "https://localhost:8080/",
          "height": 184
        },
        "id": "kjgZO284DH6S",
        "outputId": "535ebe25-a040-4b04-fa36-b8b7d582c41c"
      },
      "execution_count": 31,
      "outputs": [
        {
          "output_type": "error",
          "ename": "ValueError",
          "evalue": "ignored",
          "traceback": [
            "\u001b[0;31m---------------------------------------------------------------------------\u001b[0m",
            "\u001b[0;31mValueError\u001b[0m                                Traceback (most recent call last)",
            "\u001b[0;32m<ipython-input-31-05be3c20e887>\u001b[0m in \u001b[0;36m<cell line: 1>\u001b[0;34m()\u001b[0m\n\u001b[0;32m----> 1\u001b[0;31m \u001b[0ma\u001b[0m\u001b[0;34m.\u001b[0m\u001b[0mremove\u001b[0m\u001b[0;34m(\u001b[0m\u001b[0;34m'c'\u001b[0m\u001b[0;34m)\u001b[0m\u001b[0;34m\u001b[0m\u001b[0;34m\u001b[0m\u001b[0m\n\u001b[0m\u001b[1;32m      2\u001b[0m \u001b[0mprint\u001b[0m\u001b[0;34m(\u001b[0m\u001b[0ma\u001b[0m\u001b[0;34m)\u001b[0m\u001b[0;34m\u001b[0m\u001b[0;34m\u001b[0m\u001b[0m\n",
            "\u001b[0;31mValueError\u001b[0m: list.remove(x): x not in list"
          ]
        }
      ]
    },
    {
      "cell_type": "code",
      "source": [
        "a = ['a','b','c','d','e','c']\n",
        "a = a[::-1]\n",
        "print(a)"
      ],
      "metadata": {
        "colab": {
          "base_uri": "https://localhost:8080/"
        },
        "id": "LbW_E_UXDLNK",
        "outputId": "29b07553-2482-42a7-b304-076b96c01ae4"
      },
      "execution_count": 32,
      "outputs": [
        {
          "output_type": "stream",
          "name": "stdout",
          "text": [
            "['c', 'e', 'd', 'c', 'b', 'a']\n"
          ]
        }
      ]
    },
    {
      "cell_type": "markdown",
      "source": [
        "### index:Index of first occurence of element"
      ],
      "metadata": {
        "id": "ym21rveSDxWv"
      }
    },
    {
      "cell_type": "code",
      "source": [
        "a = ['a','b','c','d','e','c']\n",
        "print(a.index(\"e\"))"
      ],
      "metadata": {
        "colab": {
          "base_uri": "https://localhost:8080/"
        },
        "id": "0eKnzpIhDeDa",
        "outputId": "676feb5f-2e8a-4c0f-af4c-d1aefb64b379"
      },
      "execution_count": 34,
      "outputs": [
        {
          "output_type": "stream",
          "name": "stdout",
          "text": [
            "4\n"
          ]
        }
      ]
    },
    {
      "cell_type": "code",
      "source": [
        "a = ['a','b','c','d','e','c','e']\n",
        "print(a.index(\"e\"))"
      ],
      "metadata": {
        "colab": {
          "base_uri": "https://localhost:8080/"
        },
        "id": "UQYUzNHZEFE4",
        "outputId": "28e5f14b-3f0c-4fae-b390-3ac3cd00d461"
      },
      "execution_count": 35,
      "outputs": [
        {
          "output_type": "stream",
          "name": "stdout",
          "text": [
            "4\n"
          ]
        }
      ]
    },
    {
      "cell_type": "code",
      "source": [
        "a = ['a','b','c','d','e','c','e']\n",
        "print(a.index(\"f\"))"
      ],
      "metadata": {
        "colab": {
          "base_uri": "https://localhost:8080/",
          "height": 184
        },
        "id": "lLuyYZFLE6JY",
        "outputId": "07db3d02-e0fb-4590-d8c0-96468be67403"
      },
      "execution_count": 39,
      "outputs": [
        {
          "output_type": "error",
          "ename": "ValueError",
          "evalue": "ignored",
          "traceback": [
            "\u001b[0;31m---------------------------------------------------------------------------\u001b[0m",
            "\u001b[0;31mValueError\u001b[0m                                Traceback (most recent call last)",
            "\u001b[0;32m<ipython-input-39-83e0ecf9f4f6>\u001b[0m in \u001b[0;36m<cell line: 2>\u001b[0;34m()\u001b[0m\n\u001b[1;32m      1\u001b[0m \u001b[0ma\u001b[0m \u001b[0;34m=\u001b[0m \u001b[0;34m[\u001b[0m\u001b[0;34m'a'\u001b[0m\u001b[0;34m,\u001b[0m\u001b[0;34m'b'\u001b[0m\u001b[0;34m,\u001b[0m\u001b[0;34m'c'\u001b[0m\u001b[0;34m,\u001b[0m\u001b[0;34m'd'\u001b[0m\u001b[0;34m,\u001b[0m\u001b[0;34m'e'\u001b[0m\u001b[0;34m,\u001b[0m\u001b[0;34m'c'\u001b[0m\u001b[0;34m,\u001b[0m\u001b[0;34m'e'\u001b[0m\u001b[0;34m]\u001b[0m\u001b[0;34m\u001b[0m\u001b[0;34m\u001b[0m\u001b[0m\n\u001b[0;32m----> 2\u001b[0;31m \u001b[0mprint\u001b[0m\u001b[0;34m(\u001b[0m\u001b[0ma\u001b[0m\u001b[0;34m.\u001b[0m\u001b[0mindex\u001b[0m\u001b[0;34m(\u001b[0m\u001b[0;34m\"f\"\u001b[0m\u001b[0;34m)\u001b[0m\u001b[0;34m)\u001b[0m\u001b[0;34m\u001b[0m\u001b[0;34m\u001b[0m\u001b[0m\n\u001b[0m",
            "\u001b[0;31mValueError\u001b[0m: 'f' is not in list"
          ]
        }
      ]
    },
    {
      "cell_type": "code",
      "source": [
        "for i in range(len(a)):\n",
        "    if a[i]=='c':\n",
        "        print(i)\n",
        ""
      ],
      "metadata": {
        "colab": {
          "base_uri": "https://localhost:8080/"
        },
        "id": "BVK9AtSlELsv",
        "outputId": "8552d7a2-06f5-4cd6-da0c-35e3123537da"
      },
      "execution_count": 41,
      "outputs": [
        {
          "output_type": "stream",
          "name": "stdout",
          "text": [
            "2\n",
            "5\n"
          ]
        }
      ]
    },
    {
      "cell_type": "markdown",
      "source": [
        "### Count"
      ],
      "metadata": {
        "id": "WalJhvFYE1oJ"
      }
    },
    {
      "cell_type": "code",
      "source": [
        "a = ['a','b','c','d','e','c','e']\n",
        "print(a.count(\"f\"))"
      ],
      "metadata": {
        "colab": {
          "base_uri": "https://localhost:8080/"
        },
        "id": "Sn_ZNYLAEWE8",
        "outputId": "e384794b-0990-445b-ef7c-d2b410e3a284"
      },
      "execution_count": 42,
      "outputs": [
        {
          "output_type": "stream",
          "name": "stdout",
          "text": [
            "0\n"
          ]
        }
      ]
    },
    {
      "cell_type": "code",
      "source": [
        "a = ['a','b','c','d','e','c','e']\n",
        "print(a.count(\"e\")) # .function are defined class and they are known method"
      ],
      "metadata": {
        "colab": {
          "base_uri": "https://localhost:8080/"
        },
        "id": "VozzRryPFJId",
        "outputId": "1822db4a-e38b-4373-fb43-8a5da414d456"
      },
      "execution_count": 52,
      "outputs": [
        {
          "output_type": "stream",
          "name": "stdout",
          "text": [
            "2\n"
          ]
        }
      ]
    },
    {
      "cell_type": "code",
      "source": [
        "def count_ele(a,element):\n",
        "    count1= 0\n",
        "    for i in range(len(a)):\n",
        "        if a[i]==element:\n",
        "            count1+=1\n",
        "    return (count1)\n",
        "\n",
        "count_ele(a,'c') # function"
      ],
      "metadata": {
        "colab": {
          "base_uri": "https://localhost:8080/"
        },
        "id": "OYqGFO2MFLdj",
        "outputId": "caebe49b-ab43-4c3a-f984-b7a54ed6f4c2"
      },
      "execution_count": 53,
      "outputs": [
        {
          "output_type": "execute_result",
          "data": {
            "text/plain": [
              "2"
            ]
          },
          "metadata": {},
          "execution_count": 53
        }
      ]
    },
    {
      "cell_type": "code",
      "source": [
        "a = 10\n",
        "print(a)\n",
        "del a\n",
        "print(a)"
      ],
      "metadata": {
        "colab": {
          "base_uri": "https://localhost:8080/",
          "height": 219
        },
        "id": "nAiX69M5FVY4",
        "outputId": "dabdfb81-0b10-45dc-98e9-4f6fc1ed5ed9"
      },
      "execution_count": 50,
      "outputs": [
        {
          "output_type": "stream",
          "name": "stdout",
          "text": [
            "10\n"
          ]
        },
        {
          "output_type": "error",
          "ename": "NameError",
          "evalue": "ignored",
          "traceback": [
            "\u001b[0;31m---------------------------------------------------------------------------\u001b[0m",
            "\u001b[0;31mNameError\u001b[0m                                 Traceback (most recent call last)",
            "\u001b[0;32m<ipython-input-50-1aad90c7d7c3>\u001b[0m in \u001b[0;36m<cell line: 4>\u001b[0;34m()\u001b[0m\n\u001b[1;32m      2\u001b[0m \u001b[0mprint\u001b[0m\u001b[0;34m(\u001b[0m\u001b[0ma\u001b[0m\u001b[0;34m)\u001b[0m\u001b[0;34m\u001b[0m\u001b[0;34m\u001b[0m\u001b[0m\n\u001b[1;32m      3\u001b[0m \u001b[0;32mdel\u001b[0m \u001b[0ma\u001b[0m\u001b[0;34m\u001b[0m\u001b[0;34m\u001b[0m\u001b[0m\n\u001b[0;32m----> 4\u001b[0;31m \u001b[0mprint\u001b[0m\u001b[0;34m(\u001b[0m\u001b[0ma\u001b[0m\u001b[0;34m)\u001b[0m\u001b[0;34m\u001b[0m\u001b[0;34m\u001b[0m\u001b[0m\n\u001b[0m",
            "\u001b[0;31mNameError\u001b[0m: name 'a' is not defined"
          ]
        }
      ]
    },
    {
      "cell_type": "markdown",
      "source": [
        "reverse"
      ],
      "metadata": {
        "id": "FviS_QSZG3m3"
      }
    },
    {
      "cell_type": "code",
      "source": [
        "a = ['a','b','c','d','e','c','e']\n",
        "# slicing\n",
        "print(a[::-1])\n",
        "print(a)"
      ],
      "metadata": {
        "colab": {
          "base_uri": "https://localhost:8080/"
        },
        "id": "q0UcZBUNF1Ju",
        "outputId": "540c0328-9b38-43bd-b92e-d9febf18153d"
      },
      "execution_count": 59,
      "outputs": [
        {
          "output_type": "stream",
          "name": "stdout",
          "text": [
            "['e', 'c', 'e', 'd', 'c', 'b', 'a']\n",
            "['a', 'b', 'c', 'd', 'e', 'c', 'e']\n"
          ]
        }
      ]
    },
    {
      "cell_type": "code",
      "source": [
        "a = a[::-1]"
      ],
      "metadata": {
        "id": "8YT0ip90HWY1"
      },
      "execution_count": null,
      "outputs": []
    },
    {
      "cell_type": "code",
      "source": [
        "a = [1,2,3]\n",
        "a.reverse() # inplace function\n",
        "print(a)"
      ],
      "metadata": {
        "colab": {
          "base_uri": "https://localhost:8080/"
        },
        "id": "EMQzf1MSHAL6",
        "outputId": "f70fd7cf-1a14-4942-fe13-e5193bd844a0"
      },
      "execution_count": 58,
      "outputs": [
        {
          "output_type": "stream",
          "name": "stdout",
          "text": [
            "[3, 2, 1]\n"
          ]
        }
      ]
    },
    {
      "cell_type": "markdown",
      "source": [
        "SORT FUNCTION"
      ],
      "metadata": {
        "id": "YICTCuxFHoJd"
      }
    },
    {
      "cell_type": "code",
      "source": [
        "a = [4,1,2,3]\n",
        "a.sort() # inplace function\n",
        "print(a)"
      ],
      "metadata": {
        "colab": {
          "base_uri": "https://localhost:8080/"
        },
        "id": "pKk_OTaYHDtr",
        "outputId": "f967e499-0390-4614-ef1c-3fefcbb2a6a1"
      },
      "execution_count": 60,
      "outputs": [
        {
          "output_type": "stream",
          "name": "stdout",
          "text": [
            "[1, 2, 3, 4]\n"
          ]
        }
      ]
    },
    {
      "cell_type": "code",
      "source": [
        "a = [4,1,2,3]\n",
        "a = a.sort()\n",
        "print(a)"
      ],
      "metadata": {
        "colab": {
          "base_uri": "https://localhost:8080/"
        },
        "id": "UFVEihwMIhFL",
        "outputId": "6dd1a4aa-aeba-4b53-eb36-859ba8f74db2"
      },
      "execution_count": 66,
      "outputs": [
        {
          "output_type": "stream",
          "name": "stdout",
          "text": [
            "None\n"
          ]
        }
      ]
    },
    {
      "cell_type": "code",
      "source": [
        "a = [4,1,2,3]\n",
        "a = sorted(a)\n",
        "print(a)"
      ],
      "metadata": {
        "colab": {
          "base_uri": "https://localhost:8080/"
        },
        "id": "OmYRFZaMHxJB",
        "outputId": "16ab089f-a70d-4d8d-a1cf-a78ac5196071"
      },
      "execution_count": 68,
      "outputs": [
        {
          "output_type": "stream",
          "name": "stdout",
          "text": [
            "[1, 2, 3, 4]\n"
          ]
        }
      ]
    },
    {
      "cell_type": "code",
      "source": [
        "a = [1,2,3]\n",
        "b = a.copy() # b =a[:]\n",
        "print(b)"
      ],
      "metadata": {
        "colab": {
          "base_uri": "https://localhost:8080/"
        },
        "id": "n_KmHiqfH1ZU",
        "outputId": "a2d4d678-83f5-427f-fd35-4f381bdf2018"
      },
      "execution_count": 67,
      "outputs": [
        {
          "output_type": "stream",
          "name": "stdout",
          "text": [
            "[1, 2, 3]\n"
          ]
        }
      ]
    },
    {
      "cell_type": "code",
      "source": [
        "a = ['f','e','a','b','c']\n",
        "a.sort()\n",
        "print(a)"
      ],
      "metadata": {
        "colab": {
          "base_uri": "https://localhost:8080/"
        },
        "id": "BXlSV6qBIxiW",
        "outputId": "9d7d68b8-6f28-4cf5-8fbe-2e6b5c4cab41"
      },
      "execution_count": 69,
      "outputs": [
        {
          "output_type": "stream",
          "name": "stdout",
          "text": [
            "['a', 'b', 'c', 'e', 'f']\n"
          ]
        }
      ]
    },
    {
      "cell_type": "code",
      "source": [
        "a = ['f','e','a','b','c']\n",
        "a.sort(reverse = True)\n",
        "print(a)"
      ],
      "metadata": {
        "colab": {
          "base_uri": "https://localhost:8080/"
        },
        "id": "jKQ6imY7JTKO",
        "outputId": "267737cf-811c-4967-d7b4-d72b79f0afe8"
      },
      "execution_count": 70,
      "outputs": [
        {
          "output_type": "stream",
          "name": "stdout",
          "text": [
            "['f', 'e', 'c', 'b', 'a']\n"
          ]
        }
      ]
    },
    {
      "cell_type": "code",
      "source": [
        "a = ['f','e','a','b','c']\n",
        "a = sorted(a, reverse = True)\n",
        "print(a)"
      ],
      "metadata": {
        "colab": {
          "base_uri": "https://localhost:8080/"
        },
        "id": "ElmvIe0oJXIz",
        "outputId": "98e01203-d7ff-4350-f536-4b2eb9ae0f45"
      },
      "execution_count": 71,
      "outputs": [
        {
          "output_type": "stream",
          "name": "stdout",
          "text": [
            "['f', 'e', 'c', 'b', 'a']\n"
          ]
        }
      ]
    },
    {
      "cell_type": "code",
      "source": [
        "a = ['f','e','a','b','c', 1]\n",
        "a = sorted(a, reverse = True)\n",
        "print(a)"
      ],
      "metadata": {
        "colab": {
          "base_uri": "https://localhost:8080/",
          "height": 202
        },
        "id": "HFQSHsb0JbKx",
        "outputId": "fbfd24ff-691a-4d16-9b7c-8692e2eceda8"
      },
      "execution_count": 72,
      "outputs": [
        {
          "output_type": "error",
          "ename": "TypeError",
          "evalue": "ignored",
          "traceback": [
            "\u001b[0;31m---------------------------------------------------------------------------\u001b[0m",
            "\u001b[0;31mTypeError\u001b[0m                                 Traceback (most recent call last)",
            "\u001b[0;32m<ipython-input-72-2dea95677bed>\u001b[0m in \u001b[0;36m<cell line: 2>\u001b[0;34m()\u001b[0m\n\u001b[1;32m      1\u001b[0m \u001b[0ma\u001b[0m \u001b[0;34m=\u001b[0m \u001b[0;34m[\u001b[0m\u001b[0;34m'f'\u001b[0m\u001b[0;34m,\u001b[0m\u001b[0;34m'e'\u001b[0m\u001b[0;34m,\u001b[0m\u001b[0;34m'a'\u001b[0m\u001b[0;34m,\u001b[0m\u001b[0;34m'b'\u001b[0m\u001b[0;34m,\u001b[0m\u001b[0;34m'c'\u001b[0m\u001b[0;34m,\u001b[0m \u001b[0;36m1\u001b[0m\u001b[0;34m]\u001b[0m\u001b[0;34m\u001b[0m\u001b[0;34m\u001b[0m\u001b[0m\n\u001b[0;32m----> 2\u001b[0;31m \u001b[0ma\u001b[0m \u001b[0;34m=\u001b[0m \u001b[0msorted\u001b[0m\u001b[0;34m(\u001b[0m\u001b[0ma\u001b[0m\u001b[0;34m,\u001b[0m \u001b[0mreverse\u001b[0m \u001b[0;34m=\u001b[0m \u001b[0;32mTrue\u001b[0m\u001b[0;34m)\u001b[0m\u001b[0;34m\u001b[0m\u001b[0;34m\u001b[0m\u001b[0m\n\u001b[0m\u001b[1;32m      3\u001b[0m \u001b[0mprint\u001b[0m\u001b[0;34m(\u001b[0m\u001b[0ma\u001b[0m\u001b[0;34m)\u001b[0m\u001b[0;34m\u001b[0m\u001b[0;34m\u001b[0m\u001b[0m\n",
            "\u001b[0;31mTypeError\u001b[0m: '<' not supported between instances of 'str' and 'int'"
          ]
        }
      ]
    },
    {
      "cell_type": "code",
      "source": [
        "1<'a'"
      ],
      "metadata": {
        "colab": {
          "base_uri": "https://localhost:8080/",
          "height": 167
        },
        "id": "9xYBy2pDJeiX",
        "outputId": "92e77c7f-2509-41c2-f7fc-4439124e7b40"
      },
      "execution_count": 73,
      "outputs": [
        {
          "output_type": "error",
          "ename": "TypeError",
          "evalue": "ignored",
          "traceback": [
            "\u001b[0;31m---------------------------------------------------------------------------\u001b[0m",
            "\u001b[0;31mTypeError\u001b[0m                                 Traceback (most recent call last)",
            "\u001b[0;32m<ipython-input-73-126e4c86ad85>\u001b[0m in \u001b[0;36m<cell line: 1>\u001b[0;34m()\u001b[0m\n\u001b[0;32m----> 1\u001b[0;31m \u001b[0;36m1\u001b[0m\u001b[0;34m<\u001b[0m\u001b[0;34m'a'\u001b[0m\u001b[0;34m\u001b[0m\u001b[0;34m\u001b[0m\u001b[0m\n\u001b[0m",
            "\u001b[0;31mTypeError\u001b[0m: '<' not supported between instances of 'int' and 'str'"
          ]
        }
      ]
    },
    {
      "cell_type": "code",
      "source": [
        "a = ['ankit','sachin','jatin']\n",
        "a = sorted(a)\n",
        "print(a)"
      ],
      "metadata": {
        "colab": {
          "base_uri": "https://localhost:8080/"
        },
        "id": "tce7IUm9Jgca",
        "outputId": "e38d8f41-1826-4829-ded4-4546e762a8d5"
      },
      "execution_count": 75,
      "outputs": [
        {
          "output_type": "stream",
          "name": "stdout",
          "text": [
            "['ankit', 'jatin', 'sachin']\n"
          ]
        }
      ]
    },
    {
      "cell_type": "code",
      "source": [
        "a = ['ankit','aman', 'aac']\n",
        "a = sorted(a)\n",
        "print(a)"
      ],
      "metadata": {
        "colab": {
          "base_uri": "https://localhost:8080/"
        },
        "id": "wE00j2i7Jz-J",
        "outputId": "cb058ab0-1f62-47ad-e283-0f58b8363b48"
      },
      "execution_count": 76,
      "outputs": [
        {
          "output_type": "stream",
          "name": "stdout",
          "text": [
            "['aac', 'aman', 'ankit']\n"
          ]
        }
      ]
    },
    {
      "cell_type": "code",
      "source": [
        "a = ['a1kit','aman', 'aac']\n",
        "a = sorted(a)\n",
        "print(a)"
      ],
      "metadata": {
        "colab": {
          "base_uri": "https://localhost:8080/"
        },
        "id": "F1bRrV0NJ9kS",
        "outputId": "77eb1914-c581-47df-b82f-16862c0a71d2"
      },
      "execution_count": 79,
      "outputs": [
        {
          "output_type": "stream",
          "name": "stdout",
          "text": [
            "['a1kit', 'aac', 'aman']\n"
          ]
        }
      ]
    },
    {
      "cell_type": "markdown",
      "source": [
        "sorts based on ASCII Values from first position to last"
      ],
      "metadata": {
        "id": "vUI0a0PUKT97"
      }
    },
    {
      "cell_type": "code",
      "source": [
        "ord('1') # ascii value of any char"
      ],
      "metadata": {
        "colab": {
          "base_uri": "https://localhost:8080/"
        },
        "id": "kjF6kTMlKEPo",
        "outputId": "e60c7e25-93b4-4054-d0f2-d317973c31f4"
      },
      "execution_count": 77,
      "outputs": [
        {
          "output_type": "execute_result",
          "data": {
            "text/plain": [
              "49"
            ]
          },
          "metadata": {},
          "execution_count": 77
        }
      ]
    },
    {
      "cell_type": "code",
      "source": [
        "ord('m')"
      ],
      "metadata": {
        "colab": {
          "base_uri": "https://localhost:8080/"
        },
        "id": "fUjKYNb7KH9a",
        "outputId": "33f19b37-357a-405c-d083-979a4013598d"
      },
      "execution_count": 78,
      "outputs": [
        {
          "output_type": "execute_result",
          "data": {
            "text/plain": [
              "109"
            ]
          },
          "metadata": {},
          "execution_count": 78
        }
      ]
    },
    {
      "cell_type": "code",
      "source": [
        "a = ['Aman','aman']\n",
        "a = sorted(a)\n",
        "print(a)"
      ],
      "metadata": {
        "colab": {
          "base_uri": "https://localhost:8080/"
        },
        "id": "OqS7X-aNKJ-A",
        "outputId": "528d25d1-81bd-4834-f211-c5312b709985"
      },
      "execution_count": 81,
      "outputs": [
        {
          "output_type": "stream",
          "name": "stdout",
          "text": [
            "['Aman', 'aman']\n"
          ]
        }
      ]
    },
    {
      "cell_type": "code",
      "source": [
        "str(1)+('a') # 1a"
      ],
      "metadata": {
        "colab": {
          "base_uri": "https://localhost:8080/",
          "height": 36
        },
        "id": "K-D3JjRFKuSu",
        "outputId": "687f4ede-5fda-4f77-b7d0-94d56a57a620"
      },
      "execution_count": 84,
      "outputs": [
        {
          "output_type": "execute_result",
          "data": {
            "text/plain": [
              "'1a'"
            ],
            "application/vnd.google.colaboratory.intrinsic+json": {
              "type": "string"
            }
          },
          "metadata": {},
          "execution_count": 84
        }
      ]
    },
    {
      "cell_type": "code",
      "source": [
        "l = [4,1,2,3]\n",
        "l=l.sort(reverse= True)\n",
        "print(l)"
      ],
      "metadata": {
        "colab": {
          "base_uri": "https://localhost:8080/"
        },
        "id": "cgqApRV2KwE3",
        "outputId": "311558e6-dc3c-4835-c168-4a492fa59bd3"
      },
      "execution_count": 85,
      "outputs": [
        {
          "output_type": "stream",
          "name": "stdout",
          "text": [
            "None\n"
          ]
        }
      ]
    },
    {
      "cell_type": "code",
      "source": [
        "l = [4,1,2,3]\n",
        "l.sort(reverse= True)\n",
        "print(l)"
      ],
      "metadata": {
        "colab": {
          "base_uri": "https://localhost:8080/"
        },
        "id": "uGY4QpfcNGwC",
        "outputId": "9ce4cd6e-98bd-4e07-fbc7-92e10993e9e0"
      },
      "execution_count": 86,
      "outputs": [
        {
          "output_type": "stream",
          "name": "stdout",
          "text": [
            "[4, 3, 2, 1]\n"
          ]
        }
      ]
    },
    {
      "cell_type": "code",
      "source": [
        "A = [0,1,2,3,4,5]\n",
        "A.pop(1)\n",
        "A.remove(2)"
      ],
      "metadata": {
        "id": "rPYj_rJKNJTD"
      },
      "execution_count": 89,
      "outputs": []
    },
    {
      "cell_type": "code",
      "source": [
        "print(A)"
      ],
      "metadata": {
        "colab": {
          "base_uri": "https://localhost:8080/"
        },
        "id": "NbT02NtwNeWM",
        "outputId": "2ec835c4-23ee-4352-c311-043072fe566f"
      },
      "execution_count": 92,
      "outputs": [
        {
          "output_type": "stream",
          "name": "stdout",
          "text": [
            "[0, 3, 4, 5]\n"
          ]
        }
      ]
    },
    {
      "cell_type": "code",
      "source": [
        "a = [0,1, 2, 3, [4, 5], [6, 7, 8], 9]\n",
        "print(len(a))"
      ],
      "metadata": {
        "colab": {
          "base_uri": "https://localhost:8080/"
        },
        "id": "cXHKjCQxN4TM",
        "outputId": "b612899a-37d0-403e-fe57-176a383f4334"
      },
      "execution_count": 93,
      "outputs": [
        {
          "output_type": "stream",
          "name": "stdout",
          "text": [
            "7\n"
          ]
        }
      ]
    },
    {
      "cell_type": "code",
      "source": [
        "a = [1,2,3,4,5,6,-1]\n",
        "print(min(a))"
      ],
      "metadata": {
        "colab": {
          "base_uri": "https://localhost:8080/"
        },
        "id": "X_5Pju41ORnM",
        "outputId": "3b5d72c5-7d0a-48b9-965b-2f0730f99d3f"
      },
      "execution_count": 96,
      "outputs": [
        {
          "output_type": "stream",
          "name": "stdout",
          "text": [
            "-1\n"
          ]
        }
      ]
    },
    {
      "cell_type": "code",
      "source": [
        "a = [1,2,3,4,5,6,-1]\n",
        "print(max(a))"
      ],
      "metadata": {
        "colab": {
          "base_uri": "https://localhost:8080/"
        },
        "id": "rtbQjZRdQHaj",
        "outputId": "56381a6b-deb3-43ef-e481-5d741ec51666"
      },
      "execution_count": 97,
      "outputs": [
        {
          "output_type": "stream",
          "name": "stdout",
          "text": [
            "6\n"
          ]
        }
      ]
    },
    {
      "cell_type": "code",
      "source": [
        "a = [1,2,3,4,5,6,-1]\n",
        "print(sum(a))"
      ],
      "metadata": {
        "colab": {
          "base_uri": "https://localhost:8080/"
        },
        "id": "Tz7Fk1hhQMAx",
        "outputId": "5166127f-1af5-4c8c-97b8-c24d6bfea708"
      },
      "execution_count": 98,
      "outputs": [
        {
          "output_type": "stream",
          "name": "stdout",
          "text": [
            "20\n"
          ]
        }
      ]
    },
    {
      "cell_type": "code",
      "source": [
        "a = [1,2,3,4,5,6,-1]\n",
        "a.remove(max(a))\n",
        "print(max(a))"
      ],
      "metadata": {
        "colab": {
          "base_uri": "https://localhost:8080/"
        },
        "id": "c4SmUqsuQNa8",
        "outputId": "2bcf2a3a-e4e1-4f97-cb4b-91cccf0621fe"
      },
      "execution_count": 99,
      "outputs": [
        {
          "output_type": "stream",
          "name": "stdout",
          "text": [
            "5\n"
          ]
        }
      ]
    },
    {
      "cell_type": "code",
      "source": [
        "a = [1,2,3,4,5,6,-1]\n",
        "print(sum(a)/len(a))"
      ],
      "metadata": {
        "colab": {
          "base_uri": "https://localhost:8080/"
        },
        "id": "t-JsCXoXQXmV",
        "outputId": "1b3d4d8b-7285-4615-c640-dec94e712c8f"
      },
      "execution_count": 100,
      "outputs": [
        {
          "output_type": "stream",
          "name": "stdout",
          "text": [
            "2.857142857142857\n"
          ]
        }
      ]
    },
    {
      "cell_type": "code",
      "source": [
        "a.sort(reverse=True)\n",
        "a[2]"
      ],
      "metadata": {
        "colab": {
          "base_uri": "https://localhost:8080/"
        },
        "id": "BZIMh52oQeH6",
        "outputId": "85f39c5b-57ad-4c65-eb35-606094511102"
      },
      "execution_count": 103,
      "outputs": [
        {
          "output_type": "execute_result",
          "data": {
            "text/plain": [
              "4"
            ]
          },
          "metadata": {},
          "execution_count": 103
        }
      ]
    },
    {
      "cell_type": "markdown",
      "source": [
        "2D List"
      ],
      "metadata": {
        "id": "mcmevMT5RExA"
      }
    },
    {
      "cell_type": "code",
      "source": [
        "list1 = [[1,2,3],\n",
        "         [3,4,5],\n",
        "         [6,7,8]]\n",
        "print(list1)"
      ],
      "metadata": {
        "colab": {
          "base_uri": "https://localhost:8080/"
        },
        "id": "KoxT_GyvQqTL",
        "outputId": "6c832626-f199-45e8-a3b6-e81252b09e1b"
      },
      "execution_count": 106,
      "outputs": [
        {
          "output_type": "stream",
          "name": "stdout",
          "text": [
            "[[1, 2, 3], [3, 4, 5], [6, 7, 8]]\n"
          ]
        }
      ]
    },
    {
      "cell_type": "code",
      "source": [
        "list1[0]  # first row"
      ],
      "metadata": {
        "colab": {
          "base_uri": "https://localhost:8080/"
        },
        "id": "JHd6DTYjRa5F",
        "outputId": "3d0c1f58-859a-404d-9b95-5fecf4fdf3b8"
      },
      "execution_count": 107,
      "outputs": [
        {
          "output_type": "execute_result",
          "data": {
            "text/plain": [
              "[1, 2, 3]"
            ]
          },
          "metadata": {},
          "execution_count": 107
        }
      ]
    },
    {
      "cell_type": "code",
      "source": [
        "list1[1]"
      ],
      "metadata": {
        "colab": {
          "base_uri": "https://localhost:8080/"
        },
        "id": "xYo-KZLURSuc",
        "outputId": "59a84e6f-b20a-4805-938e-db9997119c5d"
      },
      "execution_count": 108,
      "outputs": [
        {
          "output_type": "execute_result",
          "data": {
            "text/plain": [
              "[3, 4, 5]"
            ]
          },
          "metadata": {},
          "execution_count": 108
        }
      ]
    },
    {
      "cell_type": "code",
      "source": [
        "list1[2]"
      ],
      "metadata": {
        "colab": {
          "base_uri": "https://localhost:8080/"
        },
        "id": "KhD_CB_QRqMr",
        "outputId": "a95dc411-dc90-4551-a110-70b7b85b4013"
      },
      "execution_count": 109,
      "outputs": [
        {
          "output_type": "execute_result",
          "data": {
            "text/plain": [
              "[6, 7, 8]"
            ]
          },
          "metadata": {},
          "execution_count": 109
        }
      ]
    },
    {
      "cell_type": "code",
      "source": [
        "list1[3]"
      ],
      "metadata": {
        "colab": {
          "base_uri": "https://localhost:8080/",
          "height": 167
        },
        "id": "iI-pHfeARrom",
        "outputId": "3c91c145-c2db-42b9-c348-6230c1daae4a"
      },
      "execution_count": 110,
      "outputs": [
        {
          "output_type": "error",
          "ename": "IndexError",
          "evalue": "ignored",
          "traceback": [
            "\u001b[0;31m---------------------------------------------------------------------------\u001b[0m",
            "\u001b[0;31mIndexError\u001b[0m                                Traceback (most recent call last)",
            "\u001b[0;32m<ipython-input-110-831b15cbf272>\u001b[0m in \u001b[0;36m<cell line: 1>\u001b[0;34m()\u001b[0m\n\u001b[0;32m----> 1\u001b[0;31m \u001b[0mlist1\u001b[0m\u001b[0;34m[\u001b[0m\u001b[0;36m3\u001b[0m\u001b[0;34m]\u001b[0m\u001b[0;34m\u001b[0m\u001b[0;34m\u001b[0m\u001b[0m\n\u001b[0m",
            "\u001b[0;31mIndexError\u001b[0m: list index out of range"
          ]
        }
      ]
    },
    {
      "cell_type": "code",
      "source": [
        "list1 = [[1,2,3],\n",
        "         [3,4,5],\n",
        "         [6,7,8]]\n",
        "print(list1)\n",
        "print(list1[0][0])  # first row"
      ],
      "metadata": {
        "colab": {
          "base_uri": "https://localhost:8080/"
        },
        "id": "PXp9asr-RuXj",
        "outputId": "edcb1266-ad16-4b0c-ab47-35de5f817bcc"
      },
      "execution_count": 111,
      "outputs": [
        {
          "output_type": "stream",
          "name": "stdout",
          "text": [
            "[[1, 2, 3], [3, 4, 5], [6, 7, 8]]\n"
          ]
        },
        {
          "output_type": "execute_result",
          "data": {
            "text/plain": [
              "1"
            ]
          },
          "metadata": {},
          "execution_count": 111
        }
      ]
    },
    {
      "cell_type": "code",
      "source": [
        "list1 = [[1,2,3],\n",
        "         [3,4,5],\n",
        "         [6,7,8]]\n",
        "print(list1[-1][0])"
      ],
      "metadata": {
        "colab": {
          "base_uri": "https://localhost:8080/"
        },
        "id": "h3Rp-67DR6AV",
        "outputId": "837c2cc4-c951-4339-c848-cd023d2efb05"
      },
      "execution_count": 112,
      "outputs": [
        {
          "output_type": "stream",
          "name": "stdout",
          "text": [
            "6\n"
          ]
        }
      ]
    },
    {
      "cell_type": "code",
      "source": [
        "list1 = [[1,2,3],\n",
        "         [3,4,5],\n",
        "         [6,7,8],\n",
        "         [9,10,11]] # rows=4 , cols =3\n",
        "print(list1[3][0])"
      ],
      "metadata": {
        "colab": {
          "base_uri": "https://localhost:8080/"
        },
        "id": "VD3chfb7SChU",
        "outputId": "482a7f84-609b-4ec0-c67e-3660d46c197f"
      },
      "execution_count": 114,
      "outputs": [
        {
          "output_type": "stream",
          "name": "stdout",
          "text": [
            "9\n"
          ]
        }
      ]
    },
    {
      "cell_type": "code",
      "source": [
        "list1[:2]"
      ],
      "metadata": {
        "colab": {
          "base_uri": "https://localhost:8080/"
        },
        "id": "zgvhak7LTPXN",
        "outputId": "1c35e96d-02e4-4628-8de5-3db36cf5cf9b"
      },
      "execution_count": 115,
      "outputs": [
        {
          "output_type": "execute_result",
          "data": {
            "text/plain": [
              "[[1, 2, 3], [3, 4, 5]]"
            ]
          },
          "metadata": {},
          "execution_count": 115
        }
      ]
    },
    {
      "cell_type": "code",
      "source": [
        "list1[-2:]"
      ],
      "metadata": {
        "colab": {
          "base_uri": "https://localhost:8080/"
        },
        "id": "u9y4NIs6TIpo",
        "outputId": "a714cf27-2185-43fd-821f-c5df20d97af3"
      },
      "execution_count": 116,
      "outputs": [
        {
          "output_type": "execute_result",
          "data": {
            "text/plain": [
              "[[6, 7, 8], [9, 10, 11]]"
            ]
          },
          "metadata": {},
          "execution_count": 116
        }
      ]
    },
    {
      "cell_type": "code",
      "source": [
        "# can i directly get column value?\n",
        "list1 = [[1,2,3],\n",
        "         [3,4,5],\n",
        "         [6,7,8],\n",
        "         [9,10,11]]"
      ],
      "metadata": {
        "colab": {
          "base_uri": "https://localhost:8080/"
        },
        "id": "VIlPU2rXTa2K",
        "outputId": "b05a1ecc-9bf7-446e-e31e-bb23109ffb1b"
      },
      "execution_count": 121,
      "outputs": [
        {
          "output_type": "execute_result",
          "data": {
            "text/plain": [
              "[1, 2, 3]"
            ]
          },
          "metadata": {},
          "execution_count": 121
        }
      ]
    },
    {
      "cell_type": "markdown",
      "source": [
        "Iteration over 2D List"
      ],
      "metadata": {
        "id": "pp5G1lOhUCSo"
      }
    },
    {
      "cell_type": "code",
      "source": [
        "list1 = [[1,2,3],\n",
        "         [3,4,5],\n",
        "         [6,7,8],\n",
        "         [9,10,11]]\n",
        "print(\"rows\",len(list1))\n",
        "print(\"cols\",len(list1[0]))"
      ],
      "metadata": {
        "colab": {
          "base_uri": "https://localhost:8080/"
        },
        "id": "LRAyH1QQUNbm",
        "outputId": "4c74963d-8611-48fa-ec58-5d0d22cb11fe"
      },
      "execution_count": 127,
      "outputs": [
        {
          "output_type": "stream",
          "name": "stdout",
          "text": [
            "rows 4\n",
            "cols 3\n"
          ]
        }
      ]
    },
    {
      "cell_type": "code",
      "source": [],
      "metadata": {
        "id": "9vGGvxtGUTkE"
      },
      "execution_count": null,
      "outputs": []
    },
    {
      "cell_type": "code",
      "source": [
        "list1 = [[1,2,3],\n",
        "         [3,4,5],\n",
        "         [6,7,8],\n",
        "         [9,10,11]]\n",
        "\n",
        "rows = len(list1)\n",
        "cols = len(list1[0])\n",
        "for i in range(rows):\n",
        "    for j in range(cols):\n",
        "        print(\"Index: \",i,j,\"Element: \", list1[i][j])"
      ],
      "metadata": {
        "colab": {
          "base_uri": "https://localhost:8080/"
        },
        "id": "B2sFG8foTj7n",
        "outputId": "88c68e1c-a5e3-4a1a-f48d-7d32875b98ba"
      },
      "execution_count": 131,
      "outputs": [
        {
          "output_type": "stream",
          "name": "stdout",
          "text": [
            "Index:  0 0 Element:  1\n",
            "Index:  0 1 Element:  2\n",
            "Index:  0 2 Element:  3\n",
            "Index:  1 0 Element:  3\n",
            "Index:  1 1 Element:  4\n",
            "Index:  1 2 Element:  5\n",
            "Index:  2 0 Element:  6\n",
            "Index:  2 1 Element:  7\n",
            "Index:  2 2 Element:  8\n",
            "Index:  3 0 Element:  9\n",
            "Index:  3 1 Element:  10\n",
            "Index:  3 2 Element:  11\n"
          ]
        }
      ]
    },
    {
      "cell_type": "markdown",
      "source": [
        "### Homework\n",
        "- print only columns\n",
        "-  extract diagonals in a new list\n",
        "- tranpose the matrix: new_matrix[j][i]= input_matrix[i][j]"
      ],
      "metadata": {
        "id": "otxAyojeWE7y"
      }
    },
    {
      "cell_type": "code",
      "source": [
        "input_matrix = 3X4"
      ],
      "metadata": {
        "id": "Cu9_c-4rV0fv"
      },
      "execution_count": null,
      "outputs": []
    },
    {
      "cell_type": "code",
      "source": [
        "list1 = [[[1,2],[2,3],[4,3]],\n",
        "         [[3,5],[4,5],[5,6]],\n",
        "         [[6,7],[7,6],[8,4]]\n",
        "         ]\n",
        "\n",
        "# iterate over all elements"
      ],
      "metadata": {
        "id": "I5FmvylsU78l"
      },
      "execution_count": 133,
      "outputs": []
    },
    {
      "cell_type": "code",
      "source": [
        "dictionary = {1:\"Sachin\", 2:\"Navin\"}\n",
        "list(dictionary)"
      ],
      "metadata": {
        "colab": {
          "base_uri": "https://localhost:8080/"
        },
        "id": "EPceUpJ-VqIM",
        "outputId": "b4b6d2c5-fa74-4ae9-857b-c5c68d4f160b"
      },
      "execution_count": 134,
      "outputs": [
        {
          "output_type": "execute_result",
          "data": {
            "text/plain": [
              "[1, 2]"
            ]
          },
          "metadata": {},
          "execution_count": 134
        }
      ]
    },
    {
      "cell_type": "code",
      "source": [
        "list(dictionary.keys())"
      ],
      "metadata": {
        "colab": {
          "base_uri": "https://localhost:8080/"
        },
        "id": "8Y_KXYyBXbI9",
        "outputId": "6ad4e127-e433-456e-f6df-77636c8725d2"
      },
      "execution_count": 137,
      "outputs": [
        {
          "output_type": "execute_result",
          "data": {
            "text/plain": [
              "[1, 2]"
            ]
          },
          "metadata": {},
          "execution_count": 137
        }
      ]
    },
    {
      "cell_type": "code",
      "source": [
        "list(dictionary.values())"
      ],
      "metadata": {
        "colab": {
          "base_uri": "https://localhost:8080/"
        },
        "id": "huTsFexJXT5u",
        "outputId": "1bcc62da-54b3-431f-e4a1-a521b9468a42"
      },
      "execution_count": 136,
      "outputs": [
        {
          "output_type": "execute_result",
          "data": {
            "text/plain": [
              "['Sachin', 'Navin']"
            ]
          },
          "metadata": {},
          "execution_count": 136
        }
      ]
    },
    {
      "cell_type": "code",
      "source": [
        "list(dictionary.items())"
      ],
      "metadata": {
        "colab": {
          "base_uri": "https://localhost:8080/"
        },
        "id": "5_aGituvXX5m",
        "outputId": "e54b2602-2aa5-4fea-ed92-f63d2f0e1933"
      },
      "execution_count": 138,
      "outputs": [
        {
          "output_type": "execute_result",
          "data": {
            "text/plain": [
              "[(1, 'Sachin'), (2, 'Navin')]"
            ]
          },
          "metadata": {},
          "execution_count": 138
        }
      ]
    },
    {
      "cell_type": "markdown",
      "source": [
        "After a 20 minute adventure with Rick, Morty decided to take a vacation from their inter - galactic exploration.\n",
        "He decided to do the chores for their house today. Beth gave Morty a shopping list represent in the form of an array A of length M.\n",
        "Morty had to bring A[i] copies of i, for all 1 <= i <= M.\n",
        "\n",
        "Morty visits a shop where all the items were numbered from 1 to M and represented in the form of an array B of length N.\n",
        "The shopkeeper told Morty the rules for shopping. He will have to buy a subarray of B, and pay 1 coin for each item that he will not need.\n",
        "For example, if A = [1, 2] means Morty needs [1, 2, 2]. If B = [2, 1, 2, 1, 1, 2, 1, 1], then Morty can buy the subarray [2, 1, 2] or [2, 1, 1, 2].\n",
        "The first will cost him 0 coins and the second will cost him 1 coin (because he needs only a single 1.)\n",
        "\n",
        "Find the minimum number of coins Morty has to pay. If the shopkeeper does not have the minimum requirements in Morty's shopping list, return -1."
      ],
      "metadata": {
        "id": "ze1HCFb6Yqmx"
      }
    },
    {
      "cell_type": "code",
      "source": [
        "A = [1,2,2]\n",
        "shopping_list = [1,2,2,3,3]\n"
      ],
      "metadata": {
        "id": "SXT8OTlVYuNC"
      },
      "execution_count": null,
      "outputs": []
    },
    {
      "cell_type": "code",
      "source": [
        "A = [2, 1]\n",
        "shopping_list = [1,1,2]"
      ],
      "metadata": {
        "id": "PxkO5V2-XfJa"
      },
      "execution_count": null,
      "outputs": []
    },
    {
      "cell_type": "code",
      "source": [
        "A = [1,3,2]\n",
        "shopping_list = [1,2,2,3,3]\n"
      ],
      "metadata": {
        "id": "-WAb1NrAY6Ll"
      },
      "execution_count": null,
      "outputs": []
    },
    {
      "cell_type": "code",
      "source": [
        "A=[1,2]\n",
        "s_list = []\n",
        "for i in range(len(A)):\n",
        "    s_list.extend([i+1]*A[i])\n",
        "s_list"
      ],
      "metadata": {
        "colab": {
          "base_uri": "https://localhost:8080/"
        },
        "id": "m3veWlcHZCEt",
        "outputId": "9a8d1260-ed98-431e-b1f8-e64a321bfbfe"
      },
      "execution_count": 143,
      "outputs": [
        {
          "output_type": "execute_result",
          "data": {
            "text/plain": [
              "[1, 2, 2]"
            ]
          },
          "metadata": {},
          "execution_count": 143
        }
      ]
    },
    {
      "cell_type": "code",
      "source": [
        "A = [1,2,3]\n",
        "s_list = []\n",
        "for i in range(len(A)):\n",
        "    s_list.extend([i+1]*A[i])\n",
        "s_list"
      ],
      "metadata": {
        "colab": {
          "base_uri": "https://localhost:8080/"
        },
        "id": "6V7ttm5hZN1N",
        "outputId": "c0369180-6947-441b-86b3-6ad3aca53288"
      },
      "execution_count": 145,
      "outputs": [
        {
          "output_type": "execute_result",
          "data": {
            "text/plain": [
              "[1, 2, 2, 3, 3, 3]"
            ]
          },
          "metadata": {},
          "execution_count": 145
        }
      ]
    },
    {
      "cell_type": "markdown",
      "source": [
        "sl = [1, 2, 2]\n",
        "B = [2, 1, 1, 1, 1, 2, 1, 1]"
      ],
      "metadata": {
        "id": "8FdpBBOHZ_sM"
      }
    },
    {
      "cell_type": "code",
      "source": [
        "B = [2, 1, 1, 1, 1, 2, 1, 1,4]\n",
        "for i in range(len(B)):\n",
        "    for j in range(i+1, len(B)+1):\n",
        "        sub =B[i:j]\n",
        "        print(i,j,sub)"
      ],
      "metadata": {
        "colab": {
          "base_uri": "https://localhost:8080/"
        },
        "id": "_27Vas6OZlm4",
        "outputId": "a27e339d-39f9-4928-bd9e-03c3487764ad"
      },
      "execution_count": 149,
      "outputs": [
        {
          "output_type": "stream",
          "name": "stdout",
          "text": [
            "0 1 [2]\n",
            "0 2 [2, 1]\n",
            "0 3 [2, 1, 1]\n",
            "0 4 [2, 1, 1, 1]\n",
            "0 5 [2, 1, 1, 1, 1]\n",
            "0 6 [2, 1, 1, 1, 1, 2]\n",
            "0 7 [2, 1, 1, 1, 1, 2, 1]\n",
            "0 8 [2, 1, 1, 1, 1, 2, 1, 1]\n",
            "0 9 [2, 1, 1, 1, 1, 2, 1, 1, 4]\n",
            "1 2 [1]\n",
            "1 3 [1, 1]\n",
            "1 4 [1, 1, 1]\n",
            "1 5 [1, 1, 1, 1]\n",
            "1 6 [1, 1, 1, 1, 2]\n",
            "1 7 [1, 1, 1, 1, 2, 1]\n",
            "1 8 [1, 1, 1, 1, 2, 1, 1]\n",
            "1 9 [1, 1, 1, 1, 2, 1, 1, 4]\n",
            "2 3 [1]\n",
            "2 4 [1, 1]\n",
            "2 5 [1, 1, 1]\n",
            "2 6 [1, 1, 1, 2]\n",
            "2 7 [1, 1, 1, 2, 1]\n",
            "2 8 [1, 1, 1, 2, 1, 1]\n",
            "2 9 [1, 1, 1, 2, 1, 1, 4]\n",
            "3 4 [1]\n",
            "3 5 [1, 1]\n",
            "3 6 [1, 1, 2]\n",
            "3 7 [1, 1, 2, 1]\n",
            "3 8 [1, 1, 2, 1, 1]\n",
            "3 9 [1, 1, 2, 1, 1, 4]\n",
            "4 5 [1]\n",
            "4 6 [1, 2]\n",
            "4 7 [1, 2, 1]\n",
            "4 8 [1, 2, 1, 1]\n",
            "4 9 [1, 2, 1, 1, 4]\n",
            "5 6 [2]\n",
            "5 7 [2, 1]\n",
            "5 8 [2, 1, 1]\n",
            "5 9 [2, 1, 1, 4]\n",
            "6 7 [1]\n",
            "6 8 [1, 1]\n",
            "6 9 [1, 1, 4]\n",
            "7 8 [1]\n",
            "7 9 [1, 4]\n",
            "8 9 [4]\n"
          ]
        }
      ]
    },
    {
      "cell_type": "code",
      "source": [
        "A=[1,2]\n",
        "s_list = []\n",
        "for i in range(len(A)):\n",
        "    s_list.extend([i+1]*A[i])\n",
        "s_list"
      ],
      "metadata": {
        "colab": {
          "base_uri": "https://localhost:8080/"
        },
        "id": "t_NTwGTwbeN6",
        "outputId": "dfe1676a-f7c5-400a-c8fc-d4f073ef50d4"
      },
      "execution_count": 150,
      "outputs": [
        {
          "output_type": "execute_result",
          "data": {
            "text/plain": [
              "[1, 2, 2]"
            ]
          },
          "metadata": {},
          "execution_count": 150
        }
      ]
    },
    {
      "cell_type": "code",
      "source": [
        "B = [2, 1, 2, 1, 1, 2, 1, 1,4]\n",
        "for i in range(len(B)):\n",
        "    for j in range(i+1, len(B)+1):\n",
        "        sub =B[i:j]\n",
        "        print(s_list,sub)"
      ],
      "metadata": {
        "colab": {
          "base_uri": "https://localhost:8080/"
        },
        "id": "LBGOVEhpaxaM",
        "outputId": "ba97c9ab-6d1f-4c33-e977-fdb65c1c043c"
      },
      "execution_count": 152,
      "outputs": [
        {
          "output_type": "stream",
          "name": "stdout",
          "text": [
            "[1, 2, 2] [2]\n",
            "[1, 2, 2] [2, 1]\n",
            "[1, 2, 2] [2, 1, 2]\n",
            "[1, 2, 2] [2, 1, 2, 1]\n",
            "[1, 2, 2] [2, 1, 2, 1, 1]\n",
            "[1, 2, 2] [2, 1, 2, 1, 1, 2]\n",
            "[1, 2, 2] [2, 1, 2, 1, 1, 2, 1]\n",
            "[1, 2, 2] [2, 1, 2, 1, 1, 2, 1, 1]\n",
            "[1, 2, 2] [2, 1, 2, 1, 1, 2, 1, 1, 4]\n",
            "[1, 2, 2] [1]\n",
            "[1, 2, 2] [1, 2]\n",
            "[1, 2, 2] [1, 2, 1]\n",
            "[1, 2, 2] [1, 2, 1, 1]\n",
            "[1, 2, 2] [1, 2, 1, 1, 2]\n",
            "[1, 2, 2] [1, 2, 1, 1, 2, 1]\n",
            "[1, 2, 2] [1, 2, 1, 1, 2, 1, 1]\n",
            "[1, 2, 2] [1, 2, 1, 1, 2, 1, 1, 4]\n",
            "[1, 2, 2] [2]\n",
            "[1, 2, 2] [2, 1]\n",
            "[1, 2, 2] [2, 1, 1]\n",
            "[1, 2, 2] [2, 1, 1, 2]\n",
            "[1, 2, 2] [2, 1, 1, 2, 1]\n",
            "[1, 2, 2] [2, 1, 1, 2, 1, 1]\n",
            "[1, 2, 2] [2, 1, 1, 2, 1, 1, 4]\n",
            "[1, 2, 2] [1]\n",
            "[1, 2, 2] [1, 1]\n",
            "[1, 2, 2] [1, 1, 2]\n",
            "[1, 2, 2] [1, 1, 2, 1]\n",
            "[1, 2, 2] [1, 1, 2, 1, 1]\n",
            "[1, 2, 2] [1, 1, 2, 1, 1, 4]\n",
            "[1, 2, 2] [1]\n",
            "[1, 2, 2] [1, 2]\n",
            "[1, 2, 2] [1, 2, 1]\n",
            "[1, 2, 2] [1, 2, 1, 1]\n",
            "[1, 2, 2] [1, 2, 1, 1, 4]\n",
            "[1, 2, 2] [2]\n",
            "[1, 2, 2] [2, 1]\n",
            "[1, 2, 2] [2, 1, 1]\n",
            "[1, 2, 2] [2, 1, 1, 4]\n",
            "[1, 2, 2] [1]\n",
            "[1, 2, 2] [1, 1]\n",
            "[1, 2, 2] [1, 1, 4]\n",
            "[1, 2, 2] [1]\n",
            "[1, 2, 2] [1, 4]\n",
            "[1, 2, 2] [4]\n"
          ]
        }
      ]
    },
    {
      "cell_type": "code",
      "source": [],
      "metadata": {
        "id": "PtobpPPTbii9"
      },
      "execution_count": null,
      "outputs": []
    }
  ]
}