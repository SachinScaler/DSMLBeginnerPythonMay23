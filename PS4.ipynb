{
  "nbformat": 4,
  "nbformat_minor": 0,
  "metadata": {
    "colab": {
      "provenance": [],
      "authorship_tag": "ABX9TyPxFY9KxoDMhnDZwvgsE+nd",
      "include_colab_link": true
    },
    "kernelspec": {
      "name": "python3",
      "display_name": "Python 3"
    },
    "language_info": {
      "name": "python"
    }
  },
  "cells": [
    {
      "cell_type": "markdown",
      "metadata": {
        "id": "view-in-github",
        "colab_type": "text"
      },
      "source": [
        "<a href=\"https://colab.research.google.com/github/SachinScaler/DSMLBeginnerPythonMay23/blob/main/PS4.ipynb\" target=\"_parent\"><img src=\"https://colab.research.google.com/assets/colab-badge.svg\" alt=\"Open In Colab\"/></a>"
      ]
    },
    {
      "cell_type": "code",
      "execution_count": 3,
      "metadata": {
        "colab": {
          "base_uri": "https://localhost:8080/"
        },
        "id": "FixnyOIzA3hu",
        "outputId": "a1322c0d-364d-4a4d-f441-a4efa71a6129"
      },
      "outputs": [
        {
          "output_type": "stream",
          "name": "stdout",
          "text": [
            "25\n",
            "25\n",
            "50\n",
            "100\n"
          ]
        }
      ],
      "source": [
        "dict1 = {\"x\":25, \"y\" :25 ,\"z\": 50}\n",
        "sum1=0\n",
        "for k in dict1:\n",
        "    print(dict1[k])\n",
        "    sum1+=dict1[k]\n",
        "print(sum1)"
      ]
    },
    {
      "cell_type": "code",
      "source": [
        "dict1 = {\"x\":25, \"y\" :25 ,\"z\": 50}\n",
        "for k,v in dict1.items():\n",
        "    print(v)"
      ],
      "metadata": {
        "colab": {
          "base_uri": "https://localhost:8080/"
        },
        "id": "DS6n0MmZDAc6",
        "outputId": "09dfbcd2-1eeb-48ef-ba15-92bc7decaf9b"
      },
      "execution_count": 2,
      "outputs": [
        {
          "output_type": "stream",
          "name": "stdout",
          "text": [
            "25\n",
            "25\n",
            "50\n"
          ]
        }
      ]
    },
    {
      "cell_type": "code",
      "source": [
        "sum(dict1.values())"
      ],
      "metadata": {
        "colab": {
          "base_uri": "https://localhost:8080/"
        },
        "id": "MYZXEOGgDFIT",
        "outputId": "a8f5b80c-75a7-49d7-ce97-5b6711a256b6"
      },
      "execution_count": 6,
      "outputs": [
        {
          "output_type": "execute_result",
          "data": {
            "text/plain": [
              "100"
            ]
          },
          "metadata": {},
          "execution_count": 6
        }
      ]
    },
    {
      "cell_type": "code",
      "source": [
        "max(dict1.keys())"
      ],
      "metadata": {
        "colab": {
          "base_uri": "https://localhost:8080/",
          "height": 36
        },
        "id": "hem91A_GDYyI",
        "outputId": "bcfc6878-f908-4aef-b122-25f996daa76f"
      },
      "execution_count": 7,
      "outputs": [
        {
          "output_type": "execute_result",
          "data": {
            "text/plain": [
              "'z'"
            ],
            "application/vnd.google.colaboratory.intrinsic+json": {
              "type": "string"
            }
          },
          "metadata": {},
          "execution_count": 7
        }
      ]
    },
    {
      "cell_type": "markdown",
      "source": [
        "### \"AABC\"--> {\"A\":2,\"B\":1,\"C\":1}"
      ],
      "metadata": {
        "id": "n8sw89V5EKTe"
      }
    },
    {
      "cell_type": "code",
      "source": [
        "str1=\"BCAA\"\n",
        "dict1={}\n",
        "for char in str1:\n",
        "    if (char) not in dict1:\n",
        "        dict1[char]=1\n",
        "    else:\n",
        "        dict1[char]+=1\n",
        "dict1"
      ],
      "metadata": {
        "colab": {
          "base_uri": "https://localhost:8080/"
        },
        "id": "sRVZCy6tD5CF",
        "outputId": "0b4458a8-61f0-42dc-a02d-e43eec2ee6c5"
      },
      "execution_count": 14,
      "outputs": [
        {
          "output_type": "execute_result",
          "data": {
            "text/plain": [
              "{'B': 1, 'C': 1, 'A': 2}"
            ]
          },
          "metadata": {},
          "execution_count": 14
        }
      ]
    },
    {
      "cell_type": "code",
      "source": [
        "dict2={}\n",
        "for i in \"ABCDE\":\n",
        "    if i in dict1:\n",
        "        dict2[i]=dict1[i]\n",
        "dict2"
      ],
      "metadata": {
        "colab": {
          "base_uri": "https://localhost:8080/"
        },
        "id": "P3G7-73kDbbt",
        "outputId": "b1ac70af-9172-421e-c290-03febd4fc6ea"
      },
      "execution_count": 17,
      "outputs": [
        {
          "output_type": "execute_result",
          "data": {
            "text/plain": [
              "{'A': 2, 'B': 1, 'C': 1}"
            ]
          },
          "metadata": {},
          "execution_count": 17
        }
      ]
    },
    {
      "cell_type": "markdown",
      "source": [
        "Frequency of words"
      ],
      "metadata": {
        "id": "iXEV0rT2Gp_O"
      }
    },
    {
      "cell_type": "code",
      "source": [
        "str1=\"I AM GOOD ARE YOU GOOD\" #-->{\"I\":1, \"AM\":1,  \"GOOD\":2, \"ARE\":1}\n",
        "str1 = str1.split()\n",
        "\n",
        "dict1={}\n",
        "for char in str1:\n",
        "    if (char) not in dict1:\n",
        "        dict1[char]=1 # intialize\n",
        "    else:\n",
        "        dict1[char]+=1 # increment\n",
        "dict1"
      ],
      "metadata": {
        "colab": {
          "base_uri": "https://localhost:8080/"
        },
        "id": "jf5KpIftFibT",
        "outputId": "9f50c725-cb50-46a9-80d4-a706ca933b5d"
      },
      "execution_count": 19,
      "outputs": [
        {
          "output_type": "execute_result",
          "data": {
            "text/plain": [
              "{'I': 1, 'AM': 1, 'GOOD': 2, 'ARE': 1, 'YOU': 1}"
            ]
          },
          "metadata": {},
          "execution_count": 19
        }
      ]
    },
    {
      "cell_type": "markdown",
      "source": [
        "https://www.scaler.com/hire/test/problem/22407/"
      ],
      "metadata": {
        "id": "ZfAaS-fEHZM0"
      }
    },
    {
      "cell_type": "code",
      "source": [
        "sent1 = \"in data analysis we use data and process it further to create better interpreted data\"\n",
        "sent2 = \"more and more data will be passively collected\""
      ],
      "metadata": {
        "id": "A4keIJr_HWA4"
      },
      "execution_count": 21,
      "outputs": []
    },
    {
      "cell_type": "code",
      "source": [
        "set(sent1.split())"
      ],
      "metadata": {
        "colab": {
          "base_uri": "https://localhost:8080/"
        },
        "id": "ufcEg5QWG4oZ",
        "outputId": "b2442e94-183d-4eb4-ae10-4a0065b803b3"
      },
      "execution_count": 23,
      "outputs": [
        {
          "output_type": "execute_result",
          "data": {
            "text/plain": [
              "{'analysis',\n",
              " 'and',\n",
              " 'better',\n",
              " 'create',\n",
              " 'data',\n",
              " 'further',\n",
              " 'in',\n",
              " 'interpreted',\n",
              " 'it',\n",
              " 'process',\n",
              " 'to',\n",
              " 'use',\n",
              " 'we'}"
            ]
          },
          "metadata": {},
          "execution_count": 23
        }
      ]
    },
    {
      "cell_type": "code",
      "source": [
        "set(sent2.split())"
      ],
      "metadata": {
        "colab": {
          "base_uri": "https://localhost:8080/"
        },
        "id": "KQEZAUSnHyJT",
        "outputId": "4193fcf7-42c7-43c6-c3c8-44e80c683c9d"
      },
      "execution_count": 24,
      "outputs": [
        {
          "output_type": "execute_result",
          "data": {
            "text/plain": [
              "{'and', 'be', 'collected', 'data', 'more', 'passively', 'will'}"
            ]
          },
          "metadata": {},
          "execution_count": 24
        }
      ]
    },
    {
      "cell_type": "code",
      "source": [
        "len(set(sent1.split())) +len(set(sent2.split()))"
      ],
      "metadata": {
        "colab": {
          "base_uri": "https://localhost:8080/"
        },
        "id": "6sMbUhHhIA90",
        "outputId": "f6dd8262-2e6f-4bf1-b290-62eebbc9a37e"
      },
      "execution_count": 25,
      "outputs": [
        {
          "output_type": "execute_result",
          "data": {
            "text/plain": [
              "20"
            ]
          },
          "metadata": {},
          "execution_count": 25
        }
      ]
    },
    {
      "cell_type": "code",
      "source": [
        "len(set((sent1+\" \"+sent2).split()))"
      ],
      "metadata": {
        "colab": {
          "base_uri": "https://localhost:8080/"
        },
        "id": "nzbitaPYIGD8",
        "outputId": "d0fdb46c-4a0d-488a-c212-3fdd29add298"
      },
      "execution_count": 30,
      "outputs": [
        {
          "output_type": "execute_result",
          "data": {
            "text/plain": [
              "18"
            ]
          },
          "metadata": {},
          "execution_count": 30
        }
      ]
    },
    {
      "cell_type": "code",
      "source": [
        "set1 = set(sent1.split())\n",
        "set2 = set(sent2.split())\n",
        "len(set1 | set2)"
      ],
      "metadata": {
        "colab": {
          "base_uri": "https://localhost:8080/"
        },
        "id": "WyJ51OsoIdH2",
        "outputId": "aee612b0-267d-441a-f721-76e79180d36b"
      },
      "execution_count": 34,
      "outputs": [
        {
          "output_type": "execute_result",
          "data": {
            "text/plain": [
              "18"
            ]
          },
          "metadata": {},
          "execution_count": 34
        }
      ]
    },
    {
      "cell_type": "code",
      "source": [
        "set1.update(set2)\n",
        "set1"
      ],
      "metadata": {
        "colab": {
          "base_uri": "https://localhost:8080/"
        },
        "id": "5TYVpW9aJAL8",
        "outputId": "6b20e527-8cc1-4e34-c2b3-528dec273673"
      },
      "execution_count": 37,
      "outputs": [
        {
          "output_type": "execute_result",
          "data": {
            "text/plain": [
              "{'analysis',\n",
              " 'and',\n",
              " 'be',\n",
              " 'better',\n",
              " 'collected',\n",
              " 'create',\n",
              " 'data',\n",
              " 'further',\n",
              " 'in',\n",
              " 'interpreted',\n",
              " 'it',\n",
              " 'more',\n",
              " 'passively',\n",
              " 'process',\n",
              " 'to',\n",
              " 'use',\n",
              " 'we',\n",
              " 'will'}"
            ]
          },
          "metadata": {},
          "execution_count": 37
        }
      ]
    },
    {
      "cell_type": "code",
      "source": [
        "max(1,2,3)"
      ],
      "metadata": {
        "colab": {
          "base_uri": "https://localhost:8080/"
        },
        "id": "tFODefG9JR9z",
        "outputId": "f23a63c2-3e2f-4540-dc54-d921b7cf2dca"
      },
      "execution_count": 38,
      "outputs": [
        {
          "output_type": "execute_result",
          "data": {
            "text/plain": [
              "3"
            ]
          },
          "metadata": {},
          "execution_count": 38
        }
      ]
    },
    {
      "cell_type": "code",
      "source": [
        "1<2"
      ],
      "metadata": {
        "colab": {
          "base_uri": "https://localhost:8080/"
        },
        "id": "-ZyGxJGfKEP5",
        "outputId": "65c9c3a5-a7cb-4b20-de6e-73570154b654"
      },
      "execution_count": 39,
      "outputs": [
        {
          "output_type": "execute_result",
          "data": {
            "text/plain": [
              "True"
            ]
          },
          "metadata": {},
          "execution_count": 39
        }
      ]
    },
    {
      "cell_type": "code",
      "source": [
        "max(\"A\",\"B\",\"C\")"
      ],
      "metadata": {
        "colab": {
          "base_uri": "https://localhost:8080/",
          "height": 36
        },
        "id": "1YvpT-JoKGRR",
        "outputId": "60621d6e-7ef9-43ee-8d06-66747207d12f"
      },
      "execution_count": 40,
      "outputs": [
        {
          "output_type": "execute_result",
          "data": {
            "text/plain": [
              "'C'"
            ],
            "application/vnd.google.colaboratory.intrinsic+json": {
              "type": "string"
            }
          },
          "metadata": {},
          "execution_count": 40
        }
      ]
    },
    {
      "cell_type": "code",
      "source": [
        "\"A\"<\"C\""
      ],
      "metadata": {
        "colab": {
          "base_uri": "https://localhost:8080/"
        },
        "id": "zRgpQKYFKKHl",
        "outputId": "960574c3-ced4-4293-814d-cfab62f5eb30"
      },
      "execution_count": 41,
      "outputs": [
        {
          "output_type": "execute_result",
          "data": {
            "text/plain": [
              "True"
            ]
          },
          "metadata": {},
          "execution_count": 41
        }
      ]
    },
    {
      "cell_type": "code",
      "source": [
        "1<\"A\""
      ],
      "metadata": {
        "colab": {
          "base_uri": "https://localhost:8080/",
          "height": 168
        },
        "id": "aoyCzni3KMpr",
        "outputId": "763e63af-b1ab-4d23-ca0a-068d6a817af6"
      },
      "execution_count": 42,
      "outputs": [
        {
          "output_type": "error",
          "ename": "TypeError",
          "evalue": "ignored",
          "traceback": [
            "\u001b[0;31m---------------------------------------------------------------------------\u001b[0m",
            "\u001b[0;31mTypeError\u001b[0m                                 Traceback (most recent call last)",
            "\u001b[0;32m<ipython-input-42-a2f40cc82285>\u001b[0m in \u001b[0;36m<cell line: 1>\u001b[0;34m()\u001b[0m\n\u001b[0;32m----> 1\u001b[0;31m \u001b[0;36m1\u001b[0m\u001b[0;34m<\u001b[0m\u001b[0;34m\"A\"\u001b[0m\u001b[0;34m\u001b[0m\u001b[0;34m\u001b[0m\u001b[0m\n\u001b[0m",
            "\u001b[0;31mTypeError\u001b[0m: '<' not supported between instances of 'int' and 'str'"
          ]
        }
      ]
    },
    {
      "cell_type": "code",
      "source": [
        "1<ord(\"A\")"
      ],
      "metadata": {
        "colab": {
          "base_uri": "https://localhost:8080/"
        },
        "id": "JUbS7sxJKPTW",
        "outputId": "3cf1144a-1206-470a-a94b-9d693a5747de"
      },
      "execution_count": 43,
      "outputs": [
        {
          "output_type": "execute_result",
          "data": {
            "text/plain": [
              "True"
            ]
          },
          "metadata": {},
          "execution_count": 43
        }
      ]
    },
    {
      "cell_type": "code",
      "source": [
        "max(\"1\",\"sea_level\",\"999\")"
      ],
      "metadata": {
        "colab": {
          "base_uri": "https://localhost:8080/",
          "height": 36
        },
        "id": "vIMfqs3bKTUD",
        "outputId": "30436c23-485f-47ff-9ba9-057a79f98dc9"
      },
      "execution_count": 44,
      "outputs": [
        {
          "output_type": "execute_result",
          "data": {
            "text/plain": [
              "'sea_level'"
            ],
            "application/vnd.google.colaboratory.intrinsic+json": {
              "type": "string"
            }
          },
          "metadata": {},
          "execution_count": 44
        }
      ]
    },
    {
      "cell_type": "code",
      "source": [
        "1==\"1\""
      ],
      "metadata": {
        "colab": {
          "base_uri": "https://localhost:8080/"
        },
        "id": "Dilk-xK1Kgyc",
        "outputId": "46352357-beb2-4cec-df70-02c4442364e5"
      },
      "execution_count": 45,
      "outputs": [
        {
          "output_type": "execute_result",
          "data": {
            "text/plain": [
              "False"
            ]
          },
          "metadata": {},
          "execution_count": 45
        }
      ]
    },
    {
      "cell_type": "code",
      "source": [
        "max(\"abc\",\"aab\",\"acb\")"
      ],
      "metadata": {
        "colab": {
          "base_uri": "https://localhost:8080/",
          "height": 36
        },
        "id": "T4Kg1TV4Kmbn",
        "outputId": "898d3ea9-d1ea-4b98-ac07-3ba8c6950e1a"
      },
      "execution_count": 46,
      "outputs": [
        {
          "output_type": "execute_result",
          "data": {
            "text/plain": [
              "'acb'"
            ],
            "application/vnd.google.colaboratory.intrinsic+json": {
              "type": "string"
            }
          },
          "metadata": {},
          "execution_count": 46
        }
      ]
    },
    {
      "cell_type": "code",
      "source": [
        "sorted([\"cab\",\"abc\",\"aab\",\"acb\"])"
      ],
      "metadata": {
        "colab": {
          "base_uri": "https://localhost:8080/"
        },
        "id": "dATo32p4Kwlq",
        "outputId": "f52739dd-87d3-41b8-de06-4575b1c88424"
      },
      "execution_count": 49,
      "outputs": [
        {
          "output_type": "execute_result",
          "data": {
            "text/plain": [
              "['aab', 'abc', 'acb', 'cab']"
            ]
          },
          "metadata": {},
          "execution_count": 49
        }
      ]
    },
    {
      "cell_type": "code",
      "source": [
        "ord(\"abc\")"
      ],
      "metadata": {
        "colab": {
          "base_uri": "https://localhost:8080/",
          "height": 168
        },
        "id": "qoazubDUK0pj",
        "outputId": "0311e082-606d-4880-ae54-585f0e40fbe1"
      },
      "execution_count": 50,
      "outputs": [
        {
          "output_type": "error",
          "ename": "TypeError",
          "evalue": "ignored",
          "traceback": [
            "\u001b[0;31m---------------------------------------------------------------------------\u001b[0m",
            "\u001b[0;31mTypeError\u001b[0m                                 Traceback (most recent call last)",
            "\u001b[0;32m<ipython-input-50-97301f0da54e>\u001b[0m in \u001b[0;36m<cell line: 1>\u001b[0;34m()\u001b[0m\n\u001b[0;32m----> 1\u001b[0;31m \u001b[0mord\u001b[0m\u001b[0;34m(\u001b[0m\u001b[0;34m\"abc\"\u001b[0m\u001b[0;34m)\u001b[0m\u001b[0;34m\u001b[0m\u001b[0;34m\u001b[0m\u001b[0m\n\u001b[0m",
            "\u001b[0;31mTypeError\u001b[0m: ord() expected a character, but string of length 3 found"
          ]
        }
      ]
    },
    {
      "cell_type": "code",
      "source": [
        "ord(\"a\"),ord(\"b\"), ord(\"c\")"
      ],
      "metadata": {
        "colab": {
          "base_uri": "https://localhost:8080/"
        },
        "id": "-QeKBQylLSCv",
        "outputId": "0b7bd5d0-9c7f-4659-c501-9033839110a0"
      },
      "execution_count": 51,
      "outputs": [
        {
          "output_type": "execute_result",
          "data": {
            "text/plain": [
              "(97, 98, 99)"
            ]
          },
          "metadata": {},
          "execution_count": 51
        }
      ]
    },
    {
      "cell_type": "code",
      "source": [
        "def mycustomord(str1):\n",
        "    pass # tuple of ascii's\n",
        "\n",
        "def ord(char):\n",
        "    ascii = {\"a\":65,\"b\":66,\"c\":67}\n",
        "    if char in ascii:\n",
        "        return ascii[char]\n",
        "    else:\n",
        "        return \"Invalid Character\"\n",
        "ord(\"a\")"
      ],
      "metadata": {
        "colab": {
          "base_uri": "https://localhost:8080/"
        },
        "id": "dzs0dnZMLXJl",
        "outputId": "7c71a011-6b4b-46e2-f464-f654ec08ac23"
      },
      "execution_count": 53,
      "outputs": [
        {
          "output_type": "execute_result",
          "data": {
            "text/plain": [
              "65"
            ]
          },
          "metadata": {},
          "execution_count": 53
        }
      ]
    },
    {
      "cell_type": "code",
      "source": [
        "### Encryption Algorithm: \"oppnenhiemer\"-->\"rss....\" # char = char+3\n",
        "\n",
        "### Decrypted Algorithm:"
      ],
      "metadata": {
        "id": "3lJF8eV1L5Na"
      },
      "execution_count": null,
      "outputs": []
    },
    {
      "cell_type": "code",
      "source": [
        "tup = (1,2,3,2, \"Hello\", [4,8,16], \"Hello\")\n",
        "dict1={}\n",
        "for char in tup:\n",
        "    if str(char) not in dict1:\n",
        "        dict1[str(char)]=1 # intialize\n",
        "    else:\n",
        "        dict1[str(char)]+=1 # increment\n",
        "for k in dict1:\n",
        "    print(k,\":\",dict1[k])"
      ],
      "metadata": {
        "colab": {
          "base_uri": "https://localhost:8080/"
        },
        "id": "ovVKBffBNWaG",
        "outputId": "96e74ece-88f1-40da-da03-43172063a8cd"
      },
      "execution_count": 59,
      "outputs": [
        {
          "output_type": "stream",
          "name": "stdout",
          "text": [
            "1 : 1\n",
            "2 : 2\n",
            "3 : 1\n",
            "Hello : 2\n",
            "[4, 8, 16] : 1\n"
          ]
        }
      ]
    },
    {
      "cell_type": "code",
      "source": [],
      "metadata": {
        "colab": {
          "base_uri": "https://localhost:8080/",
          "height": 36
        },
        "id": "q7yrzTb0NiM-",
        "outputId": "84814990-29a8-4314-df1b-9db05dbb821a"
      },
      "execution_count": 56,
      "outputs": [
        {
          "output_type": "execute_result",
          "data": {
            "text/plain": [
              "'[4, 8, 16]'"
            ],
            "application/vnd.google.colaboratory.intrinsic+json": {
              "type": "string"
            }
          },
          "metadata": {},
          "execution_count": 56
        }
      ]
    },
    {
      "cell_type": "code",
      "source": [
        "tup = (1,2,3,2, \"Hello\", [4,8,16], \"Hello\")\n",
        "set1=set()\n",
        "for char in tup:\n",
        "    if str(char) not in set1:\n",
        "        set1.add(str(char))\n",
        "        print(char,\":\",tup.count(char)) # 100 ops"
      ],
      "metadata": {
        "colab": {
          "base_uri": "https://localhost:8080/"
        },
        "id": "Y-3QmIZHOQGG",
        "outputId": "2da853d9-da6c-484a-dba4-8b9fe3abb63f"
      },
      "execution_count": 60,
      "outputs": [
        {
          "output_type": "stream",
          "name": "stdout",
          "text": [
            "1 : 1\n",
            "2 : 2\n",
            "3 : 1\n",
            "Hello : 2\n",
            "[4, 8, 16] : 1\n"
          ]
        }
      ]
    },
    {
      "cell_type": "code",
      "source": [
        "# n =100\n",
        "# 100 ops --> n ops\n",
        "\n",
        "# 100*100 ops--> n*n ops"
      ],
      "metadata": {
        "id": "DbxaAyTZPtBy"
      },
      "execution_count": null,
      "outputs": []
    },
    {
      "cell_type": "code",
      "source": [
        "list1 = [\"A\", \"B\",\"C\",\"D\",\"E\",\"F\",\"G\",\"H\"]\n",
        "set1 = {\"A\",\"B\",\"C\",\"D\",\"E\",\"F\",\"G\",\"H\"}\n",
        "print(\"A\" in list1)\n",
        "print(\"A\" in set1)"
      ],
      "metadata": {
        "colab": {
          "base_uri": "https://localhost:8080/"
        },
        "id": "L3Ti-DbTQUpR",
        "outputId": "f8bd6165-04ff-43a1-9e56-9cadecc7b540"
      },
      "execution_count": 67,
      "outputs": [
        {
          "output_type": "stream",
          "name": "stdout",
          "text": [
            "True\n",
            "True\n"
          ]
        }
      ]
    },
    {
      "cell_type": "code",
      "source": [
        "%%timeit\n",
        "(\"A\" in list1)  # for loop: linear search"
      ],
      "metadata": {
        "colab": {
          "base_uri": "https://localhost:8080/"
        },
        "id": "DVtS2vdPQio4",
        "outputId": "f8d0a83b-308e-424f-9034-d5437b5230a6"
      },
      "execution_count": 68,
      "outputs": [
        {
          "output_type": "stream",
          "name": "stdout",
          "text": [
            "49.7 ns ± 14.4 ns per loop (mean ± std. dev. of 7 runs, 10000000 loops each)\n"
          ]
        }
      ]
    },
    {
      "cell_type": "code",
      "source": [
        "%%timeit\n",
        "(\"A\" in set1) # hashing"
      ],
      "metadata": {
        "colab": {
          "base_uri": "https://localhost:8080/"
        },
        "id": "CU9sEsi_SyWx",
        "outputId": "47279682-921c-43c2-dd28-582494b08b72"
      },
      "execution_count": 69,
      "outputs": [
        {
          "output_type": "stream",
          "name": "stdout",
          "text": [
            "43.9 ns ± 1.36 ns per loop (mean ± std. dev. of 7 runs, 10000000 loops each)\n"
          ]
        }
      ]
    },
    {
      "cell_type": "markdown",
      "source": [
        "if there are no duplicate elements list would take less time but\n",
        "if there are duplicate elements then sets would take lesser time"
      ],
      "metadata": {
        "id": "HfTVoE0HSbDl"
      }
    },
    {
      "cell_type": "code",
      "source": [
        "str1 = \"08/12/1998\"\n",
        "(\"12/08/1998\", \"1998/12/08\")"
      ],
      "metadata": {
        "colab": {
          "base_uri": "https://localhost:8080/"
        },
        "id": "5Wg_YSJfTpKU",
        "outputId": "03d387fd-b14c-4f82-fa7b-a0ba5cfcede4"
      },
      "execution_count": 70,
      "outputs": [
        {
          "output_type": "execute_result",
          "data": {
            "text/plain": [
              "('12/08/1998', '1998/12/08')"
            ]
          },
          "metadata": {},
          "execution_count": 70
        }
      ]
    },
    {
      "cell_type": "code",
      "source": [
        "str1.split(\"/\")"
      ],
      "metadata": {
        "colab": {
          "base_uri": "https://localhost:8080/"
        },
        "id": "lIjWv0RlUOv4",
        "outputId": "2d2eacbd-efb0-44f6-cd25-9227864f411c"
      },
      "execution_count": 71,
      "outputs": [
        {
          "output_type": "execute_result",
          "data": {
            "text/plain": [
              "['08', '12', '1998']"
            ]
          },
          "metadata": {},
          "execution_count": 71
        }
      ]
    },
    {
      "cell_type": "code",
      "source": [
        "split_date =str1.split(\"/\")\n",
        "split_date[1]+\"/\"+split_date[0]+\"/\"+split_date[2]"
      ],
      "metadata": {
        "colab": {
          "base_uri": "https://localhost:8080/",
          "height": 36
        },
        "id": "_vPp02ntUQLL",
        "outputId": "99d7f36a-ae65-4959-ad28-7a9d5cab5c6b"
      },
      "execution_count": 75,
      "outputs": [
        {
          "output_type": "execute_result",
          "data": {
            "text/plain": [
              "'12/08/1998'"
            ],
            "application/vnd.google.colaboratory.intrinsic+json": {
              "type": "string"
            }
          },
          "metadata": {},
          "execution_count": 75
        }
      ]
    },
    {
      "cell_type": "code",
      "source": [
        "split_date[2]+\"/\"+split_date[1]+\"/\"+split_date[0]"
      ],
      "metadata": {
        "colab": {
          "base_uri": "https://localhost:8080/",
          "height": 36
        },
        "id": "HfngGSrxUjM_",
        "outputId": "5f76ddfc-a5ff-4292-c066-0cf5b7061e58"
      },
      "execution_count": 76,
      "outputs": [
        {
          "output_type": "execute_result",
          "data": {
            "text/plain": [
              "'1998/12/08'"
            ],
            "application/vnd.google.colaboratory.intrinsic+json": {
              "type": "string"
            }
          },
          "metadata": {},
          "execution_count": 76
        }
      ]
    },
    {
      "cell_type": "code",
      "source": [
        "def date_format(date):\n",
        "    '''Input: date takes the string as input\n",
        "       Output:return resultant date formats'''\n",
        "\n",
        "    # YOUR CODE GOES HERE\n",
        "    split_date =date.split(\"/\")\n",
        "    return split_date[1]+\"/\"+split_date[0]+\"/\"+split_date[2], split_date[2]+\"/\"+split_date[1]+\"/\"+split_date[0]\n"
      ],
      "metadata": {
        "id": "0KG2GplIUtLD"
      },
      "execution_count": 77,
      "outputs": []
    },
    {
      "cell_type": "code",
      "source": [
        "A = \"aabbccbb\"\n",
        "B = 98\n",
        "C = 100\n",
        "\n",
        "# aaddccdd\n",
        "chr(B)"
      ],
      "metadata": {
        "colab": {
          "base_uri": "https://localhost:8080/",
          "height": 36
        },
        "id": "28eihXF8U_R-",
        "outputId": "10f99fb2-8a2c-4047-b192-a482983544a2"
      },
      "execution_count": 78,
      "outputs": [
        {
          "output_type": "execute_result",
          "data": {
            "text/plain": [
              "'b'"
            ],
            "application/vnd.google.colaboratory.intrinsic+json": {
              "type": "string"
            }
          },
          "metadata": {},
          "execution_count": 78
        }
      ]
    },
    {
      "cell_type": "code",
      "source": [
        "chr(C)"
      ],
      "metadata": {
        "colab": {
          "base_uri": "https://localhost:8080/",
          "height": 36
        },
        "id": "UIVB_6xYViNl",
        "outputId": "1157f02f-9072-4549-cc53-d387545a6976"
      },
      "execution_count": 79,
      "outputs": [
        {
          "output_type": "execute_result",
          "data": {
            "text/plain": [
              "'d'"
            ],
            "application/vnd.google.colaboratory.intrinsic+json": {
              "type": "string"
            }
          },
          "metadata": {},
          "execution_count": 79
        }
      ]
    },
    {
      "cell_type": "code",
      "source": [
        "A.replace(chr(B),chr(C))"
      ],
      "metadata": {
        "colab": {
          "base_uri": "https://localhost:8080/",
          "height": 36
        },
        "id": "EUvGjJhJVj4N",
        "outputId": "9d9bee2f-9a4d-4c3e-faad-fd5a4c5838c9"
      },
      "execution_count": 82,
      "outputs": [
        {
          "output_type": "execute_result",
          "data": {
            "text/plain": [
              "'aaddccdd'"
            ],
            "application/vnd.google.colaboratory.intrinsic+json": {
              "type": "string"
            }
          },
          "metadata": {},
          "execution_count": 82
        }
      ]
    },
    {
      "cell_type": "code",
      "source": [
        "A = [[1, 2, 3],\n",
        "    [4, 5, 6],\n",
        "    [7, 8, 9],\n",
        "    [8,9, 10]\n",
        "     ] # mxn-->nxm\n",
        "R = len(A)\n",
        "C = len(A[0])\n",
        "print(R,C)"
      ],
      "metadata": {
        "colab": {
          "base_uri": "https://localhost:8080/"
        },
        "id": "-0D_CHT4VscT",
        "outputId": "d9682470-549b-4b24-9170-b6fad5fb5dcd"
      },
      "execution_count": 84,
      "outputs": [
        {
          "output_type": "stream",
          "name": "stdout",
          "text": [
            "4 3\n"
          ]
        }
      ]
    },
    {
      "cell_type": "code",
      "source": [
        "# incorrect way to initialize\n",
        "list1 = [[0]*R]*C\n",
        "print(list1)"
      ],
      "metadata": {
        "colab": {
          "base_uri": "https://localhost:8080/"
        },
        "id": "YJKQJKi1WzFp",
        "outputId": "4c2a0d7a-a79d-4130-eab4-1fdbf424fe71"
      },
      "execution_count": 97,
      "outputs": [
        {
          "output_type": "stream",
          "name": "stdout",
          "text": [
            "[[0, 0, 0, 0], [0, 0, 0, 0], [0, 0, 0, 0]]\n"
          ]
        }
      ]
    },
    {
      "cell_type": "code",
      "source": [
        "list1[1][1]=20"
      ],
      "metadata": {
        "id": "EvjuH8pUXJ93"
      },
      "execution_count": 98,
      "outputs": []
    },
    {
      "cell_type": "code",
      "source": [
        "print(list1)"
      ],
      "metadata": {
        "colab": {
          "base_uri": "https://localhost:8080/"
        },
        "id": "InIBh-pdXfHa",
        "outputId": "55f28484-04b1-4503-de26-34d5d96a4be2"
      },
      "execution_count": 99,
      "outputs": [
        {
          "output_type": "stream",
          "name": "stdout",
          "text": [
            "[[0, 20, 0, 0], [0, 20, 0, 0], [0, 20, 0, 0]]\n"
          ]
        }
      ]
    },
    {
      "cell_type": "code",
      "source": [
        "# correct way to intialize a matrix\n",
        "list1 = [[0]*R  for i in range(C)]\n",
        "print(list1)\n"
      ],
      "metadata": {
        "colab": {
          "base_uri": "https://localhost:8080/"
        },
        "id": "1PmWQDrxXgyI",
        "outputId": "be30de31-5a12-4bad-aef7-56ae5c7d487c"
      },
      "execution_count": 100,
      "outputs": [
        {
          "output_type": "stream",
          "name": "stdout",
          "text": [
            "[[0, 0, 0, 0], [0, 0, 0, 0], [0, 0, 0, 0]]\n"
          ]
        }
      ]
    },
    {
      "cell_type": "code",
      "source": [
        "A"
      ],
      "metadata": {
        "colab": {
          "base_uri": "https://localhost:8080/"
        },
        "id": "oVqcX8rcY_6D",
        "outputId": "0d491671-6ddf-4fbe-fd7f-ed79b67d125e"
      },
      "execution_count": 106,
      "outputs": [
        {
          "output_type": "execute_result",
          "data": {
            "text/plain": [
              "[[1, 2, 3], [4, 5, 6], [7, 8, 9], [8, 9, 10]]"
            ]
          },
          "metadata": {},
          "execution_count": 106
        }
      ]
    },
    {
      "cell_type": "code",
      "source": [
        "for i in range(R):\n",
        "    for j in range(C):\n",
        "        print(A[i][j], end=\" \")\n",
        "        list1[j][i]=A[i][j] # swap\n",
        "    print(\" \")"
      ],
      "metadata": {
        "colab": {
          "base_uri": "https://localhost:8080/"
        },
        "id": "sAMpL9qOYjbn",
        "outputId": "ac6ddffb-4f6f-4d96-85b6-05f0b9c8d576"
      },
      "execution_count": 107,
      "outputs": [
        {
          "output_type": "stream",
          "name": "stdout",
          "text": [
            "1 2 3  \n",
            "4 5 6  \n",
            "7 8 9  \n",
            "8 9 10  \n"
          ]
        }
      ]
    },
    {
      "cell_type": "code",
      "source": [
        "print(list1)"
      ],
      "metadata": {
        "colab": {
          "base_uri": "https://localhost:8080/"
        },
        "id": "e6m2upTFYssX",
        "outputId": "795508e8-e1b2-4018-a2ff-f16d10fce50b"
      },
      "execution_count": 108,
      "outputs": [
        {
          "output_type": "stream",
          "name": "stdout",
          "text": [
            "[[1, 4, 7, 8], [2, 5, 8, 9], [3, 6, 9, 10]]\n"
          ]
        }
      ]
    },
    {
      "cell_type": "markdown",
      "source": [
        "Attention in Transformer/GPT"
      ],
      "metadata": {
        "id": "xGloRLP8ZxhI"
      }
    },
    {
      "cell_type": "code",
      "source": [
        "e= A[1][1]\n",
        "i = A[2][2]"
      ],
      "metadata": {
        "colab": {
          "base_uri": "https://localhost:8080/"
        },
        "id": "OYhTptu_ZJ5r",
        "outputId": "b9e03a26-a85d-4d90-b30b-02da7674b7c9"
      },
      "execution_count": 109,
      "outputs": [
        {
          "output_type": "execute_result",
          "data": {
            "text/plain": [
              "45"
            ]
          },
          "metadata": {},
          "execution_count": 109
        }
      ]
    },
    {
      "cell_type": "code",
      "source": [
        "A = [[1, 2],[4, 5],[8, 9]]\n",
        "R = len(A)\n",
        "C=len(A[0])\n",
        "output= []\n",
        "\n",
        "# loop  Row by Row\n",
        "for i in range(R):\n",
        "    sum1 = 0\n",
        "    for j in range(C):\n",
        "        sum1+=A[i][j]\n",
        "    output.append(sum1)"
      ],
      "metadata": {
        "id": "179-9Q_5adhe"
      },
      "execution_count": 115,
      "outputs": []
    },
    {
      "cell_type": "code",
      "source": [
        "output"
      ],
      "metadata": {
        "colab": {
          "base_uri": "https://localhost:8080/"
        },
        "id": "gVUF5pyPa4jT",
        "outputId": "cb6cc60f-5991-47f8-f16c-c481fa21d45f"
      },
      "execution_count": 116,
      "outputs": [
        {
          "output_type": "execute_result",
          "data": {
            "text/plain": [
              "[3, 9, 17]"
            ]
          },
          "metadata": {},
          "execution_count": 116
        }
      ]
    },
    {
      "cell_type": "code",
      "source": [
        "# loop column by column\n",
        "for i in range(C):\n",
        "    sum1 = 0\n",
        "    for j in range(R):\n",
        "        print(A[j][i], end = \" \")\n",
        "        sum1+=A[j][i]\n",
        "    output.append(sum1)\n",
        "    print()"
      ],
      "metadata": {
        "colab": {
          "base_uri": "https://localhost:8080/"
        },
        "id": "TMETqxRCbQ_s",
        "outputId": "10f5b8ae-3c73-4b55-bf11-df2952cd6663"
      },
      "execution_count": 122,
      "outputs": [
        {
          "output_type": "stream",
          "name": "stdout",
          "text": [
            "1 4 8 \n",
            "2 5 9 \n"
          ]
        }
      ]
    },
    {
      "cell_type": "code",
      "source": [
        "output"
      ],
      "metadata": {
        "colab": {
          "base_uri": "https://localhost:8080/"
        },
        "id": "9uswMdz1bg8M",
        "outputId": "45a06d37-90fc-48b1-f361-3d7e9cf29136"
      },
      "execution_count": 123,
      "outputs": [
        {
          "output_type": "execute_result",
          "data": {
            "text/plain": [
              "[3, 9, 17, 13, 16]"
            ]
          },
          "metadata": {},
          "execution_count": 123
        }
      ]
    },
    {
      "cell_type": "code",
      "source": [
        "def solve( A):\n",
        "    R = len(A)\n",
        "    C = len(A[0])\n",
        "    output= []\n",
        "\n",
        "    # loop  Row by Row\n",
        "    for i in range(R):\n",
        "        sum1 = 0\n",
        "        for j in range(C):\n",
        "            sum1+=A[i][j]\n",
        "        output.append(sum1)\n",
        "\n",
        "    for i in range(C):\n",
        "        sum1 = 0\n",
        "        for j in range(R):\n",
        "            sum1+=A[j][i]\n",
        "        output.append(sum1)\n",
        "    return output\n",
        ""
      ],
      "metadata": {
        "id": "DJB7hS8rbtJt"
      },
      "execution_count": 124,
      "outputs": []
    },
    {
      "cell_type": "code",
      "source": [
        "A = [[1, 2],[4, 5],[8, 9]]\n",
        "R = len(A)\n",
        "print(R)"
      ],
      "metadata": {
        "colab": {
          "base_uri": "https://localhost:8080/"
        },
        "id": "GI1pLCy4cmn0",
        "outputId": "a541bf54-8f47-4100-c000-d1180f6b6b67"
      },
      "execution_count": 126,
      "outputs": [
        {
          "output_type": "stream",
          "name": "stdout",
          "text": [
            "3\n"
          ]
        }
      ]
    },
    {
      "cell_type": "code",
      "source": [
        "A[0]"
      ],
      "metadata": {
        "colab": {
          "base_uri": "https://localhost:8080/"
        },
        "id": "HUV96o8qcsbq",
        "outputId": "f09ff1a6-74e4-44b5-9859-2650087cc265"
      },
      "execution_count": 127,
      "outputs": [
        {
          "output_type": "execute_result",
          "data": {
            "text/plain": [
              "[4, 5]"
            ]
          },
          "metadata": {},
          "execution_count": 127
        }
      ]
    },
    {
      "cell_type": "code",
      "source": [],
      "metadata": {
        "id": "Rec14XLJc0KN"
      },
      "execution_count": null,
      "outputs": []
    },
    {
      "cell_type": "markdown",
      "source": [
        "- FUNCTION\n",
        "- FOR LOOP\n",
        "- LSTD"
      ],
      "metadata": {
        "id": "zmPCW5cMdAv1"
      }
    },
    {
      "cell_type": "code",
      "source": [
        "list1 = [1,2,3,4]\n",
        "for i in list1:\n",
        "    print(i)\n",
        "    if i==2:\n",
        "        break\n",
        "else:\n",
        "    print(\"Full Loop Executed\")"
      ],
      "metadata": {
        "colab": {
          "base_uri": "https://localhost:8080/"
        },
        "id": "rCgN7ZysdHnn",
        "outputId": "ba14ced7-8635-4236-c85d-256d8590a3da"
      },
      "execution_count": 129,
      "outputs": [
        {
          "output_type": "stream",
          "name": "stdout",
          "text": [
            "1\n",
            "2\n"
          ]
        }
      ]
    },
    {
      "cell_type": "code",
      "source": [
        "list1 = [1,2,3,4]\n",
        "i = 0\n",
        "while i < len(list1):\n",
        "    print(i)\n",
        "    if i==9:\n",
        "        break\n",
        "\n",
        "    else:\n",
        "        print(\"dependent on if\")\n",
        "\n",
        "    i+=1\n",
        "else:\n",
        "    print(\"Full Loop Executed\")"
      ],
      "metadata": {
        "colab": {
          "base_uri": "https://localhost:8080/"
        },
        "id": "0fOTCSN6dr-V",
        "outputId": "2b572641-ec61-4e54-b28f-0d7409df7235"
      },
      "execution_count": 135,
      "outputs": [
        {
          "output_type": "stream",
          "name": "stdout",
          "text": [
            "0\n",
            "dependent on if\n",
            "1\n",
            "dependent on if\n",
            "2\n",
            "dependent on if\n",
            "3\n",
            "dependent on if\n",
            "Full Loop Executed\n"
          ]
        }
      ]
    },
    {
      "cell_type": "markdown",
      "source": [
        "\n",
        "Hi Sachin, In scaler hint for transpose, it was mentioned to use nested loop and append..which one is efficient? creating an empty matrix and updating or creating each element and append?\n"
      ],
      "metadata": {
        "id": "l08oC_Fbef73"
      }
    },
    {
      "cell_type": "code",
      "source": [
        "list1 = [[0]*3]*3\n",
        "print(list1)"
      ],
      "metadata": {
        "colab": {
          "base_uri": "https://localhost:8080/"
        },
        "id": "3itUG9f0eC_K",
        "outputId": "38a4e8e5-df27-4cd4-e7e3-1bc7b0d37ed5"
      },
      "execution_count": 136,
      "outputs": [
        {
          "output_type": "stream",
          "name": "stdout",
          "text": [
            "[[0, 0, 0], [0, 0, 0], [0, 0, 0]]\n"
          ]
        }
      ]
    },
    {
      "cell_type": "code",
      "source": [
        "list1[0][-1]=100\n",
        "print(list1)"
      ],
      "metadata": {
        "colab": {
          "base_uri": "https://localhost:8080/"
        },
        "id": "hxkCLLJVe-s7",
        "outputId": "adecc513-0162-4570-bb3b-4300e419d1e5"
      },
      "execution_count": 137,
      "outputs": [
        {
          "output_type": "stream",
          "name": "stdout",
          "text": [
            "[[0, 0, 100], [0, 0, 100], [0, 0, 100]]\n"
          ]
        }
      ]
    },
    {
      "cell_type": "code",
      "source": [
        "A = [[1, 2],\n",
        "     [3, 4]] # MxN\n",
        "B = [[5, 6], # NxP\n",
        "     [7, 8]]\n",
        "\n",
        "\n",
        "A = [[1, 1]] # 1x2\n",
        "B = [[2], # 2x1\n",
        "     [3]]\n",
        "\n",
        "M = len(A)\n",
        "N = len(A[0])\n",
        "P = len(B[0])\n",
        "out = [[0]*P for i in range(M)]# MxP\n",
        "\n",
        "\n",
        "for i in range(M):\n",
        "    for j in range(P):\n",
        "        print(i,j)\n",
        "        for k in range(N): # looping from 1 to\n",
        "            out[i][j]+=A[i][k]*B[k][j] # cij = Ai1*b1j\n",
        "print(out)"
      ],
      "metadata": {
        "colab": {
          "base_uri": "https://localhost:8080/"
        },
        "id": "fHwgXtLtfB7o",
        "outputId": "b12c8b11-8e26-48ed-9046-e95e6e3cfa72"
      },
      "execution_count": 143,
      "outputs": [
        {
          "output_type": "stream",
          "name": "stdout",
          "text": [
            "0 0\n",
            "[[5]]\n"
          ]
        }
      ]
    },
    {
      "cell_type": "markdown",
      "source": [
        "```\n",
        "out[i][j]= A[i][0]*B[0][j]+\n",
        "            A[i][1]*B[1][j] +\n",
        "            A[i][2]*B[2][j] +\n",
        "            ....\n",
        "            A[i][n]*B[n][j]\n",
        "\n"
      ],
      "metadata": {
        "id": "uioCXh2-hwwx"
      }
    },
    {
      "cell_type": "code",
      "source": [],
      "metadata": {
        "id": "LOpUNqCIgPsN"
      },
      "execution_count": null,
      "outputs": []
    }
  ]
}