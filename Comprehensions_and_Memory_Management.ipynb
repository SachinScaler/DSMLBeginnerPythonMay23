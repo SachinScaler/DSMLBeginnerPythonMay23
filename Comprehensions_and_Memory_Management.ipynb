{
  "nbformat": 4,
  "nbformat_minor": 0,
  "metadata": {
    "colab": {
      "provenance": [],
      "authorship_tag": "ABX9TyMNHYuHWo1Xv02CNSumPwAF",
      "include_colab_link": true
    },
    "kernelspec": {
      "name": "python3",
      "display_name": "Python 3"
    },
    "language_info": {
      "name": "python"
    }
  },
  "cells": [
    {
      "cell_type": "markdown",
      "metadata": {
        "id": "view-in-github",
        "colab_type": "text"
      },
      "source": [
        "<a href=\"https://colab.research.google.com/github/SachinScaler/DSMLBeginnerPythonMay23/blob/main/Comprehensions_and_Memory_Management.ipynb\" target=\"_parent\"><img src=\"https://colab.research.google.com/assets/colab-badge.svg\" alt=\"Open In Colab\"/></a>"
      ]
    },
    {
      "cell_type": "markdown",
      "source": [
        "Q1: Given an Input Integer N, Create a list containing all the numbers between 1 to N\n",
        "```\n",
        "Ex:\n",
        "N =3\n",
        "output = [1,2,3]\n",
        "```\n",
        "\n",
        "Q2: Given an Input Integer N, Create a list containing all the Square of numbers between 1 to N\n",
        "```\n",
        "Ex:\n",
        "N = 3\n",
        "output = [1,4,9]\n",
        "```\n",
        "\n",
        "Q3:  Given an Input Integer N, Create a list containing all the Even numbers between 1 to N\n",
        "\n",
        "```\n",
        "Ex:\n",
        "N = 5\n",
        "output = [2,4]\n",
        "```\n",
        "\n",
        "Q4: Given an input list of N numbers, Create a new list of Size N containing \"Even\" or \"Odd\"\n",
        "\n",
        "\n",
        "```\n",
        "Ex:\n",
        "input = [1,3,4,2,5]\n",
        "output = (\"Odd\",\"Odd\",\"Even\",\"Even\",\"Odd\")\n",
        "```\n",
        "\n",
        "Q5: Given an input list of N student, Create a new List containing length of Name of each Student\n",
        "```\n",
        "Ex:\n",
        "students = [\"Mohan\",\"Jag\", \"Ramanna\"]\n",
        "Output=[5,3,7]\n",
        "```\n",
        "\n",
        "\n",
        "\n",
        "Q6: Given an input list of N numbers and N student, Create a new dictionary of Size N containing Name of Student as Key and Number as Values\n",
        "```\n",
        "Ex:\n",
        "students = [\"Mohan\",\"Jagan\", \"Raman\"]\n",
        "Marks = [20,30,10]\n",
        "\n",
        "output:\n",
        "{\"Mohan\":20, \"Jagan\":30, \"Raman\":10}\n",
        "\n",
        "```\n"
      ],
      "metadata": {
        "id": "B6WxHx9gsbgo"
      }
    },
    {
      "cell_type": "code",
      "execution_count": 1,
      "metadata": {
        "colab": {
          "base_uri": "https://localhost:8080/"
        },
        "id": "6LjYva_jsKqb",
        "outputId": "c54b3817-2c00-4490-c62c-a40179ca86a1"
      },
      "outputs": [
        {
          "output_type": "stream",
          "name": "stdout",
          "text": [
            "3\n",
            "[1, 2, 3]\n"
          ]
        }
      ],
      "source": [
        "N = int(input())\n",
        "new_list = []\n",
        "for i in range(1,N+1):\n",
        "    new_list.append(i)\n",
        "print(new_list)"
      ]
    },
    {
      "cell_type": "code",
      "source": [
        "N = int(input())\n",
        "new_list=[i for i in range(1,N+1)]\n",
        "print(new_list)"
      ],
      "metadata": {
        "colab": {
          "base_uri": "https://localhost:8080/"
        },
        "id": "Cfi68Q-5xFGJ",
        "outputId": "8367ef92-e2ba-4fcb-f9db-d29006185905"
      },
      "execution_count": 22,
      "outputs": [
        {
          "output_type": "stream",
          "name": "stdout",
          "text": [
            "5\n",
            "[1, 2, 3, 4, 5]\n"
          ]
        }
      ]
    },
    {
      "cell_type": "code",
      "source": [
        "N = int(input())\n",
        "new_list = []\n",
        "for i in range(1,N+1):\n",
        "    new_list.append(i**2)\n",
        "print(new_list)"
      ],
      "metadata": {
        "colab": {
          "base_uri": "https://localhost:8080/"
        },
        "id": "Qpy_AeZIxrF7",
        "outputId": "75481213-921e-4662-eb86-b0446c94ab9a"
      },
      "execution_count": 2,
      "outputs": [
        {
          "output_type": "stream",
          "name": "stdout",
          "text": [
            "3\n",
            "[1, 4, 9]\n"
          ]
        }
      ]
    },
    {
      "cell_type": "code",
      "source": [
        "N = int(input())\n",
        "new_list=[i**2 for i in range(1,N+1)]\n",
        "print(new_list)"
      ],
      "metadata": {
        "colab": {
          "base_uri": "https://localhost:8080/"
        },
        "id": "zKsAb1AO4vgX",
        "outputId": "0bdbc32f-af8a-42fd-ba70-a825e5854d2c"
      },
      "execution_count": 23,
      "outputs": [
        {
          "output_type": "stream",
          "name": "stdout",
          "text": [
            "5\n",
            "[1, 4, 9, 16, 25]\n"
          ]
        }
      ]
    },
    {
      "cell_type": "code",
      "source": [
        "N = int(input())\n",
        "new_list=tuple((i**2 for i in range(1,N+1)))\n",
        "print(new_list)"
      ],
      "metadata": {
        "colab": {
          "base_uri": "https://localhost:8080/"
        },
        "id": "jNcRI0d05Sfz",
        "outputId": "04711b4c-5b73-4587-e07b-baeba5cc550e"
      },
      "execution_count": 25,
      "outputs": [
        {
          "output_type": "stream",
          "name": "stdout",
          "text": [
            "5\n",
            "(1, 4, 9, 16, 25)\n"
          ]
        }
      ]
    },
    {
      "cell_type": "code",
      "source": [
        "N = int(input())\n",
        "new_list={i**2 for i in range(1,N+1)}\n",
        "print(new_list)"
      ],
      "metadata": {
        "colab": {
          "base_uri": "https://localhost:8080/"
        },
        "id": "0g_6tVDx5aAC",
        "outputId": "2d83049d-994d-4170-cc8c-c808b81c5fb1"
      },
      "execution_count": 26,
      "outputs": [
        {
          "output_type": "stream",
          "name": "stdout",
          "text": [
            "5\n",
            "{1, 4, 9, 16, 25}\n"
          ]
        }
      ]
    },
    {
      "cell_type": "code",
      "source": [
        "N = int(input())\n",
        "new_list = []\n",
        "for i in range(1,N+1):\n",
        "    if i%2==0:\n",
        "        new_list.append(i)\n",
        "\n",
        "print(new_list)"
      ],
      "metadata": {
        "colab": {
          "base_uri": "https://localhost:8080/"
        },
        "id": "NDPkN1JJxsKu",
        "outputId": "eff8f02a-5498-46fc-e9dc-43794df2a30a"
      },
      "execution_count": 3,
      "outputs": [
        {
          "output_type": "stream",
          "name": "stdout",
          "text": [
            "5\n",
            "[2, 4]\n"
          ]
        }
      ]
    },
    {
      "cell_type": "code",
      "source": [
        "N=5\n",
        "print([i for i in range(2,N+1,2)])"
      ],
      "metadata": {
        "colab": {
          "base_uri": "https://localhost:8080/"
        },
        "id": "eq-oUzy_6C-2",
        "outputId": "2f968a44-5e71-401d-85f1-36d92d3cc365"
      },
      "execution_count": 28,
      "outputs": [
        {
          "output_type": "stream",
          "name": "stdout",
          "text": [
            "[2, 4]\n"
          ]
        }
      ]
    },
    {
      "cell_type": "code",
      "source": [
        "print([i for i in range(1,N+1) if i%2==0])"
      ],
      "metadata": {
        "colab": {
          "base_uri": "https://localhost:8080/"
        },
        "id": "cjvnN6-R6azR",
        "outputId": "474ff8fb-0cb3-4179-b21f-c07ca9902aed"
      },
      "execution_count": 29,
      "outputs": [
        {
          "output_type": "stream",
          "name": "stdout",
          "text": [
            "[2, 4]\n"
          ]
        }
      ]
    },
    {
      "cell_type": "code",
      "source": [
        "# expected output should be a multiple of 3\n",
        "print([i for i in range(1,N+1) if i%3==0])"
      ],
      "metadata": {
        "colab": {
          "base_uri": "https://localhost:8080/"
        },
        "id": "lz76JRop6lWC",
        "outputId": "56069fb2-ec67-4ff4-e2df-cdbf98683c49"
      },
      "execution_count": 31,
      "outputs": [
        {
          "output_type": "stream",
          "name": "stdout",
          "text": [
            "[3]\n"
          ]
        }
      ]
    },
    {
      "cell_type": "code",
      "source": [
        "N = int(input())\n",
        "new_list = []\n",
        "for i in range(2,N+1,2):\n",
        "    new_list.append(i)\n",
        "\n",
        "print(new_list)"
      ],
      "metadata": {
        "colab": {
          "base_uri": "https://localhost:8080/"
        },
        "id": "CZM3Kx7oykMl",
        "outputId": "570755a7-a9ae-4140-82b0-4b8a68e728d1"
      },
      "execution_count": 4,
      "outputs": [
        {
          "output_type": "stream",
          "name": "stdout",
          "text": [
            "5\n",
            "[2, 4]\n"
          ]
        }
      ]
    },
    {
      "cell_type": "code",
      "source": [
        "N = [2,4,5,7]\n",
        "new_list = []\n",
        "for i in N:\n",
        "    if i%2==0:\n",
        "        new_list.append(\"Even\")\n",
        "    else:\n",
        "        new_list.append(\"Odd\")\n",
        "\n",
        "print(tuple(new_list))"
      ],
      "metadata": {
        "colab": {
          "base_uri": "https://localhost:8080/"
        },
        "id": "Od_jBU8fyu9k",
        "outputId": "04c4c085-2b2d-424a-d962-5db18e9c75a1"
      },
      "execution_count": 6,
      "outputs": [
        {
          "output_type": "stream",
          "name": "stdout",
          "text": [
            "('Even', 'Even', 'Odd', 'Odd')\n"
          ]
        }
      ]
    },
    {
      "cell_type": "code",
      "source": [
        "N = [2,4,9,5,7]\n",
        "\n",
        "print([i for i in N])"
      ],
      "metadata": {
        "colab": {
          "base_uri": "https://localhost:8080/"
        },
        "id": "qPlbQBi67OE6",
        "outputId": "85e7c6ee-4911-46a1-99e9-9ac5398f1547"
      },
      "execution_count": 39,
      "outputs": [
        {
          "output_type": "stream",
          "name": "stdout",
          "text": [
            "[2, 4, 9, 5, 7]\n"
          ]
        }
      ]
    },
    {
      "cell_type": "code",
      "source": [
        "tuple([\"Even\" if i%2==0 else \"odd\" for i in N])"
      ],
      "metadata": {
        "colab": {
          "base_uri": "https://localhost:8080/"
        },
        "id": "vGPIogzo7ndV",
        "outputId": "a0fd6d8b-b17b-4cb7-bb0c-04af07110a64"
      },
      "execution_count": 40,
      "outputs": [
        {
          "output_type": "execute_result",
          "data": {
            "text/plain": [
              "('Even', 'Even', 'odd', 'odd', 'odd')"
            ]
          },
          "metadata": {},
          "execution_count": 40
        }
      ]
    },
    {
      "cell_type": "code",
      "source": [
        "out=[\"Multiple 2\" if i%2==0 else \"Multiple of 3\" if i%3==0 else \"no Idea\" for i in N]\n",
        "print(out)"
      ],
      "metadata": {
        "colab": {
          "base_uri": "https://localhost:8080/"
        },
        "id": "S-r05RjP9GX3",
        "outputId": "1b89fabc-9bbf-48ef-cd07-a145bf29d857"
      },
      "execution_count": 42,
      "outputs": [
        {
          "output_type": "stream",
          "name": "stdout",
          "text": [
            "['Multiple 2', 'Multiple 2', 'Multiple of 3', 'no Idea', 'no Idea']\n"
          ]
        }
      ]
    },
    {
      "cell_type": "code",
      "source": [
        "N = [2,4,5,7]\n",
        "new_list = tuple()\n",
        "for i in N:\n",
        "    if i%2==0:\n",
        "        new_list = new_list + (\"Even\",)\n",
        "    else:\n",
        "        new_list = new_list + (\"Odd\",)\n",
        "\n",
        "print(new_list)"
      ],
      "metadata": {
        "colab": {
          "base_uri": "https://localhost:8080/"
        },
        "id": "Dc1mcDf20Idz",
        "outputId": "9a8e1449-774b-4ed5-e9c0-0ec70dc46f78"
      },
      "execution_count": 10,
      "outputs": [
        {
          "output_type": "stream",
          "name": "stdout",
          "text": [
            "('Even', 'Even', 'Odd', 'Odd')\n"
          ]
        }
      ]
    },
    {
      "cell_type": "code",
      "source": [
        "N = input()"
      ],
      "metadata": {
        "colab": {
          "base_uri": "https://localhost:8080/"
        },
        "id": "ceATzfDV06ZY",
        "outputId": "c2064d0b-030f-4361-b808-914d29b533cd"
      },
      "execution_count": 11,
      "outputs": [
        {
          "name": "stdout",
          "output_type": "stream",
          "text": [
            "1 2 3 4\n"
          ]
        }
      ]
    },
    {
      "cell_type": "code",
      "source": [
        "# functional programming\n",
        "list(map(int, N.split()))"
      ],
      "metadata": {
        "colab": {
          "base_uri": "https://localhost:8080/"
        },
        "id": "FsvPWnB80-H5",
        "outputId": "b94fa6cd-d2af-452c-da54-6a6612c2c3b2"
      },
      "execution_count": 14,
      "outputs": [
        {
          "output_type": "execute_result",
          "data": {
            "text/plain": [
              "[1, 2, 3, 4]"
            ]
          },
          "metadata": {},
          "execution_count": 14
        }
      ]
    },
    {
      "cell_type": "code",
      "source": [
        "a= \"Sachin\" # a =\"Sachin Kaushik\"\n",
        "a = a+\" Kaushik\"\n",
        "print(a)"
      ],
      "metadata": {
        "colab": {
          "base_uri": "https://localhost:8080/"
        },
        "id": "edQCJZeb0U9e",
        "outputId": "4a992cdf-7ea9-4d10-ac87-7c22382ada0c"
      },
      "execution_count": 7,
      "outputs": [
        {
          "output_type": "stream",
          "name": "stdout",
          "text": [
            "Sachin Kaushik\n"
          ]
        }
      ]
    },
    {
      "cell_type": "code",
      "source": [
        "N = [\"Mohan\",\"Jag\", \"Ramanna\",\"Naman\"]\n",
        "output = []\n",
        "for i in N:\n",
        "    output.append(len(i))\n",
        "print(output)"
      ],
      "metadata": {
        "colab": {
          "base_uri": "https://localhost:8080/"
        },
        "id": "p9w-gCN50eJU",
        "outputId": "9427030d-dc78-4608-b32c-0fd7781aba3a"
      },
      "execution_count": 48,
      "outputs": [
        {
          "output_type": "stream",
          "name": "stdout",
          "text": [
            "[5, 3, 7, 5]\n"
          ]
        }
      ]
    },
    {
      "cell_type": "code",
      "source": [
        "# %%timeit\n",
        "# list comprehension\n",
        "print([len(i) for i in N])"
      ],
      "metadata": {
        "id": "n0zAlsIa_4Ib"
      },
      "execution_count": null,
      "outputs": []
    },
    {
      "cell_type": "markdown",
      "source": [
        "### Output should have only unique lengths i.e 5, 3, 7"
      ],
      "metadata": {
        "id": "JmVwJ_Ed_k0u"
      }
    },
    {
      "cell_type": "code",
      "source": [
        "# set comprehension\n",
        "print({len(i) for i in N})"
      ],
      "metadata": {
        "id": "4Lj885OGAo1D"
      },
      "execution_count": null,
      "outputs": []
    },
    {
      "cell_type": "code",
      "source": [
        "students = [\"Mohan\",\"Jagan\", \"Raman\"]\n",
        "marks = [20,30,10]\n",
        "\n",
        "dict1 = {}\n",
        "for i in range(0, len(students)):\n",
        "    dict1[students[i]] = marks[i]\n",
        "print(dict1)"
      ],
      "metadata": {
        "colab": {
          "base_uri": "https://localhost:8080/"
        },
        "id": "WfLpSx3T19yy",
        "outputId": "63a5e80f-3fca-4171-9f07-cd7d722b0e16"
      },
      "execution_count": 51,
      "outputs": [
        {
          "output_type": "stream",
          "name": "stdout",
          "text": [
            "{'Mohan': 20, 'Jagan': 30, 'Raman': 10}\n"
          ]
        }
      ]
    },
    {
      "cell_type": "code",
      "source": [
        "# dictionary comprehension\n",
        "{students[i] : marks[i] for i in range(0, len(students))}"
      ],
      "metadata": {
        "colab": {
          "base_uri": "https://localhost:8080/"
        },
        "id": "Quyrg_4M2s_v",
        "outputId": "0a409bec-356e-4b49-d551-042f3959d8c6"
      },
      "execution_count": 53,
      "outputs": [
        {
          "output_type": "execute_result",
          "data": {
            "text/plain": [
              "{'Mohan': 20, 'Jagan': 30, 'Raman': 10}"
            ]
          },
          "metadata": {},
          "execution_count": 53
        }
      ]
    },
    {
      "cell_type": "markdown",
      "source": [
        "nested for loop"
      ],
      "metadata": {
        "id": "CBudTQxqBfTF"
      }
    },
    {
      "cell_type": "code",
      "source": [
        "for i in range(4):\n",
        "    for j in range(5):\n",
        "        print(i*j)"
      ],
      "metadata": {
        "colab": {
          "base_uri": "https://localhost:8080/"
        },
        "id": "VxyuDOYBA75q",
        "outputId": "cad049cd-7a7b-470a-b338-e326eab8a614"
      },
      "execution_count": 54,
      "outputs": [
        {
          "output_type": "stream",
          "name": "stdout",
          "text": [
            "0\n",
            "0\n",
            "0\n",
            "0\n",
            "0\n",
            "0\n",
            "1\n",
            "2\n",
            "3\n",
            "4\n",
            "0\n",
            "2\n",
            "4\n",
            "6\n",
            "8\n",
            "0\n",
            "3\n",
            "6\n",
            "9\n",
            "12\n"
          ]
        }
      ]
    },
    {
      "cell_type": "markdown",
      "source": [
        "Nested Loop Example:"
      ],
      "metadata": {
        "id": "UPKG0VhSB4e3"
      }
    },
    {
      "cell_type": "code",
      "source": [
        "[i*j for i in range(4) for j in range(5)]"
      ],
      "metadata": {
        "colab": {
          "base_uri": "https://localhost:8080/"
        },
        "id": "8E3mgQJeBpCO",
        "outputId": "3df8afd1-b739-40fb-a6f0-65d475e2d114"
      },
      "execution_count": 55,
      "outputs": [
        {
          "output_type": "execute_result",
          "data": {
            "text/plain": [
              "[0, 0, 0, 0, 0, 0, 1, 2, 3, 4, 0, 2, 4, 6, 8, 0, 3, 6, 9, 12]"
            ]
          },
          "metadata": {},
          "execution_count": 55
        }
      ]
    },
    {
      "cell_type": "code",
      "source": [
        "def func():\n",
        "    y = 10\n",
        "    return y\n",
        "\n",
        "y =20\n",
        "func()\n",
        "print(y)"
      ],
      "metadata": {
        "colab": {
          "base_uri": "https://localhost:8080/"
        },
        "id": "GgBmJi5oByi2",
        "outputId": "2c2a1430-33a3-449e-faf6-775c99c222de"
      },
      "execution_count": 66,
      "outputs": [
        {
          "output_type": "stream",
          "name": "stdout",
          "text": [
            "20\n"
          ]
        }
      ]
    },
    {
      "cell_type": "code",
      "source": [
        "a= 10\n",
        "b =a\n",
        "print(id(a)==id(b))"
      ],
      "metadata": {
        "colab": {
          "base_uri": "https://localhost:8080/"
        },
        "id": "OUO-LaomEEL-",
        "outputId": "3e27946c-8d07-46f8-dbd1-b4225ac0cec1"
      },
      "execution_count": 59,
      "outputs": [
        {
          "output_type": "stream",
          "name": "stdout",
          "text": [
            "True\n"
          ]
        }
      ]
    },
    {
      "cell_type": "code",
      "source": [
        "a= 10\n",
        "b =a\n",
        "b=b+1\n",
        "print(id(a)==id(b))"
      ],
      "metadata": {
        "colab": {
          "base_uri": "https://localhost:8080/"
        },
        "id": "wG927XJLCN7b",
        "outputId": "23cf59a7-73fd-499d-82da-944c74d86679"
      },
      "execution_count": 57,
      "outputs": [
        {
          "output_type": "stream",
          "name": "stdout",
          "text": [
            "False\n"
          ]
        }
      ]
    },
    {
      "cell_type": "code",
      "source": [
        "a= [10]\n",
        "b =a\n",
        "b.append(11)\n",
        "print(id(a)==id(b))"
      ],
      "metadata": {
        "colab": {
          "base_uri": "https://localhost:8080/"
        },
        "id": "kyuLJYQKCTgP",
        "outputId": "c6c3d6b8-edd7-47d4-ac2b-fd93c2a0c051"
      },
      "execution_count": 58,
      "outputs": [
        {
          "output_type": "stream",
          "name": "stdout",
          "text": [
            "True\n"
          ]
        }
      ]
    },
    {
      "cell_type": "code",
      "source": [
        "### Mutable vs Imumatebl\n",
        "\n",
        "def func():\n",
        "    c=10\n",
        "    print(c)\n",
        "\n",
        "c=100\n",
        "func()"
      ],
      "metadata": {
        "id": "X8PYHCPZCy4n"
      },
      "execution_count": null,
      "outputs": []
    },
    {
      "cell_type": "code",
      "source": [
        "c=10\n",
        "b=c\n",
        "print(id(b),id(c))\n",
        "b=b+1\n",
        "print(id(b),id(c))"
      ],
      "metadata": {
        "colab": {
          "base_uri": "https://localhost:8080/"
        },
        "id": "SK6qYzrkIOYp",
        "outputId": "8cf42f6e-d02d-43db-cff4-3363d72e060c"
      },
      "execution_count": 5,
      "outputs": [
        {
          "output_type": "stream",
          "name": "stdout",
          "text": [
            "140638861918736 140638861918736\n",
            "140638861918768 140638861918736\n"
          ]
        }
      ]
    },
    {
      "cell_type": "code",
      "source": [
        "print(b)\n",
        "print(c)"
      ],
      "metadata": {
        "colab": {
          "base_uri": "https://localhost:8080/"
        },
        "id": "NIvgaNWmJe4v",
        "outputId": "54a36eac-f949-446c-85bd-13b118bb28ca"
      },
      "execution_count": 6,
      "outputs": [
        {
          "output_type": "stream",
          "name": "stdout",
          "text": [
            "11\n",
            "10\n"
          ]
        }
      ]
    },
    {
      "cell_type": "code",
      "source": [
        "c=[10]\n",
        "b=c\n",
        "print(id(b),id(c))\n",
        "b.append(11)\n",
        "print(id(b),id(c))"
      ],
      "metadata": {
        "colab": {
          "base_uri": "https://localhost:8080/"
        },
        "id": "0EYSeKeKIk3j",
        "outputId": "47cfeba1-655b-4ba3-8fdf-c827dafd9836"
      },
      "execution_count": 2,
      "outputs": [
        {
          "output_type": "stream",
          "name": "stdout",
          "text": [
            "140637605501248 140637605501248\n",
            "140637605501248 140637605501248\n"
          ]
        }
      ]
    },
    {
      "cell_type": "code",
      "source": [
        "print(b)\n",
        "print(c)"
      ],
      "metadata": {
        "colab": {
          "base_uri": "https://localhost:8080/"
        },
        "id": "v1E2HfAXJL6E",
        "outputId": "5783d275-65dd-4f84-d113-7c00e74d1335"
      },
      "execution_count": 4,
      "outputs": [
        {
          "output_type": "stream",
          "name": "stdout",
          "text": [
            "[10, 11]\n",
            "[10, 11]\n"
          ]
        }
      ]
    },
    {
      "cell_type": "code",
      "source": [
        "print({0,1}=={0,1,1,1})"
      ],
      "metadata": {
        "colab": {
          "base_uri": "https://localhost:8080/"
        },
        "id": "iCrwB5JtJbNi",
        "outputId": "56b07814-b071-4e82-fddc-c3698cfbe9ff"
      },
      "execution_count": 8,
      "outputs": [
        {
          "output_type": "stream",
          "name": "stdout",
          "text": [
            "True\n"
          ]
        }
      ]
    },
    {
      "cell_type": "code",
      "source": [
        "print({1,0}=={0,1})"
      ],
      "metadata": {
        "colab": {
          "base_uri": "https://localhost:8080/"
        },
        "id": "Gb4DsGwLKTwa",
        "outputId": "117da45d-d012-4ab3-8f01-79ec62cf0984"
      },
      "execution_count": 9,
      "outputs": [
        {
          "output_type": "stream",
          "name": "stdout",
          "text": [
            "True\n"
          ]
        }
      ]
    },
    {
      "cell_type": "code",
      "source": [
        "print([1,0]==[0,1])"
      ],
      "metadata": {
        "colab": {
          "base_uri": "https://localhost:8080/"
        },
        "id": "P68043K8Klhf",
        "outputId": "986003e2-4332-4147-88e1-16db18c195b9"
      },
      "execution_count": 10,
      "outputs": [
        {
          "output_type": "stream",
          "name": "stdout",
          "text": [
            "False\n"
          ]
        }
      ]
    },
    {
      "cell_type": "code",
      "source": [
        "print([1,0]==[1,0])"
      ],
      "metadata": {
        "colab": {
          "base_uri": "https://localhost:8080/"
        },
        "id": "BMLvfUwOKrbz",
        "outputId": "b5f06d37-bcbf-45a1-a25c-9a6671ac595c"
      },
      "execution_count": 11,
      "outputs": [
        {
          "output_type": "stream",
          "name": "stdout",
          "text": [
            "True\n"
          ]
        }
      ]
    },
    {
      "cell_type": "code",
      "source": [
        "a=10\n",
        "b=20\n",
        "print(a==b)"
      ],
      "metadata": {
        "colab": {
          "base_uri": "https://localhost:8080/"
        },
        "id": "ahKeEqH4K1vu",
        "outputId": "c813eb75-5a7a-499f-f09c-634872c2be05"
      },
      "execution_count": 12,
      "outputs": [
        {
          "output_type": "stream",
          "name": "stdout",
          "text": [
            "False\n"
          ]
        }
      ]
    },
    {
      "cell_type": "code",
      "source": [
        "a=[10]\n",
        "b=a\n",
        "b.append(10)\n",
        "print(a is b) # id(a)==id(b)"
      ],
      "metadata": {
        "colab": {
          "base_uri": "https://localhost:8080/"
        },
        "id": "KtxNiMvvLDLq",
        "outputId": "3744c758-dadc-4a41-cf0c-0f3eaa0af464"
      },
      "execution_count": 13,
      "outputs": [
        {
          "output_type": "stream",
          "name": "stdout",
          "text": [
            "True\n"
          ]
        }
      ]
    },
    {
      "cell_type": "code",
      "source": [
        "x = (1, 2, 3)\n",
        "y = (4, 5, 6)\n",
        "z = x + y\n",
        "print(z)\n",
        "z[0]=z[-1]\n",
        "print(z)"
      ],
      "metadata": {
        "colab": {
          "base_uri": "https://localhost:8080/",
          "height": 239
        },
        "id": "wURRX-bPLLD2",
        "outputId": "ccc21eb0-6d99-4b35-bd71-d9d752713a0d"
      },
      "execution_count": 15,
      "outputs": [
        {
          "output_type": "stream",
          "name": "stdout",
          "text": [
            "(1, 2, 3, 4, 5, 6)\n"
          ]
        },
        {
          "output_type": "error",
          "ename": "TypeError",
          "evalue": "ignored",
          "traceback": [
            "\u001b[0;31m---------------------------------------------------------------------------\u001b[0m",
            "\u001b[0;31mTypeError\u001b[0m                                 Traceback (most recent call last)",
            "\u001b[0;32m<ipython-input-15-5d409d2c5a99>\u001b[0m in \u001b[0;36m<cell line: 5>\u001b[0;34m()\u001b[0m\n\u001b[1;32m      3\u001b[0m \u001b[0mz\u001b[0m \u001b[0;34m=\u001b[0m \u001b[0mx\u001b[0m \u001b[0;34m+\u001b[0m \u001b[0my\u001b[0m\u001b[0;34m\u001b[0m\u001b[0;34m\u001b[0m\u001b[0m\n\u001b[1;32m      4\u001b[0m \u001b[0mprint\u001b[0m\u001b[0;34m(\u001b[0m\u001b[0mz\u001b[0m\u001b[0;34m)\u001b[0m\u001b[0;34m\u001b[0m\u001b[0;34m\u001b[0m\u001b[0m\n\u001b[0;32m----> 5\u001b[0;31m \u001b[0mz\u001b[0m\u001b[0;34m[\u001b[0m\u001b[0;36m0\u001b[0m\u001b[0;34m]\u001b[0m\u001b[0;34m=\u001b[0m\u001b[0mz\u001b[0m\u001b[0;34m[\u001b[0m\u001b[0;34m-\u001b[0m\u001b[0;36m1\u001b[0m\u001b[0;34m]\u001b[0m\u001b[0;34m\u001b[0m\u001b[0;34m\u001b[0m\u001b[0m\n\u001b[0m\u001b[1;32m      6\u001b[0m \u001b[0mprint\u001b[0m\u001b[0;34m(\u001b[0m\u001b[0mz\u001b[0m\u001b[0;34m)\u001b[0m\u001b[0;34m\u001b[0m\u001b[0;34m\u001b[0m\u001b[0m\n",
            "\u001b[0;31mTypeError\u001b[0m: 'tuple' object does not support item assignment"
          ]
        }
      ]
    },
    {
      "cell_type": "code",
      "source": [],
      "metadata": {
        "id": "d8JTTIgsLpkA"
      },
      "execution_count": null,
      "outputs": []
    }
  ]
}