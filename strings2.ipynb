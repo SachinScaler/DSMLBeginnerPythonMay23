{
  "nbformat": 4,
  "nbformat_minor": 0,
  "metadata": {
    "colab": {
      "provenance": [],
      "authorship_tag": "ABX9TyPw1929G66U6fKIeAQL2zwg",
      "include_colab_link": true
    },
    "kernelspec": {
      "name": "python3",
      "display_name": "Python 3"
    },
    "language_info": {
      "name": "python"
    }
  },
  "cells": [
    {
      "cell_type": "markdown",
      "metadata": {
        "id": "view-in-github",
        "colab_type": "text"
      },
      "source": [
        "<a href=\"https://colab.research.google.com/github/SachinScaler/DSMLBeginnerPythonMay23/blob/main/strings2.ipynb\" target=\"_parent\"><img src=\"https://colab.research.google.com/assets/colab-badge.svg\" alt=\"Open In Colab\"/></a>"
      ]
    },
    {
      "cell_type": "markdown",
      "source": [
        "#### Class Homework: How many extra elements are present in list2 after removing all elements from list1\n"
      ],
      "metadata": {
        "id": "n-b9UfHssWfx"
      }
    },
    {
      "cell_type": "code",
      "execution_count": null,
      "metadata": {
        "id": "LqwrT1EsqsDR"
      },
      "outputs": [],
      "source": [
        "list1 = [1,2,1]\n",
        "list2=[1,3,1,3,1,2]\n",
        "# ans: 3 as [3,3,1]"
      ]
    },
    {
      "cell_type": "code",
      "source": [
        "list1 = [1,2,4]\n",
        "list2=[1,3,1,3,1,2]\n",
        "# ans: Not possible as 4 is missing from list2"
      ],
      "metadata": {
        "id": "2o4TytCNsDI4"
      },
      "execution_count": null,
      "outputs": []
    },
    {
      "cell_type": "markdown",
      "source": [
        "missing peice of Shopping list question"
      ],
      "metadata": {
        "id": "dhPp0-dbsy6n"
      }
    },
    {
      "cell_type": "markdown",
      "source": [
        "Split and Join\n",
        "\n",
        "- split - converts string to list\n",
        "- join- converts list into string"
      ],
      "metadata": {
        "id": "52cAxRuctObU"
      }
    },
    {
      "cell_type": "code",
      "source": [
        "S = \"A, B, C\"# \"A,\" \"B, C\"\n",
        "print(S.split()) # by default on space"
      ],
      "metadata": {
        "colab": {
          "base_uri": "https://localhost:8080/"
        },
        "id": "meUOF2ons1Qr",
        "outputId": "a5f60704-5816-409c-d84a-e1fb3b311170"
      },
      "execution_count": 1,
      "outputs": [
        {
          "output_type": "stream",
          "name": "stdout",
          "text": [
            "['A,', 'B,', 'C']\n"
          ]
        }
      ]
    },
    {
      "cell_type": "code",
      "source": [
        "S = \"A, B, C\"\n",
        "print(S.split(\", \"))"
      ],
      "metadata": {
        "colab": {
          "base_uri": "https://localhost:8080/"
        },
        "id": "RJ-kIepSt9Ky",
        "outputId": "a1cc771b-8723-4728-f2cd-a5a3e07a405f"
      },
      "execution_count": 3,
      "outputs": [
        {
          "output_type": "stream",
          "name": "stdout",
          "text": [
            "['A', 'B', 'C']\n"
          ]
        }
      ]
    },
    {
      "cell_type": "code",
      "source": [
        "S = \"10->50->C\" #[10,50,C]\n",
        "SEP = '->'\n",
        "print(S.split(SEP))"
      ],
      "metadata": {
        "colab": {
          "base_uri": "https://localhost:8080/"
        },
        "id": "Oct40_AIuTfs",
        "outputId": "00e03057-1d2a-41a3-f347-b915c6257a59"
      },
      "execution_count": 7,
      "outputs": [
        {
          "output_type": "stream",
          "name": "stdout",
          "text": [
            "['10', '50', 'C']\n"
          ]
        }
      ]
    },
    {
      "cell_type": "code",
      "source": [
        "str1 = \"1->2->3->4\"\n",
        "str1.split(\" \")"
      ],
      "metadata": {
        "colab": {
          "base_uri": "https://localhost:8080/"
        },
        "id": "4ReYAeGFvB4K",
        "outputId": "3ca040ef-3994-496c-af68-04866927ba13"
      },
      "execution_count": 8,
      "outputs": [
        {
          "output_type": "execute_result",
          "data": {
            "text/plain": [
              "['1->2->3->4']"
            ]
          },
          "metadata": {},
          "execution_count": 8
        }
      ]
    },
    {
      "cell_type": "code",
      "source": [
        "\"->\".join([\"1\",\"2\"])"
      ],
      "metadata": {
        "colab": {
          "base_uri": "https://localhost:8080/",
          "height": 36
        },
        "id": "kuHMJwciv2-g",
        "outputId": "630021c4-7130-40f0-b2c3-f26a68be39c8"
      },
      "execution_count": 11,
      "outputs": [
        {
          "output_type": "execute_result",
          "data": {
            "text/plain": [
              "'1->2'"
            ],
            "application/vnd.google.colaboratory.intrinsic+json": {
              "type": "string"
            }
          },
          "metadata": {},
          "execution_count": 11
        }
      ]
    },
    {
      "cell_type": "code",
      "source": [
        "L = ['10','50','C']\n",
        "SEP = '->'\n",
        "print(SEP.join(L))"
      ],
      "metadata": {
        "colab": {
          "base_uri": "https://localhost:8080/"
        },
        "id": "zSqKmG8RvI20",
        "outputId": "cc5cf19e-97d7-4480-9e79-81e52f2327c0"
      },
      "execution_count": 12,
      "outputs": [
        {
          "output_type": "stream",
          "name": "stdout",
          "text": [
            "10->50->C\n"
          ]
        }
      ]
    },
    {
      "cell_type": "markdown",
      "source": [
        "### Strip: removes whitespaces"
      ],
      "metadata": {
        "id": "GU0Zn_WJwlLZ"
      }
    },
    {
      "cell_type": "code",
      "source": [
        "a = \"Hello  \"\n",
        "a = a.strip()\n",
        "print(a)"
      ],
      "metadata": {
        "colab": {
          "base_uri": "https://localhost:8080/"
        },
        "id": "ImAsr2x7wJbR",
        "outputId": "a7eb6ab0-9a1d-4e57-f5af-c88f9c7a82e4"
      },
      "execution_count": 15,
      "outputs": [
        {
          "output_type": "stream",
          "name": "stdout",
          "text": [
            "Hello\n"
          ]
        }
      ]
    },
    {
      "cell_type": "markdown",
      "source": [
        "replace"
      ],
      "metadata": {
        "id": "2Fj6sx99w8kQ"
      }
    },
    {
      "cell_type": "code",
      "source": [
        "a = \"Hello  \"\n",
        "a = a.replace(\" \", \"\")\n",
        "print(a)"
      ],
      "metadata": {
        "colab": {
          "base_uri": "https://localhost:8080/"
        },
        "id": "sWPJYK0Dwg_Y",
        "outputId": "040e3db2-a314-404a-a67d-94552691c2ff"
      },
      "execution_count": 16,
      "outputs": [
        {
          "output_type": "stream",
          "name": "stdout",
          "text": [
            "Hello\n"
          ]
        }
      ]
    },
    {
      "cell_type": "code",
      "source": [
        "a = \"Hello World \"\n",
        "a = a.replace(\" \", \"\")\n",
        "print(a)"
      ],
      "metadata": {
        "colab": {
          "base_uri": "https://localhost:8080/"
        },
        "id": "SrwZMG4cxHOF",
        "outputId": "123f578d-75b5-484f-c85e-b8a4ba8be850"
      },
      "execution_count": 18,
      "outputs": [
        {
          "output_type": "stream",
          "name": "stdout",
          "text": [
            "HelloWorld\n"
          ]
        }
      ]
    },
    {
      "cell_type": "code",
      "source": [
        "a = \"Hello World \"\n",
        "a = a.strip()\n",
        "print(a)"
      ],
      "metadata": {
        "colab": {
          "base_uri": "https://localhost:8080/"
        },
        "id": "aIMelP4xxPgd",
        "outputId": "9a040948-1ac6-4dd0-946a-9b284c8d682f"
      },
      "execution_count": 19,
      "outputs": [
        {
          "output_type": "stream",
          "name": "stdout",
          "text": [
            "Hello World\n"
          ]
        }
      ]
    },
    {
      "cell_type": "code",
      "source": [
        "string = \"ooHellooo\"\n",
        "print(string.strip(\"o\"))"
      ],
      "metadata": {
        "colab": {
          "base_uri": "https://localhost:8080/"
        },
        "id": "K0OOS_sPxUg4",
        "outputId": "7e4a4664-de7c-4aaf-e662-0d22f527e0fe"
      },
      "execution_count": 31,
      "outputs": [
        {
          "output_type": "stream",
          "name": "stdout",
          "text": [
            "Hell\n"
          ]
        }
      ]
    },
    {
      "cell_type": "code",
      "source": [
        "a = 11121\n",
        "a = (str(a).strip(\"1\"))\n",
        "print(a)"
      ],
      "metadata": {
        "colab": {
          "base_uri": "https://localhost:8080/"
        },
        "id": "NElKgQegxkut",
        "outputId": "2999a803-3dba-42eb-ad49-f537d932e7be"
      },
      "execution_count": 33,
      "outputs": [
        {
          "output_type": "stream",
          "name": "stdout",
          "text": [
            "2\n"
          ]
        }
      ]
    },
    {
      "cell_type": "code",
      "source": [
        "string = \"ooHe00llooo\"\n",
        "#print(string.strip(\"o\").replace(\"0\", \"\"))  # he00ll\n",
        "#why am i not able to remove all the\"o\" and all the \"0\""
      ],
      "metadata": {
        "id": "RE1mSWz5yp3I"
      },
      "execution_count": 34,
      "outputs": []
    },
    {
      "cell_type": "code",
      "source": [
        "print(string.strip(\"o\"))"
      ],
      "metadata": {
        "colab": {
          "base_uri": "https://localhost:8080/"
        },
        "id": "lMUO7TbjzHbX",
        "outputId": "b949dba1-5065-4c63-dfd4-6cc046345ecc"
      },
      "execution_count": 35,
      "outputs": [
        {
          "output_type": "stream",
          "name": "stdout",
          "text": [
            "He00ll\n"
          ]
        }
      ]
    },
    {
      "cell_type": "code",
      "source": [
        "\"He00ll\".replace(\"0\",\"\")"
      ],
      "metadata": {
        "colab": {
          "base_uri": "https://localhost:8080/",
          "height": 36
        },
        "id": "rk9JeCFjzJAb",
        "outputId": "ec3e2894-18ca-4466-8caa-1ed70bce88b1"
      },
      "execution_count": 37,
      "outputs": [
        {
          "output_type": "execute_result",
          "data": {
            "text/plain": [
              "'Hell'"
            ],
            "application/vnd.google.colaboratory.intrinsic+json": {
              "type": "string"
            }
          },
          "metadata": {},
          "execution_count": 37
        }
      ]
    },
    {
      "cell_type": "markdown",
      "source": [
        "#\n",
        "- isdigit\n",
        "- isspace\n",
        "- isalnum\n",
        "- isalpha\n",
        "- islower\n",
        "- isupper\n",
        "- startswith\n",
        "- endswith"
      ],
      "metadata": {
        "id": "DjvSXTB0zgrh"
      }
    },
    {
      "cell_type": "code",
      "source": [
        "\"   \".isspace()"
      ],
      "metadata": {
        "colab": {
          "base_uri": "https://localhost:8080/"
        },
        "id": "scbR63h3zgfg",
        "outputId": "62a4e0bc-28ed-40c8-f38a-8617c79ea63c"
      },
      "execution_count": 50,
      "outputs": [
        {
          "output_type": "execute_result",
          "data": {
            "text/plain": [
              "True"
            ]
          },
          "metadata": {},
          "execution_count": 50
        }
      ]
    },
    {
      "cell_type": "code",
      "source": [
        "print(\"  \".isspace())"
      ],
      "metadata": {
        "colab": {
          "base_uri": "https://localhost:8080/"
        },
        "id": "5cg6nZ-vzPnJ",
        "outputId": "2f8232e9-95e5-4e07-b93d-e6ebc5abf3db"
      },
      "execution_count": 53,
      "outputs": [
        {
          "output_type": "stream",
          "name": "stdout",
          "text": [
            "True\n"
          ]
        }
      ]
    },
    {
      "cell_type": "code",
      "source": [
        "print(\"aaaaaA\".islower())"
      ],
      "metadata": {
        "colab": {
          "base_uri": "https://localhost:8080/"
        },
        "id": "4XhhgPAP0bfT",
        "outputId": "189111da-b885-4228-afe7-ba8defe41ad8"
      },
      "execution_count": 55,
      "outputs": [
        {
          "output_type": "stream",
          "name": "stdout",
          "text": [
            "False\n"
          ]
        }
      ]
    },
    {
      "cell_type": "code",
      "source": [
        "print(\" \\t\".isspace())"
      ],
      "metadata": {
        "colab": {
          "base_uri": "https://localhost:8080/"
        },
        "id": "p41n9TQK0nCF",
        "outputId": "26772d85-fde6-4b23-8d08-2267cea6a728"
      },
      "execution_count": 56,
      "outputs": [
        {
          "output_type": "stream",
          "name": "stdout",
          "text": [
            "True\n"
          ]
        }
      ]
    },
    {
      "cell_type": "code",
      "source": [
        "print(\"a\\tb\")"
      ],
      "metadata": {
        "colab": {
          "base_uri": "https://localhost:8080/"
        },
        "id": "_2tR2zQO02hs",
        "outputId": "2694034e-932f-4846-f75d-d012a381563a"
      },
      "execution_count": 58,
      "outputs": [
        {
          "output_type": "stream",
          "name": "stdout",
          "text": [
            "a\tb\n"
          ]
        }
      ]
    },
    {
      "cell_type": "markdown",
      "source": [
        "### in- membership op"
      ],
      "metadata": {
        "id": "QJg2yq7u1EtA"
      }
    },
    {
      "cell_type": "code",
      "source": [
        "\"A\" not in \"SAchin\""
      ],
      "metadata": {
        "colab": {
          "base_uri": "https://localhost:8080/"
        },
        "id": "ZYLOevSV06eG",
        "outputId": "4c33212e-e2a7-4e2e-b30d-3cb1ac247040"
      },
      "execution_count": 62,
      "outputs": [
        {
          "output_type": "execute_result",
          "data": {
            "text/plain": [
              "False"
            ]
          },
          "metadata": {},
          "execution_count": 62
        }
      ]
    },
    {
      "cell_type": "markdown",
      "source": [
        "### position of substring in any string\n",
        "- index\n",
        "- find"
      ],
      "metadata": {
        "id": "9Vv3O1Ef1c1z"
      }
    },
    {
      "cell_type": "code",
      "source": [
        "\"sachin\".index(\"a\")"
      ],
      "metadata": {
        "colab": {
          "base_uri": "https://localhost:8080/"
        },
        "id": "dP-EUXhH1P2B",
        "outputId": "cdd96756-0bc6-4fcd-a7d6-7cffb611a815"
      },
      "execution_count": 63,
      "outputs": [
        {
          "output_type": "execute_result",
          "data": {
            "text/plain": [
              "1"
            ]
          },
          "metadata": {},
          "execution_count": 63
        }
      ]
    },
    {
      "cell_type": "code",
      "source": [
        "\"sachin\".index(\"A\")"
      ],
      "metadata": {
        "colab": {
          "base_uri": "https://localhost:8080/",
          "height": 168
        },
        "id": "CrAW4LmI1nuC",
        "outputId": "63faf4fc-0e2a-401b-ffcc-dd80f16f310c"
      },
      "execution_count": 64,
      "outputs": [
        {
          "output_type": "error",
          "ename": "ValueError",
          "evalue": "ignored",
          "traceback": [
            "\u001b[0;31m---------------------------------------------------------------------------\u001b[0m",
            "\u001b[0;31mValueError\u001b[0m                                Traceback (most recent call last)",
            "\u001b[0;32m<ipython-input-64-bd171fc21163>\u001b[0m in \u001b[0;36m<cell line: 1>\u001b[0;34m()\u001b[0m\n\u001b[0;32m----> 1\u001b[0;31m \u001b[0;34m\"sachin\"\u001b[0m\u001b[0;34m.\u001b[0m\u001b[0mindex\u001b[0m\u001b[0;34m(\u001b[0m\u001b[0;34m\"A\"\u001b[0m\u001b[0;34m)\u001b[0m\u001b[0;34m\u001b[0m\u001b[0;34m\u001b[0m\u001b[0m\n\u001b[0m",
            "\u001b[0;31mValueError\u001b[0m: substring not found"
          ]
        }
      ]
    },
    {
      "cell_type": "code",
      "source": [
        "\"sachinaaaa\".find(\"a\")"
      ],
      "metadata": {
        "colab": {
          "base_uri": "https://localhost:8080/"
        },
        "id": "AjT-JLRT1uNz",
        "outputId": "10cad74b-abf9-4034-8894-e6fc86519a2e"
      },
      "execution_count": 66,
      "outputs": [
        {
          "output_type": "execute_result",
          "data": {
            "text/plain": [
              "1"
            ]
          },
          "metadata": {},
          "execution_count": 66
        }
      ]
    },
    {
      "cell_type": "code",
      "source": [
        "str1 = \"sachinaaaa\"\n",
        "pos = str1.find(\"a\")\n",
        "str1[pos]"
      ],
      "metadata": {
        "colab": {
          "base_uri": "https://localhost:8080/",
          "height": 36
        },
        "id": "8LNkUz591ziZ",
        "outputId": "1720d74b-1639-4a8b-813c-ff0d49bc6130"
      },
      "execution_count": 70,
      "outputs": [
        {
          "output_type": "execute_result",
          "data": {
            "text/plain": [
              "'a'"
            ],
            "application/vnd.google.colaboratory.intrinsic+json": {
              "type": "string"
            }
          },
          "metadata": {},
          "execution_count": 70
        }
      ]
    },
    {
      "cell_type": "code",
      "source": [
        "# def find(string, val):\n",
        "#     for sub in string:\n",
        "#         if sub==val:\n",
        "#             return\n",
        "#     else:\n",
        "#         return"
      ],
      "metadata": {
        "id": "uWNDR_ou13UF"
      },
      "execution_count": null,
      "outputs": []
    },
    {
      "cell_type": "code",
      "source": [
        "\" \" in \"\\t\" # isspace - > \" \", \"\\t\""
      ],
      "metadata": {
        "colab": {
          "base_uri": "https://localhost:8080/"
        },
        "id": "C23S8jq92tVW",
        "outputId": "e3f48e10-375f-44ef-a50d-1dc7559829a3"
      },
      "execution_count": 71,
      "outputs": [
        {
          "output_type": "execute_result",
          "data": {
            "text/plain": [
              "False"
            ]
          },
          "metadata": {},
          "execution_count": 71
        }
      ]
    },
    {
      "cell_type": "code",
      "source": [
        "\"#\".isalnum()"
      ],
      "metadata": {
        "colab": {
          "base_uri": "https://localhost:8080/"
        },
        "id": "fseqr9Lq2u1Y",
        "outputId": "2f92aa6b-0ddd-453b-9494-b5b448d7c2ca"
      },
      "execution_count": 76,
      "outputs": [
        {
          "output_type": "execute_result",
          "data": {
            "text/plain": [
              "False"
            ]
          },
          "metadata": {},
          "execution_count": 76
        }
      ]
    },
    {
      "cell_type": "code",
      "source": [
        "str1= \"A\"\n",
        "str1*2"
      ],
      "metadata": {
        "colab": {
          "base_uri": "https://localhost:8080/",
          "height": 36
        },
        "id": "1CavV9RV3LWl",
        "outputId": "d41bc2b0-4a65-4142-ac5d-c0606ce4ff1c"
      },
      "execution_count": 78,
      "outputs": [
        {
          "output_type": "execute_result",
          "data": {
            "text/plain": [
              "'AA'"
            ],
            "application/vnd.google.colaboratory.intrinsic+json": {
              "type": "string"
            }
          },
          "metadata": {},
          "execution_count": 78
        }
      ]
    },
    {
      "cell_type": "markdown",
      "source": [
        "- lower: convert fullstring to lowercase\n",
        "- upper: convert fullstring to uppercase"
      ],
      "metadata": {
        "id": "8MT5iOc33l8E"
      }
    },
    {
      "cell_type": "code",
      "source": [
        "str1 = \"hihello\"\n",
        "str1.startswith(\"hh\")"
      ],
      "metadata": {
        "colab": {
          "base_uri": "https://localhost:8080/"
        },
        "id": "DQlok9fe3a_5",
        "outputId": "f6db3744-7d45-485b-d634-d04e2a66b5cf"
      },
      "execution_count": 80,
      "outputs": [
        {
          "output_type": "execute_result",
          "data": {
            "text/plain": [
              "False"
            ]
          },
          "metadata": {},
          "execution_count": 80
        }
      ]
    },
    {
      "cell_type": "code",
      "source": [
        "str1 = \"hihello\"\n",
        "str1.endswith(\"O\")"
      ],
      "metadata": {
        "colab": {
          "base_uri": "https://localhost:8080/"
        },
        "id": "lI-ptyng4EK8",
        "outputId": "e77aa341-aef8-4a26-e11c-dcaf6168ba0c"
      },
      "execution_count": 82,
      "outputs": [
        {
          "output_type": "execute_result",
          "data": {
            "text/plain": [
              "False"
            ]
          },
          "metadata": {},
          "execution_count": 82
        }
      ]
    },
    {
      "cell_type": "code",
      "source": [
        "message = \"Not Hello World!\"\n",
        "print(message.startswith(\"Not hello\"))"
      ],
      "metadata": {
        "colab": {
          "base_uri": "https://localhost:8080/"
        },
        "id": "8KEZK7By4Irn",
        "outputId": "97dbe491-ba3f-4019-992b-e0bfd1659a61"
      },
      "execution_count": 86,
      "outputs": [
        {
          "output_type": "stream",
          "name": "stdout",
          "text": [
            "False\n"
          ]
        }
      ]
    },
    {
      "cell_type": "markdown",
      "source": [
        "Given a string containing url,\n",
        "`https, HTTPS, Https etc are all valid addresses`, how will you check if given address web is valid?\n"
      ],
      "metadata": {
        "id": "AaGJuRuJ4z1i"
      }
    },
    {
      "cell_type": "code",
      "source": [
        "url = \"HTTPS:\\\\www.google.com\"\n",
        "print(url.lower().startswith(\"https\"))"
      ],
      "metadata": {
        "colab": {
          "base_uri": "https://localhost:8080/"
        },
        "id": "3Oloe0m74hvz",
        "outputId": "48a557a7-840f-4158-82fe-b997c0dd604a"
      },
      "execution_count": 92,
      "outputs": [
        {
          "output_type": "stream",
          "name": "stdout",
          "text": [
            "True\n"
          ]
        }
      ]
    },
    {
      "cell_type": "markdown",
      "source": [
        "Class Homework: create a function to check if list of input strings are valid email_id's or not return new_list containing True or False depending on validity."
      ],
      "metadata": {
        "id": "2vpxl9075rTm"
      }
    },
    {
      "cell_type": "code",
      "source": [
        "#schin@gmail.com"
      ],
      "metadata": {
        "id": "o3wYk9Bq5Mys"
      },
      "execution_count": 93,
      "outputs": []
    },
    {
      "cell_type": "code",
      "source": [
        "message = \"Hello World!\"\n",
        "print(message.replace(\"o\", \"e\"))"
      ],
      "metadata": {
        "colab": {
          "base_uri": "https://localhost:8080/"
        },
        "id": "Q90bBZaX8-Vt",
        "outputId": "e548bae9-2d15-4b60-86ee-aee4455be44a"
      },
      "execution_count": 94,
      "outputs": [
        {
          "output_type": "stream",
          "name": "stdout",
          "text": [
            "Helle Werld!\n"
          ]
        }
      ]
    },
    {
      "cell_type": "code",
      "source": [
        "X = \"VOW\"\n",
        "X[0] = X[-1]\n",
        "print(X)"
      ],
      "metadata": {
        "colab": {
          "base_uri": "https://localhost:8080/",
          "height": 204
        },
        "id": "uBHoECVp9ir2",
        "outputId": "72e63cd8-ae91-45fa-8cba-bb7b7ac67e09"
      },
      "execution_count": 95,
      "outputs": [
        {
          "output_type": "error",
          "ename": "TypeError",
          "evalue": "ignored",
          "traceback": [
            "\u001b[0;31m---------------------------------------------------------------------------\u001b[0m",
            "\u001b[0;31mTypeError\u001b[0m                                 Traceback (most recent call last)",
            "\u001b[0;32m<ipython-input-95-e25eb4c31e54>\u001b[0m in \u001b[0;36m<cell line: 2>\u001b[0;34m()\u001b[0m\n\u001b[1;32m      1\u001b[0m \u001b[0mX\u001b[0m \u001b[0;34m=\u001b[0m \u001b[0;34m\"VOW\"\u001b[0m\u001b[0;34m\u001b[0m\u001b[0;34m\u001b[0m\u001b[0m\n\u001b[0;32m----> 2\u001b[0;31m \u001b[0mX\u001b[0m\u001b[0;34m[\u001b[0m\u001b[0;36m0\u001b[0m\u001b[0;34m]\u001b[0m \u001b[0;34m=\u001b[0m \u001b[0mX\u001b[0m\u001b[0;34m[\u001b[0m\u001b[0;34m-\u001b[0m\u001b[0;36m1\u001b[0m\u001b[0;34m]\u001b[0m\u001b[0;34m\u001b[0m\u001b[0;34m\u001b[0m\u001b[0m\n\u001b[0m\u001b[1;32m      3\u001b[0m \u001b[0mprint\u001b[0m\u001b[0;34m(\u001b[0m\u001b[0mX\u001b[0m\u001b[0;34m)\u001b[0m\u001b[0;34m\u001b[0m\u001b[0;34m\u001b[0m\u001b[0m\n",
            "\u001b[0;31mTypeError\u001b[0m: 'str' object does not support item assignment"
          ]
        }
      ]
    },
    {
      "cell_type": "code",
      "source": [
        "a = \"Hi\"\n",
        "b = a\n",
        "print(b,a)\n",
        "a = \"Bye\"\n",
        "print(a,b)"
      ],
      "metadata": {
        "colab": {
          "base_uri": "https://localhost:8080/"
        },
        "id": "TuRSQYxC9zzg",
        "outputId": "59153628-04ed-41bd-c359-dce8edc00405"
      },
      "execution_count": 97,
      "outputs": [
        {
          "output_type": "stream",
          "name": "stdout",
          "text": [
            "Hi Hi\n",
            "Bye Hi\n"
          ]
        }
      ]
    },
    {
      "cell_type": "code",
      "source": [
        "a = [\"Hi\"]\n",
        "b = a\n",
        "print(b,a)\n",
        "a.append(\"Bye\")\n",
        "print(a,b)\n"
      ],
      "metadata": {
        "colab": {
          "base_uri": "https://localhost:8080/"
        },
        "id": "lN6j6M10-Hyk",
        "outputId": "ec464c94-4bf6-4fea-9bc9-bd4b8a43d9e6"
      },
      "execution_count": 98,
      "outputs": [
        {
          "output_type": "stream",
          "name": "stdout",
          "text": [
            "['Hi'] ['Hi']\n",
            "['Hi', 'Bye'] ['Hi', 'Bye']\n"
          ]
        }
      ]
    },
    {
      "cell_type": "code",
      "source": [
        "b.append(\"from B\")\n",
        "print(a,b)"
      ],
      "metadata": {
        "colab": {
          "base_uri": "https://localhost:8080/"
        },
        "id": "w0ye4F1z-i4i",
        "outputId": "9546b213-12d5-4a03-d991-61506224df06"
      },
      "execution_count": 99,
      "outputs": [
        {
          "output_type": "stream",
          "name": "stdout",
          "text": [
            "['Hi', 'Bye', 'from B'] ['Hi', 'Bye', 'from B']\n"
          ]
        }
      ]
    },
    {
      "cell_type": "markdown",
      "source": [
        "![summary](data:image/png;base64,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)"
      ],
      "metadata": {
        "id": "6wt3VXSOAnK6"
      }
    },
    {
      "cell_type": "code",
      "source": [
        "name = \"Emma\"\n",
        "age = 32\n",
        "print(\"Hey my name is {} and my age is {}\".format(name,age))"
      ],
      "metadata": {
        "colab": {
          "base_uri": "https://localhost:8080/"
        },
        "id": "bI5IP5ejALrh",
        "outputId": "2a6956b4-6572-4c18-db83-84b5eb0373cb"
      },
      "execution_count": 103,
      "outputs": [
        {
          "output_type": "stream",
          "name": "stdout",
          "text": [
            "Hey my name is Emma and my age is 32\n"
          ]
        }
      ]
    },
    {
      "cell_type": "code",
      "source": [
        "message = \"Hello World!\"\n",
        "i = 0\n",
        "while i < len(message):\n",
        "  if i % 2 == 0:\n",
        "    print(message[i], end = \"\")\n",
        "  i += 1"
      ],
      "metadata": {
        "colab": {
          "base_uri": "https://localhost:8080/"
        },
        "id": "cJ3kiuxJBFlx",
        "outputId": "ac3a00d0-0543-4676-ac94-e341f1ed8acd"
      },
      "execution_count": 104,
      "outputs": [
        {
          "output_type": "stream",
          "name": "stdout",
          "text": [
            "HloWrd"
          ]
        }
      ]
    },
    {
      "cell_type": "code",
      "source": [
        "for i in range(0,len(message),2):\n",
        "    print(message[i], end = \"\")\n",
        "\n",
        "\n"
      ],
      "metadata": {
        "colab": {
          "base_uri": "https://localhost:8080/"
        },
        "id": "mgKHVbibBty5",
        "outputId": "ef9a994e-2255-415a-8840-f7a81d0a56f5"
      },
      "execution_count": 105,
      "outputs": [
        {
          "output_type": "stream",
          "name": "stdout",
          "text": [
            "HloWrd"
          ]
        }
      ]
    },
    {
      "cell_type": "code",
      "source": [
        "for i in range(0,len(message)):\n",
        "    if i%2==0:\n",
        "        print(message[i], end = \"\")"
      ],
      "metadata": {
        "colab": {
          "base_uri": "https://localhost:8080/"
        },
        "id": "cPgYCN7cB9k9",
        "outputId": "2be24399-061b-4744-f2c2-3e33cc80041a"
      },
      "execution_count": 106,
      "outputs": [
        {
          "output_type": "stream",
          "name": "stdout",
          "text": [
            "HloWrd"
          ]
        }
      ]
    },
    {
      "cell_type": "markdown",
      "source": [
        "### function:\n",
        "- *arbitray positional\n",
        "- ** arbitrary keyword"
      ],
      "metadata": {
        "id": "6otHKF2XCQb2"
      }
    },
    {
      "cell_type": "code",
      "source": [
        "def func(*pos):\n",
        "    print(pos)\n",
        "func(2,3,141928, \"a\")"
      ],
      "metadata": {
        "colab": {
          "base_uri": "https://localhost:8080/"
        },
        "id": "6J5VVIB0CBfn",
        "outputId": "8f8d1bbe-2f6e-4195-9936-243204b59dce"
      },
      "execution_count": 110,
      "outputs": [
        {
          "output_type": "stream",
          "name": "stdout",
          "text": [
            "(2, 3, 141928, 'a')\n"
          ]
        }
      ]
    },
    {
      "cell_type": "code",
      "source": [
        "\n",
        "func(2,3, \"a\")"
      ],
      "metadata": {
        "colab": {
          "base_uri": "https://localhost:8080/"
        },
        "id": "_43GVPaMCqq-",
        "outputId": "7433309d-581b-4412-c45c-0f4464a8e9e5"
      },
      "execution_count": 111,
      "outputs": [
        {
          "output_type": "stream",
          "name": "stdout",
          "text": [
            "(2, 3, 'a')\n"
          ]
        }
      ]
    },
    {
      "cell_type": "code",
      "source": [
        "def func(**pos):\n",
        "    print(pos)\n",
        "func(a=2,b=3,c=141928)"
      ],
      "metadata": {
        "colab": {
          "base_uri": "https://localhost:8080/"
        },
        "id": "armPGn1kC4Si",
        "outputId": "25f48820-98e8-45ba-a097-dc38f3c7a6fb"
      },
      "execution_count": 112,
      "outputs": [
        {
          "output_type": "stream",
          "name": "stdout",
          "text": [
            "{'a': 2, 'b': 3, 'c': 141928}\n"
          ]
        }
      ]
    },
    {
      "cell_type": "code",
      "source": [
        "def func(**pos):\n",
        "    print(pos)\n",
        "func(a=2,b=3,c=141928,d = \"asdfjh\")"
      ],
      "metadata": {
        "colab": {
          "base_uri": "https://localhost:8080/"
        },
        "id": "Q88-vBlmC_Dt",
        "outputId": "82391bd3-209d-48e7-9d48-123e629249d9"
      },
      "execution_count": 113,
      "outputs": [
        {
          "output_type": "stream",
          "name": "stdout",
          "text": [
            "{'a': 2, 'b': 3, 'c': 141928, 'd': 'asdfjh'}\n"
          ]
        }
      ]
    },
    {
      "cell_type": "markdown",
      "source": [
        "base mathematics"
      ],
      "metadata": {
        "id": "nQXzNMCjDSvF"
      }
    },
    {
      "cell_type": "code",
      "source": [
        "num = 13\n",
        "base = 2\n",
        "ans = \"\"\n",
        "while num>0:\n",
        "    rem = num%base\n",
        "    ans = # fill value here\n",
        "    num = num//base\n",
        "\n",
        "print(ans)"
      ],
      "metadata": {
        "id": "9sgngZBpFHG6"
      },
      "execution_count": null,
      "outputs": []
    },
    {
      "cell_type": "code",
      "source": [
        "def dec_to_base(num,base):\n",
        "    pow = 1\n",
        "    ans = 0\n",
        "    while num>0:\n",
        "        rem = num%base\n",
        "        ans = ans+ pow*(rem)\n",
        "        num = num//base\n",
        "        pow = pow*10\n",
        "    return ans\n",
        "dec_to_base(13,2)"
      ],
      "metadata": {
        "colab": {
          "base_uri": "https://localhost:8080/"
        },
        "id": "phLeZiO0DBm2",
        "outputId": "ad838025-51fb-40ca-cb6c-fe8fbd9dba92"
      },
      "execution_count": 138,
      "outputs": [
        {
          "output_type": "execute_result",
          "data": {
            "text/plain": [
              "1101"
            ]
          },
          "metadata": {},
          "execution_count": 138
        }
      ]
    },
    {
      "cell_type": "code",
      "source": [
        "num=\"1101\"\n",
        "b = 2\n",
        "int(num,2)"
      ],
      "metadata": {
        "colab": {
          "base_uri": "https://localhost:8080/"
        },
        "id": "hiblfpYlEqd5",
        "outputId": "c309a746-8fc4-4224-a3b5-899d95c5fa51"
      },
      "execution_count": 128,
      "outputs": [
        {
          "output_type": "execute_result",
          "data": {
            "text/plain": [
              "13"
            ]
          },
          "metadata": {},
          "execution_count": 128
        }
      ]
    },
    {
      "cell_type": "code",
      "source": [
        "def anybase_to_dec(num,base):\n",
        "    pow=0\n",
        "    ans = 0\n",
        "    while num>0:\n",
        "        digit = num%10\n",
        "        ans+=(digit*(base**pow))\n",
        "        num=num//10\n",
        "        pow+=1\n",
        "    return (ans)\n",
        "anybase_to_dec(1101,2)"
      ],
      "metadata": {
        "colab": {
          "base_uri": "https://localhost:8080/"
        },
        "id": "0RnBWxmwG5kf",
        "outputId": "062f2a4a-bac2-4614-8c54-a44f8937e1ad"
      },
      "execution_count": 133,
      "outputs": [
        {
          "output_type": "execute_result",
          "data": {
            "text/plain": [
              "13"
            ]
          },
          "metadata": {},
          "execution_count": 133
        }
      ]
    },
    {
      "cell_type": "code",
      "source": [
        "A = 3\n",
        "B = 11 # convert this into dec\n",
        "C = 10 # convert this into dec\n",
        "\n",
        "B_10=anybase_to_dec(B,A)\n",
        "C_10=anybase_to_dec(C,A)\n",
        "res = B_10*C_10 # convert dect to base A\n",
        "print(dec_to_base(res,A))"
      ],
      "metadata": {
        "colab": {
          "base_uri": "https://localhost:8080/"
        },
        "id": "B-Dp1XcQHqUz",
        "outputId": "4a38cc0c-e2ae-4b78-9b01-f8db67817642"
      },
      "execution_count": 139,
      "outputs": [
        {
          "output_type": "stream",
          "name": "stdout",
          "text": [
            "110\n"
          ]
        }
      ]
    },
    {
      "cell_type": "code",
      "source": [],
      "metadata": {
        "id": "3QCPFazvJ0wq"
      },
      "execution_count": null,
      "outputs": []
    }
  ]
}