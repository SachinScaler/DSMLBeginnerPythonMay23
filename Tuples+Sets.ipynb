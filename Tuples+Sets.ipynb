{
  "nbformat": 4,
  "nbformat_minor": 0,
  "metadata": {
    "colab": {
      "provenance": [],
      "authorship_tag": "ABX9TyOhdqPEqfGQDyjYjxznbtU6",
      "include_colab_link": true
    },
    "kernelspec": {
      "name": "python3",
      "display_name": "Python 3"
    },
    "language_info": {
      "name": "python"
    }
  },
  "cells": [
    {
      "cell_type": "markdown",
      "metadata": {
        "id": "view-in-github",
        "colab_type": "text"
      },
      "source": [
        "<a href=\"https://colab.research.google.com/github/SachinScaler/DSMLBeginnerPythonMay23/blob/main/Tuples%2BSets.ipynb\" target=\"_parent\"><img src=\"https://colab.research.google.com/assets/colab-badge.svg\" alt=\"Open In Colab\"/></a>"
      ]
    },
    {
      "cell_type": "markdown",
      "source": [
        "Tuple: Immutable"
      ],
      "metadata": {
        "id": "ovLkF4S0_Z7s"
      }
    },
    {
      "cell_type": "code",
      "execution_count": 1,
      "metadata": {
        "colab": {
          "base_uri": "https://localhost:8080/"
        },
        "id": "V2DVrOAZ-1Sb",
        "outputId": "a9949540-0c69-43a5-ed61-1bc01211243b"
      },
      "outputs": [
        {
          "output_type": "stream",
          "name": "stdout",
          "text": [
            "<class 'list'>\n",
            "<class 'tuple'>\n"
          ]
        }
      ],
      "source": [
        "list1 = ['Sun','Mon','Tue','Wed','Thu', 'Fri','Sat']\n",
        "tup1 = ('Sun','Mon','Tue','Wed','Thu', 'Fri','Sat')\n",
        "print(type(list1))\n",
        "print(type(tup1))"
      ]
    },
    {
      "cell_type": "markdown",
      "source": [
        "Advantage of Tuple over List?"
      ],
      "metadata": {
        "id": "rT2idSy7AlAa"
      }
    },
    {
      "cell_type": "markdown",
      "source": [
        "### Tuple"
      ],
      "metadata": {
        "id": "v120Dn82BI9k"
      }
    },
    {
      "cell_type": "code",
      "source": [
        "# create empty tuple\n",
        "a = ()\n",
        "print(type(a))"
      ],
      "metadata": {
        "colab": {
          "base_uri": "https://localhost:8080/"
        },
        "id": "CWem8cD7AgQ9",
        "outputId": "9d0a0050-1291-4a3c-f71b-67cad0cd9aa1"
      },
      "execution_count": 6,
      "outputs": [
        {
          "output_type": "stream",
          "name": "stdout",
          "text": [
            "<class 'tuple'>\n"
          ]
        }
      ]
    },
    {
      "cell_type": "code",
      "source": [
        "a = (4)\n",
        "print(type(a))"
      ],
      "metadata": {
        "colab": {
          "base_uri": "https://localhost:8080/"
        },
        "id": "eHFpmQfHBX6o",
        "outputId": "4001dd09-148c-43ec-8065-2a3c88fd946a"
      },
      "execution_count": 3,
      "outputs": [
        {
          "output_type": "stream",
          "name": "stdout",
          "text": [
            "<class 'int'>\n"
          ]
        }
      ]
    },
    {
      "cell_type": "code",
      "source": [
        "a = (\"4\")\n",
        "print(type(a))"
      ],
      "metadata": {
        "colab": {
          "base_uri": "https://localhost:8080/"
        },
        "id": "xH3q8NRkBeVx",
        "outputId": "7b804614-52b4-4137-aa5a-1bf158afdf46"
      },
      "execution_count": 4,
      "outputs": [
        {
          "output_type": "stream",
          "name": "stdout",
          "text": [
            "<class 'str'>\n"
          ]
        }
      ]
    },
    {
      "cell_type": "code",
      "source": [
        "a = (4,)\n",
        "print(type(a))"
      ],
      "metadata": {
        "colab": {
          "base_uri": "https://localhost:8080/"
        },
        "id": "wxwZFJ6fBgXq",
        "outputId": "9a94f42c-7044-4783-b12e-42f777c72840"
      },
      "execution_count": 5,
      "outputs": [
        {
          "output_type": "stream",
          "name": "stdout",
          "text": [
            "<class 'tuple'>\n"
          ]
        }
      ]
    },
    {
      "cell_type": "code",
      "source": [
        "# second way of creating tuple\n",
        "a = tuple()\n",
        "print(a,type(a))"
      ],
      "metadata": {
        "colab": {
          "base_uri": "https://localhost:8080/"
        },
        "id": "-JvWKV6UBmUG",
        "outputId": "df87584b-4a88-4982-f245-8992548158b8"
      },
      "execution_count": 9,
      "outputs": [
        {
          "output_type": "stream",
          "name": "stdout",
          "text": [
            "() <class 'tuple'>\n"
          ]
        }
      ]
    },
    {
      "cell_type": "code",
      "source": [
        "a = tuple(1)\n",
        "print(a,type(a))"
      ],
      "metadata": {
        "colab": {
          "base_uri": "https://localhost:8080/",
          "height": 184
        },
        "id": "wf2zroVSB28y",
        "outputId": "acc11986-bde8-43bf-9fdf-8153e5833dda"
      },
      "execution_count": 13,
      "outputs": [
        {
          "output_type": "error",
          "ename": "TypeError",
          "evalue": "ignored",
          "traceback": [
            "\u001b[0;31m---------------------------------------------------------------------------\u001b[0m",
            "\u001b[0;31mTypeError\u001b[0m                                 Traceback (most recent call last)",
            "\u001b[0;32m<ipython-input-13-e53bd4470460>\u001b[0m in \u001b[0;36m<cell line: 1>\u001b[0;34m()\u001b[0m\n\u001b[0;32m----> 1\u001b[0;31m \u001b[0ma\u001b[0m \u001b[0;34m=\u001b[0m \u001b[0mtuple\u001b[0m\u001b[0;34m(\u001b[0m\u001b[0;36m1\u001b[0m\u001b[0;34m)\u001b[0m\u001b[0;34m\u001b[0m\u001b[0;34m\u001b[0m\u001b[0m\n\u001b[0m\u001b[1;32m      2\u001b[0m \u001b[0mprint\u001b[0m\u001b[0;34m(\u001b[0m\u001b[0ma\u001b[0m\u001b[0;34m,\u001b[0m\u001b[0mtype\u001b[0m\u001b[0;34m(\u001b[0m\u001b[0ma\u001b[0m\u001b[0;34m)\u001b[0m\u001b[0;34m)\u001b[0m\u001b[0;34m\u001b[0m\u001b[0;34m\u001b[0m\u001b[0m\n",
            "\u001b[0;31mTypeError\u001b[0m: 'int' object is not iterable"
          ]
        }
      ]
    },
    {
      "cell_type": "code",
      "source": [
        "a = tuple([1])\n",
        "print(a,type(a))"
      ],
      "metadata": {
        "colab": {
          "base_uri": "https://localhost:8080/"
        },
        "id": "8U4EiVMXCFQn",
        "outputId": "143ec5cb-2721-4367-87d8-0e88ed717126"
      },
      "execution_count": 14,
      "outputs": [
        {
          "output_type": "stream",
          "name": "stdout",
          "text": [
            "(1,) <class 'tuple'>\n"
          ]
        }
      ]
    },
    {
      "cell_type": "code",
      "source": [
        "a = tuple([1,2,3,4])\n",
        "print(a,type(a))"
      ],
      "metadata": {
        "colab": {
          "base_uri": "https://localhost:8080/"
        },
        "id": "tn1lryR3CN8s",
        "outputId": "357770f1-a76e-422f-87e0-dc19b19b2b19"
      },
      "execution_count": 15,
      "outputs": [
        {
          "output_type": "stream",
          "name": "stdout",
          "text": [
            "(1, 2, 3, 4) <class 'tuple'>\n"
          ]
        }
      ]
    },
    {
      "cell_type": "code",
      "source": [
        "print(a)\n",
        "print(list(a))"
      ],
      "metadata": {
        "colab": {
          "base_uri": "https://localhost:8080/"
        },
        "id": "yiEaLodzCQVi",
        "outputId": "29ac12e0-6cf1-4f64-a34c-81bb4a6deb8d"
      },
      "execution_count": 17,
      "outputs": [
        {
          "output_type": "stream",
          "name": "stdout",
          "text": [
            "(1, 2, 3, 4)\n",
            "[1, 2, 3, 4]\n"
          ]
        }
      ]
    },
    {
      "cell_type": "code",
      "source": [
        "# tuple(map(int,tuple(input().split())))"
      ],
      "metadata": {
        "id": "g76Uje0zCto9"
      },
      "execution_count": 20,
      "outputs": []
    },
    {
      "cell_type": "markdown",
      "source": [
        "Can I index"
      ],
      "metadata": {
        "id": "ax_iwJloDcnr"
      }
    },
    {
      "cell_type": "code",
      "source": [
        "a"
      ],
      "metadata": {
        "colab": {
          "base_uri": "https://localhost:8080/"
        },
        "id": "SQyJ6b9vCh4U",
        "outputId": "f853ca81-9a7c-45a9-d96c-cf81c7ccca09"
      },
      "execution_count": 21,
      "outputs": [
        {
          "output_type": "execute_result",
          "data": {
            "text/plain": [
              "(1, 2, 3, 4)"
            ]
          },
          "metadata": {},
          "execution_count": 21
        }
      ]
    },
    {
      "cell_type": "code",
      "source": [
        "print(a[0])"
      ],
      "metadata": {
        "colab": {
          "base_uri": "https://localhost:8080/"
        },
        "id": "37TDqJmlDfXN",
        "outputId": "491a7117-9cb6-4eda-8031-97cdabb3152c"
      },
      "execution_count": 22,
      "outputs": [
        {
          "output_type": "stream",
          "name": "stdout",
          "text": [
            "1\n"
          ]
        }
      ]
    },
    {
      "cell_type": "code",
      "source": [
        "print(a[0:4])"
      ],
      "metadata": {
        "colab": {
          "base_uri": "https://localhost:8080/"
        },
        "id": "iSEdF1G3DhRT",
        "outputId": "b2766e5e-5144-40e6-f50a-1f132cb53f1a"
      },
      "execution_count": 23,
      "outputs": [
        {
          "output_type": "stream",
          "name": "stdout",
          "text": [
            "(1, 2, 3, 4)\n"
          ]
        }
      ]
    },
    {
      "cell_type": "code",
      "source": [
        "a[0]=10"
      ],
      "metadata": {
        "colab": {
          "base_uri": "https://localhost:8080/",
          "height": 167
        },
        "id": "t1rZ3UIGDjfK",
        "outputId": "45466e1e-368d-4394-d1d5-834ee2da632b"
      },
      "execution_count": 24,
      "outputs": [
        {
          "output_type": "error",
          "ename": "TypeError",
          "evalue": "ignored",
          "traceback": [
            "\u001b[0;31m---------------------------------------------------------------------------\u001b[0m",
            "\u001b[0;31mTypeError\u001b[0m                                 Traceback (most recent call last)",
            "\u001b[0;32m<ipython-input-24-b864752bb3f1>\u001b[0m in \u001b[0;36m<cell line: 1>\u001b[0;34m()\u001b[0m\n\u001b[0;32m----> 1\u001b[0;31m \u001b[0ma\u001b[0m\u001b[0;34m[\u001b[0m\u001b[0;36m0\u001b[0m\u001b[0;34m]\u001b[0m\u001b[0;34m=\u001b[0m\u001b[0;36m10\u001b[0m\u001b[0;34m\u001b[0m\u001b[0;34m\u001b[0m\u001b[0m\n\u001b[0m",
            "\u001b[0;31mTypeError\u001b[0m: 'tuple' object does not support item assignment"
          ]
        }
      ]
    },
    {
      "cell_type": "code",
      "source": [
        "a.count(11)"
      ],
      "metadata": {
        "colab": {
          "base_uri": "https://localhost:8080/"
        },
        "id": "_Ae9KZpMDn2d",
        "outputId": "4ae7b06f-040e-43d9-ee82-6aa5e7e2e194"
      },
      "execution_count": 25,
      "outputs": [
        {
          "output_type": "execute_result",
          "data": {
            "text/plain": [
              "0"
            ]
          },
          "metadata": {},
          "execution_count": 25
        }
      ]
    },
    {
      "cell_type": "code",
      "source": [
        "a.index(2)"
      ],
      "metadata": {
        "colab": {
          "base_uri": "https://localhost:8080/"
        },
        "id": "9GB1AzuPDv8r",
        "outputId": "899a8d56-f74d-4c05-cee4-fb7db3b1a169"
      },
      "execution_count": 26,
      "outputs": [
        {
          "output_type": "execute_result",
          "data": {
            "text/plain": [
              "1"
            ]
          },
          "metadata": {},
          "execution_count": 26
        }
      ]
    },
    {
      "cell_type": "code",
      "source": [
        "a.append(2)"
      ],
      "metadata": {
        "colab": {
          "base_uri": "https://localhost:8080/",
          "height": 167
        },
        "id": "MBwARF1DDymT",
        "outputId": "a16202f8-1964-4a28-97fa-611cbcb97643"
      },
      "execution_count": 27,
      "outputs": [
        {
          "output_type": "error",
          "ename": "AttributeError",
          "evalue": "ignored",
          "traceback": [
            "\u001b[0;31m---------------------------------------------------------------------------\u001b[0m",
            "\u001b[0;31mAttributeError\u001b[0m                            Traceback (most recent call last)",
            "\u001b[0;32m<ipython-input-27-fcbc3288b426>\u001b[0m in \u001b[0;36m<cell line: 1>\u001b[0;34m()\u001b[0m\n\u001b[0;32m----> 1\u001b[0;31m \u001b[0ma\u001b[0m\u001b[0;34m.\u001b[0m\u001b[0mappend\u001b[0m\u001b[0;34m(\u001b[0m\u001b[0;36m2\u001b[0m\u001b[0;34m)\u001b[0m\u001b[0;34m\u001b[0m\u001b[0;34m\u001b[0m\u001b[0m\n\u001b[0m",
            "\u001b[0;31mAttributeError\u001b[0m: 'tuple' object has no attribute 'append'"
          ]
        }
      ]
    },
    {
      "cell_type": "code",
      "source": [
        "a = (1,2,3)\n",
        "print(id(a))\n",
        "a = a+(4,)"
      ],
      "metadata": {
        "colab": {
          "base_uri": "https://localhost:8080/"
        },
        "id": "qgO0J06AD1Yo",
        "outputId": "992f884b-5383-4da5-ec49-e1b525289481"
      },
      "execution_count": 31,
      "outputs": [
        {
          "output_type": "stream",
          "name": "stdout",
          "text": [
            "140265861166272\n"
          ]
        }
      ]
    },
    {
      "cell_type": "code",
      "source": [
        "print(a)\n",
        "print(id(a))"
      ],
      "metadata": {
        "colab": {
          "base_uri": "https://localhost:8080/"
        },
        "id": "PE2A2HXTEQ5j",
        "outputId": "5c13324f-ad0b-4826-f1c3-0d09c07a3176"
      },
      "execution_count": 32,
      "outputs": [
        {
          "output_type": "stream",
          "name": "stdout",
          "text": [
            "(1, 2, 3, 4)\n",
            "140265861084512\n"
          ]
        }
      ]
    },
    {
      "cell_type": "code",
      "source": [
        "for i in a:\n",
        "    print(i)"
      ],
      "metadata": {
        "colab": {
          "base_uri": "https://localhost:8080/"
        },
        "id": "IPKvNuSUEUpm",
        "outputId": "f0b368ad-7901-480c-f1d7-a26525a336bf"
      },
      "execution_count": 33,
      "outputs": [
        {
          "output_type": "stream",
          "name": "stdout",
          "text": [
            "1\n",
            "2\n",
            "3\n",
            "4\n"
          ]
        }
      ]
    },
    {
      "cell_type": "code",
      "source": [
        "for i in range(len(a)):\n",
        "    print(i,a[i])"
      ],
      "metadata": {
        "colab": {
          "base_uri": "https://localhost:8080/"
        },
        "id": "2rHLxEZ9Ely5",
        "outputId": "411d2078-4aa6-498e-e038-75bb31af9b11"
      },
      "execution_count": 34,
      "outputs": [
        {
          "output_type": "stream",
          "name": "stdout",
          "text": [
            "0 1\n",
            "1 2\n",
            "2 3\n",
            "3 4\n"
          ]
        }
      ]
    },
    {
      "cell_type": "code",
      "source": [
        "a=([1,2],3)\n",
        "print(id(a))"
      ],
      "metadata": {
        "colab": {
          "base_uri": "https://localhost:8080/"
        },
        "id": "XybSPyeOEqGV",
        "outputId": "1baf1d18-89d0-4e65-87aa-8739a26f2b98"
      },
      "execution_count": 38,
      "outputs": [
        {
          "output_type": "stream",
          "name": "stdout",
          "text": [
            "140265299828864\n"
          ]
        }
      ]
    },
    {
      "cell_type": "code",
      "source": [
        "a[0].append(3)"
      ],
      "metadata": {
        "id": "TCmsN32oEvPG"
      },
      "execution_count": 36,
      "outputs": []
    },
    {
      "cell_type": "code",
      "source": [
        "print(a)\n",
        "print(id(a))"
      ],
      "metadata": {
        "colab": {
          "base_uri": "https://localhost:8080/"
        },
        "id": "rPWDKZ6dEx-5",
        "outputId": "c2d3dcc4-0967-41cb-c9b8-46e2da1d93ea"
      },
      "execution_count": 39,
      "outputs": [
        {
          "output_type": "stream",
          "name": "stdout",
          "text": [
            "([1, 2], 3)\n",
            "140265299828864\n"
          ]
        }
      ]
    },
    {
      "cell_type": "markdown",
      "source": [
        "Packing and Unpacking:"
      ],
      "metadata": {
        "id": "gG1I5d78Foe-"
      }
    },
    {
      "cell_type": "code",
      "source": [
        "a = (1,2,3)\n",
        "print(type(a))"
      ],
      "metadata": {
        "colab": {
          "base_uri": "https://localhost:8080/"
        },
        "id": "d05FO39tEy_U",
        "outputId": "822f947a-07a0-470a-a33e-4fe764156630"
      },
      "execution_count": 40,
      "outputs": [
        {
          "output_type": "stream",
          "name": "stdout",
          "text": [
            "<class 'tuple'>\n"
          ]
        }
      ]
    },
    {
      "cell_type": "code",
      "source": [
        "len(a)"
      ],
      "metadata": {
        "colab": {
          "base_uri": "https://localhost:8080/"
        },
        "id": "Apdv_8E8Fygr",
        "outputId": "ee9891fe-8be0-4b9f-d3e2-1e3326597f0b"
      },
      "execution_count": 41,
      "outputs": [
        {
          "output_type": "execute_result",
          "data": {
            "text/plain": [
              "3"
            ]
          },
          "metadata": {},
          "execution_count": 41
        }
      ]
    },
    {
      "cell_type": "code",
      "source": [
        "# we are upacking\n",
        "'''\n",
        "x = a[0]\n",
        "y=a[1]\n",
        "z = a[2]\n",
        "'''\n",
        "x,y,z = a\n",
        "print(x)"
      ],
      "metadata": {
        "colab": {
          "base_uri": "https://localhost:8080/"
        },
        "id": "ezLgE6WDFt3Q",
        "outputId": "3820ad73-c70c-4a65-f84a-c38e14d697ab"
      },
      "execution_count": 42,
      "outputs": [
        {
          "output_type": "stream",
          "name": "stdout",
          "text": [
            "1\n"
          ]
        }
      ]
    },
    {
      "cell_type": "code",
      "source": [
        "print(y)"
      ],
      "metadata": {
        "colab": {
          "base_uri": "https://localhost:8080/"
        },
        "id": "fNaKTeerF3NX",
        "outputId": "d61fc63d-4556-4b21-b19c-5d0abf270987"
      },
      "execution_count": 43,
      "outputs": [
        {
          "output_type": "stream",
          "name": "stdout",
          "text": [
            "2\n"
          ]
        }
      ]
    },
    {
      "cell_type": "code",
      "source": [
        "print(z)"
      ],
      "metadata": {
        "colab": {
          "base_uri": "https://localhost:8080/"
        },
        "id": "morsBFG8F44g",
        "outputId": "9dad33ef-b0ba-4e6e-b280-510e924cb824"
      },
      "execution_count": 44,
      "outputs": [
        {
          "output_type": "stream",
          "name": "stdout",
          "text": [
            "3\n"
          ]
        }
      ]
    },
    {
      "cell_type": "code",
      "source": [
        "data =  (\"Sachin\", 12,35)\n",
        "name, rollno, marks =data\n",
        "print(name) #\n",
        "print(rollno)\n",
        "print(marks)"
      ],
      "metadata": {
        "colab": {
          "base_uri": "https://localhost:8080/"
        },
        "id": "_fsTA59zF6Rm",
        "outputId": "85196eed-c4a5-482a-8743-6309c68e9aad"
      },
      "execution_count": 57,
      "outputs": [
        {
          "output_type": "stream",
          "name": "stdout",
          "text": [
            "Sachin\n",
            "12\n",
            "35\n"
          ]
        }
      ]
    },
    {
      "cell_type": "code",
      "source": [
        "a,b=input(),input()"
      ],
      "metadata": {
        "colab": {
          "base_uri": "https://localhost:8080/"
        },
        "id": "RxncyxDSGKB9",
        "outputId": "232241c4-e629-4306-e9de-7c30ce93c201"
      },
      "execution_count": 46,
      "outputs": [
        {
          "name": "stdout",
          "output_type": "stream",
          "text": [
            "1\n",
            "2\n"
          ]
        }
      ]
    },
    {
      "cell_type": "code",
      "source": [
        "print(b)"
      ],
      "metadata": {
        "colab": {
          "base_uri": "https://localhost:8080/"
        },
        "id": "prFGUnu7GRwB",
        "outputId": "2dff82d1-281b-4042-c6c5-793b5148da20"
      },
      "execution_count": 48,
      "outputs": [
        {
          "output_type": "stream",
          "name": "stdout",
          "text": [
            "2\n"
          ]
        }
      ]
    },
    {
      "cell_type": "code",
      "source": [
        "a,b = [1,2]\n",
        "print(a)"
      ],
      "metadata": {
        "colab": {
          "base_uri": "https://localhost:8080/"
        },
        "id": "GL5trQjlGUTk",
        "outputId": "cd98b706-fc66-43fe-8b7f-1c59c1a2c052"
      },
      "execution_count": 51,
      "outputs": [
        {
          "output_type": "stream",
          "name": "stdout",
          "text": [
            "1\n"
          ]
        }
      ]
    },
    {
      "cell_type": "code",
      "source": [
        "a,b,c = (1,2)"
      ],
      "metadata": {
        "colab": {
          "base_uri": "https://localhost:8080/",
          "height": 167
        },
        "id": "-VzQ4uybGzEI",
        "outputId": "d6bdb6ae-e27e-4a55-fc1c-83e46dd506a1"
      },
      "execution_count": 52,
      "outputs": [
        {
          "output_type": "error",
          "ename": "ValueError",
          "evalue": "ignored",
          "traceback": [
            "\u001b[0;31m---------------------------------------------------------------------------\u001b[0m",
            "\u001b[0;31mValueError\u001b[0m                                Traceback (most recent call last)",
            "\u001b[0;32m<ipython-input-52-bb7b02509d4a>\u001b[0m in \u001b[0;36m<cell line: 1>\u001b[0;34m()\u001b[0m\n\u001b[0;32m----> 1\u001b[0;31m \u001b[0ma\u001b[0m\u001b[0;34m,\u001b[0m\u001b[0mb\u001b[0m\u001b[0;34m,\u001b[0m\u001b[0mc\u001b[0m \u001b[0;34m=\u001b[0m \u001b[0;34m(\u001b[0m\u001b[0;36m1\u001b[0m\u001b[0;34m,\u001b[0m\u001b[0;36m2\u001b[0m\u001b[0;34m)\u001b[0m\u001b[0;34m\u001b[0m\u001b[0;34m\u001b[0m\u001b[0m\n\u001b[0m",
            "\u001b[0;31mValueError\u001b[0m: not enough values to unpack (expected 3, got 2)"
          ]
        }
      ]
    },
    {
      "cell_type": "code",
      "source": [
        "a,b = (1,2,3)"
      ],
      "metadata": {
        "colab": {
          "base_uri": "https://localhost:8080/",
          "height": 167
        },
        "id": "QzlIF1_mG_vh",
        "outputId": "e6e0465a-6422-40af-cb37-60981cdeebe6"
      },
      "execution_count": 54,
      "outputs": [
        {
          "output_type": "error",
          "ename": "ValueError",
          "evalue": "ignored",
          "traceback": [
            "\u001b[0;31m---------------------------------------------------------------------------\u001b[0m",
            "\u001b[0;31mValueError\u001b[0m                                Traceback (most recent call last)",
            "\u001b[0;32m<ipython-input-54-865fb508bef6>\u001b[0m in \u001b[0;36m<cell line: 1>\u001b[0;34m()\u001b[0m\n\u001b[0;32m----> 1\u001b[0;31m \u001b[0ma\u001b[0m\u001b[0;34m,\u001b[0m\u001b[0mb\u001b[0m \u001b[0;34m=\u001b[0m \u001b[0;34m(\u001b[0m\u001b[0;36m1\u001b[0m\u001b[0;34m,\u001b[0m\u001b[0;36m2\u001b[0m\u001b[0;34m,\u001b[0m\u001b[0;36m3\u001b[0m\u001b[0;34m)\u001b[0m\u001b[0;34m\u001b[0m\u001b[0;34m\u001b[0m\u001b[0m\n\u001b[0m",
            "\u001b[0;31mValueError\u001b[0m: too many values to unpack (expected 2)"
          ]
        }
      ]
    },
    {
      "cell_type": "code",
      "source": [
        "# packing\n",
        "a = 1,2,3\n",
        "print(type(a))"
      ],
      "metadata": {
        "colab": {
          "base_uri": "https://localhost:8080/"
        },
        "id": "mmSpOHtSHDC4",
        "outputId": "911ff653-0972-4c43-c33d-98f03b2268a7"
      },
      "execution_count": 55,
      "outputs": [
        {
          "output_type": "stream",
          "name": "stdout",
          "text": [
            "<class 'tuple'>\n"
          ]
        }
      ]
    },
    {
      "cell_type": "code",
      "source": [
        "# packing\n",
        "x=1\n",
        "y=2\n",
        "z=\"Hi\"\n",
        "\n",
        "a = x,y,z\n",
        "print(a)"
      ],
      "metadata": {
        "colab": {
          "base_uri": "https://localhost:8080/"
        },
        "id": "0BW3Gsb8HePj",
        "outputId": "1815e58f-f89a-4e7b-91f3-5ecdee33455d"
      },
      "execution_count": 56,
      "outputs": [
        {
          "output_type": "stream",
          "name": "stdout",
          "text": [
            "(1, 2, 'Hi')\n"
          ]
        }
      ]
    },
    {
      "cell_type": "code",
      "source": [
        "x = 12\n",
        "print(a)"
      ],
      "metadata": {
        "colab": {
          "base_uri": "https://localhost:8080/"
        },
        "id": "ATHPPOHhHo-s",
        "outputId": "1d646023-4d3d-4cc2-96be-877dcc88f4d9"
      },
      "execution_count": 58,
      "outputs": [
        {
          "output_type": "stream",
          "name": "stdout",
          "text": [
            "(1, 2, 'Hi')\n"
          ]
        }
      ]
    },
    {
      "cell_type": "code",
      "source": [
        "def func():\n",
        "    return \"Sachin\",\"Instructor\"\n",
        "out = func()\n",
        "print(out)"
      ],
      "metadata": {
        "colab": {
          "base_uri": "https://localhost:8080/"
        },
        "id": "ZsyunozdIDoG",
        "outputId": "8bed8212-82ba-4db5-ad89-f62f1e739b59"
      },
      "execution_count": 59,
      "outputs": [
        {
          "output_type": "stream",
          "name": "stdout",
          "text": [
            "('Sachin', 'Instructor')\n"
          ]
        }
      ]
    },
    {
      "cell_type": "markdown",
      "source": [
        "### **Iterating over a list of tuples**"
      ],
      "metadata": {
        "id": "PgyhxTNlIkvS"
      }
    },
    {
      "cell_type": "code",
      "source": [
        "list1 = [(1,\"Atul\"),(2, \"Jalaj\"), (3, \"Ajay\"),(4,\"Abhishek\"), (5,\"Mani\")]\n",
        "# print(\"RollNo\",rollno,\"Name: \",name)"
      ],
      "metadata": {
        "id": "aDlnISRQIazj"
      },
      "execution_count": 79,
      "outputs": []
    },
    {
      "cell_type": "code",
      "source": [
        "for i in list1:\n",
        "    print(\"RollNo\",i[0],\"\\tName: \",i[1])"
      ],
      "metadata": {
        "colab": {
          "base_uri": "https://localhost:8080/"
        },
        "id": "bJwcMv32JRCg",
        "outputId": "ca1e6171-a5f1-43b8-8992-23d7e5be0984"
      },
      "execution_count": 80,
      "outputs": [
        {
          "output_type": "stream",
          "name": "stdout",
          "text": [
            "RollNo 1 \tName:  Atul\n",
            "RollNo 2 \tName:  Jalaj\n",
            "RollNo 3 \tName:  Ajay\n",
            "RollNo 4 \tName:  Abhishek\n",
            "RollNo 5 \tName:  Mani\n"
          ]
        }
      ]
    },
    {
      "cell_type": "code",
      "source": [
        "for i,j in list1:\n",
        "    print(\"RollNo\",i,\"\\tName: \",j)"
      ],
      "metadata": {
        "colab": {
          "base_uri": "https://localhost:8080/"
        },
        "id": "Rm-wMJhiJS4l",
        "outputId": "a060f96c-2a1d-43eb-d9d6-9e78425fa7b9"
      },
      "execution_count": 81,
      "outputs": [
        {
          "output_type": "stream",
          "name": "stdout",
          "text": [
            "RollNo 1 \tName:  Atul\n",
            "RollNo 2 \tName:  Jalaj\n",
            "RollNo 3 \tName:  Ajay\n",
            "RollNo 4 \tName:  Abhishek\n",
            "RollNo 5 \tName:  Mani\n"
          ]
        }
      ]
    },
    {
      "cell_type": "code",
      "source": [
        "for rollno,name in list1:\n",
        "    print(\"Name\",name,\"\\tRole: \",rollno)"
      ],
      "metadata": {
        "colab": {
          "base_uri": "https://localhost:8080/"
        },
        "id": "UMen6U_FJsxE",
        "outputId": "7275a87a-2e94-41e2-be00-1cb3057339ef"
      },
      "execution_count": 83,
      "outputs": [
        {
          "output_type": "stream",
          "name": "stdout",
          "text": [
            "Name Atul \tRole:  1\n",
            "Name Jalaj \tRole:  2\n",
            "Name Ajay \tRole:  3\n",
            "Name Abhishek \tRole:  4\n",
            "Name Mani \tRole:  5\n"
          ]
        }
      ]
    },
    {
      "cell_type": "markdown",
      "source": [
        "### Given two number, swap them"
      ],
      "metadata": {
        "id": "EQkXTAD-KYrY"
      }
    },
    {
      "cell_type": "code",
      "source": [
        "a = 10\n",
        "b = 5\n",
        "\n",
        "# naive method\n",
        "temp = b # temp will contain 5\n",
        "b = a\n",
        "a=temp\n",
        "print(a,b)"
      ],
      "metadata": {
        "colab": {
          "base_uri": "https://localhost:8080/"
        },
        "id": "cX4I0TmKJ6Ng",
        "outputId": "0855ecbf-dba5-4925-a2d5-17e981d76e85"
      },
      "execution_count": 76,
      "outputs": [
        {
          "output_type": "stream",
          "name": "stdout",
          "text": [
            "5 10\n"
          ]
        }
      ]
    },
    {
      "cell_type": "markdown",
      "source": [
        "Homework: optimize the above algo without using third variable"
      ],
      "metadata": {
        "id": "RyIMd3cyLleK"
      }
    },
    {
      "cell_type": "code",
      "source": [
        "# unpacking\n",
        "a= 10\n",
        "b = 5\n",
        "a,b = b,a\n",
        "print(a,b)"
      ],
      "metadata": {
        "colab": {
          "base_uri": "https://localhost:8080/"
        },
        "id": "pc05ZIe3LA12",
        "outputId": "2176e25b-9854-4392-fcd9-0ca4d1b5bea7"
      },
      "execution_count": 78,
      "outputs": [
        {
          "output_type": "stream",
          "name": "stdout",
          "text": [
            "5 10\n"
          ]
        }
      ]
    },
    {
      "cell_type": "markdown",
      "source": [
        "### Sets:\n"
      ],
      "metadata": {
        "id": "ucgVJ31CMUKo"
      }
    },
    {
      "cell_type": "code",
      "source": [
        "a= { }\n",
        "print(type(a))"
      ],
      "metadata": {
        "colab": {
          "base_uri": "https://localhost:8080/"
        },
        "id": "-Pl0WL1VLWIn",
        "outputId": "e817e861-2c0d-4869-de1e-58e6f88cda41"
      },
      "execution_count": 84,
      "outputs": [
        {
          "output_type": "stream",
          "name": "stdout",
          "text": [
            "<class 'dict'>\n"
          ]
        }
      ]
    },
    {
      "cell_type": "code",
      "source": [
        "a = set()\n",
        "print(type(a))"
      ],
      "metadata": {
        "colab": {
          "base_uri": "https://localhost:8080/"
        },
        "id": "37vF3AEyQ9RI",
        "outputId": "6d764383-9b81-4d28-a30f-63f0f3236c6c"
      },
      "execution_count": 85,
      "outputs": [
        {
          "output_type": "stream",
          "name": "stdout",
          "text": [
            "<class 'set'>\n"
          ]
        }
      ]
    },
    {
      "cell_type": "code",
      "source": [
        "# No Dups\n",
        "a = {1,2,3,4}\n",
        "print(a, type(a))"
      ],
      "metadata": {
        "colab": {
          "base_uri": "https://localhost:8080/"
        },
        "id": "a9gKLS-7RF5t",
        "outputId": "5c5889c4-21a6-41d9-c58e-a5b8c5864c30"
      },
      "execution_count": 86,
      "outputs": [
        {
          "output_type": "stream",
          "name": "stdout",
          "text": [
            "{1, 2, 3, 4} <class 'set'>\n"
          ]
        }
      ]
    },
    {
      "cell_type": "code",
      "source": [
        "a = {1,2,3,4,1,1,1,1}\n",
        "print(a, type(a))"
      ],
      "metadata": {
        "colab": {
          "base_uri": "https://localhost:8080/"
        },
        "id": "Lo0Ldd0sRN2y",
        "outputId": "b2331be9-3254-4fc0-98ed-8657fd21d368"
      },
      "execution_count": 87,
      "outputs": [
        {
          "output_type": "stream",
          "name": "stdout",
          "text": [
            "{1, 2, 3, 4} <class 'set'>\n"
          ]
        }
      ]
    },
    {
      "cell_type": "code",
      "source": [
        "list1= [1,2,3,1,3,2]\n",
        "print(len(set(list1)))"
      ],
      "metadata": {
        "colab": {
          "base_uri": "https://localhost:8080/"
        },
        "id": "phYLo6kQRT8S",
        "outputId": "01ad5d68-3de9-4555-a8c8-273e3e0c6b9f"
      },
      "execution_count": 88,
      "outputs": [
        {
          "output_type": "stream",
          "name": "stdout",
          "text": [
            "3\n"
          ]
        }
      ]
    },
    {
      "cell_type": "code",
      "source": [
        "# sets are unordered\n",
        "a = {1,2,3,4}\n",
        "a[0]"
      ],
      "metadata": {
        "colab": {
          "base_uri": "https://localhost:8080/",
          "height": 202
        },
        "id": "lNMMOjvQRfuM",
        "outputId": "540c110b-5440-4e69-f047-2978e3ffaa1e"
      },
      "execution_count": 90,
      "outputs": [
        {
          "output_type": "error",
          "ename": "TypeError",
          "evalue": "ignored",
          "traceback": [
            "\u001b[0;31m---------------------------------------------------------------------------\u001b[0m",
            "\u001b[0;31mTypeError\u001b[0m                                 Traceback (most recent call last)",
            "\u001b[0;32m<ipython-input-90-d38b49a79f6c>\u001b[0m in \u001b[0;36m<cell line: 3>\u001b[0;34m()\u001b[0m\n\u001b[1;32m      1\u001b[0m \u001b[0;31m# sets are unordered\u001b[0m\u001b[0;34m\u001b[0m\u001b[0;34m\u001b[0m\u001b[0m\n\u001b[1;32m      2\u001b[0m \u001b[0ma\u001b[0m \u001b[0;34m=\u001b[0m \u001b[0;34m{\u001b[0m\u001b[0;36m1\u001b[0m\u001b[0;34m,\u001b[0m\u001b[0;36m2\u001b[0m\u001b[0;34m,\u001b[0m\u001b[0;36m3\u001b[0m\u001b[0;34m,\u001b[0m\u001b[0;36m4\u001b[0m\u001b[0;34m}\u001b[0m\u001b[0;34m\u001b[0m\u001b[0;34m\u001b[0m\u001b[0m\n\u001b[0;32m----> 3\u001b[0;31m \u001b[0ma\u001b[0m\u001b[0;34m[\u001b[0m\u001b[0;36m0\u001b[0m\u001b[0;34m]\u001b[0m\u001b[0;34m\u001b[0m\u001b[0;34m\u001b[0m\u001b[0m\n\u001b[0m",
            "\u001b[0;31mTypeError\u001b[0m: 'set' object is not subscriptable"
          ]
        }
      ]
    },
    {
      "cell_type": "code",
      "source": [
        "a[0:3]"
      ],
      "metadata": {
        "colab": {
          "base_uri": "https://localhost:8080/",
          "height": 167
        },
        "id": "W45yzorTSagO",
        "outputId": "5c46d55c-abf8-49eb-ae6d-22f170179912"
      },
      "execution_count": 91,
      "outputs": [
        {
          "output_type": "error",
          "ename": "TypeError",
          "evalue": "ignored",
          "traceback": [
            "\u001b[0;31m---------------------------------------------------------------------------\u001b[0m",
            "\u001b[0;31mTypeError\u001b[0m                                 Traceback (most recent call last)",
            "\u001b[0;32m<ipython-input-91-96afdae3859c>\u001b[0m in \u001b[0;36m<cell line: 1>\u001b[0;34m()\u001b[0m\n\u001b[0;32m----> 1\u001b[0;31m \u001b[0ma\u001b[0m\u001b[0;34m[\u001b[0m\u001b[0;36m0\u001b[0m\u001b[0;34m:\u001b[0m\u001b[0;36m3\u001b[0m\u001b[0;34m]\u001b[0m\u001b[0;34m\u001b[0m\u001b[0;34m\u001b[0m\u001b[0m\n\u001b[0m",
            "\u001b[0;31mTypeError\u001b[0m: 'set' object is not subscriptable"
          ]
        }
      ]
    },
    {
      "cell_type": "code",
      "source": [
        "for i in a:\n",
        "    print(i)"
      ],
      "metadata": {
        "colab": {
          "base_uri": "https://localhost:8080/"
        },
        "id": "hBiFioEVTFHx",
        "outputId": "49dcdee3-a72a-4310-cd44-777f94f030c5"
      },
      "execution_count": 98,
      "outputs": [
        {
          "output_type": "stream",
          "name": "stdout",
          "text": [
            "1\n",
            "2\n",
            "3\n",
            "4\n"
          ]
        }
      ]
    },
    {
      "cell_type": "code",
      "source": [
        "for i in range(len(a)):\n",
        "    print(a[i])"
      ],
      "metadata": {
        "colab": {
          "base_uri": "https://localhost:8080/",
          "height": 184
        },
        "id": "4UF-zR3vSfnW",
        "outputId": "0356967a-c755-4983-d788-df65d715847b"
      },
      "execution_count": 94,
      "outputs": [
        {
          "output_type": "error",
          "ename": "TypeError",
          "evalue": "ignored",
          "traceback": [
            "\u001b[0;31m---------------------------------------------------------------------------\u001b[0m",
            "\u001b[0;31mTypeError\u001b[0m                                 Traceback (most recent call last)",
            "\u001b[0;32m<ipython-input-94-664c5cd84ae9>\u001b[0m in \u001b[0;36m<cell line: 1>\u001b[0;34m()\u001b[0m\n\u001b[1;32m      1\u001b[0m \u001b[0;32mfor\u001b[0m \u001b[0mi\u001b[0m \u001b[0;32min\u001b[0m \u001b[0mrange\u001b[0m\u001b[0;34m(\u001b[0m\u001b[0mlen\u001b[0m\u001b[0;34m(\u001b[0m\u001b[0ma\u001b[0m\u001b[0;34m)\u001b[0m\u001b[0;34m)\u001b[0m\u001b[0;34m:\u001b[0m\u001b[0;34m\u001b[0m\u001b[0;34m\u001b[0m\u001b[0m\n\u001b[0;32m----> 2\u001b[0;31m     \u001b[0mprint\u001b[0m\u001b[0;34m(\u001b[0m\u001b[0ma\u001b[0m\u001b[0;34m[\u001b[0m\u001b[0mi\u001b[0m\u001b[0;34m]\u001b[0m\u001b[0;34m)\u001b[0m\u001b[0;34m\u001b[0m\u001b[0;34m\u001b[0m\u001b[0m\n\u001b[0m",
            "\u001b[0;31mTypeError\u001b[0m: 'set' object is not subscriptable"
          ]
        }
      ]
    },
    {
      "cell_type": "code",
      "source": [
        "a = {5,2,3,1}\n",
        "print(a)\n",
        "for i in a:\n",
        "    print(i)"
      ],
      "metadata": {
        "colab": {
          "base_uri": "https://localhost:8080/"
        },
        "id": "COIFsiP5Sphu",
        "outputId": "cba1a0a0-44b5-425b-f2ea-7ea5143df0bd"
      },
      "execution_count": 102,
      "outputs": [
        {
          "output_type": "stream",
          "name": "stdout",
          "text": [
            "{1, 2, 3, 5}\n",
            "1\n",
            "2\n",
            "3\n",
            "5\n"
          ]
        }
      ]
    },
    {
      "cell_type": "markdown",
      "source": [
        "only immutables"
      ],
      "metadata": {
        "id": "x7fP_rTGTzfm"
      }
    },
    {
      "cell_type": "code",
      "source": [
        "set1 = {1,2,3,[4,5]}\n",
        "print(set1)"
      ],
      "metadata": {
        "colab": {
          "base_uri": "https://localhost:8080/",
          "height": 184
        },
        "id": "RqtgCmVTTSZP",
        "outputId": "8b5181ba-152a-4e2d-e558-a9ddaebdac7c"
      },
      "execution_count": 103,
      "outputs": [
        {
          "output_type": "error",
          "ename": "TypeError",
          "evalue": "ignored",
          "traceback": [
            "\u001b[0;31m---------------------------------------------------------------------------\u001b[0m",
            "\u001b[0;31mTypeError\u001b[0m                                 Traceback (most recent call last)",
            "\u001b[0;32m<ipython-input-103-929f31f713ef>\u001b[0m in \u001b[0;36m<cell line: 1>\u001b[0;34m()\u001b[0m\n\u001b[0;32m----> 1\u001b[0;31m \u001b[0mset1\u001b[0m \u001b[0;34m=\u001b[0m \u001b[0;34m{\u001b[0m\u001b[0;36m1\u001b[0m\u001b[0;34m,\u001b[0m\u001b[0;36m2\u001b[0m\u001b[0;34m,\u001b[0m\u001b[0;36m3\u001b[0m\u001b[0;34m,\u001b[0m\u001b[0;34m[\u001b[0m\u001b[0;36m4\u001b[0m\u001b[0;34m,\u001b[0m\u001b[0;36m5\u001b[0m\u001b[0;34m]\u001b[0m\u001b[0;34m}\u001b[0m\u001b[0;34m\u001b[0m\u001b[0;34m\u001b[0m\u001b[0m\n\u001b[0m\u001b[1;32m      2\u001b[0m \u001b[0mprint\u001b[0m\u001b[0;34m(\u001b[0m\u001b[0mset1\u001b[0m\u001b[0;34m)\u001b[0m\u001b[0;34m\u001b[0m\u001b[0;34m\u001b[0m\u001b[0m\n",
            "\u001b[0;31mTypeError\u001b[0m: unhashable type: 'list'"
          ]
        }
      ]
    },
    {
      "cell_type": "code",
      "source": [
        "set1 = {1,2,3,{4,5}}\n",
        "print(set1)"
      ],
      "metadata": {
        "colab": {
          "base_uri": "https://localhost:8080/",
          "height": 184
        },
        "id": "hGTjcP5xT-QT",
        "outputId": "2114b1e2-e4a5-4971-e880-0e6de11d24da"
      },
      "execution_count": 104,
      "outputs": [
        {
          "output_type": "error",
          "ename": "TypeError",
          "evalue": "ignored",
          "traceback": [
            "\u001b[0;31m---------------------------------------------------------------------------\u001b[0m",
            "\u001b[0;31mTypeError\u001b[0m                                 Traceback (most recent call last)",
            "\u001b[0;32m<ipython-input-104-fdf85f712720>\u001b[0m in \u001b[0;36m<cell line: 1>\u001b[0;34m()\u001b[0m\n\u001b[0;32m----> 1\u001b[0;31m \u001b[0mset1\u001b[0m \u001b[0;34m=\u001b[0m \u001b[0;34m{\u001b[0m\u001b[0;36m1\u001b[0m\u001b[0;34m,\u001b[0m\u001b[0;36m2\u001b[0m\u001b[0;34m,\u001b[0m\u001b[0;36m3\u001b[0m\u001b[0;34m,\u001b[0m\u001b[0;34m{\u001b[0m\u001b[0;36m4\u001b[0m\u001b[0;34m,\u001b[0m\u001b[0;36m5\u001b[0m\u001b[0;34m}\u001b[0m\u001b[0;34m}\u001b[0m\u001b[0;34m\u001b[0m\u001b[0;34m\u001b[0m\u001b[0m\n\u001b[0m\u001b[1;32m      2\u001b[0m \u001b[0mprint\u001b[0m\u001b[0;34m(\u001b[0m\u001b[0mset1\u001b[0m\u001b[0;34m)\u001b[0m\u001b[0;34m\u001b[0m\u001b[0;34m\u001b[0m\u001b[0m\n",
            "\u001b[0;31mTypeError\u001b[0m: unhashable type: 'set'"
          ]
        }
      ]
    },
    {
      "cell_type": "code",
      "source": [
        "set1 = {1,2,3,(4,5)}\n",
        "print(set1)"
      ],
      "metadata": {
        "colab": {
          "base_uri": "https://localhost:8080/"
        },
        "id": "Be-pYYE5UB_6",
        "outputId": "f0a2f657-ecb3-4ea9-ba5a-038baa4ec478"
      },
      "execution_count": 109,
      "outputs": [
        {
          "output_type": "stream",
          "name": "stdout",
          "text": [
            "{3, 1, (4, 5), 2}\n"
          ]
        }
      ]
    },
    {
      "cell_type": "code",
      "source": [
        "for i in set1:\n",
        "    print(i)"
      ],
      "metadata": {
        "colab": {
          "base_uri": "https://localhost:8080/"
        },
        "id": "4vljQgjMUGzf",
        "outputId": "8c1048c8-a51a-4f3a-90b3-b506d4523f57"
      },
      "execution_count": 114,
      "outputs": [
        {
          "output_type": "stream",
          "name": "stdout",
          "text": [
            "3\n",
            "1\n",
            "(4, 5)\n",
            "2\n"
          ]
        }
      ]
    },
    {
      "cell_type": "code",
      "source": [
        "for i in set1:\n",
        "    print(i)"
      ],
      "metadata": {
        "colab": {
          "base_uri": "https://localhost:8080/"
        },
        "id": "l8Pg0A52UMkF",
        "outputId": "3aaa87f4-4407-4860-dea9-4c3fc7ef19a9"
      },
      "execution_count": 115,
      "outputs": [
        {
          "output_type": "stream",
          "name": "stdout",
          "text": [
            "3\n",
            "1\n",
            "(4, 5)\n",
            "2\n"
          ]
        }
      ]
    },
    {
      "cell_type": "markdown",
      "source": [
        "### Set methods"
      ],
      "metadata": {
        "id": "6Nw8OIfwUoZ8"
      }
    },
    {
      "cell_type": "code",
      "source": [
        "s={1,2,3}\n",
        "print(s)"
      ],
      "metadata": {
        "colab": {
          "base_uri": "https://localhost:8080/"
        },
        "id": "q9BHPzIrUexp",
        "outputId": "a2babef0-2751-4eef-9dd9-248c152e1dbb"
      },
      "execution_count": 116,
      "outputs": [
        {
          "output_type": "stream",
          "name": "stdout",
          "text": [
            "{1, 2, 3}\n"
          ]
        }
      ]
    },
    {
      "cell_type": "code",
      "source": [
        "# add element\n",
        "s.add(4)"
      ],
      "metadata": {
        "id": "P-GfYAnJU3cP"
      },
      "execution_count": 117,
      "outputs": []
    },
    {
      "cell_type": "code",
      "source": [
        "print(s)"
      ],
      "metadata": {
        "id": "MVFN7RCpU8ra"
      },
      "execution_count": null,
      "outputs": []
    },
    {
      "cell_type": "code",
      "source": [
        "# remove element\n",
        "s.remove(3)\n",
        "print(s)"
      ],
      "metadata": {
        "colab": {
          "base_uri": "https://localhost:8080/"
        },
        "id": "ULD8mtcAU-A2",
        "outputId": "9dffeec8-04c4-4501-8377-eb8a529320e6"
      },
      "execution_count": 119,
      "outputs": [
        {
          "output_type": "stream",
          "name": "stdout",
          "text": [
            "{1, 2, 4}\n"
          ]
        }
      ]
    },
    {
      "cell_type": "code",
      "source": [
        "s={1,2,3,4}\n",
        "a = s.pop()\n",
        "print(s)"
      ],
      "metadata": {
        "colab": {
          "base_uri": "https://localhost:8080/"
        },
        "id": "nowV2hswVB3V",
        "outputId": "1bfdb473-4892-4331-b7a8-c2668be32965"
      },
      "execution_count": 121,
      "outputs": [
        {
          "output_type": "stream",
          "name": "stdout",
          "text": [
            "{2, 3, 4}\n"
          ]
        }
      ]
    },
    {
      "cell_type": "code",
      "source": [
        "print(a)"
      ],
      "metadata": {
        "colab": {
          "base_uri": "https://localhost:8080/"
        },
        "id": "moAkk9x6VJtw",
        "outputId": "c87d703f-d137-4ef1-cd30-5f7636121ef1"
      },
      "execution_count": 122,
      "outputs": [
        {
          "output_type": "stream",
          "name": "stdout",
          "text": [
            "1\n"
          ]
        }
      ]
    },
    {
      "cell_type": "code",
      "source": [
        "set1 = {1,2,3,(4,5)}\n",
        "print(set1)"
      ],
      "metadata": {
        "colab": {
          "base_uri": "https://localhost:8080/"
        },
        "id": "jdy_hUiGVQCP",
        "outputId": "e026da7b-68a5-4ce3-e492-8291d105c7a1"
      },
      "execution_count": 124,
      "outputs": [
        {
          "output_type": "stream",
          "name": "stdout",
          "text": [
            "{3, 1, (4, 5), 2}\n"
          ]
        }
      ]
    },
    {
      "cell_type": "code",
      "source": [
        "print(set1.pop())"
      ],
      "metadata": {
        "colab": {
          "base_uri": "https://localhost:8080/"
        },
        "id": "UE9_ABYOVY1X",
        "outputId": "18a566df-a59e-4f32-b5cb-e81ccf0ca1b1"
      },
      "execution_count": 125,
      "outputs": [
        {
          "output_type": "stream",
          "name": "stdout",
          "text": [
            "3\n"
          ]
        }
      ]
    },
    {
      "cell_type": "code",
      "source": [
        "s={1,2,3,4}\n",
        "s.add(5)\n",
        "s.add(6)\n",
        "print(s)"
      ],
      "metadata": {
        "colab": {
          "base_uri": "https://localhost:8080/"
        },
        "id": "6VmuH8YyVdPO",
        "outputId": "37cc7458-e791-4f09-b7c3-4aed6c1404a0"
      },
      "execution_count": 127,
      "outputs": [
        {
          "output_type": "stream",
          "name": "stdout",
          "text": [
            "{1, 2, 3, 4, 5, 6}\n"
          ]
        }
      ]
    },
    {
      "cell_type": "code",
      "source": [
        "s={1,2,3,4}\n",
        "s.update([5,6])\n",
        "print(s)"
      ],
      "metadata": {
        "colab": {
          "base_uri": "https://localhost:8080/"
        },
        "id": "T1YXgriBVxAH",
        "outputId": "70267446-4f7f-49fd-c9aa-7b804468c84d"
      },
      "execution_count": 128,
      "outputs": [
        {
          "output_type": "stream",
          "name": "stdout",
          "text": [
            "{1, 2, 3, 4, 5, 6}\n"
          ]
        }
      ]
    },
    {
      "cell_type": "code",
      "source": [
        "s={1,2,3,4}\n",
        "s.update((5,6,7))\n",
        "print(s)"
      ],
      "metadata": {
        "colab": {
          "base_uri": "https://localhost:8080/"
        },
        "id": "JETf90-wV46m",
        "outputId": "e79073a1-3fbe-40e2-fc16-c56d175701ab"
      },
      "execution_count": 129,
      "outputs": [
        {
          "output_type": "stream",
          "name": "stdout",
          "text": [
            "{1, 2, 3, 4, 5, 6, 7}\n"
          ]
        }
      ]
    },
    {
      "cell_type": "markdown",
      "source": [
        "Question:\n",
        "* Write a function to Take a string as input.\n",
        "* Print the number of unique characters in the string."
      ],
      "metadata": {
        "id": "BEg5meD9WF7Z"
      }
    },
    {
      "cell_type": "code",
      "source": [
        "def count_un():\n",
        "    string = input(\" \")\n",
        "    unique_characters = set(string)\n",
        "    print(\"Unique characters:\", unique_characters)\n",
        "count_un()"
      ],
      "metadata": {
        "colab": {
          "base_uri": "https://localhost:8080/"
        },
        "id": "KUmmlspVV790",
        "outputId": "b62e95ba-cb94-4149-c2ec-02d3de498ed3"
      },
      "execution_count": 131,
      "outputs": [
        {
          "output_type": "stream",
          "name": "stdout",
          "text": [
            " sachinn\n",
            "Unique characters: {'h', 'c', 'i', 's', 'n', 'a'}\n"
          ]
        }
      ]
    },
    {
      "cell_type": "code",
      "source": [
        "set([1,2,3,1])"
      ],
      "metadata": {
        "colab": {
          "base_uri": "https://localhost:8080/"
        },
        "id": "Oefs7H-4Wo2v",
        "outputId": "1be78d3a-660a-4552-e542-945ea169eb54"
      },
      "execution_count": 132,
      "outputs": [
        {
          "output_type": "execute_result",
          "data": {
            "text/plain": [
              "{1, 2, 3}"
            ]
          },
          "metadata": {},
          "execution_count": 132
        }
      ]
    },
    {
      "cell_type": "code",
      "source": [
        "set(\"Sachinmnnn\")"
      ],
      "metadata": {
        "colab": {
          "base_uri": "https://localhost:8080/"
        },
        "id": "sBkGppwqWxp7",
        "outputId": "8a898f7a-532d-47f4-b728-fe8b6704ed24"
      },
      "execution_count": 134,
      "outputs": [
        {
          "output_type": "execute_result",
          "data": {
            "text/plain": [
              "{'S', 'a', 'c', 'h', 'i', 'm', 'n'}"
            ]
          },
          "metadata": {},
          "execution_count": 134
        }
      ]
    },
    {
      "cell_type": "markdown",
      "source": [
        "### Set operation"
      ],
      "metadata": {
        "id": "yUAr5sflW9jy"
      }
    },
    {
      "cell_type": "code",
      "source": [
        "s1 = {1,2,3}\n",
        "s2 = {2,5,3,4}\n",
        "\n",
        "s1.intersection(s2)"
      ],
      "metadata": {
        "colab": {
          "base_uri": "https://localhost:8080/"
        },
        "id": "N7B16VHDWzzI",
        "outputId": "84b3eec1-9b44-48af-c5ab-2a39b254c8a2"
      },
      "execution_count": 135,
      "outputs": [
        {
          "output_type": "execute_result",
          "data": {
            "text/plain": [
              "{2, 3}"
            ]
          },
          "metadata": {},
          "execution_count": 135
        }
      ]
    },
    {
      "cell_type": "code",
      "source": [
        "s2.intersection(s1)"
      ],
      "metadata": {
        "colab": {
          "base_uri": "https://localhost:8080/"
        },
        "id": "vSfm-FfUXoC3",
        "outputId": "b5192b06-0eb3-4cc2-b10c-0cc6ea7516dd"
      },
      "execution_count": 136,
      "outputs": [
        {
          "output_type": "execute_result",
          "data": {
            "text/plain": [
              "{2, 3}"
            ]
          },
          "metadata": {},
          "execution_count": 136
        }
      ]
    },
    {
      "cell_type": "code",
      "source": [
        "s2.intersection(s2)"
      ],
      "metadata": {
        "colab": {
          "base_uri": "https://localhost:8080/"
        },
        "id": "qI76DrJMXvw1",
        "outputId": "c293cfc9-ed0e-4219-ad5a-cce0c9cecf7a"
      },
      "execution_count": 137,
      "outputs": [
        {
          "output_type": "execute_result",
          "data": {
            "text/plain": [
              "{2, 3, 4, 5}"
            ]
          },
          "metadata": {},
          "execution_count": 137
        }
      ]
    },
    {
      "cell_type": "code",
      "source": [
        "# intersection shortcut\n",
        "s1 & s2"
      ],
      "metadata": {
        "colab": {
          "base_uri": "https://localhost:8080/"
        },
        "id": "yIyHuNc9Xyhw",
        "outputId": "0bcbb79c-fc41-4b01-ea2c-86d10ecff99c"
      },
      "execution_count": 139,
      "outputs": [
        {
          "output_type": "execute_result",
          "data": {
            "text/plain": [
              "{2, 3}"
            ]
          },
          "metadata": {},
          "execution_count": 139
        }
      ]
    },
    {
      "cell_type": "markdown",
      "source": [
        "Union"
      ],
      "metadata": {
        "id": "YX242BDfYRtn"
      }
    },
    {
      "cell_type": "code",
      "source": [
        "s1 = {1,2,3}\n",
        "s2 = {2,5,3,4}\n",
        "\n",
        "s1.union(s2)"
      ],
      "metadata": {
        "colab": {
          "base_uri": "https://localhost:8080/"
        },
        "id": "W73p0EWQX4mp",
        "outputId": "689b7964-8a01-4b39-d417-1ce55b13b166"
      },
      "execution_count": 140,
      "outputs": [
        {
          "output_type": "execute_result",
          "data": {
            "text/plain": [
              "{1, 2, 3, 4, 5}"
            ]
          },
          "metadata": {},
          "execution_count": 140
        }
      ]
    },
    {
      "cell_type": "code",
      "source": [
        "s1 = {1,2,3}\n",
        "s2 = {2,5,3,4}\n",
        "s3 = {11,12,3}\n",
        "s1.union(s2).union(s3)"
      ],
      "metadata": {
        "colab": {
          "base_uri": "https://localhost:8080/"
        },
        "id": "vUqnXmtfYQAc",
        "outputId": "d39b2c93-1ccf-4e8c-b2d6-46726898ab46"
      },
      "execution_count": 141,
      "outputs": [
        {
          "output_type": "execute_result",
          "data": {
            "text/plain": [
              "{1, 2, 3, 4, 5, 11, 12}"
            ]
          },
          "metadata": {},
          "execution_count": 141
        }
      ]
    },
    {
      "cell_type": "code",
      "source": [
        "s1 | s2"
      ],
      "metadata": {
        "colab": {
          "base_uri": "https://localhost:8080/"
        },
        "id": "3OfHhBzOYexR",
        "outputId": "0ce3f1be-acd4-4ecc-c30b-b365b6ae23a4"
      },
      "execution_count": 143,
      "outputs": [
        {
          "output_type": "execute_result",
          "data": {
            "text/plain": [
              "{1, 2, 3, 4, 5}"
            ]
          },
          "metadata": {},
          "execution_count": 143
        }
      ]
    },
    {
      "cell_type": "code",
      "source": [
        "s1 | s2 | s3"
      ],
      "metadata": {
        "colab": {
          "base_uri": "https://localhost:8080/"
        },
        "id": "PlStoEivYkkw",
        "outputId": "375fe788-c10c-49c1-e182-54d229c70ecc"
      },
      "execution_count": 144,
      "outputs": [
        {
          "output_type": "execute_result",
          "data": {
            "text/plain": [
              "{1, 2, 3, 4, 5, 11, 12}"
            ]
          },
          "metadata": {},
          "execution_count": 144
        }
      ]
    },
    {
      "cell_type": "markdown",
      "source": [
        "difference:"
      ],
      "metadata": {
        "id": "Uym8tiK4Y9R2"
      }
    },
    {
      "cell_type": "code",
      "source": [
        "s1 = {1,2,3}\n",
        "s2 = {2,5,3,4}\n",
        "s1.difference(s2)"
      ],
      "metadata": {
        "colab": {
          "base_uri": "https://localhost:8080/"
        },
        "id": "93dxIUs-YoSu",
        "outputId": "31e63e57-1b74-47a7-91aa-29869a4ab879"
      },
      "execution_count": 145,
      "outputs": [
        {
          "output_type": "execute_result",
          "data": {
            "text/plain": [
              "{1}"
            ]
          },
          "metadata": {},
          "execution_count": 145
        }
      ]
    },
    {
      "cell_type": "code",
      "source": [
        "s1 = {1,2,3}\n",
        "s2 = {2,5,3,4}\n",
        "s2.difference(s1)"
      ],
      "metadata": {
        "colab": {
          "base_uri": "https://localhost:8080/"
        },
        "id": "0hb_dosQZAW3",
        "outputId": "c2350adc-21af-4a38-f7cd-044a96e4150f"
      },
      "execution_count": 146,
      "outputs": [
        {
          "output_type": "execute_result",
          "data": {
            "text/plain": [
              "{4, 5}"
            ]
          },
          "metadata": {},
          "execution_count": 146
        }
      ]
    },
    {
      "cell_type": "code",
      "source": [
        "s1-s2"
      ],
      "metadata": {
        "colab": {
          "base_uri": "https://localhost:8080/"
        },
        "id": "M8pssUEgZFGO",
        "outputId": "4bc6d26d-e8a4-481a-eb98-506a42b86053"
      },
      "execution_count": 147,
      "outputs": [
        {
          "output_type": "execute_result",
          "data": {
            "text/plain": [
              "{1}"
            ]
          },
          "metadata": {},
          "execution_count": 147
        }
      ]
    },
    {
      "cell_type": "code",
      "source": [
        "s2-s1"
      ],
      "metadata": {
        "colab": {
          "base_uri": "https://localhost:8080/"
        },
        "id": "8b2zLnAdZIhI",
        "outputId": "5dee7697-36e7-4170-86db-7eb28f344832"
      },
      "execution_count": 148,
      "outputs": [
        {
          "output_type": "execute_result",
          "data": {
            "text/plain": [
              "{4, 5}"
            ]
          },
          "metadata": {},
          "execution_count": 148
        }
      ]
    },
    {
      "cell_type": "markdown",
      "source": [
        "symmetric difference"
      ],
      "metadata": {
        "id": "Ak2SmUJLZlkk"
      }
    },
    {
      "cell_type": "code",
      "source": [
        "s1 = {1,2,3}\n",
        "s2 = {2,5,3,4}\n",
        "s2.symmetric_difference(s1)"
      ],
      "metadata": {
        "colab": {
          "base_uri": "https://localhost:8080/"
        },
        "id": "RK6P4LLDZKzC",
        "outputId": "85c42045-1bdf-48d3-ef54-5aea88ac7659"
      },
      "execution_count": 149,
      "outputs": [
        {
          "output_type": "execute_result",
          "data": {
            "text/plain": [
              "{1, 4, 5}"
            ]
          },
          "metadata": {},
          "execution_count": 149
        }
      ]
    },
    {
      "cell_type": "code",
      "source": [
        "s1.symmetric_difference(s2)"
      ],
      "metadata": {
        "colab": {
          "base_uri": "https://localhost:8080/"
        },
        "id": "BypU0LIeZwB0",
        "outputId": "7c73c627-0dde-45c3-bd63-ef96e069b7e9"
      },
      "execution_count": 150,
      "outputs": [
        {
          "output_type": "execute_result",
          "data": {
            "text/plain": [
              "{1, 4, 5}"
            ]
          },
          "metadata": {},
          "execution_count": 150
        }
      ]
    },
    {
      "cell_type": "code",
      "source": [
        "s1 ^ s2"
      ],
      "metadata": {
        "colab": {
          "base_uri": "https://localhost:8080/"
        },
        "id": "df_F5Yc_Zy8v",
        "outputId": "9a8e9faf-819e-470a-8387-d190e31af9b3"
      },
      "execution_count": 151,
      "outputs": [
        {
          "output_type": "execute_result",
          "data": {
            "text/plain": [
              "{1, 4, 5}"
            ]
          },
          "metadata": {},
          "execution_count": 151
        }
      ]
    },
    {
      "cell_type": "markdown",
      "source": [
        "## **Question - 3**\n",
        "* You are given a string as input.\n",
        "* Ascertain wheather that string contains a binary number or not.\n",
        "\n",
        "```\n",
        "Sample input-1\n",
        "\"0011010101ab\"\n",
        "```\n",
        "```\n",
        "Sample input-2\n",
        "\"010010101010\"\n",
        "```\n",
        "\n",
        "```\n",
        "Sample output-1\n",
        "\"Not Binary!\"\n",
        "```\n",
        "```\n",
        "Sample output-2\n",
        "\"Binary!\"\n",
        "```"
      ],
      "metadata": {
        "id": "3vPDoraMZ6_7"
      }
    },
    {
      "cell_type": "code",
      "source": [
        "#how do we add a str or int to list with tup in it\n",
        "list1 = [(1,\"hello\"), (2,\"World\")]\n",
        "list1[0]"
      ],
      "metadata": {
        "colab": {
          "base_uri": "https://localhost:8080/"
        },
        "id": "Y1nMnE81Z2HE",
        "outputId": "9a6b437d-40c9-48a7-81fa-b5305a23633d"
      },
      "execution_count": 161,
      "outputs": [
        {
          "output_type": "execute_result",
          "data": {
            "text/plain": [
              "(1, 'hello')"
            ]
          },
          "metadata": {},
          "execution_count": 161
        }
      ]
    },
    {
      "cell_type": "code",
      "source": [
        "a= list(list1[0])\n",
        "a.append(\"bye\")\n",
        "list1[0]=tuple(a)\n",
        "print(list1)"
      ],
      "metadata": {
        "colab": {
          "base_uri": "https://localhost:8080/"
        },
        "id": "jAt3abSqawAe",
        "outputId": "c1c31b7c-ce6a-40e2-fa3e-7658188a3fd7"
      },
      "execution_count": 162,
      "outputs": [
        {
          "output_type": "stream",
          "name": "stdout",
          "text": [
            "[(1, 'hello', 'bye'), (2, 'World')]\n"
          ]
        }
      ]
    },
    {
      "cell_type": "code",
      "source": [],
      "metadata": {
        "id": "RPyBMtlva2NX"
      },
      "execution_count": null,
      "outputs": []
    }
  ]
}