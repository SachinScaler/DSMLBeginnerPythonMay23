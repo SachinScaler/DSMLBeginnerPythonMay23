{
  "nbformat": 4,
  "nbformat_minor": 0,
  "metadata": {
    "colab": {
      "provenance": [],
      "authorship_tag": "ABX9TyPK1IGD6tUvxp9sIcdp65sK",
      "include_colab_link": true
    },
    "kernelspec": {
      "name": "python3",
      "display_name": "Python 3"
    },
    "language_info": {
      "name": "python"
    }
  },
  "cells": [
    {
      "cell_type": "markdown",
      "metadata": {
        "id": "view-in-github",
        "colab_type": "text"
      },
      "source": [
        "<a href=\"https://colab.research.google.com/github/SachinScaler/DSMLBeginnerPythonMay23/blob/main/Dictionary.ipynb\" target=\"_parent\"><img src=\"https://colab.research.google.com/assets/colab-badge.svg\" alt=\"Open In Colab\"/></a>"
      ]
    },
    {
      "cell_type": "code",
      "execution_count": 1,
      "metadata": {
        "colab": {
          "base_uri": "https://localhost:8080/"
        },
        "id": "qlukpuaZZ9eD",
        "outputId": "6d433a53-a399-496b-8720-4f3e51606b46"
      },
      "outputs": [
        {
          "output_type": "stream",
          "name": "stdout",
          "text": [
            "[3, 4]\n"
          ]
        }
      ],
      "source": [
        "t = [[1,2], [3,4], (5,6)]\n",
        "print(t[1])\n",
        "a, b = t[1]"
      ]
    },
    {
      "cell_type": "code",
      "source": [
        "print(a)\n",
        "print(b)"
      ],
      "metadata": {
        "colab": {
          "base_uri": "https://localhost:8080/"
        },
        "id": "3J9HMAKnctzo",
        "outputId": "6b05435b-828f-4193-80ce-dbce739a12f3"
      },
      "execution_count": 2,
      "outputs": [
        {
          "output_type": "stream",
          "name": "stdout",
          "text": [
            "3\n",
            "4\n"
          ]
        }
      ]
    },
    {
      "cell_type": "code",
      "source": [
        "s = {{1,2,3,4,5}}\n",
        "print(s)"
      ],
      "metadata": {
        "colab": {
          "base_uri": "https://localhost:8080/",
          "height": 184
        },
        "id": "ntJELvbxczoZ",
        "outputId": "9580c81d-756e-473e-9c95-6fea39c945ef"
      },
      "execution_count": 3,
      "outputs": [
        {
          "output_type": "error",
          "ename": "TypeError",
          "evalue": "ignored",
          "traceback": [
            "\u001b[0;31m---------------------------------------------------------------------------\u001b[0m",
            "\u001b[0;31mTypeError\u001b[0m                                 Traceback (most recent call last)",
            "\u001b[0;32m<ipython-input-3-ecc446f32b87>\u001b[0m in \u001b[0;36m<cell line: 1>\u001b[0;34m()\u001b[0m\n\u001b[0;32m----> 1\u001b[0;31m \u001b[0ms\u001b[0m \u001b[0;34m=\u001b[0m \u001b[0;34m{\u001b[0m\u001b[0;34m{\u001b[0m\u001b[0;36m1\u001b[0m\u001b[0;34m,\u001b[0m\u001b[0;36m2\u001b[0m\u001b[0;34m,\u001b[0m\u001b[0;36m3\u001b[0m\u001b[0;34m,\u001b[0m\u001b[0;36m4\u001b[0m\u001b[0;34m,\u001b[0m\u001b[0;36m5\u001b[0m\u001b[0;34m}\u001b[0m\u001b[0;34m}\u001b[0m\u001b[0;34m\u001b[0m\u001b[0;34m\u001b[0m\u001b[0m\n\u001b[0m\u001b[1;32m      2\u001b[0m \u001b[0mprint\u001b[0m\u001b[0;34m(\u001b[0m\u001b[0ms\u001b[0m\u001b[0;34m)\u001b[0m\u001b[0;34m\u001b[0m\u001b[0;34m\u001b[0m\u001b[0m\n",
            "\u001b[0;31mTypeError\u001b[0m: unhashable type: 'set'"
          ]
        }
      ]
    },
    {
      "cell_type": "code",
      "source": [
        "a = {1,2,3}\n",
        "b = {1,2}\n",
        "print(b-a)"
      ],
      "metadata": {
        "colab": {
          "base_uri": "https://localhost:8080/"
        },
        "id": "1gtgp_FWdHby",
        "outputId": "c2b0eea3-0e47-4502-e8e1-5458e5267ad1"
      },
      "execution_count": 5,
      "outputs": [
        {
          "output_type": "stream",
          "name": "stdout",
          "text": [
            "set()\n"
          ]
        }
      ]
    },
    {
      "cell_type": "code",
      "source": [
        "a = None\n",
        "print(type(a))"
      ],
      "metadata": {
        "colab": {
          "base_uri": "https://localhost:8080/"
        },
        "id": "aRXkRfoIdYth",
        "outputId": "640e5f62-2ecb-45eb-a08e-5275eef4429d"
      },
      "execution_count": 8,
      "outputs": [
        {
          "output_type": "stream",
          "name": "stdout",
          "text": [
            "<class 'NoneType'>\n"
          ]
        }
      ]
    },
    {
      "cell_type": "markdown",
      "source": [
        "None != None of the above"
      ],
      "metadata": {
        "id": "lAXGHnGbdz3y"
      }
    },
    {
      "cell_type": "code",
      "source": [
        "a = {1,2,3}\n",
        "b = {1,2}\n",
        "print(a-b)"
      ],
      "metadata": {
        "colab": {
          "base_uri": "https://localhost:8080/"
        },
        "id": "eWCNpnpUdviq",
        "outputId": "b93c80fb-ba36-4dd1-cd24-8cbb390407cd"
      },
      "execution_count": 9,
      "outputs": [
        {
          "output_type": "stream",
          "name": "stdout",
          "text": [
            "{3}\n"
          ]
        }
      ]
    },
    {
      "cell_type": "code",
      "source": [
        "s1 = {1,2,3}\n",
        "s2 = {2,3,4,5}\n",
        "result = s1 & s2 - s2\n",
        "print(result)"
      ],
      "metadata": {
        "colab": {
          "base_uri": "https://localhost:8080/"
        },
        "id": "6B8etRpsegUG",
        "outputId": "93969aaa-8d2b-4ccd-9d9c-ee5a7ce2d930"
      },
      "execution_count": 12,
      "outputs": [
        {
          "output_type": "stream",
          "name": "stdout",
          "text": [
            "set()\n"
          ]
        }
      ]
    },
    {
      "cell_type": "markdown",
      "source": [
        "### Empty dictionary"
      ],
      "metadata": {
        "id": "t6Jka36TiTQ4"
      }
    },
    {
      "cell_type": "code",
      "source": [
        "a = {}\n",
        "print(type(a))"
      ],
      "metadata": {
        "colab": {
          "base_uri": "https://localhost:8080/"
        },
        "id": "omj5xd9ve2DG",
        "outputId": "b52cfa98-01f8-4524-c0bf-00966f33eccb"
      },
      "execution_count": 16,
      "outputs": [
        {
          "output_type": "stream",
          "name": "stdout",
          "text": [
            "<class 'dict'>\n"
          ]
        }
      ]
    },
    {
      "cell_type": "code",
      "source": [
        "a = dict()\n",
        "print(type(a))"
      ],
      "metadata": {
        "colab": {
          "base_uri": "https://localhost:8080/"
        },
        "id": "p5_nnXmyiWSg",
        "outputId": "c2db814e-92b2-4641-fb75-06f952d8b066"
      },
      "execution_count": 15,
      "outputs": [
        {
          "output_type": "stream",
          "name": "stdout",
          "text": [
            "<class 'dict'>\n"
          ]
        }
      ]
    },
    {
      "cell_type": "code",
      "source": [
        "a = {'random':'Bizzare'}\n",
        "print(a)"
      ],
      "metadata": {
        "colab": {
          "base_uri": "https://localhost:8080/"
        },
        "id": "wqwagOzqiZZS",
        "outputId": "9b52395b-4b66-4286-c158-7b23505ff092"
      },
      "execution_count": 17,
      "outputs": [
        {
          "output_type": "stream",
          "name": "stdout",
          "text": [
            "{'random': 'Bizzare'}\n"
          ]
        }
      ]
    },
    {
      "cell_type": "code",
      "source": [
        "a = {'random':'Bizzare'}\n",
        "print(a)"
      ],
      "metadata": {
        "id": "r4mFung0ihoM"
      },
      "execution_count": null,
      "outputs": []
    },
    {
      "cell_type": "code",
      "source": [
        "a = {'random':'Bizzare', \"b\": \"Value2\", 4:[\"Hello\"]}\n",
        "print(a)"
      ],
      "metadata": {
        "colab": {
          "base_uri": "https://localhost:8080/"
        },
        "id": "2gW8tq8cis3_",
        "outputId": "2e5be675-2384-4344-b4b3-cb110343bda9"
      },
      "execution_count": 18,
      "outputs": [
        {
          "output_type": "stream",
          "name": "stdout",
          "text": [
            "{'random': 'Bizzare', 'b': 'Value2', 4: ['Hello']}\n"
          ]
        }
      ]
    },
    {
      "cell_type": "code",
      "source": [
        "print(len(a))"
      ],
      "metadata": {
        "colab": {
          "base_uri": "https://localhost:8080/"
        },
        "id": "jc5osos8i5KV",
        "outputId": "7c5a7937-0147-4693-f7df-b9190a618fa0"
      },
      "execution_count": 19,
      "outputs": [
        {
          "output_type": "stream",
          "name": "stdout",
          "text": [
            "3\n"
          ]
        }
      ]
    },
    {
      "cell_type": "code",
      "source": [
        "a = {'random':'Bizzare', \"b\": \"Value2\", 4:[\"Hello\"]}\n",
        "print(a)"
      ],
      "metadata": {
        "colab": {
          "base_uri": "https://localhost:8080/"
        },
        "id": "zjreK3RMi-Xs",
        "outputId": "2a1c0772-e1b7-4145-80d3-999d41252cf5"
      },
      "execution_count": 26,
      "outputs": [
        {
          "output_type": "stream",
          "name": "stdout",
          "text": [
            "{'random': 'Bizzare', 'b': 'Value2', 4: ['Hello']}\n"
          ]
        }
      ]
    },
    {
      "cell_type": "code",
      "source": [
        "a = {'random':{'H':'Value2'}}\n",
        "print(a)"
      ],
      "metadata": {
        "colab": {
          "base_uri": "https://localhost:8080/"
        },
        "id": "01TdGgBRjEwN",
        "outputId": "ac2c8c6b-c11a-40f5-f774-177f49f57263"
      },
      "execution_count": 27,
      "outputs": [
        {
          "output_type": "stream",
          "name": "stdout",
          "text": [
            "{'random': {'H': 'Value2'}}\n"
          ]
        }
      ]
    },
    {
      "cell_type": "code",
      "source": [
        "# hashmap ,  map"
      ],
      "metadata": {
        "colab": {
          "base_uri": "https://localhost:8080/"
        },
        "id": "gCroZC64j7pl",
        "outputId": "503079fe-da19-4567-dfee-87cb11363f2c"
      },
      "execution_count": 28,
      "outputs": [
        {
          "output_type": "stream",
          "name": "stdout",
          "text": [
            "{'random': {'H': {'J': 'Value'}}}\n"
          ]
        }
      ]
    },
    {
      "cell_type": "code",
      "source": [
        "a = {'random':'Bizzare', \"b\": \"Value2\", \"b\":\"Value3\"}\n",
        "print(a)"
      ],
      "metadata": {
        "colab": {
          "base_uri": "https://localhost:8080/"
        },
        "id": "lezrRHXLkH91",
        "outputId": "a59fc14d-4bc3-4430-a093-757a6767142a"
      },
      "execution_count": 30,
      "outputs": [
        {
          "output_type": "stream",
          "name": "stdout",
          "text": [
            "{'random': 'Bizzare', 'b': 'Value3'}\n"
          ]
        }
      ]
    },
    {
      "cell_type": "code",
      "source": [
        "a = {'random':'Bizzare', \"b\": \"Value2\", \"c\":\"Value2\"}\n",
        "print(a)"
      ],
      "metadata": {
        "colab": {
          "base_uri": "https://localhost:8080/"
        },
        "id": "p2P4g9h9kzkD",
        "outputId": "08a5478a-b73b-4413-def3-979518a326ef"
      },
      "execution_count": 31,
      "outputs": [
        {
          "output_type": "stream",
          "name": "stdout",
          "text": [
            "{'random': 'Bizzare', 'b': 'Value2', 'c': 'Value2'}\n"
          ]
        }
      ]
    },
    {
      "cell_type": "markdown",
      "source": [
        "## Why do we need Dictionary\n",
        "### Accessing Elements in Dictionary"
      ],
      "metadata": {
        "id": "4XMio2sklrRT"
      }
    },
    {
      "cell_type": "code",
      "source": [
        "state_wise_data = {\"Delhi\":400,\n",
        "              \"Haryana\":200,\n",
        "              \"Tamil Nadu\": 150}\n",
        "print(state_wise_data)"
      ],
      "metadata": {
        "colab": {
          "base_uri": "https://localhost:8080/"
        },
        "id": "hXFGfTqRlmGq",
        "outputId": "1ed1054c-c93a-48d6-a48d-a75ffb3120b8"
      },
      "execution_count": 38,
      "outputs": [
        {
          "output_type": "stream",
          "name": "stdout",
          "text": [
            "{'Delhi': 400, 'Haryana': 200, 'Tamil Nadu': 150}\n"
          ]
        }
      ]
    },
    {
      "cell_type": "code",
      "source": [
        "state_wise_data['Tamil Nadu']"
      ],
      "metadata": {
        "colab": {
          "base_uri": "https://localhost:8080/"
        },
        "id": "BFwHmVkMmDQs",
        "outputId": "bd85601c-1b27-4dae-c970-f07815a9d066"
      },
      "execution_count": 39,
      "outputs": [
        {
          "output_type": "execute_result",
          "data": {
            "text/plain": [
              "150"
            ]
          },
          "metadata": {},
          "execution_count": 39
        }
      ]
    },
    {
      "cell_type": "code",
      "source": [
        "state_wise_data[\"Haryana\"]"
      ],
      "metadata": {
        "colab": {
          "base_uri": "https://localhost:8080/"
        },
        "id": "Zoza0wGJnjrs",
        "outputId": "23fdef6f-86f1-4eae-99da-ef6a6fb21a18"
      },
      "execution_count": 40,
      "outputs": [
        {
          "output_type": "execute_result",
          "data": {
            "text/plain": [
              "200"
            ]
          },
          "metadata": {},
          "execution_count": 40
        }
      ]
    },
    {
      "cell_type": "code",
      "source": [
        "state_wise_data = [[\"Delhi\",400], [\"Haryana\",200], [\"Tamil Nadu\", 150]]\n",
        "print(state_wise_data)"
      ],
      "metadata": {
        "colab": {
          "base_uri": "https://localhost:8080/"
        },
        "id": "v9u23lU1mJuF",
        "outputId": "9df5d1ff-03b5-4e3d-bb9f-4ee236893a3e"
      },
      "execution_count": 35,
      "outputs": [
        {
          "output_type": "stream",
          "name": "stdout",
          "text": [
            "[['Delhi', 400], ['Haryana', 200], ['Tamil Nadu', 150]]\n"
          ]
        }
      ]
    },
    {
      "cell_type": "code",
      "source": [],
      "metadata": {
        "id": "P_T2YZZ0niIA"
      },
      "execution_count": null,
      "outputs": []
    },
    {
      "cell_type": "code",
      "source": [
        "state_wise_data_list = [[\"Delhi\",400], [\"Haryana\",200], [\"Tamil Nadu\", 150],[\"Delhi\",500]]\n",
        "print(state_wise_data_list)"
      ],
      "metadata": {
        "colab": {
          "base_uri": "https://localhost:8080/"
        },
        "id": "gTEP9fAJmt24",
        "outputId": "202b42e2-ffda-4e15-99a2-ee55a878028b"
      },
      "execution_count": 42,
      "outputs": [
        {
          "output_type": "stream",
          "name": "stdout",
          "text": [
            "[['Delhi', 400], ['Haryana', 200], ['Tamil Nadu', 150], ['Delhi', 500]]\n"
          ]
        }
      ]
    },
    {
      "cell_type": "code",
      "source": [
        "state_wise_data_list[1][1]"
      ],
      "metadata": {
        "colab": {
          "base_uri": "https://localhost:8080/"
        },
        "id": "eMNwTh6hnRvH",
        "outputId": "a88bc1b9-e3a0-4087-8fbb-29014524fac4"
      },
      "execution_count": 43,
      "outputs": [
        {
          "output_type": "execute_result",
          "data": {
            "text/plain": [
              "200"
            ]
          },
          "metadata": {},
          "execution_count": 43
        }
      ]
    },
    {
      "cell_type": "code",
      "source": [],
      "metadata": {
        "id": "8Ubw2h2en_fF"
      },
      "execution_count": null,
      "outputs": []
    },
    {
      "cell_type": "markdown",
      "source": [
        "### New key Value pair in existing dictionary"
      ],
      "metadata": {
        "id": "H0pqnfmOoAE5"
      }
    },
    {
      "cell_type": "code",
      "source": [
        "state_wise_data"
      ],
      "metadata": {
        "colab": {
          "base_uri": "https://localhost:8080/"
        },
        "id": "tARkpfQXnZLF",
        "outputId": "e6d1614e-4116-4f9d-f7a8-6f84fff504c4"
      },
      "execution_count": 45,
      "outputs": [
        {
          "output_type": "execute_result",
          "data": {
            "text/plain": [
              "{'Delhi': 400, 'Haryana': 200, 'Tamil Nadu': 150}"
            ]
          },
          "metadata": {},
          "execution_count": 45
        }
      ]
    },
    {
      "cell_type": "code",
      "source": [
        "# dict['key']=Value\n",
        "state_wise_data[\"Karnataka\"]=232\n",
        "print(state_wise_data)"
      ],
      "metadata": {
        "colab": {
          "base_uri": "https://localhost:8080/"
        },
        "id": "DYtXQAWtn4Gs",
        "outputId": "25e778ed-f22e-4899-f281-0ea0fbf8800a"
      },
      "execution_count": 47,
      "outputs": [
        {
          "output_type": "stream",
          "name": "stdout",
          "text": [
            "{'Delhi': 400, 'Haryana': 200, 'Tamil Nadu': 150, 'Karnataka': 232}\n"
          ]
        }
      ]
    },
    {
      "cell_type": "code",
      "source": [
        "state_wise_data[\"Delhi\"]=232\n",
        "print(state_wise_data)"
      ],
      "metadata": {
        "colab": {
          "base_uri": "https://localhost:8080/"
        },
        "id": "E3EOrAxFoPC8",
        "outputId": "346d571c-0bef-4829-84de-3a48b4266af6"
      },
      "execution_count": 48,
      "outputs": [
        {
          "output_type": "stream",
          "name": "stdout",
          "text": [
            "{'Delhi': 232, 'Haryana': 200, 'Tamil Nadu': 150, 'Karnataka': 232}\n"
          ]
        }
      ]
    },
    {
      "cell_type": "code",
      "source": [
        "new_data= {\"Pondicherry\": 110, \"West Bengal\": 120, \"Maharashtra\": 140, \"MP\":112}\n"
      ],
      "metadata": {
        "id": "oczZDevEopVi"
      },
      "execution_count": 49,
      "outputs": []
    },
    {
      "cell_type": "markdown",
      "source": [
        "- Update function: Merges two dictionaries"
      ],
      "metadata": {
        "id": "te4vaVz2pnmc"
      }
    },
    {
      "cell_type": "code",
      "source": [
        "state_wise_data.update(new_data)"
      ],
      "metadata": {
        "id": "T-Kq31rmpq8Z"
      },
      "execution_count": 50,
      "outputs": []
    },
    {
      "cell_type": "code",
      "source": [
        "print(state_wise_data)"
      ],
      "metadata": {
        "colab": {
          "base_uri": "https://localhost:8080/"
        },
        "id": "KeVJgSc2puLU",
        "outputId": "3268f346-21bc-4b94-97ec-4c0d9438f93c"
      },
      "execution_count": 51,
      "outputs": [
        {
          "output_type": "stream",
          "name": "stdout",
          "text": [
            "{'Delhi': 232, 'Haryana': 200, 'Tamil Nadu': 150, 'Karnataka': 232, 'Pondicherry': 110, 'West Bengal': 120, 'Maharashtra': 140, 'MP': 112}\n"
          ]
        }
      ]
    },
    {
      "cell_type": "code",
      "source": [
        "state_wise_data.update({\"UK\":80, \"Delhi\":450})"
      ],
      "metadata": {
        "id": "lHBLo_SppxNp"
      },
      "execution_count": 53,
      "outputs": []
    },
    {
      "cell_type": "code",
      "source": [
        "print(state_wise_data)"
      ],
      "metadata": {
        "colab": {
          "base_uri": "https://localhost:8080/"
        },
        "id": "sQhyKdmiqLoO",
        "outputId": "a72f1c21-f6f5-4513-d912-97b513d446d3"
      },
      "execution_count": 54,
      "outputs": [
        {
          "output_type": "stream",
          "name": "stdout",
          "text": [
            "{'Delhi': 450, 'Haryana': 200, 'Tamil Nadu': 150, 'Karnataka': 232, 'Pondicherry': 110, 'West Bengal': 120, 'Maharashtra': 140, 'MP': 112, 'UK': 80}\n"
          ]
        }
      ]
    },
    {
      "cell_type": "markdown",
      "source": [
        "Access Methods:"
      ],
      "metadata": {
        "id": "NEzJnc3TqbW8"
      }
    },
    {
      "cell_type": "code",
      "source": [
        "state_wise_data['UK']"
      ],
      "metadata": {
        "colab": {
          "base_uri": "https://localhost:8080/"
        },
        "id": "kRmsRDkAqPuY",
        "outputId": "23ce36ad-a081-4b4d-88d8-76c482104785"
      },
      "execution_count": 56,
      "outputs": [
        {
          "output_type": "execute_result",
          "data": {
            "text/plain": [
              "80"
            ]
          },
          "metadata": {},
          "execution_count": 56
        }
      ]
    },
    {
      "cell_type": "code",
      "source": [
        "state_wise_data['uk']"
      ],
      "metadata": {
        "colab": {
          "base_uri": "https://localhost:8080/",
          "height": 167
        },
        "id": "-lhlgN_1q1AY",
        "outputId": "0ac5dbb6-0585-4312-9e3d-1c511800978a"
      },
      "execution_count": 57,
      "outputs": [
        {
          "output_type": "error",
          "ename": "KeyError",
          "evalue": "ignored",
          "traceback": [
            "\u001b[0;31m---------------------------------------------------------------------------\u001b[0m",
            "\u001b[0;31mKeyError\u001b[0m                                  Traceback (most recent call last)",
            "\u001b[0;32m<ipython-input-57-074a8620abdf>\u001b[0m in \u001b[0;36m<cell line: 1>\u001b[0;34m()\u001b[0m\n\u001b[0;32m----> 1\u001b[0;31m \u001b[0mstate_wise_data\u001b[0m\u001b[0;34m[\u001b[0m\u001b[0;34m'uk'\u001b[0m\u001b[0;34m]\u001b[0m\u001b[0;34m\u001b[0m\u001b[0;34m\u001b[0m\u001b[0m\n\u001b[0m",
            "\u001b[0;31mKeyError\u001b[0m: 'uk'"
          ]
        }
      ]
    },
    {
      "cell_type": "markdown",
      "source": [
        "- get"
      ],
      "metadata": {
        "id": "lqgH666kq-ft"
      }
    },
    {
      "cell_type": "code",
      "source": [
        "print(state_wise_data.get('uk'))"
      ],
      "metadata": {
        "colab": {
          "base_uri": "https://localhost:8080/"
        },
        "id": "ysobddX6q76p",
        "outputId": "80284d1a-318e-42ef-c28b-fcaf5258f676"
      },
      "execution_count": 59,
      "outputs": [
        {
          "output_type": "stream",
          "name": "stdout",
          "text": [
            "None\n"
          ]
        }
      ]
    },
    {
      "cell_type": "code",
      "source": [
        "print(state_wise_data.get('UK'))"
      ],
      "metadata": {
        "colab": {
          "base_uri": "https://localhost:8080/"
        },
        "id": "ihSm879rrDG-",
        "outputId": "ac1c625b-2ccf-4094-a606-809e74f58d88"
      },
      "execution_count": 60,
      "outputs": [
        {
          "output_type": "stream",
          "name": "stdout",
          "text": [
            "80\n"
          ]
        }
      ]
    },
    {
      "cell_type": "code",
      "source": [
        "print(state_wise_data.get('UK', \"Data for State not Present\"))"
      ],
      "metadata": {
        "colab": {
          "base_uri": "https://localhost:8080/"
        },
        "id": "8MKSLznorG7q",
        "outputId": "82f117a6-5fb4-4c13-96ba-7566ecd7336e"
      },
      "execution_count": 61,
      "outputs": [
        {
          "output_type": "stream",
          "name": "stdout",
          "text": [
            "80\n"
          ]
        }
      ]
    },
    {
      "cell_type": "code",
      "source": [
        "print(state_wise_data.get('United Kingdom', \"Data for State not Present\"))"
      ],
      "metadata": {
        "colab": {
          "base_uri": "https://localhost:8080/"
        },
        "id": "xnnZUKserU_E",
        "outputId": "2d405f6d-a374-4905-a60d-5939e8f2bfe2"
      },
      "execution_count": 62,
      "outputs": [
        {
          "output_type": "stream",
          "name": "stdout",
          "text": [
            "Data for State not Present\n"
          ]
        }
      ]
    },
    {
      "cell_type": "markdown",
      "source": [
        "- Delete: remove key value pair\n",
        "- Iteration over dictionary"
      ],
      "metadata": {
        "id": "V5VXyIRSrwCM"
      }
    },
    {
      "cell_type": "markdown",
      "source": [
        "### Pop to delete key value pairs"
      ],
      "metadata": {
        "id": "-d93bKuvuPDy"
      }
    },
    {
      "cell_type": "code",
      "source": [
        "state_wise_data.pop('UK')\n",
        "print(state_wise_data)"
      ],
      "metadata": {
        "colab": {
          "base_uri": "https://localhost:8080/"
        },
        "id": "HaQ7_KZErZIt",
        "outputId": "230dbb5f-0e00-4502-8565-86546b03f701"
      },
      "execution_count": 63,
      "outputs": [
        {
          "output_type": "stream",
          "name": "stdout",
          "text": [
            "{'Delhi': 450, 'Haryana': 200, 'Tamil Nadu': 150, 'Karnataka': 232, 'Pondicherry': 110, 'West Bengal': 120, 'Maharashtra': 140, 'MP': 112}\n"
          ]
        }
      ]
    },
    {
      "cell_type": "code",
      "source": [
        "d = state_wise_data.pop('Pondicherry')\n",
        "print(state_wise_data)"
      ],
      "metadata": {
        "colab": {
          "base_uri": "https://localhost:8080/"
        },
        "id": "vZaS-51yuW19",
        "outputId": "c87ec754-0f4c-48b0-e652-e2c5ff938d39"
      },
      "execution_count": 64,
      "outputs": [
        {
          "output_type": "stream",
          "name": "stdout",
          "text": [
            "{'Delhi': 450, 'Haryana': 200, 'Tamil Nadu': 150, 'Karnataka': 232, 'West Bengal': 120, 'Maharashtra': 140, 'MP': 112}\n"
          ]
        }
      ]
    },
    {
      "cell_type": "code",
      "source": [
        "print(d)"
      ],
      "metadata": {
        "colab": {
          "base_uri": "https://localhost:8080/"
        },
        "id": "TCvB_wcquc2M",
        "outputId": "bd2283b8-e410-4a0f-d8c2-d94fe76f6295"
      },
      "execution_count": 65,
      "outputs": [
        {
          "output_type": "stream",
          "name": "stdout",
          "text": [
            "110\n"
          ]
        }
      ]
    },
    {
      "cell_type": "code",
      "source": [
        "state_wise_data.pop('Pondicherry')\n",
        "print(state_wise_data)"
      ],
      "metadata": {
        "colab": {
          "base_uri": "https://localhost:8080/",
          "height": 184
        },
        "id": "c8h_oYM0ueKe",
        "outputId": "effa8901-55dc-4495-f249-0fa94150235a"
      },
      "execution_count": 66,
      "outputs": [
        {
          "output_type": "error",
          "ename": "KeyError",
          "evalue": "ignored",
          "traceback": [
            "\u001b[0;31m---------------------------------------------------------------------------\u001b[0m",
            "\u001b[0;31mKeyError\u001b[0m                                  Traceback (most recent call last)",
            "\u001b[0;32m<ipython-input-66-1c6412c70aea>\u001b[0m in \u001b[0;36m<cell line: 1>\u001b[0;34m()\u001b[0m\n\u001b[0;32m----> 1\u001b[0;31m \u001b[0mstate_wise_data\u001b[0m\u001b[0;34m.\u001b[0m\u001b[0mpop\u001b[0m\u001b[0;34m(\u001b[0m\u001b[0;34m'Pondicherry'\u001b[0m\u001b[0;34m)\u001b[0m\u001b[0;34m\u001b[0m\u001b[0;34m\u001b[0m\u001b[0m\n\u001b[0m\u001b[1;32m      2\u001b[0m \u001b[0mprint\u001b[0m\u001b[0;34m(\u001b[0m\u001b[0mstate_wise_data\u001b[0m\u001b[0;34m)\u001b[0m\u001b[0;34m\u001b[0m\u001b[0;34m\u001b[0m\u001b[0m\n",
            "\u001b[0;31mKeyError\u001b[0m: 'Pondicherry'"
          ]
        }
      ]
    },
    {
      "cell_type": "code",
      "source": [
        "state_wise_data.pop()\n",
        "print(state_wise_data)"
      ],
      "metadata": {
        "colab": {
          "base_uri": "https://localhost:8080/",
          "height": 184
        },
        "id": "rFjKdwLSumd2",
        "outputId": "f8c7d5e2-942f-4534-f3ac-0bebd902245a"
      },
      "execution_count": 67,
      "outputs": [
        {
          "output_type": "error",
          "ename": "TypeError",
          "evalue": "ignored",
          "traceback": [
            "\u001b[0;31m---------------------------------------------------------------------------\u001b[0m",
            "\u001b[0;31mTypeError\u001b[0m                                 Traceback (most recent call last)",
            "\u001b[0;32m<ipython-input-67-cbdd8d06b029>\u001b[0m in \u001b[0;36m<cell line: 1>\u001b[0;34m()\u001b[0m\n\u001b[0;32m----> 1\u001b[0;31m \u001b[0mstate_wise_data\u001b[0m\u001b[0;34m.\u001b[0m\u001b[0mpop\u001b[0m\u001b[0;34m(\u001b[0m\u001b[0;34m)\u001b[0m\u001b[0;34m\u001b[0m\u001b[0;34m\u001b[0m\u001b[0m\n\u001b[0m\u001b[1;32m      2\u001b[0m \u001b[0mprint\u001b[0m\u001b[0;34m(\u001b[0m\u001b[0mstate_wise_data\u001b[0m\u001b[0;34m)\u001b[0m\u001b[0;34m\u001b[0m\u001b[0;34m\u001b[0m\u001b[0m\n",
            "\u001b[0;31mTypeError\u001b[0m: pop expected at least 1 argument, got 0"
          ]
        }
      ]
    },
    {
      "cell_type": "markdown",
      "source": [
        "del"
      ],
      "metadata": {
        "id": "P6_q6sjSvCfY"
      }
    },
    {
      "cell_type": "code",
      "source": [
        "del state_wise_data"
      ],
      "metadata": {
        "id": "tWdBLWd9u5Mm"
      },
      "execution_count": 68,
      "outputs": []
    },
    {
      "cell_type": "code",
      "source": [
        "print(state_wise_data)"
      ],
      "metadata": {
        "colab": {
          "base_uri": "https://localhost:8080/",
          "height": 167
        },
        "id": "KtIgoi7cvGBJ",
        "outputId": "282cb6f0-4e40-4e3f-8a9f-132229ab19c7"
      },
      "execution_count": 69,
      "outputs": [
        {
          "output_type": "error",
          "ename": "NameError",
          "evalue": "ignored",
          "traceback": [
            "\u001b[0;31m---------------------------------------------------------------------------\u001b[0m",
            "\u001b[0;31mNameError\u001b[0m                                 Traceback (most recent call last)",
            "\u001b[0;32m<ipython-input-69-3d9dd3352a4a>\u001b[0m in \u001b[0;36m<cell line: 1>\u001b[0;34m()\u001b[0m\n\u001b[0;32m----> 1\u001b[0;31m \u001b[0mprint\u001b[0m\u001b[0;34m(\u001b[0m\u001b[0mstate_wise_data\u001b[0m\u001b[0;34m)\u001b[0m\u001b[0;34m\u001b[0m\u001b[0;34m\u001b[0m\u001b[0m\n\u001b[0m",
            "\u001b[0;31mNameError\u001b[0m: name 'state_wise_data' is not defined"
          ]
        }
      ]
    },
    {
      "cell_type": "code",
      "source": [
        "new_state_data = {'Delhi': 450, 'Haryana': 200, 'Tamil Nadu': 150}\n",
        "del  new_state_data['Haryana']"
      ],
      "metadata": {
        "id": "Xw0rcYgQvIJg"
      },
      "execution_count": 70,
      "outputs": []
    },
    {
      "cell_type": "code",
      "source": [
        "print(new_state_data)"
      ],
      "metadata": {
        "colab": {
          "base_uri": "https://localhost:8080/"
        },
        "id": "0wPL6AIkvVV6",
        "outputId": "041642a6-8742-4cc6-cb61-32c82fbae8cd"
      },
      "execution_count": 71,
      "outputs": [
        {
          "output_type": "stream",
          "name": "stdout",
          "text": [
            "{'Delhi': 450, 'Tamil Nadu': 150}\n"
          ]
        }
      ]
    },
    {
      "cell_type": "code",
      "source": [
        "del new_state_data['Kerala']"
      ],
      "metadata": {
        "colab": {
          "base_uri": "https://localhost:8080/",
          "height": 167
        },
        "id": "HHI4yrEMvW4u",
        "outputId": "48ed69ed-c2da-485f-960c-4d1aedca39c6"
      },
      "execution_count": 73,
      "outputs": [
        {
          "output_type": "error",
          "ename": "KeyError",
          "evalue": "ignored",
          "traceback": [
            "\u001b[0;31m---------------------------------------------------------------------------\u001b[0m",
            "\u001b[0;31mKeyError\u001b[0m                                  Traceback (most recent call last)",
            "\u001b[0;32m<ipython-input-73-479653894e02>\u001b[0m in \u001b[0;36m<cell line: 1>\u001b[0;34m()\u001b[0m\n\u001b[0;32m----> 1\u001b[0;31m \u001b[0;32mdel\u001b[0m \u001b[0mnew_state_data\u001b[0m\u001b[0;34m[\u001b[0m\u001b[0;34m'Kerala'\u001b[0m\u001b[0;34m]\u001b[0m\u001b[0;34m\u001b[0m\u001b[0;34m\u001b[0m\u001b[0m\n\u001b[0m",
            "\u001b[0;31mKeyError\u001b[0m: 'Kerala'"
          ]
        }
      ]
    },
    {
      "cell_type": "code",
      "source": [
        "k = 'Tamil Nadu'\n",
        "val = new_state_data.get(k)\n",
        "if val is not None:\n",
        "    print(new_state_data.pop(k))\n",
        "    print(f\"{k} deleted\")\n",
        "else:\n",
        "    print(f\"{k} is not Present\")"
      ],
      "metadata": {
        "colab": {
          "base_uri": "https://localhost:8080/"
        },
        "id": "KU7Bb6E7vgbU",
        "outputId": "ca1a1963-971c-4fdd-f86b-e129da46d9db"
      },
      "execution_count": 78,
      "outputs": [
        {
          "output_type": "stream",
          "name": "stdout",
          "text": [
            "150\n",
            "Tamil Nadu deleted\n"
          ]
        }
      ]
    },
    {
      "cell_type": "markdown",
      "source": [
        "### Iterating Dictionary"
      ],
      "metadata": {
        "id": "325kW4euwQz7"
      }
    },
    {
      "cell_type": "code",
      "source": [
        "state_data = {'Delhi': 450, 'Haryana': 200, 'Tamil Nadu': 150, 'Karnataka': 232, 'West Bengal': 120, 'Maharashtra': 140, 'MP': 112}\n",
        "# method 1 of iterating\n",
        "for key in state_data:\n",
        "    print(key,state_data[key])"
      ],
      "metadata": {
        "colab": {
          "base_uri": "https://localhost:8080/"
        },
        "id": "AqTYnRcJwCIV",
        "outputId": "e8d24d0c-b2e0-403c-ca44-fb56c9933615"
      },
      "execution_count": 82,
      "outputs": [
        {
          "output_type": "stream",
          "name": "stdout",
          "text": [
            "Delhi 450\n",
            "Haryana 200\n",
            "Tamil Nadu 150\n",
            "Karnataka 232\n",
            "West Bengal 120\n",
            "Maharashtra 140\n",
            "MP 112\n"
          ]
        }
      ]
    },
    {
      "cell_type": "code",
      "source": [
        "for key in state_data:\n",
        "    print(f\"State: {key} --> PPM: {state_data[key]}\")"
      ],
      "metadata": {
        "colab": {
          "base_uri": "https://localhost:8080/"
        },
        "id": "wUNin4oEwueA",
        "outputId": "bbc82414-311f-40ef-f281-f8a058cf4894"
      },
      "execution_count": 84,
      "outputs": [
        {
          "output_type": "stream",
          "name": "stdout",
          "text": [
            "State: Delhi --> PPM: 450\n",
            "State: Haryana --> PPM: 200\n",
            "State: Tamil Nadu --> PPM: 150\n",
            "State: Karnataka --> PPM: 232\n",
            "State: West Bengal --> PPM: 120\n",
            "State: Maharashtra --> PPM: 140\n",
            "State: MP --> PPM: 112\n"
          ]
        }
      ]
    },
    {
      "cell_type": "markdown",
      "source": [],
      "metadata": {
        "id": "Sz_-nt6ax1nN"
      }
    },
    {
      "cell_type": "code",
      "source": [
        "state_data.items()"
      ],
      "metadata": {
        "colab": {
          "base_uri": "https://localhost:8080/"
        },
        "id": "I7tKGmCQx19p",
        "outputId": "fe374e1c-5327-481b-933b-786533d6cc4d"
      },
      "execution_count": 85,
      "outputs": [
        {
          "output_type": "execute_result",
          "data": {
            "text/plain": [
              "dict_items([('Delhi', 450), ('Haryana', 200), ('Tamil Nadu', 150), ('Karnataka', 232), ('West Bengal', 120), ('Maharashtra', 140), ('MP', 112)])"
            ]
          },
          "metadata": {},
          "execution_count": 85
        }
      ]
    },
    {
      "cell_type": "code",
      "source": [
        "# method 2 of iterating\n",
        "for key,Value in state_data.items():\n",
        "    print(key,Value)"
      ],
      "metadata": {
        "colab": {
          "base_uri": "https://localhost:8080/"
        },
        "id": "gUI_3DzLxj3N",
        "outputId": "e53e335a-ea36-4a55-8cb4-1fafdb683f61"
      },
      "execution_count": 86,
      "outputs": [
        {
          "output_type": "stream",
          "name": "stdout",
          "text": [
            "Delhi 450\n",
            "Haryana 200\n",
            "Tamil Nadu 150\n",
            "Karnataka 232\n",
            "West Bengal 120\n",
            "Maharashtra 140\n",
            "MP 112\n"
          ]
        }
      ]
    },
    {
      "cell_type": "code",
      "source": [
        "# method 2 of iterating\n",
        "for key,Value in state_data.items():\n",
        "    if 'a' in key:\n",
        "        print(key,Value)"
      ],
      "metadata": {
        "colab": {
          "base_uri": "https://localhost:8080/"
        },
        "id": "Htjq-AmSyBl0",
        "outputId": "de7b8fb1-afc2-43ed-e1a4-de0c51c1da47"
      },
      "execution_count": 88,
      "outputs": [
        {
          "output_type": "stream",
          "name": "stdout",
          "text": [
            "Haryana 200\n",
            "Tamil Nadu 150\n",
            "Karnataka 232\n",
            "West Bengal 120\n",
            "Maharashtra 140\n"
          ]
        }
      ]
    },
    {
      "cell_type": "code",
      "source": [
        "for Key,Value in state_data.items():\n",
        "    if Value>150:\n",
        "        print(Key)"
      ],
      "metadata": {
        "colab": {
          "base_uri": "https://localhost:8080/"
        },
        "id": "VYArkDiSydFa",
        "outputId": "bf6fa258-745e-434d-db0b-717b34dbd432"
      },
      "execution_count": 91,
      "outputs": [
        {
          "output_type": "stream",
          "name": "stdout",
          "text": [
            "Delhi\n",
            "Haryana\n",
            "Karnataka\n"
          ]
        }
      ]
    },
    {
      "cell_type": "code",
      "source": [
        "for Key in state_data:\n",
        "    if state_data[Key]>150:\n",
        "        print(Key)"
      ],
      "metadata": {
        "colab": {
          "base_uri": "https://localhost:8080/"
        },
        "id": "8felEM2Kymiv",
        "outputId": "9a31c262-db80-45d9-ca69-d8ba2f0e7370"
      },
      "execution_count": 92,
      "outputs": [
        {
          "output_type": "stream",
          "name": "stdout",
          "text": [
            "Delhi\n",
            "Haryana\n",
            "Karnataka\n"
          ]
        }
      ]
    },
    {
      "cell_type": "code",
      "source": [
        "state_data = {'Delhi': [450,500], 'Haryana': 200, 'Tamil Nadu': 150, 'Karnataka': 232, 'West Bengal': 120, 'Maharashtra': 140, 'MP': 112}\n",
        "\n",
        "for Key in state_data:\n",
        "    if Key.startswith('D'):\n",
        "        print(Key,state_data[Key])"
      ],
      "metadata": {
        "colab": {
          "base_uri": "https://localhost:8080/"
        },
        "id": "yd2hKQdWy5Cj",
        "outputId": "7b6f45c3-b837-446f-8f3d-d350f18d24c9"
      },
      "execution_count": 94,
      "outputs": [
        {
          "output_type": "stream",
          "name": "stdout",
          "text": [
            "Delhi [450, 500]\n"
          ]
        }
      ]
    },
    {
      "cell_type": "code",
      "source": [
        "B = {1: 55, 66: 1, 3: 77}\n",
        "print(B[1])"
      ],
      "metadata": {
        "colab": {
          "base_uri": "https://localhost:8080/"
        },
        "id": "v4seZFbozMAK",
        "outputId": "bb4fcd7f-1363-431b-d1f1-0c1156cd97cc"
      },
      "execution_count": 95,
      "outputs": [
        {
          "output_type": "stream",
          "name": "stdout",
          "text": [
            "55\n"
          ]
        }
      ]
    },
    {
      "cell_type": "code",
      "source": [
        "B = {1: 55, 66: 1, 3: 77}\n",
        "print(B[0])"
      ],
      "metadata": {
        "colab": {
          "base_uri": "https://localhost:8080/",
          "height": 184
        },
        "id": "-Y5RQPvRzlqN",
        "outputId": "87e682e7-803b-4dee-9e37-b7a505672503"
      },
      "execution_count": 97,
      "outputs": [
        {
          "output_type": "error",
          "ename": "KeyError",
          "evalue": "ignored",
          "traceback": [
            "\u001b[0;31m---------------------------------------------------------------------------\u001b[0m",
            "\u001b[0;31mKeyError\u001b[0m                                  Traceback (most recent call last)",
            "\u001b[0;32m<ipython-input-97-a53a8fa64b35>\u001b[0m in \u001b[0;36m<cell line: 2>\u001b[0;34m()\u001b[0m\n\u001b[1;32m      1\u001b[0m \u001b[0mB\u001b[0m \u001b[0;34m=\u001b[0m \u001b[0;34m{\u001b[0m\u001b[0;36m1\u001b[0m\u001b[0;34m:\u001b[0m \u001b[0;36m55\u001b[0m\u001b[0;34m,\u001b[0m \u001b[0;36m66\u001b[0m\u001b[0;34m:\u001b[0m \u001b[0;36m1\u001b[0m\u001b[0;34m,\u001b[0m \u001b[0;36m3\u001b[0m\u001b[0;34m:\u001b[0m \u001b[0;36m77\u001b[0m\u001b[0;34m}\u001b[0m\u001b[0;34m\u001b[0m\u001b[0;34m\u001b[0m\u001b[0m\n\u001b[0;32m----> 2\u001b[0;31m \u001b[0mprint\u001b[0m\u001b[0;34m(\u001b[0m\u001b[0mB\u001b[0m\u001b[0;34m[\u001b[0m\u001b[0;36m0\u001b[0m\u001b[0;34m]\u001b[0m\u001b[0;34m)\u001b[0m\u001b[0;34m\u001b[0m\u001b[0;34m\u001b[0m\u001b[0m\n\u001b[0m",
            "\u001b[0;31mKeyError\u001b[0m: 0"
          ]
        }
      ]
    },
    {
      "cell_type": "code",
      "source": [
        "#What does the following Python code output?\n",
        "words = {\n",
        "\"is\": 2,\n",
        "\"hello\": 4,\n",
        "\"the\": 3\n",
        "}\n",
        "\n",
        "type(words)"
      ],
      "metadata": {
        "colab": {
          "base_uri": "https://localhost:8080/"
        },
        "id": "YABTLGf8zngU",
        "outputId": "191203a0-6c5f-4414-938c-e1a0d0a56482"
      },
      "execution_count": 99,
      "outputs": [
        {
          "output_type": "execute_result",
          "data": {
            "text/plain": [
              "dict"
            ]
          },
          "metadata": {},
          "execution_count": 99
        }
      ]
    },
    {
      "cell_type": "markdown",
      "source": [
        "- List , Set and Dictionary"
      ],
      "metadata": {
        "id": "leTFsjlp0XLy"
      }
    },
    {
      "cell_type": "markdown",
      "source": [
        "Homework Question: What does the following Python code output?\n",
        "```\n",
        "Input : \"is the hello hello is the the hello the\"\n",
        "\n",
        "Output:\n",
        "\n",
        "words = {\n",
        "\"is\": 2,\n",
        "\"hello\": 3,\n",
        "\"the\": 4\n",
        "}\n",
        "\n",
        "```\n"
      ],
      "metadata": {
        "id": "5gcezXYV0qqX"
      }
    },
    {
      "cell_type": "markdown",
      "source": [
        "## **Question**\n",
        "* Take a string as input.\n",
        "* Create a dictionary according to the following criteria :-\n",
        "    * There will be one key value pair for each unique character\n",
        "    * Key will be character name and value will be the count of the character inside the string.\n",
        "\n",
        "\n",
        "**Example input**:\n",
        "```\n",
        "rrsssstttt\n",
        "```\n",
        "\n",
        "**Example output**:\n",
        "```\n",
        "{\n",
        "    \"r\": 2,\n",
        "    \"s\": 3,\n",
        "    \"t\": 4\n",
        "}\n",
        "```"
      ],
      "metadata": {
        "id": "8SMire1h1O5V"
      }
    },
    {
      "cell_type": "code",
      "source": [
        "string = input()\n",
        "dict1= {}\n",
        "for i in set(string):\n",
        "    print(i)\n",
        "    dict1[i] = string.count(i)\n",
        "print(dict1)"
      ],
      "metadata": {
        "colab": {
          "base_uri": "https://localhost:8080/"
        },
        "id": "0AIpINyjz2Of",
        "outputId": "3d283fdd-a8d5-4fa5-bf22-857e21b82f62"
      },
      "execution_count": 103,
      "outputs": [
        {
          "output_type": "stream",
          "name": "stdout",
          "text": [
            "sssssttt\n",
            "s\n",
            "t\n",
            "{'s': 5, 't': 3}\n"
          ]
        }
      ]
    },
    {
      "cell_type": "markdown",
      "source": [
        "Can be Optimized even further"
      ],
      "metadata": {
        "id": "l3gh0wcs2yp3"
      }
    },
    {
      "cell_type": "code",
      "source": [
        "string = 'rssttt'\n",
        "dict1= {}\n",
        "\n",
        "for i in string:\n",
        "\n",
        "    if i in dict1:\n",
        "        dict1[i] = dict1[i] +1\n",
        "    else:\n",
        "        dict1[i] = 1\n",
        "\n",
        "print(dict1)"
      ],
      "metadata": {
        "colab": {
          "base_uri": "https://localhost:8080/"
        },
        "id": "yGM66KDj2x6H",
        "outputId": "fc851402-4965-4a01-97d5-dc5c326220fa"
      },
      "execution_count": 106,
      "outputs": [
        {
          "output_type": "stream",
          "name": "stdout",
          "text": [
            "{'r': 1, 's': 2, 't': 3}\n"
          ]
        }
      ]
    },
    {
      "cell_type": "code",
      "source": [],
      "metadata": {
        "id": "39wzD0-t4fXw"
      },
      "execution_count": null,
      "outputs": []
    },
    {
      "cell_type": "code",
      "source": [
        "len = 10000\n",
        "\n",
        "1000 Ops,\n",
        "Set: 10000*100(unique)\n",
        "Original: 10000*10000"
      ],
      "metadata": {
        "id": "JniUPb762JdP"
      },
      "execution_count": null,
      "outputs": []
    },
    {
      "cell_type": "code",
      "source": [
        "dict1.items()"
      ],
      "metadata": {
        "colab": {
          "base_uri": "https://localhost:8080/"
        },
        "id": "evVYyQvE4gYo",
        "outputId": "e30c06ac-8620-4e56-eca3-8e083dfaf6b5"
      },
      "execution_count": 107,
      "outputs": [
        {
          "output_type": "execute_result",
          "data": {
            "text/plain": [
              "dict_items([('r', 1), ('s', 2), ('t', 3)])"
            ]
          },
          "metadata": {},
          "execution_count": 107
        }
      ]
    },
    {
      "cell_type": "code",
      "source": [
        "list1 = [[\"A\",1],(\"B\",2)]\n",
        "print(dict(list1))"
      ],
      "metadata": {
        "colab": {
          "base_uri": "https://localhost:8080/"
        },
        "id": "eahP1iRg4j5R",
        "outputId": "a489c7dd-49a6-4603-8c27-b8d7c0518bb9"
      },
      "execution_count": 110,
      "outputs": [
        {
          "output_type": "stream",
          "name": "stdout",
          "text": [
            "{'A': 1, 'B': 2}\n"
          ]
        }
      ]
    },
    {
      "cell_type": "code",
      "source": [
        "list1 = [[\"A\",1,1],[\"B\",2,1]]\n",
        "print(dict(list1))"
      ],
      "metadata": {
        "colab": {
          "base_uri": "https://localhost:8080/",
          "height": 184
        },
        "id": "9xX-0LEI4t-k",
        "outputId": "78ef05bf-c4cb-44e5-d5d6-5bb4993265e1"
      },
      "execution_count": 109,
      "outputs": [
        {
          "output_type": "error",
          "ename": "ValueError",
          "evalue": "ignored",
          "traceback": [
            "\u001b[0;31m---------------------------------------------------------------------------\u001b[0m",
            "\u001b[0;31mValueError\u001b[0m                                Traceback (most recent call last)",
            "\u001b[0;32m<ipython-input-109-5498088ae544>\u001b[0m in \u001b[0;36m<cell line: 2>\u001b[0;34m()\u001b[0m\n\u001b[1;32m      1\u001b[0m \u001b[0mlist1\u001b[0m \u001b[0;34m=\u001b[0m \u001b[0;34m[\u001b[0m\u001b[0;34m[\u001b[0m\u001b[0;34m\"A\"\u001b[0m\u001b[0;34m,\u001b[0m\u001b[0;36m1\u001b[0m\u001b[0;34m,\u001b[0m\u001b[0;36m1\u001b[0m\u001b[0;34m]\u001b[0m\u001b[0;34m,\u001b[0m\u001b[0;34m[\u001b[0m\u001b[0;34m\"B\"\u001b[0m\u001b[0;34m,\u001b[0m\u001b[0;36m2\u001b[0m\u001b[0;34m,\u001b[0m\u001b[0;36m1\u001b[0m\u001b[0;34m]\u001b[0m\u001b[0;34m]\u001b[0m\u001b[0;34m\u001b[0m\u001b[0;34m\u001b[0m\u001b[0m\n\u001b[0;32m----> 2\u001b[0;31m \u001b[0mprint\u001b[0m\u001b[0;34m(\u001b[0m\u001b[0mdict\u001b[0m\u001b[0;34m(\u001b[0m\u001b[0mlist1\u001b[0m\u001b[0;34m)\u001b[0m\u001b[0;34m)\u001b[0m\u001b[0;34m\u001b[0m\u001b[0;34m\u001b[0m\u001b[0m\n\u001b[0m",
            "\u001b[0;31mValueError\u001b[0m: dictionary update sequence element #0 has length 3; 2 is required"
          ]
        }
      ]
    },
    {
      "cell_type": "code",
      "source": [
        "list1 = [\"A\",\"B\"]\n",
        "list2= [1,2]\n",
        "new_list1= []\n",
        "# loop over to create: new_list1 = [[\"A\",1],[\"B\",2]]"
      ],
      "metadata": {
        "id": "V51Uf5v04ysq"
      },
      "execution_count": 111,
      "outputs": []
    },
    {
      "cell_type": "code",
      "source": [
        "list1 = [\"A\",\"B\"]\n",
        "list2= [1,2]\n",
        "new_list1= zip(list1,list2)\n",
        "print(dict(new_list1))"
      ],
      "metadata": {
        "colab": {
          "base_uri": "https://localhost:8080/"
        },
        "id": "3ugsdmHw5OrA",
        "outputId": "b5d2acce-d5e2-4b95-ecfe-0c61ca778c21"
      },
      "execution_count": 114,
      "outputs": [
        {
          "output_type": "stream",
          "name": "stdout",
          "text": [
            "{'A': 1, 'B': 2}\n"
          ]
        }
      ]
    },
    {
      "cell_type": "code",
      "source": [
        "list1 = [\"A\",\"B\"]\n",
        "list2= [1,2]\n",
        "new_list1= zip(list1,list2)\n",
        "print(list(new_list1))"
      ],
      "metadata": {
        "colab": {
          "base_uri": "https://localhost:8080/"
        },
        "id": "s31toemk5VJh",
        "outputId": "7d5cbeba-4baf-40c9-976c-340f1182c018"
      },
      "execution_count": 115,
      "outputs": [
        {
          "output_type": "stream",
          "name": "stdout",
          "text": [
            "[('A', 1), ('B', 2)]\n"
          ]
        }
      ]
    },
    {
      "cell_type": "code",
      "source": [
        "print(new_list1)"
      ],
      "metadata": {
        "colab": {
          "base_uri": "https://localhost:8080/"
        },
        "id": "9lmp5Z7l5g02",
        "outputId": "16129281-21d3-4a0c-b8c7-016122813964"
      },
      "execution_count": 116,
      "outputs": [
        {
          "output_type": "stream",
          "name": "stdout",
          "text": [
            "<zip object at 0x7f33b69e2880>\n"
          ]
        }
      ]
    },
    {
      "cell_type": "code",
      "source": [
        "print(num=15)"
      ],
      "metadata": {
        "colab": {
          "base_uri": "https://localhost:8080/",
          "height": 167
        },
        "id": "Gr5NGSGo5qUQ",
        "outputId": "b0984d81-50c3-4f8f-fdde-b52759550ca3"
      },
      "execution_count": 117,
      "outputs": [
        {
          "output_type": "error",
          "ename": "TypeError",
          "evalue": "ignored",
          "traceback": [
            "\u001b[0;31m---------------------------------------------------------------------------\u001b[0m",
            "\u001b[0;31mTypeError\u001b[0m                                 Traceback (most recent call last)",
            "\u001b[0;32m<ipython-input-117-371c9dc34d32>\u001b[0m in \u001b[0;36m<cell line: 1>\u001b[0;34m()\u001b[0m\n\u001b[0;32m----> 1\u001b[0;31m \u001b[0mprint\u001b[0m\u001b[0;34m(\u001b[0m\u001b[0mnum\u001b[0m\u001b[0;34m=\u001b[0m\u001b[0;36m15\u001b[0m\u001b[0;34m)\u001b[0m\u001b[0;34m\u001b[0m\u001b[0;34m\u001b[0m\u001b[0m\n\u001b[0m",
            "\u001b[0;31mTypeError\u001b[0m: 'num' is an invalid keyword argument for print()"
          ]
        }
      ]
    },
    {
      "cell_type": "code",
      "source": [
        "num=15\n",
        "print(num)"
      ],
      "metadata": {
        "colab": {
          "base_uri": "https://localhost:8080/"
        },
        "id": "3QSM73h56fQZ",
        "outputId": "9c86107d-6bf9-4923-d851-c26a7cce07e7"
      },
      "execution_count": 118,
      "outputs": [
        {
          "output_type": "stream",
          "name": "stdout",
          "text": [
            "15\n"
          ]
        }
      ]
    },
    {
      "cell_type": "code",
      "source": [
        "print(num:=15)"
      ],
      "metadata": {
        "colab": {
          "base_uri": "https://localhost:8080/"
        },
        "id": "1mjRje9C6jv2",
        "outputId": "2acdd903-946a-4b45-8a38-79342b1ae516"
      },
      "execution_count": 119,
      "outputs": [
        {
          "output_type": "stream",
          "name": "stdout",
          "text": [
            "15\n"
          ]
        }
      ]
    },
    {
      "cell_type": "code",
      "source": [
        "num"
      ],
      "metadata": {
        "colab": {
          "base_uri": "https://localhost:8080/"
        },
        "id": "Xx3jjw__6owi",
        "outputId": "bbf1bd2b-4438-419c-fa33-0f7eddfcb0ea"
      },
      "execution_count": 120,
      "outputs": [
        {
          "output_type": "execute_result",
          "data": {
            "text/plain": [
              "15"
            ]
          },
          "metadata": {},
          "execution_count": 120
        }
      ]
    },
    {
      "cell_type": "code",
      "source": [
        "a = 10\n",
        "b= None\n",
        "if a>5:\n",
        "    b =20\n",
        "else:\n",
        "    b=30"
      ],
      "metadata": {
        "id": "e2gt5jdh6vzP"
      },
      "execution_count": 121,
      "outputs": []
    },
    {
      "cell_type": "code",
      "source": [
        "a = 10\n",
        "b= None\n",
        "b = 20 if a>5 else 30\n",
        "print(b)"
      ],
      "metadata": {
        "colab": {
          "base_uri": "https://localhost:8080/"
        },
        "id": "QKPahdJ1666g",
        "outputId": "55fa0aad-3786-444b-c6e1-9904c45000c8"
      },
      "execution_count": 122,
      "outputs": [
        {
          "output_type": "stream",
          "name": "stdout",
          "text": [
            "20\n"
          ]
        }
      ]
    },
    {
      "cell_type": "code",
      "source": [
        "a= 10\n",
        "b =20\n",
        "\n",
        "print(\"Value of A is:\",a, \"B is: \", b)"
      ],
      "metadata": {
        "colab": {
          "base_uri": "https://localhost:8080/"
        },
        "id": "5TtKbJM_7FLc",
        "outputId": "46138bb2-5485-4b6b-c67e-e7373487e06a"
      },
      "execution_count": 125,
      "outputs": [
        {
          "output_type": "stream",
          "name": "stdout",
          "text": [
            "Value of A is: 10 B is:  20\n"
          ]
        }
      ]
    },
    {
      "cell_type": "code",
      "source": [
        "print(\"Value of A is: \" + str(a) + \" B is: \"+ str(b))"
      ],
      "metadata": {
        "colab": {
          "base_uri": "https://localhost:8080/"
        },
        "id": "7RdPIlLb7e8q",
        "outputId": "5e66493f-2b22-4cf5-ca6a-10486ee4c2c0"
      },
      "execution_count": 130,
      "outputs": [
        {
          "output_type": "stream",
          "name": "stdout",
          "text": [
            "Value of A is: 10 B is: 20\n"
          ]
        }
      ]
    },
    {
      "cell_type": "code",
      "source": [
        "print(f\"Value of A is: {a}\\n B is: {b}\")"
      ],
      "metadata": {
        "colab": {
          "base_uri": "https://localhost:8080/"
        },
        "id": "HFL42Sal7m_v",
        "outputId": "caa7a32b-06f4-4b2c-9ced-79c339071237"
      },
      "execution_count": 138,
      "outputs": [
        {
          "output_type": "stream",
          "name": "stdout",
          "text": [
            "Value of A is: 10\n",
            " B is: 20\n"
          ]
        }
      ]
    },
    {
      "cell_type": "code",
      "source": [],
      "metadata": {
        "id": "by3Qbd137-13"
      },
      "execution_count": null,
      "outputs": []
    }
  ]
}