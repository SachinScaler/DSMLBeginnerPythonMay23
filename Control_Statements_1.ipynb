{
  "nbformat": 4,
  "nbformat_minor": 0,
  "metadata": {
    "colab": {
      "provenance": [],
      "authorship_tag": "ABX9TyNtxQY+m8cfSvoFr26P/iFJ",
      "include_colab_link": true
    },
    "kernelspec": {
      "name": "python3",
      "display_name": "Python 3"
    },
    "language_info": {
      "name": "python"
    }
  },
  "cells": [
    {
      "cell_type": "markdown",
      "metadata": {
        "id": "view-in-github",
        "colab_type": "text"
      },
      "source": [
        "<a href=\"https://colab.research.google.com/github/SachinScaler/DSMLBeginnerPythonMay23/blob/main/Control_Statements_1.ipynb\" target=\"_parent\"><img src=\"https://colab.research.google.com/assets/colab-badge.svg\" alt=\"Open In Colab\"/></a>"
      ]
    },
    {
      "cell_type": "markdown",
      "source": [
        "Today's session is dependent on Comparative Operators and Logical Operators\n",
        "- Comparative Ops compare two things\n",
        "- Combine multiple comparisons and evaluate\n",
        "\n",
        "- and\n",
        "- or\n",
        "- not"
      ],
      "metadata": {
        "id": "9Lwr2tS6I3Fo"
      }
    },
    {
      "cell_type": "code",
      "execution_count": 1,
      "metadata": {
        "colab": {
          "base_uri": "https://localhost:8080/"
        },
        "id": "_efvH-saHhCZ",
        "outputId": "88a5d214-ee10-4077-eee4-4a09fe4de8c8"
      },
      "outputs": [
        {
          "output_type": "stream",
          "name": "stdout",
          "text": [
            "False\n"
          ]
        }
      ],
      "source": [
        "print(True and True and True and True and False)"
      ]
    },
    {
      "cell_type": "code",
      "source": [
        "print(True or True or True or True or False)"
      ],
      "metadata": {
        "colab": {
          "base_uri": "https://localhost:8080/"
        },
        "id": "_UEci6PeKml5",
        "outputId": "398e23ae-f802-4497-938c-ac3fb7bc8459"
      },
      "execution_count": 2,
      "outputs": [
        {
          "output_type": "stream",
          "name": "stdout",
          "text": [
            "True\n"
          ]
        }
      ]
    },
    {
      "cell_type": "markdown",
      "source": [
        "When and and or are combine in a single statement preference of would be given to AND Operators"
      ],
      "metadata": {
        "id": "aOl1HwFUK1Gg"
      }
    },
    {
      "cell_type": "code",
      "source": [
        "print(True and False or False)"
      ],
      "metadata": {
        "colab": {
          "base_uri": "https://localhost:8080/"
        },
        "id": "xxCOECpaKwIq",
        "outputId": "cd55bff0-8f67-4ecf-eae8-298171c472c0"
      },
      "execution_count": 3,
      "outputs": [
        {
          "output_type": "stream",
          "name": "stdout",
          "text": [
            "False\n"
          ]
        }
      ]
    },
    {
      "cell_type": "code",
      "source": [
        "print(True or True and False)"
      ],
      "metadata": {
        "colab": {
          "base_uri": "https://localhost:8080/"
        },
        "id": "z7N6bPcVLHli",
        "outputId": "5d5e303d-6ea0-4be5-cf21-078781abca84"
      },
      "execution_count": 4,
      "outputs": [
        {
          "output_type": "stream",
          "name": "stdout",
          "text": [
            "True\n"
          ]
        }
      ]
    },
    {
      "cell_type": "code",
      "source": [
        "print((True or True) and False)"
      ],
      "metadata": {
        "colab": {
          "base_uri": "https://localhost:8080/"
        },
        "id": "3LfZePVCLUrf",
        "outputId": "52b913bb-d96c-4bcd-bb54-a8178fe8295b"
      },
      "execution_count": 5,
      "outputs": [
        {
          "output_type": "stream",
          "name": "stdout",
          "text": [
            "False\n"
          ]
        }
      ]
    },
    {
      "cell_type": "code",
      "source": [
        "print(True or (True and False))"
      ],
      "metadata": {
        "colab": {
          "base_uri": "https://localhost:8080/"
        },
        "id": "FSD31iPeLbsI",
        "outputId": "ae7e2082-c362-4000-fc0b-b7426e227a67"
      },
      "execution_count": 6,
      "outputs": [
        {
          "output_type": "stream",
          "name": "stdout",
          "text": [
            "True\n"
          ]
        }
      ]
    },
    {
      "cell_type": "code",
      "source": [
        "temp = int(input(\"Enter Temperature: \"))\n",
        "print(temp)"
      ],
      "metadata": {
        "colab": {
          "base_uri": "https://localhost:8080/"
        },
        "id": "IYW9Zrz_LfZu",
        "outputId": "99f2bcb9-649f-4d9d-95cf-b2201b6df804"
      },
      "execution_count": 11,
      "outputs": [
        {
          "output_type": "stream",
          "name": "stdout",
          "text": [
            "Enter Temperature: 45\n",
            "45\n"
          ]
        }
      ]
    },
    {
      "cell_type": "code",
      "source": [
        "temp<32"
      ],
      "metadata": {
        "colab": {
          "base_uri": "https://localhost:8080/"
        },
        "id": "66apin2zQd49",
        "outputId": "efeb3c84-c903-45fb-ae2a-c4a3213c31ef"
      },
      "execution_count": 12,
      "outputs": [
        {
          "output_type": "execute_result",
          "data": {
            "text/plain": [
              "False"
            ]
          },
          "metadata": {},
          "execution_count": 12
        }
      ]
    },
    {
      "cell_type": "markdown",
      "source": [
        "if block and \n",
        "else block"
      ],
      "metadata": {
        "id": "hNVuJLJbQ6Rb"
      }
    },
    {
      "cell_type": "code",
      "source": [
        "temp = int(input(\"Enter Temperature: \"))\n",
        "print(temp)\n",
        "if temp<32:\n",
        "    print(\"Wear Tshirt\") # line 1\n",
        "else:\n",
        "    print(\"Wear Shirt\") # line 2"
      ],
      "metadata": {
        "colab": {
          "base_uri": "https://localhost:8080/"
        },
        "id": "SYHi_e3qQoLy",
        "outputId": "db1fe4d0-8037-4363-c291-3807eeb7480e"
      },
      "execution_count": 17,
      "outputs": [
        {
          "output_type": "stream",
          "name": "stdout",
          "text": [
            "Enter Temperature: 32\n",
            "32\n",
            "Wear Shirt\n"
          ]
        }
      ]
    },
    {
      "cell_type": "markdown",
      "source": [
        " shorts and pants"
      ],
      "metadata": {
        "id": "igeH9VzqV1We"
      }
    },
    {
      "cell_type": "markdown",
      "source": [
        "if (condition):\n",
        "    # statement1\n",
        "    # statement 2\n",
        "else:\n",
        "    # statement 3\n",
        "    # statement"
      ],
      "metadata": {
        "id": "brfBzNlMR8mH"
      }
    },
    {
      "cell_type": "code",
      "source": [
        "if True:\n",
        "    print(\"Inside If\") # line 1\n",
        "    print(\"HELLO\") # line 2\n",
        "else:\n",
        "    print(\"Inside Else\") # line 3"
      ],
      "metadata": {
        "colab": {
          "base_uri": "https://localhost:8080/"
        },
        "id": "V54JWF20RIZK",
        "outputId": "d00887c6-89ec-47c9-e6fb-230308edc734"
      },
      "execution_count": 28,
      "outputs": [
        {
          "output_type": "stream",
          "name": "stdout",
          "text": [
            "Inside If\n",
            "HELLO\n"
          ]
        }
      ]
    },
    {
      "cell_type": "code",
      "source": [
        "if False:\n",
        "    print(\"Inside If\") # line 1\n",
        "    print(\"HELLO\") # line 2\n",
        "else:\n",
        "    print(\"Inside Else\") # line 3\n",
        "    print(\"Line 4\")\n",
        "    print(\"line 5\")\n",
        "    print(\"Line 6\")"
      ],
      "metadata": {
        "colab": {
          "base_uri": "https://localhost:8080/"
        },
        "id": "sKvTmWZXSUVG",
        "outputId": "c4fd8029-794a-41ce-ca6d-1043f7571c0e"
      },
      "execution_count": 31,
      "outputs": [
        {
          "output_type": "stream",
          "name": "stdout",
          "text": [
            "Inside Else\n",
            "Line 4\n",
            "line 5\n",
            "Line 6\n"
          ]
        }
      ]
    },
    {
      "cell_type": "markdown",
      "source": [
        "- TAB to shift by 4 spaces in forward direction\n",
        "- SHIFT+TAB to shift by 4 spaces in backward direction"
      ],
      "metadata": {
        "id": "xBBqx2P6UXRr"
      }
    },
    {
      "cell_type": "markdown",
      "source": [
        "is else block mandotory?"
      ],
      "metadata": {
        "id": "dKesQxjaV80e"
      }
    },
    {
      "cell_type": "code",
      "source": [
        "weather = input()\n",
        "if weather==\"rainy\":\n",
        "    print(\"Take Umbrella\")"
      ],
      "metadata": {
        "colab": {
          "base_uri": "https://localhost:8080/"
        },
        "id": "HV4cD3ivUfPC",
        "outputId": "1ff9db9a-497a-4d5a-cb69-2bfe1c23ac3b"
      },
      "execution_count": 33,
      "outputs": [
        {
          "name": "stdout",
          "output_type": "stream",
          "text": [
            "not rainy\n"
          ]
        }
      ]
    },
    {
      "cell_type": "code",
      "source": [
        "weather = input()\n",
        "else:\n",
        "    print(\"Take Umbrella\")"
      ],
      "metadata": {
        "colab": {
          "base_uri": "https://localhost:8080/",
          "height": 132
        },
        "id": "uV882vuJWNji",
        "outputId": "2e1ff9f6-4eba-4614-d399-4d72dab09c37"
      },
      "execution_count": 34,
      "outputs": [
        {
          "output_type": "error",
          "ename": "SyntaxError",
          "evalue": "ignored",
          "traceback": [
            "\u001b[0;36m  File \u001b[0;32m\"<ipython-input-34-5132a1a33ae6>\"\u001b[0;36m, line \u001b[0;32m2\u001b[0m\n\u001b[0;31m    else:\u001b[0m\n\u001b[0m    ^\u001b[0m\n\u001b[0;31mSyntaxError\u001b[0m\u001b[0;31m:\u001b[0m invalid syntax\n"
          ]
        }
      ]
    },
    {
      "cell_type": "markdown",
      "source": [
        "Break Work:\n",
        "    "
      ],
      "metadata": {
        "id": "_FvGBqS3WoHN"
      }
    },
    {
      "cell_type": "code",
      "source": [
        "weather= input()\n",
        "temp = int(input())"
      ],
      "metadata": {
        "colab": {
          "base_uri": "https://localhost:8080/"
        },
        "id": "QCiNTnbPWdut",
        "outputId": "f335ed2d-d476-4fae-c73c-adfae1a66d72"
      },
      "execution_count": 36,
      "outputs": [
        {
          "name": "stdout",
          "output_type": "stream",
          "text": [
            "summer\n",
            "32\n"
          ]
        }
      ]
    },
    {
      "cell_type": "code",
      "source": [
        "weather= input(\"Enter Weather: \")\n",
        "temp = int(input(\"Enter Temp: \"))\n",
        "\n",
        "if weather=='rainy' and temp<32:\n",
        "    print(\"Wear Tshirt\")\n",
        "    print(\"Take Umbrella\")\n",
        "else:\n",
        "    print(\"Wear Shirt\")"
      ],
      "metadata": {
        "colab": {
          "base_uri": "https://localhost:8080/"
        },
        "id": "-XpDcCv3ZNKw",
        "outputId": "89c3cbbd-dd3c-4c99-aad8-4529fa4c93c9"
      },
      "execution_count": 39,
      "outputs": [
        {
          "output_type": "stream",
          "name": "stdout",
          "text": [
            "Enter Weather: rainy\n",
            "Enter Temp: 10\n",
            "Wear Tshirt\n",
            "Take Umbrella\n"
          ]
        }
      ]
    },
    {
      "cell_type": "markdown",
      "source": [
        "Nested Condition:"
      ],
      "metadata": {
        "id": "NmNl3TiSaVbL"
      }
    },
    {
      "cell_type": "code",
      "source": [
        "weather= input(\"Enter Weather: \")\n",
        "temp = int(input(\"Enter Temp: \"))\n",
        "\n",
        "if temp<32:\n",
        "    print(\"Wear Tshirt\") # 1\n",
        "    if weather=='rainy':\n",
        "        print(\"Take Umbrella\") # 2\n",
        "else:\n",
        "    print(\"Wear Shirt\")# 3\n",
        "    if weather=='rainy': \n",
        "        print(\"Take Umbrella\") #4\n"
      ],
      "metadata": {
        "colab": {
          "base_uri": "https://localhost:8080/"
        },
        "id": "zBREx9ipZtqD",
        "outputId": "03468238-66e1-4ed9-fc29-850a129660de"
      },
      "execution_count": 43,
      "outputs": [
        {
          "output_type": "stream",
          "name": "stdout",
          "text": [
            "Enter Weather: rainy\n",
            "Enter Temp: 50\n",
            "Wear Shirt\n",
            "Take Umbrella\n"
          ]
        }
      ]
    },
    {
      "cell_type": "code",
      "source": [
        "weather= input(\"Enter Weather: \")\n",
        "temp = int(input(\"Enter Temp: \"))\n",
        "if temp<32 and weather=='rainy':\n",
        "    print(\"Wear Tshirt\") # 1\n",
        "    print(\"Take Umbrella\") # 2\n",
        "elif temp<32 and weather!='rainy': # if previos if is not true then only check this\n",
        "    print(\"Wear Tshirt\") # 1\n",
        "elif temp>=32 and weather!='rainy':# if previos elif is not true then only check this\n",
        "    print(\"Wear shirt\") # 1\n",
        "elif temp>=32 and weather=='rainy':\n",
        "    print(\"Wear shirt\") # 1\n",
        "    print(\"Take Umbrella\") # 2"
      ],
      "metadata": {
        "colab": {
          "base_uri": "https://localhost:8080/"
        },
        "id": "eZHlq1pKafkI",
        "outputId": "cf6d6318-f0ee-462a-ea4c-2dd4466eeb7f"
      },
      "execution_count": 46,
      "outputs": [
        {
          "output_type": "stream",
          "name": "stdout",
          "text": [
            "Enter Weather: rainy\n",
            "Enter Temp: 28\n",
            "Wear Tshirt\n",
            "Take Umbrella\n"
          ]
        }
      ]
    },
    {
      "cell_type": "code",
      "source": [
        "num = 5\n",
        "\n",
        "if num>15:\n",
        "    print(\"Num is greater than 15\") # 1\n",
        "elif num>10:\n",
        "    print(\"Num is greater than 10\") # 2"
      ],
      "metadata": {
        "id": "VDhcGw4XbqyE"
      },
      "execution_count": 63,
      "outputs": []
    },
    {
      "cell_type": "code",
      "source": [
        "num = 10\n",
        "\n",
        "# if num is div by 2\n",
        "# if num is div by 5 \n",
        "# if num is div by 5 and 2"
      ],
      "metadata": {
        "id": "l6RKE35XcRE5"
      },
      "execution_count": 64,
      "outputs": []
    },
    {
      "cell_type": "code",
      "source": [
        "num = 10\n",
        "if num%2==0 and num%5==0:\n",
        "    print(\"Num div by both 2 and 5\") # 3\n",
        "elif num%2==0:\n",
        "    print(\"Num div by 2\") # 1\n",
        "elif num%5==0:\n",
        "    print(\"Num div by 5\") # 2\n",
        "else:\n",
        "    print(\"Invalid Num\")"
      ],
      "metadata": {
        "colab": {
          "base_uri": "https://localhost:8080/"
        },
        "id": "cHHpmDLbeZrK",
        "outputId": "19af0705-e36d-4afd-ec9d-1ee05b49c434"
      },
      "execution_count": 79,
      "outputs": [
        {
          "output_type": "stream",
          "name": "stdout",
          "text": [
            "Num div by both 2 and 5\n"
          ]
        }
      ]
    },
    {
      "cell_type": "code",
      "source": [
        "name = \"Jatin\"\n",
        "if name==\"sachin\":\n",
        "    print(\"Correct Username\")\n",
        "\n",
        "print(\"Enter Password\")"
      ],
      "metadata": {
        "colab": {
          "base_uri": "https://localhost:8080/"
        },
        "id": "Vw9z6PI5eu6u",
        "outputId": "35972e17-f4f5-4878-cdde-94026060aa97"
      },
      "execution_count": 81,
      "outputs": [
        {
          "output_type": "stream",
          "name": "stdout",
          "text": [
            "Enter Password\n"
          ]
        }
      ]
    },
    {
      "cell_type": "code",
      "source": [
        "name = \"Jatin\"\n",
        "if name==\"sachin\":\n",
        "    print(\"Correct Username\")\n",
        "else:\n",
        "    print(\"Incorrect Username\")\n",
        "\n",
        "print(\"Enter Password\")"
      ],
      "metadata": {
        "colab": {
          "base_uri": "https://localhost:8080/"
        },
        "id": "MZ9LTMkTgKGn",
        "outputId": "105845b7-99ed-4e95-c4ad-76b9800e7503"
      },
      "execution_count": 83,
      "outputs": [
        {
          "output_type": "stream",
          "name": "stdout",
          "text": [
            "Incorrect Username\n",
            "Enter Password\n"
          ]
        }
      ]
    },
    {
      "cell_type": "code",
      "source": [
        "name = \"Jatin\"\n",
        "if name==\"sachin\":\n",
        "    print(\"Correct Username\")\n",
        "\n",
        "else:\n",
        "    print(\"Incorrect Username\")\n"
      ],
      "metadata": {
        "colab": {
          "base_uri": "https://localhost:8080/"
        },
        "id": "f7hiw2PTgyup",
        "outputId": "d5dcb297-c8d4-44d8-8826-9f1adc27b725"
      },
      "execution_count": 86,
      "outputs": [
        {
          "output_type": "stream",
          "name": "stdout",
          "text": [
            "Incorrect Username\n"
          ]
        }
      ]
    },
    {
      "cell_type": "markdown",
      "source": [],
      "metadata": {
        "id": "L7dankhHhgl4"
      }
    },
    {
      "cell_type": "code",
      "source": [
        "name = (\"Sachin\", \"Jatin\")\n",
        "pwd = (\"1234\", \"9990\")\n",
        "\n",
        "# take input from user and validate username and password\n",
        "# Approach1: nested if block\n",
        "# Approach2: if elif\n",
        "# if all condtions print(\"{USERNAME} logged in Succesfully\") \n",
        "# else print(\"Incorrect Username or PWD\")"
      ],
      "metadata": {
        "id": "yDp_1jD6hPSa"
      },
      "execution_count": 87,
      "outputs": []
    },
    {
      "cell_type": "code",
      "source": [],
      "metadata": {
        "id": "tH9zyBvyh9vA"
      },
      "execution_count": null,
      "outputs": []
    }
  ]
}